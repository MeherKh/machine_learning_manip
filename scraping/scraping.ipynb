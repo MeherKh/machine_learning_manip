{
  "cells": [
    {
      "cell_type": "markdown",
      "metadata": {
        "id": "6SjHAb7asHrx"
      },
      "source": [
        "1. scraping: Qu'est-ce que cela signifie?\n",
        "\n",
        "2. Notions de base sur le scraping\n",
        "  - Comment utiliser `requests` et `BeautifulSoup` pour extraire des éléments HTML ?\n",
        "  - Exercices\n",
        "3. Les obstacles du scraping\n",
        "  - Les aspects juridiques\n",
        "  - Obstacles à surmonter (techniques) et comment les contourner: (Selenium)\n",
        "\n",
        "4. Project: extract prices from Amazon or Airbnb\n",
        "\n",
        "5. Production and Automation:\n",
        "  - extract the price of a given product and get an alert if the price is lower that a given threshold."
      ]
    },
    {
      "cell_type": "markdown",
      "metadata": {
        "id": "g4qsFJ2wutVX"
      },
      "source": [
        "# 1. scraping: Qu'est-ce que cela signifie?:\n",
        "\n",
        "c'est un process utilisé pour extraire les données à partir des sites web.\n",
        "\n",
        "- cette technique implique l'envoi d'une requete à un site web, le téléchargement et l'extraction de données à partir de la page.\n",
        "\n",
        "```Imaginez le temps gagné, au lieu d’extraire les données manuellement.```\n",
        "\n",
        "\n",
        "Le web scraping peut être utilisé à des fins diverses. En dehors de l’indexation par les moteurs de recherche, il est notamment utilisé pour :\n",
        "\n",
        "- Créer des bases de données de contact,\n",
        "- Surveiller et comparer les prix des offres en ligne,\n",
        "- Rassembler des données de différentes sources en ligne,\n",
        "- Assurer un suivi de la présence et de la réputation en ligne,\n",
        "- Collecter des données financières, météorologiques et autres,\n",
        "- Surveiller les modifications apportées aux contenus web,\n",
        "- Collecter des données pour la recherche,\n"
      ]
    },
    {
      "cell_type": "markdown",
      "metadata": {
        "id": "tW5CbOy5vgOj"
      },
      "source": [
        "# 2. C'est quoi Beautifulsoup et requests :\n",
        "\n",
        "  * requests : effectuer des requette HTTP , pour recuperer le html\n",
        "  * BeautifulSoup : un parseur , un analyseur pour Analyser le html , naviguer dans le DOM ( on peut utiliser Beautifulsoup sans request , dans le cas ou j'ai des fichier html en local)"
      ]
    },
    {
      "cell_type": "markdown",
      "metadata": {
        "id": "ABlWRMnPx62w"
      },
      "source": [
        "2.2 recuperer le contenu d'une page avec requests\n"
      ]
    },
    {
      "cell_type": "code",
      "execution_count": 1,
      "metadata": {
        "id": "raalyE47x512"
      },
      "outputs": [],
      "source": [
        "# ! pip install requests\n",
        "import requests"
      ]
    },
    {
      "cell_type": "code",
      "execution_count": 2,
      "metadata": {
        "id": "SV6EZA7tx_yt"
      },
      "outputs": [],
      "source": [
        "response = requests.get(\"https://pi.tn/\")\n",
        "#response = requests.get(\"https://www.oddschecker.com/\")"
      ]
    },
    {
      "cell_type": "code",
      "execution_count": 3,
      "metadata": {
        "colab": {
          "base_uri": "https://localhost:8080/"
        },
        "id": "TPDodgEbzEMs",
        "outputId": "b9488235-f4ae-425b-c1b3-f521f9c96b43"
      },
      "outputs": [
        {
          "name": "stdout",
          "output_type": "stream",
          "text": [
            "<Response [200]>\n"
          ]
        }
      ],
      "source": [
        "print(response)\n",
        "#print(response.status_code)\n",
        "#print(response.text)"
      ]
    },
    {
      "cell_type": "code",
      "execution_count": 4,
      "metadata": {
        "id": "OVHX2wmSzEO5"
      },
      "outputs": [],
      "source": [
        "# make some exceptions to handle websites errors\n",
        "\n",
        "try:\n",
        "  response = requests.get(\"https://pi.tn/\")\n",
        "  response.raise_for_status()\n",
        "except requests.exceptions.HTTPError as errh: # des http errors\n",
        "  print(errh)\n",
        "except requests.exceptions.ConnectionError as errc: # n'arrive pas à établir une connexion avec le serveur\n",
        "  print(errc)\n",
        "except requests.exceptions.Timeout as errt: # trop de temps à repondre\n",
        "  print(errt)\n",
        "except requests.exceptions.RequestException as err: # autres\n",
        "  print(err)"
      ]
    },
    {
      "cell_type": "code",
      "execution_count": 5,
      "metadata": {
        "id": "A2mVZno2zES7"
      },
      "outputs": [],
      "source": [
        "## example save google html content\n",
        "\n",
        "response = requests.get(\"https://www.google.com/\")\n",
        "with open(\"google.html\", \"w\") as f:\n",
        "  f.write(response.text)"
      ]
    },
    {
      "cell_type": "code",
      "execution_count": 6,
      "metadata": {
        "colab": {
          "base_uri": "https://localhost:8080/",
          "height": 122
        },
        "id": "yQv10WjDzEU8",
        "outputId": "32093b47-e4f4-4b90-b084-6ee0b4cf2004"
      },
      "outputs": [
        {
          "data": {
            "text/plain": [
              "'<!doctype html><html dir=\"rtl\" itemscope=\"\" itemtype=\"http://schema.org/WebPage\" lang=\"ar-TN\"><head><meta content=\"text/html; charset=UTF-8\" http-equiv=\"Content-Type\"><meta content=\"/images/branding/googleg/1x/googleg_standard_color_128dp.png\" itemprop=\"image\"><title>Google</title><script nonce=\"nMVrxE-AWlmxScC9a_34rg\">(function(){var _g={kEI:\\'2uglZ6DuC96tptQPucjv6Qw\\',kEXPI:\\'0,3700319,1065,538661,2872,2891,43028,30022,6398,9707,78219,125403,6700,110644,15675,8155,23351,22435,9779,38678,23979,76209,15816,1804,26408,8860,11814,1635,9707,19569,5230281,10500,490,38,8831982,1520,5,42,1,23,19,1,35,2,8,1,6,1,6,1,7,6,5,2,6,1,24,13,4,2,7439471,16496112,4043709,16673,2169858,23029351,12799,100481,11737,10885,15163,8184,49429,21673,6751,2639,13503,7737,9138,740,2,2,3856,328,4459,1766,23393,1,6,4590,5634,687,16264,3069,6973,3548,1341,3131,10576,9074,6561,4841,3987,3304,3769,1907,12568,797,5576,11294,772,9901,1830,2308,5390,239,4,3014,594,1804,933,382,11503,219,4,3,1451,41,1932,3,1995,4332,3620,864,893,1,1616,2745,514,2591,4,639,1,30,2707,88,213,266,1,200,987,442,1,2065,189,900,2,1940,2488,3290,5532,1541,25,9,270,658,1807,1648,1264,390,774,1212,49,192,895,3,7,147,652,2669,171,282,61,1754,1554,301,273,456,107,686,128,2592,2,975,748,229,1227,72,543,4,2,243,351,139,98,1248,2,68,304,1334,338,219,211,1685,3,325,58,660,13,527,168,521,54,218,1100,371,342,171,95,35,87,280,218,122,250,647,473,188,3,150,195,131,47,1046,252,1204,582,1251,1,5,4,4,4,706,689,2,931,4,794,393,521,330,3,60,2614,175,298,98,274,183,687,907,772,44,272,1015,823,481,118,2164,21033513,380115,3,16997,18,590,1414,1480,866,1744,2098,151,2,397,275,829\\',kBL:\\'iGyT\\',kOPI:89978449};(function(){var a;((a=window.google)==null?0:a.stvsc)?google.kEI=_g.kEI:window.google=_g;}).call(this);})();(function(){google.sn=\\'webhp\\';google.kHL=\\'ar-TN\\';})();(function(){\\nvar h=this||self;function l(){return window.google!==void 0&&window.google.kOPI!==void 0&&window.google.kOPI!==0?window.google.kOPI:null};var m,n=[];function p(a){for(var b;a&&(!a.getAttribute||!(b=a.getAttribute(\"eid\")));)a=a.parentNode;return b||m}function q(a){for(var b=null;a&&(!a.getAttribute||!(b=a.getAttribute(\"leid\")));)a=a.parentNode;return b}function r(a){/^http:/i.test(a)&&window.location.protocol===\"https:\"&&(google.ml&&google.ml(Error(\"a\"),!1,{src:a,glmm:1}),a=\"\");return a}\\nfunction t(a,b,c,d,k){var e=\"\";b.search(\"&ei=\")===-1&&(e=\"&ei=\"+p(d),b.search(\"&lei=\")===-1&&(d=q(d))&&(e+=\"&lei=\"+d));d=\"\";var g=b.search(\"&cshid=\")===-1&&a!==\"slh\",f=[];f.push([\"zx\",Date.now().toString()]);h._cshid&&g&&f.push([\"cshid\",h._cshid]);c=c();c!=null&&f.push([\"opi\",c.toString()]);for(c=0;c<f.length;c++){if(c===0||c>0)d+=\"&\";d+=f[c][0]+\"=\"+f[c][1]}return\"/\"+(k||\"gen_204\")+\"?atyp=i&ct=\"+String(a)+\"&cad=\"+(b+e+d)};m=google.kEI;google.getEI=p;google.getLEI=q;google.ml=function(){return null};google.log=function(a,b,c,d,k,e){e=e===void 0?l:e;c||(c=t(a,b,e,d,k));if(c=r(c)){a=new Image;var g=n.length;n[g]=a;a.onerror=a.onload=a.onabort=function(){delete n[g]};a.src=c}};google.logUrl=function(a,b){b=b===void 0?l:b;return t(\"\",a,b)};}).call(this);(function(){google.y={};google.sy=[];var d;(d=google).x||(d.x=function(a,b){if(a)var c=a.id;else{do c=Math.random();while(google.y[c])}google.y[c]=[a,b];return!1});var e;(e=google).sx||(e.sx=function(a){google.sy.push(a)});google.lm=[];var f;(f=google).plm||(f.plm=function(a){google.lm.push.apply(google.lm,a)});google.lq=[];var g;(g=google).load||(g.load=function(a,b,c){google.lq.push([[a],b,c])});var h;(h=google).loadAll||(h.loadAll=function(a,b){google.lq.push([a,b])});google.bx=!1;var k;(k=google).lx||(k.lx=function(){});var l=[],m;(m=google).fce||(m.fce=function(a,b,c,n){l.push([a,b,c,n])});google.qce=l;}).call(this);google.f={};(function(){\\ndocument.documentElement.addEventListener(\"submit\",function(b){var a;if(a=b.target){var c=a.getAttribute(\"data-submitfalse\");a=c===\"1\"||c===\"q\"&&!a.elements.q.value?!0:!1}else a=!1;a&&(b.preventDefault(),b.stopPropagation())},!0);document.documentElement.addEventListener(\"click\",function(b){var a;a:{for(a=b.target;a&&a!==document.documentElement;a=a.parentElement)if(a.tagName===\"A\"){a=a.getAttribute(\"data-nohref\")===\"1\";break a}a=!1}a&&b.preventDefault()},!0);}).call(this);</script><style>#gbar,#guser{font-size:13px;padding-top:1px !important;}#gbar{height:22px}#guser{padding-bottom:7px !important;text-align:left}.gbh,.gbd{border-top:1px solid #c9d7f1;font-size:1px}.gbh{height:0;position:absolute;top:24px;width:100%}@media all{.gb1{height:22px;margin-left:.5em;vertical-align:top}#gbar{float:right}}a.gb1,a.gb4{text-decoration:underline !important}a.gb1,a.gb4{color:#00c !important}.gbi .gb4{color:#dd8e27 !important}.gbf .gb4{color:#900 !important}\\n</style><style>body,td,a,p,.h{font-family:arial,sans-serif}body{margin:0;overflow-y:scroll}#gog{padding:3px 8px 0}td{line-height:.8em}.gac_m td{line-height:17px}form{margin-bottom:20px}.h{color:#1967d2}em{font-weight:bold;font-style:normal}.lst{height:25px;width:496px}.gsfi,.lst{font:18px arial,sans-serif}.gsfs{font:17px arial,sans-serif}.ds{display:inline-box;display:inline-block;margin:3px 0 4px;margin-right:4px}input{font-family:inherit}body{background:#fff;color:#000}a{color:#681da8;text-decoration:none}a:hover,a:active{text-decoration:underline}.fl a{color:#1967d2}a:visited{color:#681da8}.sblc{padding-top:5px}.sblc a{display:block;margin:2px 0;margin-right:13px;font-size:11px}.lsbb{background:#f8f9fa;border:solid 1px;border-color:#dadce0 #dadce0 #70757a #70757a;height:30px}.lsbb{display:block}#WqQANb a{display:inline-block;margin:0 12px}.lsb{background:url(/images/nav_logo229.png) 0 -261px repeat-x;color:#000;border:none;cursor:pointer;height:30px;margin:0;outline:0;font:15px arial,sans-serif;vertical-align:top}.lsb:active{background:#dadce0}.lst:focus{outline:none}.Ucigb{width:458px}</style><script nonce=\"nMVrxE-AWlmxScC9a_34rg\">(function(){window.google.erd={jsr:1,bv:2107,de:true,dpf:\\'GY-VSvNW3iMh0zUl6lMw28V9YG1M2Vp00ARrb--vp2I\\'};\\nvar g=this||self;var k,l=(k=g.mei)!=null?k:1,n,p=(n=g.sdo)!=null?n:!0,q=0,r,t=google.erd,v=t.jsr;google.ml=function(a,b,d,m,e){e=e===void 0?2:e;b&&(r=a&&a.message);d===void 0&&(d={});d.cad=\"ple_\"+google.ple+\".aple_\"+google.aple;if(google.dl)return google.dl(a,e,d,!0),null;b=d;if(v<0){window.console&&console.error(a,b);if(v===-2)throw a;b=!1}else b=!a||!a.message||a.message===\"Error loading script\"||q>=l&&!m?!1:!0;if(!b)return null;q++;d=d||{};b=encodeURIComponent;var c=\"/gen_204?atyp=i&ei=\"+b(google.kEI);google.kEXPI&&(c+=\"&jexpid=\"+b(google.kEXPI));c+=\"&srcpg=\"+b(google.sn)+\"&jsr=\"+b(t.jsr)+\\n\"&bver=\"+b(t.bv);t.dpf&&(c+=\"&dpf=\"+b(t.dpf));var f=a.lineNumber;f!==void 0&&(c+=\"&line=\"+f);var h=a.fileName;h&&(h.indexOf(\"-extension:/\")>0&&(e=3),c+=\"&script=\"+b(h),f&&h===window.location.href&&(f=document.documentElement.outerHTML.split(\"\\\\n\")[f],c+=\"&cad=\"+b(f?f.substring(0,300):\"No script found.\")));google.ple&&google.ple===1&&(e=2);c+=\"&jsel=\"+e;for(var u in d)c+=\"&\",c+=b(u),c+=\"=\",c+=b(d[u]);c=c+\"&emsg=\"+b(a.name+\": \"+a.message);c=c+\"&jsst=\"+b(a.stack||\"N/A\");c.length>=12288&&(c=c.substr(0,12288));a=c;m||google.log(0,\"\",a);return a};window.onerror=function(a,b,d,m,e){r!==a&&(a=e instanceof Error?e:Error(a),d===void 0||\"lineNumber\"in a||(a.lineNumber=d),b===void 0||\"fileName\"in a||(a.fileName=b),google.ml(a,!1,void 0,!1,a.name===\"SyntaxError\"||a.message.substring(0,11)===\"SyntaxError\"||a.message.indexOf(\"Script error\")!==-1?3:0));r=null;p&&q>=l&&(window.onerror=null)};})();</script></head><body bgcolor=\"#fff\"><script nonce=\"nMVrxE-AWlmxScC9a_34rg\">(function(){var src=\\'/images/nav_logo229.png\\';var iesg=false;document.body.onload = function(){window.n && window.n();if (document.images){new Image().src=src;}\\nif (!iesg){document.f&&document.f.q.focus();document.gbqf&&document.gbqf.q.focus();}\\n}\\n})();</script><div id=\"mngb\"><div id=gbar><nobr><b class=gb1>&#1576;&#1581;&#1579;</b> <a class=gb1 href=\"https://www.google.com/imghp?hl=ar&tab=wi\">&#1589;&#1608;&#1585;</a> <a class=gb1 href=\"https://maps.google.tn/maps?hl=ar&tab=wl\">&#1582;&#1585;&#1575;&#1574;&#1591; Google</a> <a class=gb1 href=\"https://play.google.com/?hl=ar&tab=w8\">Play</a> <a class=gb1 href=\"https://www.youtube.com/?tab=w1\">YouTube</a> <a class=gb1 href=\"https://news.google.com/?tab=wn\">&#1575;&#1604;&#1571;&#1582;&#1576;&#1575;&#1585;</a> <a class=gb1 href=\"https://mail.google.com/mail/?tab=wm\">Gmail</a> <a class=gb1 href=\"https://drive.google.com/?tab=wo\">Drive</a> <a class=gb1 style=\"text-decoration:none\" href=\"https://www.google.tn/intl/ar/about/products?tab=wh\"><u>&#1575;&#1604;&#1605;&#1586;&#1610;&#1583;</u> &raquo;</a></nobr></div><div id=guser width=100%><nobr><span id=gbn class=gbi></span><span id=gbf class=gbf></span><span id=gbe></span><a href=\"http://www.google.tn/history/optout?hl=ar\" class=gb4>&#1587;&#1616;&#1580;&#1604; &#1576;&#1581;&#1579; &#1575;&#1604;&#1608;&#1610;&#1576;</a> | <a  href=\"/preferences?hl=ar\" class=gb4>&#1575;&#1604;&#1573;&#1593;&#1583;&#1575;&#1583;&#1575;&#1578;</a> | <a target=_top id=gb_70 href=\"https://accounts.google.com/ServiceLogin?hl=ar&passive=true&continue=https://www.google.com/&ec=GAZAAQ\" class=gb4>&#1578;&#1587;&#1580;&#1610;&#1604; &#1575;&#1604;&#1583;&#1582;&#1608;&#1604;</a></nobr></div><div class=gbh style=left:0></div><div class=gbh style=right:0></div></div><center><br clear=\"all\" id=\"lgpd\"><div id=\"XjhHGf\"><img alt=\"Google\" height=\"92\" src=\"/images/branding/googlelogo/1x/googlelogo_white_background_color_272x92dp.png\" style=\"padding:28px 0 14px\" width=\"272\" id=\"hplogo\"><br><br></div><form action=\"/search\" name=\"f\"><table cellpadding=\"0\" cellspacing=\"0\"><tr valign=\"top\"><td width=\"25%\">&nbsp;</td><td align=\"center\" nowrap=\"\"><input name=\"ie\" value=\"ISO-8859-1\" type=\"hidden\"><input value=\"ar-TN\" name=\"hl\" type=\"hidden\"><input name=\"source\" type=\"hidden\" value=\"hp\"><input name=\"biw\" type=\"hidden\"><input name=\"bih\" type=\"hidden\"><div class=\"ds\" style=\"height:32px;margin:4px 0\"><div style=\"position:relative;zoom:1\"><input class=\"lst Ucigb\" style=\"margin:0;padding:5px 6px 0 8px;vertical-align:top;color:#000;padding-left:38px\" autocomplete=\"off\" value=\"\" title=\"&#1576;&#1581;&#1579; Google\" maxlength=\"2048\" name=\"q\" size=\"57\"><img src=\"/textinputassistant/tia.png\" style=\"position:absolute;cursor:pointer;left:5px;top:4px;z-index:300\" data-script-url=\"/textinputassistant/13/ar_tia.js\" id=\"tsuid_1\" alt=\"\" height=\"23\" width=\"27\"><script nonce=\"nMVrxE-AWlmxScC9a_34rg\">(function(){var id=\\'tsuid_1\\';document.getElementById(id).onclick = function(){var s = document.createElement(\\'script\\');s.src = this.getAttribute(\\'data-script-url\\');document.body.appendChild(s);};})();</script></div></div><br style=\"line-height:0\"><span class=\"ds\"><span class=\"lsbb\"><input class=\"lsb\" value=\"&#1576;&#1581;&#1579; Google\" name=\"btnG\" type=\"submit\"></span></span><span class=\"ds\"><span class=\"lsbb\"><input class=\"lsb\" id=\"tsuid_2\" value=\"&#1590;&#1585;&#1576;&#1577; &#1581;&#1592;\" name=\"btnI\" type=\"submit\"><script nonce=\"nMVrxE-AWlmxScC9a_34rg\">(function(){var id=\\'tsuid_2\\';document.getElementById(id).onclick = function(){if (this.form.q.value){this.checked = 1;if (this.form.iflsig)this.form.iflsig.disabled = false;}\\nelse top.location=\\'/doodles/\\';};})();</script><input value=\"AL9hbdgAAAAAZyX26qMHi4WsUOfBABNfSgQnkQ0pvw-k\" name=\"iflsig\" type=\"hidden\"></span></span></td><td class=\"fl sblc\" align=\"right\" nowrap=\"\" width=\"25%\"><a href=\"/advanced_search?hl=ar-TN&amp;authuser=0\">&#1576;&#1581;&#1579; &#1605;&#1578;&#1602;&#1583;&#1605;</a></td></tr></table><input id=\"gbv\" name=\"gbv\" type=\"hidden\" value=\"1\"><script nonce=\"nMVrxE-AWlmxScC9a_34rg\">(function(){var a,b=\"1\";if(document&&document.getElementById)if(typeof XMLHttpRequest!=\"undefined\")b=\"2\";else if(typeof ActiveXObject!=\"undefined\"){var c,d,e=[\"MSXML2.XMLHTTP.6.0\",\"MSXML2.XMLHTTP.3.0\",\"MSXML2.XMLHTTP\",\"Microsoft.XMLHTTP\"];for(c=0;d=e[c++];)try{new ActiveXObject(d),b=\"2\"}catch(h){}}a=b;if(a==\"2\"&&location.search.indexOf(\"&gbv=2\")==-1){var f=google.gbvu,g=document.getElementById(\"gbv\");g&&(g.value=a);f&&window.setTimeout(function(){location.href=f},0)};}).call(this);</script></form><div style=\"font-size:83%;min-height:3.5em\"><br><div id=\"gws-output-pages-elements-homepage_additional_languages__als\"><style>#gws-output-pages-elements-homepage_additional_languages__als{font-size:small;margin-bottom:24px}#SIvCob{color:#474747;display:inline-block;line-height:28px;}#SIvCob a{padding:0 3px;}.H6sW5{display:inline-block;margin:0 2px;white-space:nowrap}.z4hgWe{display:inline-block;margin:0 2px}</style><div id=\"SIvCob\">&#1605;&#1581;&#1585;&#1617;&#1603; &#1576;&#1581;&#1579; Google &#1605;&#1578;&#1608;&#1601;&#1617;&#1585; &#1576;&#1575;&#1604;&#1604;&#1594;&#1577;:  <a dir=\"ltr\" href=\"https://www.google.com/setprefs?sig=0_-mNsRGOY5duL1HVPo1gb0yBoupI%3D&amp;hl=fr&amp;source=homepage&amp;sa=X&amp;ved=0ahUKEwigw62io72JAxXelokEHTnkO80Q2ZgBCAY\">Français</a>  </div></div></div><span id=\"footer\"><div style=\"font-size:10pt\"><div style=\"margin:19px auto;text-align:center\" id=\"WqQANb\"><a href=\"/intl/ar/ads/\">&#1575;&#1604;&#1573;&#1593;&#1604;&#1575;&#1606;&#1575;&#1578;</a><a href=\"http://www.google.com/intl/ar/services/\">&#1581;&#1604;&#1608;&#1604; &#1575;&#1604;&#1588;&#1585;&#1603;&#1575;&#1578;</a><a href=\"/intl/ar/about.html\">&#1603;&#1604; &#1605;&#1575; &#1578;&#1581;&#1576; &#1605;&#1593;&#1585;&#1601;&#1578;&#1607; &#1593;&#1606; Google &#1607;&#1606;&#1575;</a><a dir=\"ltr\" href=\"https://www.google.com/setprefdomain?prefdom=TN&amp;prev=https://www.google.tn/&amp;sig=K_5eR80Eue75EVkp-KR98BBGHoftg%3D\">Google.tn</a></div></div><p style=\"font-size:8pt;color:#70757a\">&copy; 2024 - <a href=\"/intl/ar/policies/privacy/\">&#1575;&#1604;&#1582;&#1589;&#1608;&#1589;&#1610;&#1577;</a> - <a href=\"/intl/ar/policies/terms/\">&#1575;&#1604;&#1576;&#1606;&#1608;&#1583;</a></p></span></center><script nonce=\"nMVrxE-AWlmxScC9a_34rg\">(function(){window.google.cdo={height:757,width:1440};(function(){var a=window.innerWidth,b=window.innerHeight;if(!a||!b){var c=window.document,d=c.compatMode==\"CSS1Compat\"?c.documentElement:c.body;a=d.clientWidth;b=d.clientHeight}\\nif(a&&b&&(a!=google.cdo.width||b!=google.cdo.height)){var e=google,f=e.log,g=\"/client_204?&atyp=i&biw=\"+a+\"&bih=\"+b+\"&ei=\"+google.kEI,h=\"\",k=[],l=window.google!==void 0&&window.google.kOPI!==void 0&&window.google.kOPI!==0?window.google.kOPI:null;l!=null&&k.push([\"opi\",l.toString()]);for(var m=0;m<k.length;m++){if(m===0||m>0)h+=\"&\";h+=k[m][0]+\"=\"+k[m][1]}f.call(e,\"\",\"\",g+h)};}).call(this);})();</script>  <script nonce=\"nMVrxE-AWlmxScC9a_34rg\">(function(){google.xjs={basecomb:\\'/xjs/_/js/k\\\\x3dxjs.hp.en.DE3tIDOvDuw.es5.O/ck\\\\x3dxjs.hp.pdkocX-OvhQ.R.X.O/am\\\\x3dAgAAAAAIAAAAAAAAAAAAAAAAAAAAAAAAAAAAAAQBAAAAAAAAAAADADAGAACAAAABAgAAAABGAAAAAAAAAIgACBYAhAkAAAfiOwIAAbAIAAAv/d\\\\x3d1/ed\\\\x3d1/dg\\\\x3d0/ujg\\\\x3d1/rs\\\\x3dACT90oGk0jgEhL1fkOAAz49mc2OfeCLCkw\\',basecss:\\'/xjs/_/ss/k\\\\x3dxjs.hp.pdkocX-OvhQ.R.X.O/am\\\\x3dAgAAAAAIAAAAAAAAAAAAAAAAAAAAAAAAAAAAAAABAAAAAAAAAAAAADAAAACAAAABAgAAAAAAAAAAAAAAAIgACBYAhAk/rs\\\\x3dACT90oGfhl5Vps_OTWbqsGZX5v43qYSsbA\\',basejs:\\'/xjs/_/js/k\\\\x3dxjs.hp.en.DE3tIDOvDuw.es5.O/am\\\\x3dAAAAAAAAAAAAAAAAAAAAAAAAAAAAAAAAAAAAAAQAAAAAAAAAAAADAAAGAAAAAAAAAAAAAABGAAAAAAAAAAAAAAAAAAAAAAfiOwIAAbAIAAAv/dg\\\\x3d0/rs\\\\x3dACT90oEQf-AphneFvu908XG5r7HAk8pe9Q\\',excm:[]};})();</script>        <script nonce=\"nMVrxE-AWlmxScC9a_34rg\">(function(){var u=\\'/xjs/_/js/k\\\\x3dxjs.hp.en.DE3tIDOvDuw.es5.O/am\\\\x3dAAAAAAAAAAAAAAAAAAAAAAAAAAAAAAAAAAAAAAQAAAAAAAAAAAADAAAGAAAAAAAAAAAAAABGAAAAAAAAAAAAAAAAAAAAAAfiOwIAAbAIAAAv/d\\\\x3d1/ed\\\\x3d1/dg\\\\x3d3/rs\\\\x3dACT90oEQf-AphneFvu908XG5r7HAk8pe9Q/m\\\\x3dsb_he,d\\';var st=1;var amd=1000;var mmd=0;var pod=true;var e=typeof Object.defineProperties==\"function\"?Object.defineProperty:function(a,b,c){if(a==Array.prototype||a==Object.prototype)return a;a[b]=c.value;return a},f=function(a){a=[\"object\"==typeof globalThis&&globalThis,a,\"object\"==typeof window&&window,\"object\"==typeof self&&self,\"object\"==typeof global&&global];for(var b=0;b<a.length;++b){var c=a[b];if(c&&c.Math==Math)return c}throw Error(\"a\");},h=f(this),k=function(a,b){if(b)a:{var c=h;a=a.split(\".\");for(var d=0;d<a.length-1;d++){var g=a[d];if(!(g in\\nc))break a;c=c[g]}a=a[a.length-1];d=c[a];b=b(d);b!=d&&b!=null&&e(c,a,{configurable:!0,writable:!0,value:b})}};k(\"globalThis\",function(a){return a||h});\\nvar l=this||self;function m(){var a,b,c;if(b=a=(b=window.google)==null?void 0:(c=b.ia)==null?void 0:c.r.B2Jtyd)b=a.m,b=b===1||b===5;return b&&a.cbfd!=null&&a.cbvi!=null?a:void 0};function n(){var a=[u];if(!google.dp){for(var b=0;b<a.length;b++){var c=a[b],d=document.createElement(\"link\");d.setAttribute(\"as\",\"script\");d.setAttribute(\"href\",c);d.setAttribute(\"rel\",\"preload\");document.body.appendChild(d)}google.dp=!0}};\\nvar p=globalThis.trustedTypes,q;function r(){var a=null;if(!p)return a;try{var b=function(c){return c};a=p.createPolicy(\"goog#html\",{createHTML:b,createScript:b,createScriptURL:b})}catch(c){}return a};var t=function(a){this.g=a};t.prototype.toString=function(){return this.g+\"\"};function w(a,b){if(b instanceof t)b=b.g;else throw Error(\"b\");a.src=b;var c;b=a.ownerDocument&&a.ownerDocument.defaultView||window;b=b===void 0?document:b;var d;b=(d=(c=\"document\"in b?b.document:b).querySelector)==null?void 0:d.call(c,\"script[nonce]\");(c=b==null?\"\":b.nonce||b.getAttribute(\"nonce\")||\"\")&&a.setAttribute(\"nonce\",c)};var x=function(){var a=document;var b=\"SCRIPT\";a.contentType===\"application/xhtml+xml\"&&(b=b.toLowerCase());return a.createElement(b)};function y(a){a=a===null?\"null\":a===void 0?\"undefined\":a;q===void 0&&(q=r());var b=q;return new t(b?b.createScriptURL(a):a)};google.ps===void 0&&(google.ps=[]);function z(){var a=u,b=function(){};google.lx=google.stvsc?b:function(){A(a);google.lx=b};google.bx||google.lx()}function B(a,b){b&&w(a,y(b));var c=a.onload;a.onload=function(d){c&&c(d);google.ps=google.ps.filter(function(g){return a!==g})};google.ps.push(a);document.body.appendChild(a)}google.as=B;function A(a){google.timers&&google.timers.load&&google.tick&&google.tick(\"load\",\"xjsls\");var b=x();b.onerror=function(){google.ple=1};b.onload=function(){google.ple=0};google.xjsus=void 0;B(b,a);google.aple=-1;google.dp=!0};function C(a){var b=a.getAttribute(\"jscontroller\");return(b===\"UBXHI\"||b===\"R3fhkb\"||b===\"TSZEqd\")&&a.hasAttribute(\"data-src\")}function D(){for(var a=document.getElementsByTagName(\"img\"),b=0,c=a.length;b<c;b++){var d=a[b];if(d.hasAttribute(\"data-lzy_\")&&Number(d.getAttribute(\"data-atf\"))&1&&!C(d))return!0}return!1}for(var E=document.getElementsByTagName(\"img\"),F=0,G=E.length;F<G;++F){var H=E[F];Number(H.getAttribute(\"data-atf\"))&1&&C(H)&&(H.src=H.getAttribute(\"data-src\"))};var I,J,K,L,M,N;function O(){google.xjsu=u;l._F_jsUrl=u;M=function(){z()};I=!1;J=(st===1||st===3)&&!!google.caft&&!D();K=m();L=(st===2||st===3)&&!!K&&!D();N=pod}function P(){I||J||L||(M(),I=!0)}setTimeout(function(){google&&google.tick&&google.timers&&google.timers.load&&google.tick(\"load\",\"xjspls\");O();if(J||L){if(J){var a=function(){J=!1;P()};google.caft(a);window.setTimeout(a,amd)}L&&(a=function(){L=!1;P()},K.cbvi.push(a),window.setTimeout(a,mmd));N&&(I||n())}else M()},0);})();window._ = window._ || {};window._DumpException = _._DumpException = function(e){throw e;};window._s = window._s || {};_s._DumpException = _._DumpException;window._qs = window._qs || {};_qs._DumpException = _._DumpException;(function(){var t=[2,8192,0,0,0,0,0,4268032,0,41472,587464754,603980033,33619970,325058560,1120,0,134252544,638849112,544210944,36600,569473,48128];window._F_toggles = window._xjs_toggles = t;})();window._F_installCss = window._F_installCss || function(css){};(function(){google.jl={bfl:0,dw:false,ine:false,ubm:false,uwp:true,vs:false};})();(function(){var pmc=\\'{\\\\x22d\\\\x22:{},\\\\x22sb_he\\\\x22:{\\\\x22agen\\\\x22:false,\\\\x22cgen\\\\x22:false,\\\\x22client\\\\x22:\\\\x22heirloom-hp\\\\x22,\\\\x22dh\\\\x22:true,\\\\x22ds\\\\x22:\\\\x22\\\\x22,\\\\x22fl\\\\x22:true,\\\\x22host\\\\x22:\\\\x22google.com\\\\x22,\\\\x22jsonp\\\\x22:true,\\\\x22msgs\\\\x22:{\\\\x22cibl\\\\x22:\\\\x22\\\\\\\\u0645\\\\\\\\u062d\\\\\\\\u0648 \\\\\\\\u0627\\\\\\\\u0644\\\\\\\\u0628\\\\\\\\u062d\\\\\\\\u062b\\\\x22,\\\\x22dym\\\\x22:\\\\x22\\\\\\\\u0647\\\\\\\\u0644 \\\\\\\\u062a\\\\\\\\u0642\\\\\\\\u0635\\\\\\\\u062f :\\\\x22,\\\\x22lcky\\\\x22:\\\\x22\\\\\\\\u0636\\\\\\\\u0631\\\\\\\\u0628\\\\\\\\u0629 \\\\\\\\u062d\\\\\\\\u0638\\\\x22,\\\\x22lml\\\\x22:\\\\x22\\\\\\\\u0645\\\\\\\\u0632\\\\\\\\u064a\\\\\\\\u062f \\\\\\\\u0645\\\\\\\\u0646 \\\\\\\\u0627\\\\\\\\u0644\\\\\\\\u0645\\\\\\\\u0639\\\\\\\\u0644\\\\\\\\u0648\\\\\\\\u0645\\\\\\\\u0627\\\\\\\\u062a\\\\x22,\\\\x22psrc\\\\x22:\\\\x22\\\\\\\\u062a\\\\\\\\u0645\\\\\\\\u062a \\\\\\\\u0625\\\\\\\\u0632\\\\\\\\u0627\\\\\\\\u0644\\\\\\\\u0629 \\\\\\\\u0647\\\\\\\\u0630\\\\\\\\u0627 \\\\\\\\u0627\\\\\\\\u0644\\\\\\\\u0628\\\\\\\\u062d\\\\\\\\u062b \\\\\\\\u0645\\\\\\\\u0646 \\\\\\\\u003Ca href\\\\x3d\\\\\\\\\\\\x22/history\\\\\\\\\\\\x22\\\\\\\\u003E\\\\\\\\u0633\\\\\\\\u0650\\\\\\\\u062c\\\\\\\\u0644 \\\\\\\\u0627\\\\\\\\u0644\\\\\\\\u0628\\\\\\\\u062d\\\\\\\\u062b\\\\\\\\u003C/a\\\\\\\\u003E.\\\\x22,\\\\x22psrl\\\\x22:\\\\x22\\\\\\\\u0625\\\\\\\\u0632\\\\\\\\u0627\\\\\\\\u0644\\\\\\\\u0629\\\\x22,\\\\x22sbit\\\\x22:\\\\x22\\\\\\\\u0627\\\\\\\\u0644\\\\\\\\u0628\\\\\\\\u062d\\\\\\\\u062b \\\\\\\\u0628\\\\\\\\u062d\\\\\\\\u0633\\\\\\\\u0628 \\\\\\\\u0627\\\\\\\\u0644\\\\\\\\u0635\\\\\\\\u0648\\\\\\\\u0631\\\\x22,\\\\x22srch\\\\x22:\\\\x22\\\\\\\\u0628\\\\\\\\u062d\\\\\\\\u062b Google\\\\\\\\u200f\\\\x22},\\\\x22ovr\\\\x22:{},\\\\x22pq\\\\x22:\\\\x22\\\\x22,\\\\x22rfs\\\\x22:[],\\\\x22stok\\\\x22:\\\\x221RfHlUruiDMJLjfSNXPh5MLJz0M\\\\x22}}\\';google.pmc=JSON.parse(pmc);})();(function(){var b=function(a){var c=0;return function(){return c<a.length?{done:!1,value:a[c++]}:{done:!0}}};\\nvar e=this||self;var g,h;a:{for(var k=[\"CLOSURE_FLAGS\"],l=e,n=0;n<k.length;n++)if(l=l[k[n]],l==null){h=null;break a}h=l}var p=h&&h[610401301];g=p!=null?p:!1;var q,r=e.navigator;q=r?r.userAgentData||null:null;function t(a){return g?q?q.brands.some(function(c){return(c=c.brand)&&c.indexOf(a)!=-1}):!1:!1}function u(a){var c;a:{if(c=e.navigator)if(c=c.userAgent)break a;c=\"\"}return c.indexOf(a)!=-1};function v(){return g?!!q&&q.brands.length>0:!1}function w(){return u(\"Safari\")&&!(x()||(v()?0:u(\"Coast\"))||(v()?0:u(\"Opera\"))||(v()?0:u(\"Edge\"))||(v()?t(\"Microsoft Edge\"):u(\"Edg/\"))||(v()?t(\"Opera\"):u(\"OPR\"))||u(\"Firefox\")||u(\"FxiOS\")||u(\"Silk\")||u(\"Android\"))}function x(){return v()?t(\"Chromium\"):(u(\"Chrome\")||u(\"CriOS\"))&&!(v()?0:u(\"Edge\"))||u(\"Silk\")}function y(){return u(\"Android\")&&!(x()||u(\"Firefox\")||u(\"FxiOS\")||(v()?0:u(\"Opera\"))||u(\"Silk\"))};var z=v()?!1:u(\"Trident\")||u(\"MSIE\");y();x();w();var A=!z&&!w(),D=function(a){if(/-[a-z]/.test(\"ved\"))return null;if(A&&a.dataset){if(y()&&!(\"ved\"in a.dataset))return null;a=a.dataset.ved;return a===void 0?null:a}return a.getAttribute(\"data-\"+\"ved\".replace(/([A-Z])/g,\"-$1\").toLowerCase())};var E=[],F=null;function G(a){a=a.target;var c=performance.now(),f=[],H=f.concat,d=E;if(!(d instanceof Array)){var m=typeof Symbol!=\"undefined\"&&Symbol.iterator&&d[Symbol.iterator];if(m)d=m.call(d);else if(typeof d.length==\"number\")d={next:b(d)};else throw Error(\"b`\"+String(d));for(var B=[];!(m=d.next()).done;)B.push(m.value);d=B}E=H.call(f,d,[c]);if(a&&a instanceof HTMLElement)if(a===F){if(c=E.length>=4)c=(E[E.length-1]-E[E.length-4])/1E3<5;if(c){c=google.getEI(a);a.hasAttribute(\"data-ved\")?f=a?D(a)||\"\":\"\":f=(f=\\na.closest(\"[data-ved]\"))?D(f)||\"\":\"\";f=f||\"\";if(a.hasAttribute(\"jsname\"))a=a.getAttribute(\"jsname\");else{var C;a=(C=a.closest(\"[jsname]\"))==null?void 0:C.getAttribute(\"jsname\")}google.log(\"rcm\",\"&ei=\"+c+\"&tgtved=\"+f+\"&jsname=\"+(a||\"\"))}}else F=a,E=[c]}window.document.addEventListener(\"DOMContentLoaded\",function(){document.body.addEventListener(\"click\",G)});}).call(this);</script></body></html>'"
            ]
          },
          "execution_count": 6,
          "metadata": {},
          "output_type": "execute_result"
        }
      ],
      "source": [
        "response.text"
      ]
    },
    {
      "cell_type": "markdown",
      "metadata": {
        "id": "cZJa4rZfnqBw"
      },
      "source": [
        "2.3 Analyser le contenu d'une page avec BeautifulSoup ( de preference , on utilise python files)"
      ]
    },
    {
      "cell_type": "code",
      "execution_count": 7,
      "metadata": {
        "id": "qYleK7K1njg0"
      },
      "outputs": [],
      "source": [
        "## on doit installer beautifulSoup\n",
        "#! pip install beautifulsoup4 # la version 4"
      ]
    },
    {
      "cell_type": "code",
      "execution_count": 8,
      "metadata": {
        "id": "d9ZBZXX8nji-"
      },
      "outputs": [],
      "source": [
        "from bs4 import BeautifulSoup\n",
        "import shutil\n",
        "import pandas as pd\n",
        "from pprint import pprint"
      ]
    },
    {
      "cell_type": "markdown",
      "metadata": {
        "id": "nNLiiHAo9jTD"
      },
      "source": [
        "## Premiers pas avec BS"
      ]
    },
    {
      "cell_type": "code",
      "execution_count": 9,
      "metadata": {
        "id": "QwMNzlPJ9nI9"
      },
      "outputs": [],
      "source": [
        "## nous avons un contenu html\n",
        "\n",
        "html_doc = \"\"\"<html><head><title>The Dormouse's story</title></head>\n",
        "<body>\n",
        "<p class=\"title\"><b>The Dormouse's story</b></p>\n",
        "\n",
        "<p class=\"story\">Once upon a time there were three little sisters; and their names were\n",
        "<a href=\"http://example.com/elsie\" class=\"sister\" id=\"link1\">Elsie</a>,\n",
        "<a href=\"http://example.com/lacie\" class=\"sister\" id=\"link2\">Lacie</a> and\n",
        "<a href=\"http://example.com/tillie\" class=\"sister\" id=\"link3\">Tillie</a>;\n",
        "and they lived at the bottom of a well.</p>\n",
        "\n",
        "<p class=\"story\">...</p>\n",
        "\"\"\""
      ]
    },
    {
      "cell_type": "code",
      "execution_count": 10,
      "metadata": {
        "id": "D4OpErWb9nZG"
      },
      "outputs": [],
      "source": [
        "# init la classe de BS4\n",
        "soup = BeautifulSoup(html_doc, 'html.parser')"
      ]
    },
    {
      "cell_type": "code",
      "execution_count": 11,
      "metadata": {
        "colab": {
          "base_uri": "https://localhost:8080/"
        },
        "id": "u4bX_Ci0-Erh",
        "outputId": "5a4a22f2-4b3c-44e6-de35-1e79f0f51595"
      },
      "outputs": [
        {
          "name": "stdout",
          "output_type": "stream",
          "text": [
            "<html>\n",
            " <head>\n",
            "  <title>\n",
            "   The Dormouse's story\n",
            "  </title>\n",
            " </head>\n",
            " <body>\n",
            "  <p class=\"title\">\n",
            "   <b>\n",
            "    The Dormouse's story\n",
            "   </b>\n",
            "  </p>\n",
            "  <p class=\"story\">\n",
            "   Once upon a time there were three little sisters; and their names were\n",
            "   <a class=\"sister\" href=\"http://example.com/elsie\" id=\"link1\">\n",
            "    Elsie\n",
            "   </a>\n",
            "   ,\n",
            "   <a class=\"sister\" href=\"http://example.com/lacie\" id=\"link2\">\n",
            "    Lacie\n",
            "   </a>\n",
            "   and\n",
            "   <a class=\"sister\" href=\"http://example.com/tillie\" id=\"link3\">\n",
            "    Tillie\n",
            "   </a>\n",
            "   ;\n",
            "and they lived at the bottom of a well.\n",
            "  </p>\n",
            "  <p class=\"story\">\n",
            "   ...\n",
            "  </p>\n",
            " </body>\n",
            "</html>\n",
            "\n"
          ]
        }
      ],
      "source": [
        "# afficher le contenu html de facon claire\n",
        "print(soup.prettify())"
      ]
    },
    {
      "cell_type": "code",
      "execution_count": 12,
      "metadata": {
        "colab": {
          "base_uri": "https://localhost:8080/"
        },
        "id": "bbiTjR8x-Et9",
        "outputId": "44a680ff-bba6-4f00-faee-838b3a05f84f"
      },
      "outputs": [
        {
          "data": {
            "text/plain": [
              "<title>The Dormouse's story</title>"
            ]
          },
          "execution_count": 12,
          "metadata": {},
          "output_type": "execute_result"
        }
      ],
      "source": [
        "## afficher le tag 'title' du page html\n",
        "soup.title"
      ]
    },
    {
      "cell_type": "code",
      "execution_count": 13,
      "metadata": {
        "colab": {
          "base_uri": "https://localhost:8080/",
          "height": 35
        },
        "id": "1pnH1imV-EwI",
        "outputId": "23c808fa-f3df-47ba-8fc8-b4cb3ad21f43"
      },
      "outputs": [
        {
          "data": {
            "text/plain": [
              "'title'"
            ]
          },
          "execution_count": 13,
          "metadata": {},
          "output_type": "execute_result"
        }
      ],
      "source": [
        "## afficher le nom du tag\n",
        "soup.title.name"
      ]
    },
    {
      "cell_type": "code",
      "execution_count": 14,
      "metadata": {
        "colab": {
          "base_uri": "https://localhost:8080/",
          "height": 35
        },
        "id": "5o8Hf51M-EyJ",
        "outputId": "19c0895b-5fa9-41f2-aa17-640f5b83096e"
      },
      "outputs": [
        {
          "data": {
            "text/plain": [
              "\"The Dormouse's story\""
            ]
          },
          "execution_count": 14,
          "metadata": {},
          "output_type": "execute_result"
        }
      ],
      "source": [
        "## afficher le contenu du tag\n",
        "soup.title.text"
      ]
    },
    {
      "cell_type": "code",
      "execution_count": 15,
      "metadata": {
        "colab": {
          "base_uri": "https://localhost:8080/",
          "height": 35
        },
        "id": "Ag-yzowU-mGn",
        "outputId": "484f80a5-0c3a-4c61-aa82-dd0b858b91b0"
      },
      "outputs": [
        {
          "data": {
            "text/plain": [
              "'head'"
            ]
          },
          "execution_count": 15,
          "metadata": {},
          "output_type": "execute_result"
        }
      ],
      "source": [
        "## afficher le tag parent\n",
        "soup.title.parent.name"
      ]
    },
    {
      "cell_type": "code",
      "execution_count": 16,
      "metadata": {
        "colab": {
          "base_uri": "https://localhost:8080/"
        },
        "id": "GIlkvvoP-mI9",
        "outputId": "2e8b819e-2ea3-40d3-bf05-49c275bc8a8e"
      },
      "outputs": [
        {
          "data": {
            "text/plain": [
              "<p class=\"title\"><b>The Dormouse's story</b></p>"
            ]
          },
          "execution_count": 16,
          "metadata": {},
          "output_type": "execute_result"
        }
      ],
      "source": [
        "## afficher un premier tag 'p'\n",
        "soup.p"
      ]
    },
    {
      "cell_type": "code",
      "execution_count": 17,
      "metadata": {
        "colab": {
          "base_uri": "https://localhost:8080/"
        },
        "id": "f-gtQnbd-mLB",
        "outputId": "9cd9eb2d-0600-4346-bebc-c87ef7775a53"
      },
      "outputs": [
        {
          "data": {
            "text/plain": [
              "['title']"
            ]
          },
          "execution_count": 17,
          "metadata": {},
          "output_type": "execute_result"
        }
      ],
      "source": [
        "## afficher la classe du premier tag 'p'\n",
        "soup.p['class']"
      ]
    },
    {
      "cell_type": "code",
      "execution_count": 18,
      "metadata": {
        "colab": {
          "base_uri": "https://localhost:8080/"
        },
        "id": "rFBtrL4jAX5B",
        "outputId": "7108a0b8-cb62-46df-9093-fe80184bec06"
      },
      "outputs": [
        {
          "data": {
            "text/plain": [
              "['body', 'strikeout']"
            ]
          },
          "execution_count": 18,
          "metadata": {},
          "output_type": "execute_result"
        }
      ],
      "source": [
        "## parfois on peut trouver des classes multiples\n",
        "css_soup = BeautifulSoup('<p class=\"body strikeout\"></p>', 'html.parser')\n",
        "css_soup.p[\"class\"]"
      ]
    },
    {
      "cell_type": "code",
      "execution_count": 19,
      "metadata": {
        "colab": {
          "base_uri": "https://localhost:8080/"
        },
        "id": "wvFoktg--mNW",
        "outputId": "26e1562f-18fe-433b-88f1-075c7ccd8bfd"
      },
      "outputs": [
        {
          "data": {
            "text/plain": [
              "<a class=\"sister\" href=\"http://example.com/elsie\" id=\"link1\">Elsie</a>"
            ]
          },
          "execution_count": 19,
          "metadata": {},
          "output_type": "execute_result"
        }
      ],
      "source": [
        "## afficher un premier tag 'a'\n",
        "soup.a"
      ]
    },
    {
      "cell_type": "code",
      "execution_count": 20,
      "metadata": {
        "colab": {
          "base_uri": "https://localhost:8080/"
        },
        "id": "9RBoTtfD-mPj",
        "outputId": "dbb38ce9-6613-46d7-998b-7713dc332dc4"
      },
      "outputs": [
        {
          "data": {
            "text/plain": [
              "[<a class=\"sister\" href=\"http://example.com/elsie\" id=\"link1\">Elsie</a>,\n",
              " <a class=\"sister\" href=\"http://example.com/lacie\" id=\"link2\">Lacie</a>,\n",
              " <a class=\"sister\" href=\"http://example.com/tillie\" id=\"link3\">Tillie</a>]"
            ]
          },
          "execution_count": 20,
          "metadata": {},
          "output_type": "execute_result"
        }
      ],
      "source": [
        "## on veut extraire toutes les balises « a »\n",
        "soup.find_all('a')"
      ]
    },
    {
      "cell_type": "code",
      "execution_count": 21,
      "metadata": {
        "colab": {
          "base_uri": "https://localhost:8080/"
        },
        "id": "vWdtRLE2-mRi",
        "outputId": "5a186801-c4eb-41f6-8310-8569c206967e"
      },
      "outputs": [
        {
          "data": {
            "text/plain": [
              "<a class=\"sister\" href=\"http://example.com/lacie\" id=\"link2\">Lacie</a>"
            ]
          },
          "execution_count": 21,
          "metadata": {},
          "output_type": "execute_result"
        }
      ],
      "source": [
        "## on veut extraire la balise 'a' qui a un id link2\n",
        "soup.find(id=\"link2\")"
      ]
    },
    {
      "cell_type": "code",
      "execution_count": 22,
      "metadata": {
        "colab": {
          "base_uri": "https://localhost:8080/"
        },
        "id": "frvWtTe5-mTd",
        "outputId": "d6ab12d9-3525-42fb-fb4e-4c2cc9b46d8e"
      },
      "outputs": [
        {
          "name": "stdout",
          "output_type": "stream",
          "text": [
            "http://example.com/elsie\n",
            "http://example.com/lacie\n",
            "http://example.com/tillie\n"
          ]
        }
      ],
      "source": [
        "## on veut extraire seulement les url de ces balises 'a'\n",
        "## si l'attribut href n'existe pas, on affiche None\n",
        "for link in soup.find_all('a'):\n",
        "    print(link.get('href', None))"
      ]
    },
    {
      "cell_type": "code",
      "execution_count": 23,
      "metadata": {
        "colab": {
          "base_uri": "https://localhost:8080/"
        },
        "id": "LnVczMOu-mWM",
        "outputId": "2a3f8a53-a133-41b5-f7b3-9bd567fd139f"
      },
      "outputs": [
        {
          "name": "stdout",
          "output_type": "stream",
          "text": [
            "The Dormouse's story\n",
            "\n",
            "The Dormouse's story\n",
            "Once upon a time there were three little sisters; and their names were\n",
            "Elsie,\n",
            "Lacie and\n",
            "Tillie;\n",
            "and they lived at the bottom of a well.\n",
            "...\n",
            "\n"
          ]
        }
      ],
      "source": [
        "## on veut extraire les texts dans notre page\n",
        "print(soup.get_text())"
      ]
    },
    {
      "cell_type": "code",
      "execution_count": 24,
      "metadata": {
        "colab": {
          "base_uri": "https://localhost:8080/"
        },
        "id": "qB1cYNSA-Ez7",
        "outputId": "6da4454d-70ab-4892-9035-9420591b81b7"
      },
      "outputs": [
        {
          "data": {
            "text/plain": [
              "<head><title>The Dormouse's story</title></head>"
            ]
          },
          "execution_count": 24,
          "metadata": {},
          "output_type": "execute_result"
        }
      ],
      "source": [
        "## trouver un element par son nom\n",
        "head_tag = soup.find(\"head\")\n",
        "head_tag"
      ]
    },
    {
      "cell_type": "code",
      "execution_count": 25,
      "metadata": {
        "colab": {
          "base_uri": "https://localhost:8080/"
        },
        "id": "QW49If0LBTZ4",
        "outputId": "97b7e0f8-db7d-44a2-f4ce-718193eec58f"
      },
      "outputs": [
        {
          "data": {
            "text/plain": [
              "[<title>The Dormouse's story</title>]"
            ]
          },
          "execution_count": 25,
          "metadata": {},
          "output_type": "execute_result"
        }
      ],
      "source": [
        "## afficher les childrens de notre head_tag\n",
        "head_tag.contents"
      ]
    },
    {
      "cell_type": "code",
      "execution_count": 26,
      "metadata": {
        "colab": {
          "base_uri": "https://localhost:8080/"
        },
        "id": "GXU8-wCLBTcY",
        "outputId": "cb4354ac-4a6d-4cd7-c38a-1b726e1fffac"
      },
      "outputs": [
        {
          "name": "stdout",
          "output_type": "stream",
          "text": [
            "The Dormouse's story\n",
            "The Dormouse's story\n",
            "The Dormouse's story\n"
          ]
        }
      ],
      "source": [
        "## afficher le contenu\n",
        "print(head_tag.contents[0].text)\n",
        "\n",
        "## ou bien\n",
        "print(head_tag.contents[0].get_text())\n",
        "\n",
        "## ou bien\n",
        "print(head_tag.contents[0].contents[0])"
      ]
    },
    {
      "cell_type": "code",
      "execution_count": 27,
      "metadata": {
        "colab": {
          "base_uri": "https://localhost:8080/"
        },
        "id": "M53csWSEBTeu",
        "outputId": "54ac3a5e-c330-4cd7-95ee-9d6b0ed5a7f8"
      },
      "outputs": [
        {
          "name": "stdout",
          "output_type": "stream",
          "text": [
            "le child est :  <title>The Dormouse's story</title>\n",
            "le nom du tag est :  title\n",
            "le contenu du tag est : The Dormouse's story\n"
          ]
        }
      ],
      "source": [
        "## au lieu de recuperer les children dans une liste\n",
        "## on peut:\n",
        "\n",
        "for child in head_tag.children:\n",
        "  print(\"le child est : \", child)\n",
        "  print(\"le nom du tag est : \",child.name)\n",
        "  print(\"le contenu du tag est :\", child.text)"
      ]
    },
    {
      "cell_type": "code",
      "execution_count": 28,
      "metadata": {
        "colab": {
          "base_uri": "https://localhost:8080/"
        },
        "id": "6zZwNUOlBTg3",
        "outputId": "9662cfb4-140e-47bf-b7fd-e7fff3f9f1d6"
      },
      "outputs": [
        {
          "name": "stdout",
          "output_type": "stream",
          "text": [
            "<a>\n",
            " <b>\n",
            "  text1\n",
            " </b>\n",
            " <c>\n",
            "  text2\n",
            " </c>\n",
            "</a>\n",
            "\n"
          ]
        }
      ],
      "source": [
        "## avoir les siblings tag\n",
        "sibling_soup = BeautifulSoup(\"<a><b>text1</b><c>text2</c></a>\", 'html.parser')\n",
        "print(sibling_soup.prettify())"
      ]
    },
    {
      "cell_type": "code",
      "execution_count": 29,
      "metadata": {
        "colab": {
          "base_uri": "https://localhost:8080/"
        },
        "id": "CLcByHsaBTjG",
        "outputId": "11d1e057-513a-48ed-cd81-f6b56a3da14b"
      },
      "outputs": [
        {
          "data": {
            "text/plain": [
              "<c>text2</c>"
            ]
          },
          "execution_count": 29,
          "metadata": {},
          "output_type": "execute_result"
        }
      ],
      "source": [
        "## recuperer le next sibling de b\n",
        "sibling_soup.b.next_sibling"
      ]
    },
    {
      "cell_type": "code",
      "execution_count": 30,
      "metadata": {
        "colab": {
          "base_uri": "https://localhost:8080/"
        },
        "id": "R0zDZbX8BTlN",
        "outputId": "c8e91c51-c4c8-48a2-ee1c-06a1878f2908"
      },
      "outputs": [
        {
          "data": {
            "text/plain": [
              "<b>text1</b>"
            ]
          },
          "execution_count": 30,
          "metadata": {},
          "output_type": "execute_result"
        }
      ],
      "source": [
        "## recuperer le previous sibling de c\n",
        "sibling_soup.c.previous_sibling"
      ]
    },
    {
      "cell_type": "code",
      "execution_count": 31,
      "metadata": {
        "id": "fEmdA6BXBTnk"
      },
      "outputs": [],
      "source": [
        "## on peut passer des fonctions dans `find_all` et `find`\n",
        "## par exemple, une fonction qui qui renvoie True\n",
        "# si une balise définit l’attribut « class » mais ne définit pas l’attribut « id »"
      ]
    },
    {
      "cell_type": "code",
      "execution_count": 32,
      "metadata": {
        "id": "MVjcZvJ8BTp0"
      },
      "outputs": [],
      "source": [
        "def has_class_but_no_id(tag):\n",
        "    return tag.has_attr('class') and not tag.has_attr('id')"
      ]
    },
    {
      "cell_type": "code",
      "execution_count": 33,
      "metadata": {
        "colab": {
          "base_uri": "https://localhost:8080/"
        },
        "id": "F2zfet8BBTsM",
        "outputId": "4aedc435-a0bd-4c9d-c7c5-ca6e0d00aea9"
      },
      "outputs": [
        {
          "data": {
            "text/plain": [
              "[<p class=\"title\"><b>The Dormouse's story</b></p>,\n",
              " <p class=\"story\">Once upon a time there were three little sisters; and their names were\n",
              " <a class=\"sister\" href=\"http://example.com/elsie\" id=\"link1\">Elsie</a>,\n",
              " <a class=\"sister\" href=\"http://example.com/lacie\" id=\"link2\">Lacie</a> and\n",
              " <a class=\"sister\" href=\"http://example.com/tillie\" id=\"link3\">Tillie</a>;\n",
              " and they lived at the bottom of a well.</p>,\n",
              " <p class=\"story\">...</p>]"
            ]
          },
          "execution_count": 33,
          "metadata": {},
          "output_type": "execute_result"
        }
      ],
      "source": [
        "soup.find_all(has_class_but_no_id)"
      ]
    },
    {
      "cell_type": "code",
      "execution_count": 34,
      "metadata": {
        "colab": {
          "base_uri": "https://localhost:8080/"
        },
        "id": "ZdtXfyynBTuZ",
        "outputId": "9551a3bb-89e8-4fa4-a5ad-238dbe1450d8"
      },
      "outputs": [
        {
          "data": {
            "text/plain": [
              "[<b>The Dormouse's story</b>,\n",
              " <a class=\"sister\" href=\"http://example.com/elsie\" id=\"link1\">Elsie</a>,\n",
              " <a class=\"sister\" href=\"http://example.com/lacie\" id=\"link2\">Lacie</a>,\n",
              " <a class=\"sister\" href=\"http://example.com/tillie\" id=\"link3\">Tillie</a>]"
            ]
          },
          "execution_count": 34,
          "metadata": {},
          "output_type": "execute_result"
        }
      ],
      "source": [
        "## on peut passer des lists\n",
        "## ce code trouve toutes les balises <a> et toutes les balises <b> :\n",
        "soup.find_all([\"a\", \"b\"])"
      ]
    },
    {
      "cell_type": "code",
      "execution_count": 35,
      "metadata": {
        "colab": {
          "base_uri": "https://localhost:8080/"
        },
        "id": "SMH_evhqBTwp",
        "outputId": "7da00e7d-349b-44a1-d4cf-4128b4a95384"
      },
      "outputs": [
        {
          "data": {
            "text/plain": [
              "[<a class=\"sister\" href=\"http://example.com/elsie\" id=\"link1\">Elsie</a>,\n",
              " <a class=\"sister\" href=\"http://example.com/lacie\" id=\"link2\">Lacie</a>,\n",
              " <a class=\"sister\" href=\"http://example.com/tillie\" id=\"link3\">Tillie</a>]"
            ]
          },
          "execution_count": 35,
          "metadata": {},
          "output_type": "execute_result"
        }
      ],
      "source": [
        "## recuperer par nom de class\n",
        "soup.find_all(\"a\", class_=\"sister\")"
      ]
    },
    {
      "cell_type": "code",
      "execution_count": 36,
      "metadata": {
        "colab": {
          "base_uri": "https://localhost:8080/"
        },
        "id": "oPxai8qMBTyk",
        "outputId": "a25857fc-00fc-45f1-b318-d48d0bde65b7"
      },
      "outputs": [
        {
          "data": {
            "text/plain": [
              "[<a class=\"sister\" href=\"http://example.com/elsie\" id=\"link1\">Elsie</a>,\n",
              " <a class=\"sister\" href=\"http://example.com/lacie\" id=\"link2\">Lacie</a>]"
            ]
          },
          "execution_count": 36,
          "metadata": {},
          "output_type": "execute_result"
        }
      ],
      "source": [
        "## on peut limiter notre find_all\n",
        "soup.find_all(\"a\", class_=\"sister\", limit=2)"
      ]
    },
    {
      "cell_type": "code",
      "execution_count": 37,
      "metadata": {
        "colab": {
          "base_uri": "https://localhost:8080/"
        },
        "id": "ZbvFCBl1BT2R",
        "outputId": "83caab38-58c8-4337-c399-0e92359ecf63"
      },
      "outputs": [
        {
          "data": {
            "text/plain": [
              "[<a class=\"sister\" href=\"http://example.com/elsie\" id=\"link1\">Elsie</a>,\n",
              " <a class=\"sister\" href=\"http://example.com/lacie\" id=\"link2\">Lacie</a>,\n",
              " <a class=\"sister\" href=\"http://example.com/tillie\" id=\"link3\">Tillie</a>]"
            ]
          },
          "execution_count": 37,
          "metadata": {},
          "output_type": "execute_result"
        }
      ],
      "source": [
        "## rechercher des tags directement dans d'autres tags\n",
        "soup.css.select(\"p > a\")"
      ]
    },
    {
      "cell_type": "markdown",
      "metadata": {
        "id": "X33zSAc19oCZ"
      },
      "source": [
        "## Scrapper un site web\n",
        "\n",
        "\n"
      ]
    },
    {
      "cell_type": "code",
      "execution_count": 38,
      "metadata": {
        "id": "XKkvEUrILBJB"
      },
      "outputs": [],
      "source": [
        "## on va utiliser ce site web : https://books.toscrape.com/"
      ]
    },
    {
      "cell_type": "code",
      "execution_count": 39,
      "metadata": {
        "id": "uhsL7DmdnjlU"
      },
      "outputs": [],
      "source": [
        "# recuperer le contenu du site\n",
        "url = \"https://books.toscrape.com/\"\n",
        "response = requests.get(url)\n",
        "\n",
        "# creer une variable soup pour analyse le contenu html\n",
        "soup = BeautifulSoup(response.text, \"html.parser\") # on peut trouver 3 parseurs : lxml-xml, html.parser, html5lib (lent et tolerant aux erreurs de formattage)"
      ]
    },
    {
      "cell_type": "code",
      "execution_count": 40,
      "metadata": {
        "id": "g6IRUZ-Pnjnl"
      },
      "outputs": [
        {
          "name": "stdout",
          "output_type": "stream",
          "text": [
            "<!DOCTYPE html>\n",
            "<!--[if lt IE 7]>      <html lang=\"en-us\" class=\"no-js lt-ie9 lt-ie8 lt-ie7\"> <![endif]-->\n",
            "<!--[if IE 7]>         <html lang=\"en-us\" class=\"no-js lt-ie9 lt-ie8\"> <![endif]-->\n",
            "<!--[if IE 8]>         <html lang=\"en-us\" class=\"no-js lt-ie9\"> <![endif]-->\n",
            "<!--[if gt IE 8]><!-->\n",
            "<html class=\"no-js\" lang=\"en-us\">\n",
            " <!--<![endif]-->\n",
            " <head>\n",
            "  <title>\n",
            "   All products | Books to Scrape - Sandbox\n",
            "  </title>\n",
            "  <meta content=\"text/html; charset=utf-8\" http-equiv=\"content-type\"/>\n",
            "  <meta content=\"24th Jun 2016 09:29\" name=\"created\"/>\n",
            "  <meta content=\"\" name=\"description\"/>\n",
            "  <meta content=\"width=device-width\" name=\"viewport\"/>\n",
            "  <meta content=\"NOARCHIVE,NOCACHE\" name=\"robots\"/>\n",
            "  <!-- Le HTML5 shim, for IE6-8 support of HTML elements -->\n",
            "  <!--[if lt IE 9]>\n",
            "        <script src=\"//html5shim.googlecode.com/svn/trunk/html5.js\"></script>\n",
            "        <![endif]-->\n",
            "  <link href=\"static/oscar/favicon.ico\" rel=\"shortcut icon\"/>\n",
            "  <link href=\"static/oscar/css/styles.css\" rel=\"stylesheet\" type=\"text/css\"/>\n",
            "  <link href=\"static/oscar/js/bootstrap-datetimepicker/bootstrap-datetimepicker.css\" rel=\"stylesheet\"/>\n",
            "  <link href=\"static/oscar/css/datetimepicker.css\" rel=\"stylesheet\" type=\"text/css\"/>\n",
            " </head>\n",
            " <body class=\"default\" id=\"default\">\n",
            "  <header class=\"header container-fluid\">\n",
            "   <div class=\"page_inner\">\n",
            "    <div class=\"row\">\n",
            "     <div class=\"col-sm-8 h1\">\n",
            "      <a href=\"index.html\">\n",
            "       Books to Scrape\n",
            "      </a>\n",
            "      <small>\n",
            "       We love being scraped!\n",
            "      </small>\n",
            "     </div>\n",
            "    </div>\n",
            "   </div>\n",
            "  </header>\n",
            "  <div class=\"container-fluid page\">\n",
            "   <div class=\"page_inner\">\n",
            "    <ul class=\"breadcrumb\">\n",
            "     <li>\n",
            "      <a href=\"index.html\">\n",
            "       Home\n",
            "      </a>\n",
            "     </li>\n",
            "     <li class=\"active\">\n",
            "      All products\n",
            "     </li>\n",
            "    </ul>\n",
            "    <div class=\"row\">\n",
            "     <aside class=\"sidebar col-sm-4 col-md-3\">\n",
            "      <div id=\"promotions_left\">\n",
            "      </div>\n",
            "      <div class=\"side_categories\">\n",
            "       <ul class=\"nav nav-list\">\n",
            "        <li>\n",
            "         <a href=\"catalogue/category/books_1/index.html\">\n",
            "          Books\n",
            "         </a>\n",
            "         <ul>\n",
            "          <li>\n",
            "           <a href=\"catalogue/category/books/travel_2/index.html\">\n",
            "            Travel\n",
            "           </a>\n",
            "          </li>\n",
            "          <li>\n",
            "           <a href=\"catalogue/category/books/mystery_3/index.html\">\n",
            "            Mystery\n",
            "           </a>\n",
            "          </li>\n",
            "          <li>\n",
            "           <a href=\"catalogue/category/books/historical-fiction_4/index.html\">\n",
            "            Historical Fiction\n",
            "           </a>\n",
            "          </li>\n",
            "          <li>\n",
            "           <a href=\"catalogue/category/books/sequential-art_5/index.html\">\n",
            "            Sequential Art\n",
            "           </a>\n",
            "          </li>\n",
            "          <li>\n",
            "           <a href=\"catalogue/category/books/classics_6/index.html\">\n",
            "            Classics\n",
            "           </a>\n",
            "          </li>\n",
            "          <li>\n",
            "           <a href=\"catalogue/category/books/philosophy_7/index.html\">\n",
            "            Philosophy\n",
            "           </a>\n",
            "          </li>\n",
            "          <li>\n",
            "           <a href=\"catalogue/category/books/romance_8/index.html\">\n",
            "            Romance\n",
            "           </a>\n",
            "          </li>\n",
            "          <li>\n",
            "           <a href=\"catalogue/category/books/womens-fiction_9/index.html\">\n",
            "            Womens Fiction\n",
            "           </a>\n",
            "          </li>\n",
            "          <li>\n",
            "           <a href=\"catalogue/category/books/fiction_10/index.html\">\n",
            "            Fiction\n",
            "           </a>\n",
            "          </li>\n",
            "          <li>\n",
            "           <a href=\"catalogue/category/books/childrens_11/index.html\">\n",
            "            Childrens\n",
            "           </a>\n",
            "          </li>\n",
            "          <li>\n",
            "           <a href=\"catalogue/category/books/religion_12/index.html\">\n",
            "            Religion\n",
            "           </a>\n",
            "          </li>\n",
            "          <li>\n",
            "           <a href=\"catalogue/category/books/nonfiction_13/index.html\">\n",
            "            Nonfiction\n",
            "           </a>\n",
            "          </li>\n",
            "          <li>\n",
            "           <a href=\"catalogue/category/books/music_14/index.html\">\n",
            "            Music\n",
            "           </a>\n",
            "          </li>\n",
            "          <li>\n",
            "           <a href=\"catalogue/category/books/default_15/index.html\">\n",
            "            Default\n",
            "           </a>\n",
            "          </li>\n",
            "          <li>\n",
            "           <a href=\"catalogue/category/books/science-fiction_16/index.html\">\n",
            "            Science Fiction\n",
            "           </a>\n",
            "          </li>\n",
            "          <li>\n",
            "           <a href=\"catalogue/category/books/sports-and-games_17/index.html\">\n",
            "            Sports and Games\n",
            "           </a>\n",
            "          </li>\n",
            "          <li>\n",
            "           <a href=\"catalogue/category/books/add-a-comment_18/index.html\">\n",
            "            Add a comment\n",
            "           </a>\n",
            "          </li>\n",
            "          <li>\n",
            "           <a href=\"catalogue/category/books/fantasy_19/index.html\">\n",
            "            Fantasy\n",
            "           </a>\n",
            "          </li>\n",
            "          <li>\n",
            "           <a href=\"catalogue/category/books/new-adult_20/index.html\">\n",
            "            New Adult\n",
            "           </a>\n",
            "          </li>\n",
            "          <li>\n",
            "           <a href=\"catalogue/category/books/young-adult_21/index.html\">\n",
            "            Young Adult\n",
            "           </a>\n",
            "          </li>\n",
            "          <li>\n",
            "           <a href=\"catalogue/category/books/science_22/index.html\">\n",
            "            Science\n",
            "           </a>\n",
            "          </li>\n",
            "          <li>\n",
            "           <a href=\"catalogue/category/books/poetry_23/index.html\">\n",
            "            Poetry\n",
            "           </a>\n",
            "          </li>\n",
            "          <li>\n",
            "           <a href=\"catalogue/category/books/paranormal_24/index.html\">\n",
            "            Paranormal\n",
            "           </a>\n",
            "          </li>\n",
            "          <li>\n",
            "           <a href=\"catalogue/category/books/art_25/index.html\">\n",
            "            Art\n",
            "           </a>\n",
            "          </li>\n",
            "          <li>\n",
            "           <a href=\"catalogue/category/books/psychology_26/index.html\">\n",
            "            Psychology\n",
            "           </a>\n",
            "          </li>\n",
            "          <li>\n",
            "           <a href=\"catalogue/category/books/autobiography_27/index.html\">\n",
            "            Autobiography\n",
            "           </a>\n",
            "          </li>\n",
            "          <li>\n",
            "           <a href=\"catalogue/category/books/parenting_28/index.html\">\n",
            "            Parenting\n",
            "           </a>\n",
            "          </li>\n",
            "          <li>\n",
            "           <a href=\"catalogue/category/books/adult-fiction_29/index.html\">\n",
            "            Adult Fiction\n",
            "           </a>\n",
            "          </li>\n",
            "          <li>\n",
            "           <a href=\"catalogue/category/books/humor_30/index.html\">\n",
            "            Humor\n",
            "           </a>\n",
            "          </li>\n",
            "          <li>\n",
            "           <a href=\"catalogue/category/books/horror_31/index.html\">\n",
            "            Horror\n",
            "           </a>\n",
            "          </li>\n",
            "          <li>\n",
            "           <a href=\"catalogue/category/books/history_32/index.html\">\n",
            "            History\n",
            "           </a>\n",
            "          </li>\n",
            "          <li>\n",
            "           <a href=\"catalogue/category/books/food-and-drink_33/index.html\">\n",
            "            Food and Drink\n",
            "           </a>\n",
            "          </li>\n",
            "          <li>\n",
            "           <a href=\"catalogue/category/books/christian-fiction_34/index.html\">\n",
            "            Christian Fiction\n",
            "           </a>\n",
            "          </li>\n",
            "          <li>\n",
            "           <a href=\"catalogue/category/books/business_35/index.html\">\n",
            "            Business\n",
            "           </a>\n",
            "          </li>\n",
            "          <li>\n",
            "           <a href=\"catalogue/category/books/biography_36/index.html\">\n",
            "            Biography\n",
            "           </a>\n",
            "          </li>\n",
            "          <li>\n",
            "           <a href=\"catalogue/category/books/thriller_37/index.html\">\n",
            "            Thriller\n",
            "           </a>\n",
            "          </li>\n",
            "          <li>\n",
            "           <a href=\"catalogue/category/books/contemporary_38/index.html\">\n",
            "            Contemporary\n",
            "           </a>\n",
            "          </li>\n",
            "          <li>\n",
            "           <a href=\"catalogue/category/books/spirituality_39/index.html\">\n",
            "            Spirituality\n",
            "           </a>\n",
            "          </li>\n",
            "          <li>\n",
            "           <a href=\"catalogue/category/books/academic_40/index.html\">\n",
            "            Academic\n",
            "           </a>\n",
            "          </li>\n",
            "          <li>\n",
            "           <a href=\"catalogue/category/books/self-help_41/index.html\">\n",
            "            Self Help\n",
            "           </a>\n",
            "          </li>\n",
            "          <li>\n",
            "           <a href=\"catalogue/category/books/historical_42/index.html\">\n",
            "            Historical\n",
            "           </a>\n",
            "          </li>\n",
            "          <li>\n",
            "           <a href=\"catalogue/category/books/christian_43/index.html\">\n",
            "            Christian\n",
            "           </a>\n",
            "          </li>\n",
            "          <li>\n",
            "           <a href=\"catalogue/category/books/suspense_44/index.html\">\n",
            "            Suspense\n",
            "           </a>\n",
            "          </li>\n",
            "          <li>\n",
            "           <a href=\"catalogue/category/books/short-stories_45/index.html\">\n",
            "            Short Stories\n",
            "           </a>\n",
            "          </li>\n",
            "          <li>\n",
            "           <a href=\"catalogue/category/books/novels_46/index.html\">\n",
            "            Novels\n",
            "           </a>\n",
            "          </li>\n",
            "          <li>\n",
            "           <a href=\"catalogue/category/books/health_47/index.html\">\n",
            "            Health\n",
            "           </a>\n",
            "          </li>\n",
            "          <li>\n",
            "           <a href=\"catalogue/category/books/politics_48/index.html\">\n",
            "            Politics\n",
            "           </a>\n",
            "          </li>\n",
            "          <li>\n",
            "           <a href=\"catalogue/category/books/cultural_49/index.html\">\n",
            "            Cultural\n",
            "           </a>\n",
            "          </li>\n",
            "          <li>\n",
            "           <a href=\"catalogue/category/books/erotica_50/index.html\">\n",
            "            Erotica\n",
            "           </a>\n",
            "          </li>\n",
            "          <li>\n",
            "           <a href=\"catalogue/category/books/crime_51/index.html\">\n",
            "            Crime\n",
            "           </a>\n",
            "          </li>\n",
            "         </ul>\n",
            "        </li>\n",
            "       </ul>\n",
            "      </div>\n",
            "     </aside>\n",
            "     <div class=\"col-sm-8 col-md-9\">\n",
            "      <div class=\"page-header action\">\n",
            "       <h1>\n",
            "        All products\n",
            "       </h1>\n",
            "      </div>\n",
            "      <div id=\"messages\">\n",
            "      </div>\n",
            "      <div id=\"promotions\">\n",
            "      </div>\n",
            "      <form class=\"form-horizontal\" method=\"get\">\n",
            "       <div style=\"display:none\">\n",
            "       </div>\n",
            "       <strong>\n",
            "        1000\n",
            "       </strong>\n",
            "       results - showing\n",
            "       <strong>\n",
            "        1\n",
            "       </strong>\n",
            "       to\n",
            "       <strong>\n",
            "        20\n",
            "       </strong>\n",
            "       .\n",
            "      </form>\n",
            "      <section>\n",
            "       <div class=\"alert alert-warning\" role=\"alert\">\n",
            "        <strong>\n",
            "         Warning!\n",
            "        </strong>\n",
            "        This is a demo website for web scraping purposes. Prices and ratings here were randomly assigned and have no real meaning.\n",
            "       </div>\n",
            "       <div>\n",
            "        <ol class=\"row\">\n",
            "         <li class=\"col-xs-6 col-sm-4 col-md-3 col-lg-3\">\n",
            "          <article class=\"product_pod\">\n",
            "           <div class=\"image_container\">\n",
            "            <a href=\"catalogue/a-light-in-the-attic_1000/index.html\">\n",
            "             <img alt=\"A Light in the Attic\" class=\"thumbnail\" src=\"media/cache/2c/da/2cdad67c44b002e7ead0cc35693c0e8b.jpg\"/>\n",
            "            </a>\n",
            "           </div>\n",
            "           <p class=\"star-rating Three\">\n",
            "            <i class=\"icon-star\">\n",
            "            </i>\n",
            "            <i class=\"icon-star\">\n",
            "            </i>\n",
            "            <i class=\"icon-star\">\n",
            "            </i>\n",
            "            <i class=\"icon-star\">\n",
            "            </i>\n",
            "            <i class=\"icon-star\">\n",
            "            </i>\n",
            "           </p>\n",
            "           <h3>\n",
            "            <a href=\"catalogue/a-light-in-the-attic_1000/index.html\" title=\"A Light in the Attic\">\n",
            "             A Light in the ...\n",
            "            </a>\n",
            "           </h3>\n",
            "           <div class=\"product_price\">\n",
            "            <p class=\"price_color\">\n",
            "             Â£51.77\n",
            "            </p>\n",
            "            <p class=\"instock availability\">\n",
            "             <i class=\"icon-ok\">\n",
            "             </i>\n",
            "             In stock\n",
            "            </p>\n",
            "            <form>\n",
            "             <button class=\"btn btn-primary btn-block\" data-loading-text=\"Adding...\" type=\"submit\">\n",
            "              Add to basket\n",
            "             </button>\n",
            "            </form>\n",
            "           </div>\n",
            "          </article>\n",
            "         </li>\n",
            "         <li class=\"col-xs-6 col-sm-4 col-md-3 col-lg-3\">\n",
            "          <article class=\"product_pod\">\n",
            "           <div class=\"image_container\">\n",
            "            <a href=\"catalogue/tipping-the-velvet_999/index.html\">\n",
            "             <img alt=\"Tipping the Velvet\" class=\"thumbnail\" src=\"media/cache/26/0c/260c6ae16bce31c8f8c95daddd9f4a1c.jpg\"/>\n",
            "            </a>\n",
            "           </div>\n",
            "           <p class=\"star-rating One\">\n",
            "            <i class=\"icon-star\">\n",
            "            </i>\n",
            "            <i class=\"icon-star\">\n",
            "            </i>\n",
            "            <i class=\"icon-star\">\n",
            "            </i>\n",
            "            <i class=\"icon-star\">\n",
            "            </i>\n",
            "            <i class=\"icon-star\">\n",
            "            </i>\n",
            "           </p>\n",
            "           <h3>\n",
            "            <a href=\"catalogue/tipping-the-velvet_999/index.html\" title=\"Tipping the Velvet\">\n",
            "             Tipping the Velvet\n",
            "            </a>\n",
            "           </h3>\n",
            "           <div class=\"product_price\">\n",
            "            <p class=\"price_color\">\n",
            "             Â£53.74\n",
            "            </p>\n",
            "            <p class=\"instock availability\">\n",
            "             <i class=\"icon-ok\">\n",
            "             </i>\n",
            "             In stock\n",
            "            </p>\n",
            "            <form>\n",
            "             <button class=\"btn btn-primary btn-block\" data-loading-text=\"Adding...\" type=\"submit\">\n",
            "              Add to basket\n",
            "             </button>\n",
            "            </form>\n",
            "           </div>\n",
            "          </article>\n",
            "         </li>\n",
            "         <li class=\"col-xs-6 col-sm-4 col-md-3 col-lg-3\">\n",
            "          <article class=\"product_pod\">\n",
            "           <div class=\"image_container\">\n",
            "            <a href=\"catalogue/soumission_998/index.html\">\n",
            "             <img alt=\"Soumission\" class=\"thumbnail\" src=\"media/cache/3e/ef/3eef99c9d9adef34639f510662022830.jpg\"/>\n",
            "            </a>\n",
            "           </div>\n",
            "           <p class=\"star-rating One\">\n",
            "            <i class=\"icon-star\">\n",
            "            </i>\n",
            "            <i class=\"icon-star\">\n",
            "            </i>\n",
            "            <i class=\"icon-star\">\n",
            "            </i>\n",
            "            <i class=\"icon-star\">\n",
            "            </i>\n",
            "            <i class=\"icon-star\">\n",
            "            </i>\n",
            "           </p>\n",
            "           <h3>\n",
            "            <a href=\"catalogue/soumission_998/index.html\" title=\"Soumission\">\n",
            "             Soumission\n",
            "            </a>\n",
            "           </h3>\n",
            "           <div class=\"product_price\">\n",
            "            <p class=\"price_color\">\n",
            "             Â£50.10\n",
            "            </p>\n",
            "            <p class=\"instock availability\">\n",
            "             <i class=\"icon-ok\">\n",
            "             </i>\n",
            "             In stock\n",
            "            </p>\n",
            "            <form>\n",
            "             <button class=\"btn btn-primary btn-block\" data-loading-text=\"Adding...\" type=\"submit\">\n",
            "              Add to basket\n",
            "             </button>\n",
            "            </form>\n",
            "           </div>\n",
            "          </article>\n",
            "         </li>\n",
            "         <li class=\"col-xs-6 col-sm-4 col-md-3 col-lg-3\">\n",
            "          <article class=\"product_pod\">\n",
            "           <div class=\"image_container\">\n",
            "            <a href=\"catalogue/sharp-objects_997/index.html\">\n",
            "             <img alt=\"Sharp Objects\" class=\"thumbnail\" src=\"media/cache/32/51/3251cf3a3412f53f339e42cac2134093.jpg\"/>\n",
            "            </a>\n",
            "           </div>\n",
            "           <p class=\"star-rating Four\">\n",
            "            <i class=\"icon-star\">\n",
            "            </i>\n",
            "            <i class=\"icon-star\">\n",
            "            </i>\n",
            "            <i class=\"icon-star\">\n",
            "            </i>\n",
            "            <i class=\"icon-star\">\n",
            "            </i>\n",
            "            <i class=\"icon-star\">\n",
            "            </i>\n",
            "           </p>\n",
            "           <h3>\n",
            "            <a href=\"catalogue/sharp-objects_997/index.html\" title=\"Sharp Objects\">\n",
            "             Sharp Objects\n",
            "            </a>\n",
            "           </h3>\n",
            "           <div class=\"product_price\">\n",
            "            <p class=\"price_color\">\n",
            "             Â£47.82\n",
            "            </p>\n",
            "            <p class=\"instock availability\">\n",
            "             <i class=\"icon-ok\">\n",
            "             </i>\n",
            "             In stock\n",
            "            </p>\n",
            "            <form>\n",
            "             <button class=\"btn btn-primary btn-block\" data-loading-text=\"Adding...\" type=\"submit\">\n",
            "              Add to basket\n",
            "             </button>\n",
            "            </form>\n",
            "           </div>\n",
            "          </article>\n",
            "         </li>\n",
            "         <li class=\"col-xs-6 col-sm-4 col-md-3 col-lg-3\">\n",
            "          <article class=\"product_pod\">\n",
            "           <div class=\"image_container\">\n",
            "            <a href=\"catalogue/sapiens-a-brief-history-of-humankind_996/index.html\">\n",
            "             <img alt=\"Sapiens: A Brief History of Humankind\" class=\"thumbnail\" src=\"media/cache/be/a5/bea5697f2534a2f86a3ef27b5a8c12a6.jpg\"/>\n",
            "            </a>\n",
            "           </div>\n",
            "           <p class=\"star-rating Five\">\n",
            "            <i class=\"icon-star\">\n",
            "            </i>\n",
            "            <i class=\"icon-star\">\n",
            "            </i>\n",
            "            <i class=\"icon-star\">\n",
            "            </i>\n",
            "            <i class=\"icon-star\">\n",
            "            </i>\n",
            "            <i class=\"icon-star\">\n",
            "            </i>\n",
            "           </p>\n",
            "           <h3>\n",
            "            <a href=\"catalogue/sapiens-a-brief-history-of-humankind_996/index.html\" title=\"Sapiens: A Brief History of Humankind\">\n",
            "             Sapiens: A Brief History ...\n",
            "            </a>\n",
            "           </h3>\n",
            "           <div class=\"product_price\">\n",
            "            <p class=\"price_color\">\n",
            "             Â£54.23\n",
            "            </p>\n",
            "            <p class=\"instock availability\">\n",
            "             <i class=\"icon-ok\">\n",
            "             </i>\n",
            "             In stock\n",
            "            </p>\n",
            "            <form>\n",
            "             <button class=\"btn btn-primary btn-block\" data-loading-text=\"Adding...\" type=\"submit\">\n",
            "              Add to basket\n",
            "             </button>\n",
            "            </form>\n",
            "           </div>\n",
            "          </article>\n",
            "         </li>\n",
            "         <li class=\"col-xs-6 col-sm-4 col-md-3 col-lg-3\">\n",
            "          <article class=\"product_pod\">\n",
            "           <div class=\"image_container\">\n",
            "            <a href=\"catalogue/the-requiem-red_995/index.html\">\n",
            "             <img alt=\"The Requiem Red\" class=\"thumbnail\" src=\"media/cache/68/33/68339b4c9bc034267e1da611ab3b34f8.jpg\"/>\n",
            "            </a>\n",
            "           </div>\n",
            "           <p class=\"star-rating One\">\n",
            "            <i class=\"icon-star\">\n",
            "            </i>\n",
            "            <i class=\"icon-star\">\n",
            "            </i>\n",
            "            <i class=\"icon-star\">\n",
            "            </i>\n",
            "            <i class=\"icon-star\">\n",
            "            </i>\n",
            "            <i class=\"icon-star\">\n",
            "            </i>\n",
            "           </p>\n",
            "           <h3>\n",
            "            <a href=\"catalogue/the-requiem-red_995/index.html\" title=\"The Requiem Red\">\n",
            "             The Requiem Red\n",
            "            </a>\n",
            "           </h3>\n",
            "           <div class=\"product_price\">\n",
            "            <p class=\"price_color\">\n",
            "             Â£22.65\n",
            "            </p>\n",
            "            <p class=\"instock availability\">\n",
            "             <i class=\"icon-ok\">\n",
            "             </i>\n",
            "             In stock\n",
            "            </p>\n",
            "            <form>\n",
            "             <button class=\"btn btn-primary btn-block\" data-loading-text=\"Adding...\" type=\"submit\">\n",
            "              Add to basket\n",
            "             </button>\n",
            "            </form>\n",
            "           </div>\n",
            "          </article>\n",
            "         </li>\n",
            "         <li class=\"col-xs-6 col-sm-4 col-md-3 col-lg-3\">\n",
            "          <article class=\"product_pod\">\n",
            "           <div class=\"image_container\">\n",
            "            <a href=\"catalogue/the-dirty-little-secrets-of-getting-your-dream-job_994/index.html\">\n",
            "             <img alt=\"The Dirty Little Secrets of Getting Your Dream Job\" class=\"thumbnail\" src=\"media/cache/92/27/92274a95b7c251fea59a2b8a78275ab4.jpg\"/>\n",
            "            </a>\n",
            "           </div>\n",
            "           <p class=\"star-rating Four\">\n",
            "            <i class=\"icon-star\">\n",
            "            </i>\n",
            "            <i class=\"icon-star\">\n",
            "            </i>\n",
            "            <i class=\"icon-star\">\n",
            "            </i>\n",
            "            <i class=\"icon-star\">\n",
            "            </i>\n",
            "            <i class=\"icon-star\">\n",
            "            </i>\n",
            "           </p>\n",
            "           <h3>\n",
            "            <a href=\"catalogue/the-dirty-little-secrets-of-getting-your-dream-job_994/index.html\" title=\"The Dirty Little Secrets of Getting Your Dream Job\">\n",
            "             The Dirty Little Secrets ...\n",
            "            </a>\n",
            "           </h3>\n",
            "           <div class=\"product_price\">\n",
            "            <p class=\"price_color\">\n",
            "             Â£33.34\n",
            "            </p>\n",
            "            <p class=\"instock availability\">\n",
            "             <i class=\"icon-ok\">\n",
            "             </i>\n",
            "             In stock\n",
            "            </p>\n",
            "            <form>\n",
            "             <button class=\"btn btn-primary btn-block\" data-loading-text=\"Adding...\" type=\"submit\">\n",
            "              Add to basket\n",
            "             </button>\n",
            "            </form>\n",
            "           </div>\n",
            "          </article>\n",
            "         </li>\n",
            "         <li class=\"col-xs-6 col-sm-4 col-md-3 col-lg-3\">\n",
            "          <article class=\"product_pod\">\n",
            "           <div class=\"image_container\">\n",
            "            <a href=\"catalogue/the-coming-woman-a-novel-based-on-the-life-of-the-infamous-feminist-victoria-woodhull_993/index.html\">\n",
            "             <img alt=\"The Coming Woman: A Novel Based on the Life of the Infamous Feminist, Victoria Woodhull\" class=\"thumbnail\" src=\"media/cache/3d/54/3d54940e57e662c4dd1f3ff00c78cc64.jpg\"/>\n",
            "            </a>\n",
            "           </div>\n",
            "           <p class=\"star-rating Three\">\n",
            "            <i class=\"icon-star\">\n",
            "            </i>\n",
            "            <i class=\"icon-star\">\n",
            "            </i>\n",
            "            <i class=\"icon-star\">\n",
            "            </i>\n",
            "            <i class=\"icon-star\">\n",
            "            </i>\n",
            "            <i class=\"icon-star\">\n",
            "            </i>\n",
            "           </p>\n",
            "           <h3>\n",
            "            <a href=\"catalogue/the-coming-woman-a-novel-based-on-the-life-of-the-infamous-feminist-victoria-woodhull_993/index.html\" title=\"The Coming Woman: A Novel Based on the Life of the Infamous Feminist, Victoria Woodhull\">\n",
            "             The Coming Woman: A ...\n",
            "            </a>\n",
            "           </h3>\n",
            "           <div class=\"product_price\">\n",
            "            <p class=\"price_color\">\n",
            "             Â£17.93\n",
            "            </p>\n",
            "            <p class=\"instock availability\">\n",
            "             <i class=\"icon-ok\">\n",
            "             </i>\n",
            "             In stock\n",
            "            </p>\n",
            "            <form>\n",
            "             <button class=\"btn btn-primary btn-block\" data-loading-text=\"Adding...\" type=\"submit\">\n",
            "              Add to basket\n",
            "             </button>\n",
            "            </form>\n",
            "           </div>\n",
            "          </article>\n",
            "         </li>\n",
            "         <li class=\"col-xs-6 col-sm-4 col-md-3 col-lg-3\">\n",
            "          <article class=\"product_pod\">\n",
            "           <div class=\"image_container\">\n",
            "            <a href=\"catalogue/the-boys-in-the-boat-nine-americans-and-their-epic-quest-for-gold-at-the-1936-berlin-olympics_992/index.html\">\n",
            "             <img alt=\"The Boys in the Boat: Nine Americans and Their Epic Quest for Gold at the 1936 Berlin Olympics\" class=\"thumbnail\" src=\"media/cache/66/88/66883b91f6804b2323c8369331cb7dd1.jpg\"/>\n",
            "            </a>\n",
            "           </div>\n",
            "           <p class=\"star-rating Four\">\n",
            "            <i class=\"icon-star\">\n",
            "            </i>\n",
            "            <i class=\"icon-star\">\n",
            "            </i>\n",
            "            <i class=\"icon-star\">\n",
            "            </i>\n",
            "            <i class=\"icon-star\">\n",
            "            </i>\n",
            "            <i class=\"icon-star\">\n",
            "            </i>\n",
            "           </p>\n",
            "           <h3>\n",
            "            <a href=\"catalogue/the-boys-in-the-boat-nine-americans-and-their-epic-quest-for-gold-at-the-1936-berlin-olympics_992/index.html\" title=\"The Boys in the Boat: Nine Americans and Their Epic Quest for Gold at the 1936 Berlin Olympics\">\n",
            "             The Boys in the ...\n",
            "            </a>\n",
            "           </h3>\n",
            "           <div class=\"product_price\">\n",
            "            <p class=\"price_color\">\n",
            "             Â£22.60\n",
            "            </p>\n",
            "            <p class=\"instock availability\">\n",
            "             <i class=\"icon-ok\">\n",
            "             </i>\n",
            "             In stock\n",
            "            </p>\n",
            "            <form>\n",
            "             <button class=\"btn btn-primary btn-block\" data-loading-text=\"Adding...\" type=\"submit\">\n",
            "              Add to basket\n",
            "             </button>\n",
            "            </form>\n",
            "           </div>\n",
            "          </article>\n",
            "         </li>\n",
            "         <li class=\"col-xs-6 col-sm-4 col-md-3 col-lg-3\">\n",
            "          <article class=\"product_pod\">\n",
            "           <div class=\"image_container\">\n",
            "            <a href=\"catalogue/the-black-maria_991/index.html\">\n",
            "             <img alt=\"The Black Maria\" class=\"thumbnail\" src=\"media/cache/58/46/5846057e28022268153beff6d352b06c.jpg\"/>\n",
            "            </a>\n",
            "           </div>\n",
            "           <p class=\"star-rating One\">\n",
            "            <i class=\"icon-star\">\n",
            "            </i>\n",
            "            <i class=\"icon-star\">\n",
            "            </i>\n",
            "            <i class=\"icon-star\">\n",
            "            </i>\n",
            "            <i class=\"icon-star\">\n",
            "            </i>\n",
            "            <i class=\"icon-star\">\n",
            "            </i>\n",
            "           </p>\n",
            "           <h3>\n",
            "            <a href=\"catalogue/the-black-maria_991/index.html\" title=\"The Black Maria\">\n",
            "             The Black Maria\n",
            "            </a>\n",
            "           </h3>\n",
            "           <div class=\"product_price\">\n",
            "            <p class=\"price_color\">\n",
            "             Â£52.15\n",
            "            </p>\n",
            "            <p class=\"instock availability\">\n",
            "             <i class=\"icon-ok\">\n",
            "             </i>\n",
            "             In stock\n",
            "            </p>\n",
            "            <form>\n",
            "             <button class=\"btn btn-primary btn-block\" data-loading-text=\"Adding...\" type=\"submit\">\n",
            "              Add to basket\n",
            "             </button>\n",
            "            </form>\n",
            "           </div>\n",
            "          </article>\n",
            "         </li>\n",
            "         <li class=\"col-xs-6 col-sm-4 col-md-3 col-lg-3\">\n",
            "          <article class=\"product_pod\">\n",
            "           <div class=\"image_container\">\n",
            "            <a href=\"catalogue/starving-hearts-triangular-trade-trilogy-1_990/index.html\">\n",
            "             <img alt=\"Starving Hearts (Triangular Trade Trilogy, #1)\" class=\"thumbnail\" src=\"media/cache/be/f4/bef44da28c98f905a3ebec0b87be8530.jpg\"/>\n",
            "            </a>\n",
            "           </div>\n",
            "           <p class=\"star-rating Two\">\n",
            "            <i class=\"icon-star\">\n",
            "            </i>\n",
            "            <i class=\"icon-star\">\n",
            "            </i>\n",
            "            <i class=\"icon-star\">\n",
            "            </i>\n",
            "            <i class=\"icon-star\">\n",
            "            </i>\n",
            "            <i class=\"icon-star\">\n",
            "            </i>\n",
            "           </p>\n",
            "           <h3>\n",
            "            <a href=\"catalogue/starving-hearts-triangular-trade-trilogy-1_990/index.html\" title=\"Starving Hearts (Triangular Trade Trilogy, #1)\">\n",
            "             Starving Hearts (Triangular Trade ...\n",
            "            </a>\n",
            "           </h3>\n",
            "           <div class=\"product_price\">\n",
            "            <p class=\"price_color\">\n",
            "             Â£13.99\n",
            "            </p>\n",
            "            <p class=\"instock availability\">\n",
            "             <i class=\"icon-ok\">\n",
            "             </i>\n",
            "             In stock\n",
            "            </p>\n",
            "            <form>\n",
            "             <button class=\"btn btn-primary btn-block\" data-loading-text=\"Adding...\" type=\"submit\">\n",
            "              Add to basket\n",
            "             </button>\n",
            "            </form>\n",
            "           </div>\n",
            "          </article>\n",
            "         </li>\n",
            "         <li class=\"col-xs-6 col-sm-4 col-md-3 col-lg-3\">\n",
            "          <article class=\"product_pod\">\n",
            "           <div class=\"image_container\">\n",
            "            <a href=\"catalogue/shakespeares-sonnets_989/index.html\">\n",
            "             <img alt=\"Shakespeare's Sonnets\" class=\"thumbnail\" src=\"media/cache/10/48/1048f63d3b5061cd2f424d20b3f9b666.jpg\"/>\n",
            "            </a>\n",
            "           </div>\n",
            "           <p class=\"star-rating Four\">\n",
            "            <i class=\"icon-star\">\n",
            "            </i>\n",
            "            <i class=\"icon-star\">\n",
            "            </i>\n",
            "            <i class=\"icon-star\">\n",
            "            </i>\n",
            "            <i class=\"icon-star\">\n",
            "            </i>\n",
            "            <i class=\"icon-star\">\n",
            "            </i>\n",
            "           </p>\n",
            "           <h3>\n",
            "            <a href=\"catalogue/shakespeares-sonnets_989/index.html\" title=\"Shakespeare's Sonnets\">\n",
            "             Shakespeare's Sonnets\n",
            "            </a>\n",
            "           </h3>\n",
            "           <div class=\"product_price\">\n",
            "            <p class=\"price_color\">\n",
            "             Â£20.66\n",
            "            </p>\n",
            "            <p class=\"instock availability\">\n",
            "             <i class=\"icon-ok\">\n",
            "             </i>\n",
            "             In stock\n",
            "            </p>\n",
            "            <form>\n",
            "             <button class=\"btn btn-primary btn-block\" data-loading-text=\"Adding...\" type=\"submit\">\n",
            "              Add to basket\n",
            "             </button>\n",
            "            </form>\n",
            "           </div>\n",
            "          </article>\n",
            "         </li>\n",
            "         <li class=\"col-xs-6 col-sm-4 col-md-3 col-lg-3\">\n",
            "          <article class=\"product_pod\">\n",
            "           <div class=\"image_container\">\n",
            "            <a href=\"catalogue/set-me-free_988/index.html\">\n",
            "             <img alt=\"Set Me Free\" class=\"thumbnail\" src=\"media/cache/5b/88/5b88c52633f53cacf162c15f4f823153.jpg\"/>\n",
            "            </a>\n",
            "           </div>\n",
            "           <p class=\"star-rating Five\">\n",
            "            <i class=\"icon-star\">\n",
            "            </i>\n",
            "            <i class=\"icon-star\">\n",
            "            </i>\n",
            "            <i class=\"icon-star\">\n",
            "            </i>\n",
            "            <i class=\"icon-star\">\n",
            "            </i>\n",
            "            <i class=\"icon-star\">\n",
            "            </i>\n",
            "           </p>\n",
            "           <h3>\n",
            "            <a href=\"catalogue/set-me-free_988/index.html\" title=\"Set Me Free\">\n",
            "             Set Me Free\n",
            "            </a>\n",
            "           </h3>\n",
            "           <div class=\"product_price\">\n",
            "            <p class=\"price_color\">\n",
            "             Â£17.46\n",
            "            </p>\n",
            "            <p class=\"instock availability\">\n",
            "             <i class=\"icon-ok\">\n",
            "             </i>\n",
            "             In stock\n",
            "            </p>\n",
            "            <form>\n",
            "             <button class=\"btn btn-primary btn-block\" data-loading-text=\"Adding...\" type=\"submit\">\n",
            "              Add to basket\n",
            "             </button>\n",
            "            </form>\n",
            "           </div>\n",
            "          </article>\n",
            "         </li>\n",
            "         <li class=\"col-xs-6 col-sm-4 col-md-3 col-lg-3\">\n",
            "          <article class=\"product_pod\">\n",
            "           <div class=\"image_container\">\n",
            "            <a href=\"catalogue/scott-pilgrims-precious-little-life-scott-pilgrim-1_987/index.html\">\n",
            "             <img alt=\"Scott Pilgrim's Precious Little Life (Scott Pilgrim #1)\" class=\"thumbnail\" src=\"media/cache/94/b1/94b1b8b244bce9677c2f29ccc890d4d2.jpg\"/>\n",
            "            </a>\n",
            "           </div>\n",
            "           <p class=\"star-rating Five\">\n",
            "            <i class=\"icon-star\">\n",
            "            </i>\n",
            "            <i class=\"icon-star\">\n",
            "            </i>\n",
            "            <i class=\"icon-star\">\n",
            "            </i>\n",
            "            <i class=\"icon-star\">\n",
            "            </i>\n",
            "            <i class=\"icon-star\">\n",
            "            </i>\n",
            "           </p>\n",
            "           <h3>\n",
            "            <a href=\"catalogue/scott-pilgrims-precious-little-life-scott-pilgrim-1_987/index.html\" title=\"Scott Pilgrim's Precious Little Life (Scott Pilgrim #1)\">\n",
            "             Scott Pilgrim's Precious Little ...\n",
            "            </a>\n",
            "           </h3>\n",
            "           <div class=\"product_price\">\n",
            "            <p class=\"price_color\">\n",
            "             Â£52.29\n",
            "            </p>\n",
            "            <p class=\"instock availability\">\n",
            "             <i class=\"icon-ok\">\n",
            "             </i>\n",
            "             In stock\n",
            "            </p>\n",
            "            <form>\n",
            "             <button class=\"btn btn-primary btn-block\" data-loading-text=\"Adding...\" type=\"submit\">\n",
            "              Add to basket\n",
            "             </button>\n",
            "            </form>\n",
            "           </div>\n",
            "          </article>\n",
            "         </li>\n",
            "         <li class=\"col-xs-6 col-sm-4 col-md-3 col-lg-3\">\n",
            "          <article class=\"product_pod\">\n",
            "           <div class=\"image_container\">\n",
            "            <a href=\"catalogue/rip-it-up-and-start-again_986/index.html\">\n",
            "             <img alt=\"Rip it Up and Start Again\" class=\"thumbnail\" src=\"media/cache/81/c4/81c4a973364e17d01f217e1188253d5e.jpg\"/>\n",
            "            </a>\n",
            "           </div>\n",
            "           <p class=\"star-rating Five\">\n",
            "            <i class=\"icon-star\">\n",
            "            </i>\n",
            "            <i class=\"icon-star\">\n",
            "            </i>\n",
            "            <i class=\"icon-star\">\n",
            "            </i>\n",
            "            <i class=\"icon-star\">\n",
            "            </i>\n",
            "            <i class=\"icon-star\">\n",
            "            </i>\n",
            "           </p>\n",
            "           <h3>\n",
            "            <a href=\"catalogue/rip-it-up-and-start-again_986/index.html\" title=\"Rip it Up and Start Again\">\n",
            "             Rip it Up and ...\n",
            "            </a>\n",
            "           </h3>\n",
            "           <div class=\"product_price\">\n",
            "            <p class=\"price_color\">\n",
            "             Â£35.02\n",
            "            </p>\n",
            "            <p class=\"instock availability\">\n",
            "             <i class=\"icon-ok\">\n",
            "             </i>\n",
            "             In stock\n",
            "            </p>\n",
            "            <form>\n",
            "             <button class=\"btn btn-primary btn-block\" data-loading-text=\"Adding...\" type=\"submit\">\n",
            "              Add to basket\n",
            "             </button>\n",
            "            </form>\n",
            "           </div>\n",
            "          </article>\n",
            "         </li>\n",
            "         <li class=\"col-xs-6 col-sm-4 col-md-3 col-lg-3\">\n",
            "          <article class=\"product_pod\">\n",
            "           <div class=\"image_container\">\n",
            "            <a href=\"catalogue/our-band-could-be-your-life-scenes-from-the-american-indie-underground-1981-1991_985/index.html\">\n",
            "             <img alt=\"Our Band Could Be Your Life: Scenes from the American Indie Underground, 1981-1991\" class=\"thumbnail\" src=\"media/cache/54/60/54607fe8945897cdcced0044103b10b6.jpg\"/>\n",
            "            </a>\n",
            "           </div>\n",
            "           <p class=\"star-rating Three\">\n",
            "            <i class=\"icon-star\">\n",
            "            </i>\n",
            "            <i class=\"icon-star\">\n",
            "            </i>\n",
            "            <i class=\"icon-star\">\n",
            "            </i>\n",
            "            <i class=\"icon-star\">\n",
            "            </i>\n",
            "            <i class=\"icon-star\">\n",
            "            </i>\n",
            "           </p>\n",
            "           <h3>\n",
            "            <a href=\"catalogue/our-band-could-be-your-life-scenes-from-the-american-indie-underground-1981-1991_985/index.html\" title=\"Our Band Could Be Your Life: Scenes from the American Indie Underground, 1981-1991\">\n",
            "             Our Band Could Be ...\n",
            "            </a>\n",
            "           </h3>\n",
            "           <div class=\"product_price\">\n",
            "            <p class=\"price_color\">\n",
            "             Â£57.25\n",
            "            </p>\n",
            "            <p class=\"instock availability\">\n",
            "             <i class=\"icon-ok\">\n",
            "             </i>\n",
            "             In stock\n",
            "            </p>\n",
            "            <form>\n",
            "             <button class=\"btn btn-primary btn-block\" data-loading-text=\"Adding...\" type=\"submit\">\n",
            "              Add to basket\n",
            "             </button>\n",
            "            </form>\n",
            "           </div>\n",
            "          </article>\n",
            "         </li>\n",
            "         <li class=\"col-xs-6 col-sm-4 col-md-3 col-lg-3\">\n",
            "          <article class=\"product_pod\">\n",
            "           <div class=\"image_container\">\n",
            "            <a href=\"catalogue/olio_984/index.html\">\n",
            "             <img alt=\"Olio\" class=\"thumbnail\" src=\"media/cache/55/33/553310a7162dfbc2c6d19a84da0df9e1.jpg\"/>\n",
            "            </a>\n",
            "           </div>\n",
            "           <p class=\"star-rating One\">\n",
            "            <i class=\"icon-star\">\n",
            "            </i>\n",
            "            <i class=\"icon-star\">\n",
            "            </i>\n",
            "            <i class=\"icon-star\">\n",
            "            </i>\n",
            "            <i class=\"icon-star\">\n",
            "            </i>\n",
            "            <i class=\"icon-star\">\n",
            "            </i>\n",
            "           </p>\n",
            "           <h3>\n",
            "            <a href=\"catalogue/olio_984/index.html\" title=\"Olio\">\n",
            "             Olio\n",
            "            </a>\n",
            "           </h3>\n",
            "           <div class=\"product_price\">\n",
            "            <p class=\"price_color\">\n",
            "             Â£23.88\n",
            "            </p>\n",
            "            <p class=\"instock availability\">\n",
            "             <i class=\"icon-ok\">\n",
            "             </i>\n",
            "             In stock\n",
            "            </p>\n",
            "            <form>\n",
            "             <button class=\"btn btn-primary btn-block\" data-loading-text=\"Adding...\" type=\"submit\">\n",
            "              Add to basket\n",
            "             </button>\n",
            "            </form>\n",
            "           </div>\n",
            "          </article>\n",
            "         </li>\n",
            "         <li class=\"col-xs-6 col-sm-4 col-md-3 col-lg-3\">\n",
            "          <article class=\"product_pod\">\n",
            "           <div class=\"image_container\">\n",
            "            <a href=\"catalogue/mesaerion-the-best-science-fiction-stories-1800-1849_983/index.html\">\n",
            "             <img alt=\"Mesaerion: The Best Science Fiction Stories 1800-1849\" class=\"thumbnail\" src=\"media/cache/09/a3/09a3aef48557576e1a85ba7efea8ecb7.jpg\"/>\n",
            "            </a>\n",
            "           </div>\n",
            "           <p class=\"star-rating One\">\n",
            "            <i class=\"icon-star\">\n",
            "            </i>\n",
            "            <i class=\"icon-star\">\n",
            "            </i>\n",
            "            <i class=\"icon-star\">\n",
            "            </i>\n",
            "            <i class=\"icon-star\">\n",
            "            </i>\n",
            "            <i class=\"icon-star\">\n",
            "            </i>\n",
            "           </p>\n",
            "           <h3>\n",
            "            <a href=\"catalogue/mesaerion-the-best-science-fiction-stories-1800-1849_983/index.html\" title=\"Mesaerion: The Best Science Fiction Stories 1800-1849\">\n",
            "             Mesaerion: The Best Science ...\n",
            "            </a>\n",
            "           </h3>\n",
            "           <div class=\"product_price\">\n",
            "            <p class=\"price_color\">\n",
            "             Â£37.59\n",
            "            </p>\n",
            "            <p class=\"instock availability\">\n",
            "             <i class=\"icon-ok\">\n",
            "             </i>\n",
            "             In stock\n",
            "            </p>\n",
            "            <form>\n",
            "             <button class=\"btn btn-primary btn-block\" data-loading-text=\"Adding...\" type=\"submit\">\n",
            "              Add to basket\n",
            "             </button>\n",
            "            </form>\n",
            "           </div>\n",
            "          </article>\n",
            "         </li>\n",
            "         <li class=\"col-xs-6 col-sm-4 col-md-3 col-lg-3\">\n",
            "          <article class=\"product_pod\">\n",
            "           <div class=\"image_container\">\n",
            "            <a href=\"catalogue/libertarianism-for-beginners_982/index.html\">\n",
            "             <img alt=\"Libertarianism for Beginners\" class=\"thumbnail\" src=\"media/cache/0b/bc/0bbcd0a6f4bcd81ccb1049a52736406e.jpg\"/>\n",
            "            </a>\n",
            "           </div>\n",
            "           <p class=\"star-rating Two\">\n",
            "            <i class=\"icon-star\">\n",
            "            </i>\n",
            "            <i class=\"icon-star\">\n",
            "            </i>\n",
            "            <i class=\"icon-star\">\n",
            "            </i>\n",
            "            <i class=\"icon-star\">\n",
            "            </i>\n",
            "            <i class=\"icon-star\">\n",
            "            </i>\n",
            "           </p>\n",
            "           <h3>\n",
            "            <a href=\"catalogue/libertarianism-for-beginners_982/index.html\" title=\"Libertarianism for Beginners\">\n",
            "             Libertarianism for Beginners\n",
            "            </a>\n",
            "           </h3>\n",
            "           <div class=\"product_price\">\n",
            "            <p class=\"price_color\">\n",
            "             Â£51.33\n",
            "            </p>\n",
            "            <p class=\"instock availability\">\n",
            "             <i class=\"icon-ok\">\n",
            "             </i>\n",
            "             In stock\n",
            "            </p>\n",
            "            <form>\n",
            "             <button class=\"btn btn-primary btn-block\" data-loading-text=\"Adding...\" type=\"submit\">\n",
            "              Add to basket\n",
            "             </button>\n",
            "            </form>\n",
            "           </div>\n",
            "          </article>\n",
            "         </li>\n",
            "         <li class=\"col-xs-6 col-sm-4 col-md-3 col-lg-3\">\n",
            "          <article class=\"product_pod\">\n",
            "           <div class=\"image_container\">\n",
            "            <a href=\"catalogue/its-only-the-himalayas_981/index.html\">\n",
            "             <img alt=\"It's Only the Himalayas\" class=\"thumbnail\" src=\"media/cache/27/a5/27a53d0bb95bdd88288eaf66c9230d7e.jpg\"/>\n",
            "            </a>\n",
            "           </div>\n",
            "           <p class=\"star-rating Two\">\n",
            "            <i class=\"icon-star\">\n",
            "            </i>\n",
            "            <i class=\"icon-star\">\n",
            "            </i>\n",
            "            <i class=\"icon-star\">\n",
            "            </i>\n",
            "            <i class=\"icon-star\">\n",
            "            </i>\n",
            "            <i class=\"icon-star\">\n",
            "            </i>\n",
            "           </p>\n",
            "           <h3>\n",
            "            <a href=\"catalogue/its-only-the-himalayas_981/index.html\" title=\"It's Only the Himalayas\">\n",
            "             It's Only the Himalayas\n",
            "            </a>\n",
            "           </h3>\n",
            "           <div class=\"product_price\">\n",
            "            <p class=\"price_color\">\n",
            "             Â£45.17\n",
            "            </p>\n",
            "            <p class=\"instock availability\">\n",
            "             <i class=\"icon-ok\">\n",
            "             </i>\n",
            "             In stock\n",
            "            </p>\n",
            "            <form>\n",
            "             <button class=\"btn btn-primary btn-block\" data-loading-text=\"Adding...\" type=\"submit\">\n",
            "              Add to basket\n",
            "             </button>\n",
            "            </form>\n",
            "           </div>\n",
            "          </article>\n",
            "         </li>\n",
            "        </ol>\n",
            "        <div>\n",
            "         <ul class=\"pager\">\n",
            "          <li class=\"current\">\n",
            "           Page 1 of 50\n",
            "          </li>\n",
            "          <li class=\"next\">\n",
            "           <a href=\"catalogue/page-2.html\">\n",
            "            next\n",
            "           </a>\n",
            "          </li>\n",
            "         </ul>\n",
            "        </div>\n",
            "       </div>\n",
            "      </section>\n",
            "     </div>\n",
            "    </div>\n",
            "    <!-- /row -->\n",
            "   </div>\n",
            "   <!-- /page_inner -->\n",
            "  </div>\n",
            "  <!-- /container-fluid -->\n",
            "  <footer class=\"footer container-fluid\">\n",
            "  </footer>\n",
            "  <!-- jQuery -->\n",
            "  <script src=\"http://ajax.googleapis.com/ajax/libs/jquery/1.9.1/jquery.min.js\">\n",
            "  </script>\n",
            "  <script>\n",
            "   window.jQuery || document.write('<script src=\"static/oscar/js/jquery/jquery-1.9.1.min.js\"><\\/script>')\n",
            "  </script>\n",
            "  <!-- Twitter Bootstrap -->\n",
            "  <script src=\"static/oscar/js/bootstrap3/bootstrap.min.js\" type=\"text/javascript\">\n",
            "  </script>\n",
            "  <!-- Oscar -->\n",
            "  <script charset=\"utf-8\" src=\"static/oscar/js/oscar/ui.js\" type=\"text/javascript\">\n",
            "  </script>\n",
            "  <script charset=\"utf-8\" src=\"static/oscar/js/bootstrap-datetimepicker/bootstrap-datetimepicker.js\" type=\"text/javascript\">\n",
            "  </script>\n",
            "  <script charset=\"utf-8\" src=\"static/oscar/js/bootstrap-datetimepicker/locales/bootstrap-datetimepicker.all.js\" type=\"text/javascript\">\n",
            "  </script>\n",
            "  <script type=\"text/javascript\">\n",
            "   $(function() {\n",
            "                \n",
            "    \n",
            "    \n",
            "    oscar.init();\n",
            "\n",
            "    oscar.search.init();\n",
            "\n",
            "            });\n",
            "  </script>\n",
            "  <!-- Version: N/A -->\n",
            " </body>\n",
            "</html>\n",
            "\n"
          ]
        }
      ],
      "source": [
        "print(soup.prettify()) # afficher le html"
      ]
    },
    {
      "cell_type": "code",
      "execution_count": 41,
      "metadata": {
        "id": "AY9_zfyGnjqA"
      },
      "outputs": [],
      "source": [
        "## recuperer des infos avec bs4"
      ]
    },
    {
      "cell_type": "code",
      "execution_count": 42,
      "metadata": {
        "id": "OBIay5vAnjsL"
      },
      "outputs": [],
      "source": [
        "first_p = soup.find(\"p\") # retourner le premier paragraph"
      ]
    },
    {
      "cell_type": "code",
      "execution_count": 43,
      "metadata": {
        "id": "NPrHUOzenjuv"
      },
      "outputs": [
        {
          "name": "stdout",
          "output_type": "stream",
          "text": [
            "[<p class=\"star-rating Three\">\n",
            "<i class=\"icon-star\"></i>\n",
            "<i class=\"icon-star\"></i>\n",
            "<i class=\"icon-star\"></i>\n",
            "<i class=\"icon-star\"></i>\n",
            "<i class=\"icon-star\"></i>\n",
            "</p>,\n",
            " <p class=\"price_color\">Â£51.77</p>,\n",
            " <p class=\"instock availability\">\n",
            "<i class=\"icon-ok\"></i>\n",
            "    \n",
            "        In stock\n",
            "    \n",
            "</p>,\n",
            " <p class=\"star-rating One\">\n",
            "<i class=\"icon-star\"></i>\n",
            "<i class=\"icon-star\"></i>\n",
            "<i class=\"icon-star\"></i>\n",
            "<i class=\"icon-star\"></i>\n",
            "<i class=\"icon-star\"></i>\n",
            "</p>,\n",
            " <p class=\"price_color\">Â£53.74</p>,\n",
            " <p class=\"instock availability\">\n",
            "<i class=\"icon-ok\"></i>\n",
            "    \n",
            "        In stock\n",
            "    \n",
            "</p>,\n",
            " <p class=\"star-rating One\">\n",
            "<i class=\"icon-star\"></i>\n",
            "<i class=\"icon-star\"></i>\n",
            "<i class=\"icon-star\"></i>\n",
            "<i class=\"icon-star\"></i>\n",
            "<i class=\"icon-star\"></i>\n",
            "</p>,\n",
            " <p class=\"price_color\">Â£50.10</p>,\n",
            " <p class=\"instock availability\">\n",
            "<i class=\"icon-ok\"></i>\n",
            "    \n",
            "        In stock\n",
            "    \n",
            "</p>,\n",
            " <p class=\"star-rating Four\">\n",
            "<i class=\"icon-star\"></i>\n",
            "<i class=\"icon-star\"></i>\n",
            "<i class=\"icon-star\"></i>\n",
            "<i class=\"icon-star\"></i>\n",
            "<i class=\"icon-star\"></i>\n",
            "</p>,\n",
            " <p class=\"price_color\">Â£47.82</p>,\n",
            " <p class=\"instock availability\">\n",
            "<i class=\"icon-ok\"></i>\n",
            "    \n",
            "        In stock\n",
            "    \n",
            "</p>,\n",
            " <p class=\"star-rating Five\">\n",
            "<i class=\"icon-star\"></i>\n",
            "<i class=\"icon-star\"></i>\n",
            "<i class=\"icon-star\"></i>\n",
            "<i class=\"icon-star\"></i>\n",
            "<i class=\"icon-star\"></i>\n",
            "</p>,\n",
            " <p class=\"price_color\">Â£54.23</p>,\n",
            " <p class=\"instock availability\">\n",
            "<i class=\"icon-ok\"></i>\n",
            "    \n",
            "        In stock\n",
            "    \n",
            "</p>,\n",
            " <p class=\"star-rating One\">\n",
            "<i class=\"icon-star\"></i>\n",
            "<i class=\"icon-star\"></i>\n",
            "<i class=\"icon-star\"></i>\n",
            "<i class=\"icon-star\"></i>\n",
            "<i class=\"icon-star\"></i>\n",
            "</p>,\n",
            " <p class=\"price_color\">Â£22.65</p>,\n",
            " <p class=\"instock availability\">\n",
            "<i class=\"icon-ok\"></i>\n",
            "    \n",
            "        In stock\n",
            "    \n",
            "</p>,\n",
            " <p class=\"star-rating Four\">\n",
            "<i class=\"icon-star\"></i>\n",
            "<i class=\"icon-star\"></i>\n",
            "<i class=\"icon-star\"></i>\n",
            "<i class=\"icon-star\"></i>\n",
            "<i class=\"icon-star\"></i>\n",
            "</p>,\n",
            " <p class=\"price_color\">Â£33.34</p>,\n",
            " <p class=\"instock availability\">\n",
            "<i class=\"icon-ok\"></i>\n",
            "    \n",
            "        In stock\n",
            "    \n",
            "</p>,\n",
            " <p class=\"star-rating Three\">\n",
            "<i class=\"icon-star\"></i>\n",
            "<i class=\"icon-star\"></i>\n",
            "<i class=\"icon-star\"></i>\n",
            "<i class=\"icon-star\"></i>\n",
            "<i class=\"icon-star\"></i>\n",
            "</p>,\n",
            " <p class=\"price_color\">Â£17.93</p>,\n",
            " <p class=\"instock availability\">\n",
            "<i class=\"icon-ok\"></i>\n",
            "    \n",
            "        In stock\n",
            "    \n",
            "</p>,\n",
            " <p class=\"star-rating Four\">\n",
            "<i class=\"icon-star\"></i>\n",
            "<i class=\"icon-star\"></i>\n",
            "<i class=\"icon-star\"></i>\n",
            "<i class=\"icon-star\"></i>\n",
            "<i class=\"icon-star\"></i>\n",
            "</p>,\n",
            " <p class=\"price_color\">Â£22.60</p>,\n",
            " <p class=\"instock availability\">\n",
            "<i class=\"icon-ok\"></i>\n",
            "    \n",
            "        In stock\n",
            "    \n",
            "</p>,\n",
            " <p class=\"star-rating One\">\n",
            "<i class=\"icon-star\"></i>\n",
            "<i class=\"icon-star\"></i>\n",
            "<i class=\"icon-star\"></i>\n",
            "<i class=\"icon-star\"></i>\n",
            "<i class=\"icon-star\"></i>\n",
            "</p>,\n",
            " <p class=\"price_color\">Â£52.15</p>,\n",
            " <p class=\"instock availability\">\n",
            "<i class=\"icon-ok\"></i>\n",
            "    \n",
            "        In stock\n",
            "    \n",
            "</p>,\n",
            " <p class=\"star-rating Two\">\n",
            "<i class=\"icon-star\"></i>\n",
            "<i class=\"icon-star\"></i>\n",
            "<i class=\"icon-star\"></i>\n",
            "<i class=\"icon-star\"></i>\n",
            "<i class=\"icon-star\"></i>\n",
            "</p>,\n",
            " <p class=\"price_color\">Â£13.99</p>,\n",
            " <p class=\"instock availability\">\n",
            "<i class=\"icon-ok\"></i>\n",
            "    \n",
            "        In stock\n",
            "    \n",
            "</p>,\n",
            " <p class=\"star-rating Four\">\n",
            "<i class=\"icon-star\"></i>\n",
            "<i class=\"icon-star\"></i>\n",
            "<i class=\"icon-star\"></i>\n",
            "<i class=\"icon-star\"></i>\n",
            "<i class=\"icon-star\"></i>\n",
            "</p>,\n",
            " <p class=\"price_color\">Â£20.66</p>,\n",
            " <p class=\"instock availability\">\n",
            "<i class=\"icon-ok\"></i>\n",
            "    \n",
            "        In stock\n",
            "    \n",
            "</p>,\n",
            " <p class=\"star-rating Five\">\n",
            "<i class=\"icon-star\"></i>\n",
            "<i class=\"icon-star\"></i>\n",
            "<i class=\"icon-star\"></i>\n",
            "<i class=\"icon-star\"></i>\n",
            "<i class=\"icon-star\"></i>\n",
            "</p>,\n",
            " <p class=\"price_color\">Â£17.46</p>,\n",
            " <p class=\"instock availability\">\n",
            "<i class=\"icon-ok\"></i>\n",
            "    \n",
            "        In stock\n",
            "    \n",
            "</p>,\n",
            " <p class=\"star-rating Five\">\n",
            "<i class=\"icon-star\"></i>\n",
            "<i class=\"icon-star\"></i>\n",
            "<i class=\"icon-star\"></i>\n",
            "<i class=\"icon-star\"></i>\n",
            "<i class=\"icon-star\"></i>\n",
            "</p>,\n",
            " <p class=\"price_color\">Â£52.29</p>,\n",
            " <p class=\"instock availability\">\n",
            "<i class=\"icon-ok\"></i>\n",
            "    \n",
            "        In stock\n",
            "    \n",
            "</p>,\n",
            " <p class=\"star-rating Five\">\n",
            "<i class=\"icon-star\"></i>\n",
            "<i class=\"icon-star\"></i>\n",
            "<i class=\"icon-star\"></i>\n",
            "<i class=\"icon-star\"></i>\n",
            "<i class=\"icon-star\"></i>\n",
            "</p>,\n",
            " <p class=\"price_color\">Â£35.02</p>,\n",
            " <p class=\"instock availability\">\n",
            "<i class=\"icon-ok\"></i>\n",
            "    \n",
            "        In stock\n",
            "    \n",
            "</p>,\n",
            " <p class=\"star-rating Three\">\n",
            "<i class=\"icon-star\"></i>\n",
            "<i class=\"icon-star\"></i>\n",
            "<i class=\"icon-star\"></i>\n",
            "<i class=\"icon-star\"></i>\n",
            "<i class=\"icon-star\"></i>\n",
            "</p>,\n",
            " <p class=\"price_color\">Â£57.25</p>,\n",
            " <p class=\"instock availability\">\n",
            "<i class=\"icon-ok\"></i>\n",
            "    \n",
            "        In stock\n",
            "    \n",
            "</p>,\n",
            " <p class=\"star-rating One\">\n",
            "<i class=\"icon-star\"></i>\n",
            "<i class=\"icon-star\"></i>\n",
            "<i class=\"icon-star\"></i>\n",
            "<i class=\"icon-star\"></i>\n",
            "<i class=\"icon-star\"></i>\n",
            "</p>,\n",
            " <p class=\"price_color\">Â£23.88</p>,\n",
            " <p class=\"instock availability\">\n",
            "<i class=\"icon-ok\"></i>\n",
            "    \n",
            "        In stock\n",
            "    \n",
            "</p>,\n",
            " <p class=\"star-rating One\">\n",
            "<i class=\"icon-star\"></i>\n",
            "<i class=\"icon-star\"></i>\n",
            "<i class=\"icon-star\"></i>\n",
            "<i class=\"icon-star\"></i>\n",
            "<i class=\"icon-star\"></i>\n",
            "</p>,\n",
            " <p class=\"price_color\">Â£37.59</p>,\n",
            " <p class=\"instock availability\">\n",
            "<i class=\"icon-ok\"></i>\n",
            "    \n",
            "        In stock\n",
            "    \n",
            "</p>,\n",
            " <p class=\"star-rating Two\">\n",
            "<i class=\"icon-star\"></i>\n",
            "<i class=\"icon-star\"></i>\n",
            "<i class=\"icon-star\"></i>\n",
            "<i class=\"icon-star\"></i>\n",
            "<i class=\"icon-star\"></i>\n",
            "</p>,\n",
            " <p class=\"price_color\">Â£51.33</p>,\n",
            " <p class=\"instock availability\">\n",
            "<i class=\"icon-ok\"></i>\n",
            "    \n",
            "        In stock\n",
            "    \n",
            "</p>,\n",
            " <p class=\"star-rating Two\">\n",
            "<i class=\"icon-star\"></i>\n",
            "<i class=\"icon-star\"></i>\n",
            "<i class=\"icon-star\"></i>\n",
            "<i class=\"icon-star\"></i>\n",
            "<i class=\"icon-star\"></i>\n",
            "</p>,\n",
            " <p class=\"price_color\">Â£45.17</p>,\n",
            " <p class=\"instock availability\">\n",
            "<i class=\"icon-ok\"></i>\n",
            "    \n",
            "        In stock\n",
            "    \n",
            "</p>]\n"
          ]
        }
      ],
      "source": [
        "all_p = soup.find_all(\"p\") # retourner tous les paragraphs - (list)\n",
        "pprint(all_p)"
      ]
    },
    {
      "cell_type": "code",
      "execution_count": 44,
      "metadata": {
        "id": "8dfFsp86nj1k"
      },
      "outputs": [],
      "source": [
        "## on veut recuperer all books\n",
        "## analyser le contenu avec inspecter l'element\n",
        "## chaque book se trouve dans une balise article et de classe class=\"product_pod\""
      ]
    },
    {
      "cell_type": "code",
      "execution_count": 45,
      "metadata": {
        "id": "rH5nDx0onj4I"
      },
      "outputs": [],
      "source": [
        "all_books = soup.find_all(\"article\", class_=\"product_pod\")"
      ]
    },
    {
      "cell_type": "code",
      "execution_count": 46,
      "metadata": {
        "colab": {
          "base_uri": "https://localhost:8080/"
        },
        "id": "zLBFB6dCnj8k",
        "outputId": "df6a323d-77a2-4d89-c8f1-789b756c9a59"
      },
      "outputs": [
        {
          "name": "stdout",
          "output_type": "stream",
          "text": [
            "div\n",
            "div\n"
          ]
        }
      ],
      "source": [
        "# recuperer le aside du page\n",
        "aside = soup.find(\"aside\")\n",
        "# je veux afficher les children (les balises sous le aside)\n",
        "\n",
        "for child in aside.children:\n",
        "  #print(child.name) # nom du balise ( les None sont des retour a la ligne par exemple ( pas de balise))\n",
        "  if child.name:\n",
        "    print(child.name)"
      ]
    },
    {
      "cell_type": "code",
      "execution_count": 47,
      "metadata": {
        "id": "6cRTodj_nj-o"
      },
      "outputs": [],
      "source": [
        "## on suppose on veut recuperer les sous categories dans le aside\n",
        "side_categos = aside.find(\"div\", class_=\"side_categories\")"
      ]
    },
    {
      "cell_type": "code",
      "execution_count": 48,
      "metadata": {
        "id": "YKTAvzEKnkA6"
      },
      "outputs": [],
      "source": [
        "## extract links\n",
        "links = side_categos.find_all(\"a\")"
      ]
    },
    {
      "cell_type": "code",
      "execution_count": 49,
      "metadata": {
        "id": "cCUt9oI3zEXo"
      },
      "outputs": [],
      "source": [
        "## let's start scraping our website:\n",
        "##1. on veut recupérer les noms des categories des books ( à gauche du page)\n",
        "##2. recuperer les images qui sont sur cette page d'accueil\n"
      ]
    },
    {
      "cell_type": "code",
      "execution_count": 50,
      "metadata": {
        "id": "7wKfssoB6tNz"
      },
      "outputs": [],
      "source": [
        "# recuperer le contenu du site\n",
        "url = \"https://books.toscrape.com/\"\n",
        "response = requests.get(url)\n",
        "\n",
        "# creer une variable soup pour analyse le contenu html\n",
        "soup = BeautifulSoup(response.text, \"html.parser\")"
      ]
    },
    {
      "cell_type": "code",
      "execution_count": 51,
      "metadata": {
        "id": "gWGbajQU6tQf"
      },
      "outputs": [],
      "source": [
        "## 1. les noms des categories\n",
        "# recuperer le aside\n",
        "aside = soup.find(\"div\", class_=\"side_categories\")\n",
        "\n",
        "# recuperer la liste\n",
        "categos_div = aside.find(\"ul\").find(\"li\").find(\"ul\")\n",
        "\n",
        "# extraire les noms\n",
        "categories = [child.text.strip() for child in categos_div.children if child.name]\n"
      ]
    },
    {
      "cell_type": "code",
      "execution_count": 52,
      "metadata": {
        "id": "5Vv-UE_o6tU-"
      },
      "outputs": [],
      "source": [
        "## 2. les images\n",
        "images = soup.find(\"section\").find_all(\"img\")\n",
        "# recuperer le src de l'image , si n'existe pas , retourne Nan\n",
        "urls = [img.get(\"src\") for img in images]\n",
        "\n",
        "# par exemple si on veut telecharger la premiere image\n",
        "full_url_img = url + urls[0] ## website url + image url concatenation\n",
        "r = requests.get(full_url_img, stream=True)  # la réponse n'est pas téléchargée immédiatement.\n",
        "\n",
        "if r.status_code == 200:\n",
        "   with open(\"images/book1.jpg\", 'wb') as f:\n",
        "      r.raw.decode_content = True\n",
        "      shutil.copyfileobj(r.raw, f)"
      ]
    },
    {
      "cell_type": "markdown",
      "metadata": {
        "id": "msuO1e-lOhNV"
      },
      "source": [
        "### Exercice\n",
        "\n",
        "À vous de jouer\n",
        "\n",
        "* Exercice 1:\n",
        "\n",
        "  - recuperer les titres des books\n",
        "  - les prix des books\n",
        "  - la disponibilité\n",
        "  - les ratings ( on veut avoir la note : 1, 2, 3, 4, 5)\n",
        "  - exporter la data en csv\n",
        "\n",
        "\n",
        "* Exercice 2:\n",
        "\n",
        "  - Realisez la meme tache sur les differentes pages\n",
        "\n",
        "\n",
        "* Exercice 3:\n",
        "\n",
        "  - listez (afficher un message) les categories qui ont un nombre de livres inferieur à un threshold choisi par l'utilisateur\n",
        "\n",
        "* Exercice 4:\n",
        "\n",
        "  - Calculez le prix total de la valeur de notre biblio. Autrement dit, vous devez multiplier le prix de chaque livre * la quantité en stock et faire la somme. ```( Pour trouvez la quantité de chaque livre , vous devez cliquer sur le nom du livre et vous allez trouver une fiche qui contient toutes les informations)```\n",
        "\n",
        "\n",
        "`Il est préférable d'implémenter notre code dans un fichier Python`"
      ]
    },
    {
      "cell_type": "markdown",
      "metadata": {
        "id": "7gX7wmKMP3Ko"
      },
      "source": [
        "#### Correction: Exercice 1"
      ]
    },
    {
      "cell_type": "code",
      "execution_count": 53,
      "metadata": {
        "id": "6zNW1v7jMdYJ"
      },
      "outputs": [],
      "source": [
        "rating_map = {\n",
        "        'One': 1,\n",
        "        'Two': 2,\n",
        "        'Three': 3,\n",
        "        'Four': 4,\n",
        "        'Five': 5\n",
        "}"
      ]
    },
    {
      "cell_type": "code",
      "execution_count": 54,
      "metadata": {
        "id": "bRG-jX636tgL"
      },
      "outputs": [],
      "source": [
        "def main(\n",
        "    soup, # le soup de la page\n",
        "    exporter_csv: bool = True, # si on veut exporter notre data en csv\n",
        ")-> pd.DataFrame:\n",
        "  \"scrapper le site web des books en naviguant la premiere page\"\n",
        "\n",
        "\n",
        "  # recuperer les books\n",
        "  articles = soup.find_all(\"article\", class_=\"product_pod\")\n",
        "\n",
        "  # init data\n",
        "  data = []\n",
        "\n",
        "  # boucler les artices\n",
        "  for article in articles:\n",
        "    ## les titres\n",
        "    links = article.find_all(\"a\")\n",
        "    link = links[1] if len(links) > 1 else links[0]\n",
        "    title = link.get(\"title\")\n",
        "\n",
        "    ## les prix\n",
        "    prix_div = article.find(\"div\", class_=\"product_price\")\n",
        "    prix = prix_div.find(\"p\", class_=\"price_color\").text.replace(\"Â\",\"\")\n",
        "\n",
        "    ## disponib\n",
        "    dispo = prix_div.find(\"p\", class_=\"instock availability\").text.strip()\n",
        "\n",
        "    ## ratings\n",
        "    ratings_section = article.find('p', class_='star-rating')\n",
        "    rating = ratings_section.get(\"class\")[1] # the second class is the rating\n",
        "\n",
        "    # map rating class à un nombre\n",
        "    rating_value = rating_map.get(rating, 0)\n",
        "\n",
        "    # add to data list\n",
        "    data.append(\n",
        "          {\n",
        "              'Title': title,\n",
        "              'Price': prix,\n",
        "              'Availability': dispo,\n",
        "              'Rating': rating_value\n",
        "          }\n",
        "      )\n",
        "\n",
        "  # convertir la list en pandas DataFrame\n",
        "  df = pd.DataFrame(data)\n",
        "\n",
        "  # exporter df en csv\n",
        "  if exporter_csv:\n",
        "    df.to_csv('articles.csv', index=False)\n",
        "\n",
        "  return df"
      ]
    },
    {
      "cell_type": "code",
      "execution_count": 55,
      "metadata": {
        "id": "YEXMPL8wZ808"
      },
      "outputs": [],
      "source": [
        "books_page_1 = main(soup, True)"
      ]
    },
    {
      "cell_type": "code",
      "execution_count": 56,
      "metadata": {},
      "outputs": [
        {
          "data": {
            "text/html": [
              "<div>\n",
              "<style scoped>\n",
              "    .dataframe tbody tr th:only-of-type {\n",
              "        vertical-align: middle;\n",
              "    }\n",
              "\n",
              "    .dataframe tbody tr th {\n",
              "        vertical-align: top;\n",
              "    }\n",
              "\n",
              "    .dataframe thead th {\n",
              "        text-align: right;\n",
              "    }\n",
              "</style>\n",
              "<table border=\"1\" class=\"dataframe\">\n",
              "  <thead>\n",
              "    <tr style=\"text-align: right;\">\n",
              "      <th></th>\n",
              "      <th>Title</th>\n",
              "      <th>Price</th>\n",
              "      <th>Availability</th>\n",
              "      <th>Rating</th>\n",
              "    </tr>\n",
              "  </thead>\n",
              "  <tbody>\n",
              "    <tr>\n",
              "      <th>0</th>\n",
              "      <td>A Light in the Attic</td>\n",
              "      <td>£51.77</td>\n",
              "      <td>In stock</td>\n",
              "      <td>3</td>\n",
              "    </tr>\n",
              "    <tr>\n",
              "      <th>1</th>\n",
              "      <td>Tipping the Velvet</td>\n",
              "      <td>£53.74</td>\n",
              "      <td>In stock</td>\n",
              "      <td>1</td>\n",
              "    </tr>\n",
              "    <tr>\n",
              "      <th>2</th>\n",
              "      <td>Soumission</td>\n",
              "      <td>£50.10</td>\n",
              "      <td>In stock</td>\n",
              "      <td>1</td>\n",
              "    </tr>\n",
              "    <tr>\n",
              "      <th>3</th>\n",
              "      <td>Sharp Objects</td>\n",
              "      <td>£47.82</td>\n",
              "      <td>In stock</td>\n",
              "      <td>4</td>\n",
              "    </tr>\n",
              "    <tr>\n",
              "      <th>4</th>\n",
              "      <td>Sapiens: A Brief History of Humankind</td>\n",
              "      <td>£54.23</td>\n",
              "      <td>In stock</td>\n",
              "      <td>5</td>\n",
              "    </tr>\n",
              "    <tr>\n",
              "      <th>5</th>\n",
              "      <td>The Requiem Red</td>\n",
              "      <td>£22.65</td>\n",
              "      <td>In stock</td>\n",
              "      <td>1</td>\n",
              "    </tr>\n",
              "    <tr>\n",
              "      <th>6</th>\n",
              "      <td>The Dirty Little Secrets of Getting Your Dream...</td>\n",
              "      <td>£33.34</td>\n",
              "      <td>In stock</td>\n",
              "      <td>4</td>\n",
              "    </tr>\n",
              "    <tr>\n",
              "      <th>7</th>\n",
              "      <td>The Coming Woman: A Novel Based on the Life of...</td>\n",
              "      <td>£17.93</td>\n",
              "      <td>In stock</td>\n",
              "      <td>3</td>\n",
              "    </tr>\n",
              "    <tr>\n",
              "      <th>8</th>\n",
              "      <td>The Boys in the Boat: Nine Americans and Their...</td>\n",
              "      <td>£22.60</td>\n",
              "      <td>In stock</td>\n",
              "      <td>4</td>\n",
              "    </tr>\n",
              "    <tr>\n",
              "      <th>9</th>\n",
              "      <td>The Black Maria</td>\n",
              "      <td>£52.15</td>\n",
              "      <td>In stock</td>\n",
              "      <td>1</td>\n",
              "    </tr>\n",
              "    <tr>\n",
              "      <th>10</th>\n",
              "      <td>Starving Hearts (Triangular Trade Trilogy, #1)</td>\n",
              "      <td>£13.99</td>\n",
              "      <td>In stock</td>\n",
              "      <td>2</td>\n",
              "    </tr>\n",
              "    <tr>\n",
              "      <th>11</th>\n",
              "      <td>Shakespeare's Sonnets</td>\n",
              "      <td>£20.66</td>\n",
              "      <td>In stock</td>\n",
              "      <td>4</td>\n",
              "    </tr>\n",
              "    <tr>\n",
              "      <th>12</th>\n",
              "      <td>Set Me Free</td>\n",
              "      <td>£17.46</td>\n",
              "      <td>In stock</td>\n",
              "      <td>5</td>\n",
              "    </tr>\n",
              "    <tr>\n",
              "      <th>13</th>\n",
              "      <td>Scott Pilgrim's Precious Little Life (Scott Pi...</td>\n",
              "      <td>£52.29</td>\n",
              "      <td>In stock</td>\n",
              "      <td>5</td>\n",
              "    </tr>\n",
              "    <tr>\n",
              "      <th>14</th>\n",
              "      <td>Rip it Up and Start Again</td>\n",
              "      <td>£35.02</td>\n",
              "      <td>In stock</td>\n",
              "      <td>5</td>\n",
              "    </tr>\n",
              "    <tr>\n",
              "      <th>15</th>\n",
              "      <td>Our Band Could Be Your Life: Scenes from the A...</td>\n",
              "      <td>£57.25</td>\n",
              "      <td>In stock</td>\n",
              "      <td>3</td>\n",
              "    </tr>\n",
              "    <tr>\n",
              "      <th>16</th>\n",
              "      <td>Olio</td>\n",
              "      <td>£23.88</td>\n",
              "      <td>In stock</td>\n",
              "      <td>1</td>\n",
              "    </tr>\n",
              "    <tr>\n",
              "      <th>17</th>\n",
              "      <td>Mesaerion: The Best Science Fiction Stories 18...</td>\n",
              "      <td>£37.59</td>\n",
              "      <td>In stock</td>\n",
              "      <td>1</td>\n",
              "    </tr>\n",
              "    <tr>\n",
              "      <th>18</th>\n",
              "      <td>Libertarianism for Beginners</td>\n",
              "      <td>£51.33</td>\n",
              "      <td>In stock</td>\n",
              "      <td>2</td>\n",
              "    </tr>\n",
              "    <tr>\n",
              "      <th>19</th>\n",
              "      <td>It's Only the Himalayas</td>\n",
              "      <td>£45.17</td>\n",
              "      <td>In stock</td>\n",
              "      <td>2</td>\n",
              "    </tr>\n",
              "  </tbody>\n",
              "</table>\n",
              "</div>"
            ],
            "text/plain": [
              "                                                Title   Price Availability  \\\n",
              "0                                A Light in the Attic  £51.77     In stock   \n",
              "1                                  Tipping the Velvet  £53.74     In stock   \n",
              "2                                          Soumission  £50.10     In stock   \n",
              "3                                       Sharp Objects  £47.82     In stock   \n",
              "4               Sapiens: A Brief History of Humankind  £54.23     In stock   \n",
              "5                                     The Requiem Red  £22.65     In stock   \n",
              "6   The Dirty Little Secrets of Getting Your Dream...  £33.34     In stock   \n",
              "7   The Coming Woman: A Novel Based on the Life of...  £17.93     In stock   \n",
              "8   The Boys in the Boat: Nine Americans and Their...  £22.60     In stock   \n",
              "9                                     The Black Maria  £52.15     In stock   \n",
              "10     Starving Hearts (Triangular Trade Trilogy, #1)  £13.99     In stock   \n",
              "11                              Shakespeare's Sonnets  £20.66     In stock   \n",
              "12                                        Set Me Free  £17.46     In stock   \n",
              "13  Scott Pilgrim's Precious Little Life (Scott Pi...  £52.29     In stock   \n",
              "14                          Rip it Up and Start Again  £35.02     In stock   \n",
              "15  Our Band Could Be Your Life: Scenes from the A...  £57.25     In stock   \n",
              "16                                               Olio  £23.88     In stock   \n",
              "17  Mesaerion: The Best Science Fiction Stories 18...  £37.59     In stock   \n",
              "18                       Libertarianism for Beginners  £51.33     In stock   \n",
              "19                            It's Only the Himalayas  £45.17     In stock   \n",
              "\n",
              "    Rating  \n",
              "0        3  \n",
              "1        1  \n",
              "2        1  \n",
              "3        4  \n",
              "4        5  \n",
              "5        1  \n",
              "6        4  \n",
              "7        3  \n",
              "8        4  \n",
              "9        1  \n",
              "10       2  \n",
              "11       4  \n",
              "12       5  \n",
              "13       5  \n",
              "14       5  \n",
              "15       3  \n",
              "16       1  \n",
              "17       1  \n",
              "18       2  \n",
              "19       2  "
            ]
          },
          "execution_count": 56,
          "metadata": {},
          "output_type": "execute_result"
        }
      ],
      "source": [
        "books_page_1"
      ]
    },
    {
      "cell_type": "markdown",
      "metadata": {
        "id": "vC2GHw7UQBHY"
      },
      "source": [
        "#### Correction: Exercice 2"
      ]
    },
    {
      "cell_type": "code",
      "execution_count": 57,
      "metadata": {
        "id": "apAvNgQeRfmw"
      },
      "outputs": [],
      "source": [
        "def main_2(\n",
        "    exporter_csv: bool = True, # si on veut exporter notre data en csv\n",
        ")-> pd.DataFrame:\n",
        "  \"scrapper le site web des books en naviguant toutes les pages\"\n",
        "  # init num page\n",
        "  page_num = 1\n",
        "\n",
        "  # init data\n",
        "  data = []\n",
        "\n",
        "  while True:\n",
        "\n",
        "    # changer l'url de la page à chaque iteration\n",
        "    url = f\"https://books.toscrape.com/catalogue/page-{page_num}.html\"\n",
        "\n",
        "    with requests.Session() as session:\n",
        "      # envoyer un GET request\n",
        "      response = requests.get(url)\n",
        "\n",
        "      # si la page n'existe pas (404 status), break le loop\n",
        "      if response.status_code == 404:\n",
        "        print(f\"la page {page_num} n'existe pas. Arrêt du Scraper...\")\n",
        "        break\n",
        "\n",
        "      # parser le contenu html avec BeautifulSoup\n",
        "      soup = BeautifulSoup(response.content, \"html.parser\")\n",
        "\n",
        "      # recuperer les books\n",
        "      articles = soup.find_all(\"article\", class_=\"product_pod\")\n",
        "      # si les articles n'existent pas, arreter le script\n",
        "      if not articles:\n",
        "        print(f\"Aucun autre livre trouvé sur la page {page_num}. Arrêt du Scraper...\")\n",
        "        break\n",
        "\n",
        "      # boucler les artices\n",
        "      for article in articles:\n",
        "        ## les titres\n",
        "        links = article.find_all(\"a\")\n",
        "        link = links[1] if len(links) > 1 else links[0]\n",
        "        title = link.get(\"title\")\n",
        "\n",
        "        ## les prix\n",
        "        prix_div = article.find(\"div\", class_=\"product_price\")\n",
        "        prix = prix_div.find(\"p\", class_=\"price_color\").text.replace(\"Â\",\"\")\n",
        "\n",
        "        ## disponib\n",
        "        dispo = prix_div.find(\"p\", class_=\"instock availability\").text.strip()\n",
        "\n",
        "        ## ratings\n",
        "        ratings_section = article.find('p', class_='star-rating')\n",
        "        rating = ratings_section.get(\"class\")[1] # the second class is the rating\n",
        "\n",
        "        # map rating class à un nombre\n",
        "        rating_value = rating_map.get(rating, 0)\n",
        "\n",
        "        # add to data list\n",
        "        data.append(\n",
        "            {\n",
        "                'Title': title,\n",
        "                'Price': prix,\n",
        "                'Availability': dispo,\n",
        "                'Rating': rating_value,\n",
        "                'Page': page_num\n",
        "            }\n",
        "          )\n",
        "\n",
        "      # incrementer page_num\n",
        "      print(f\"Page {page_num} récupérée avec succès ...\")\n",
        "      page_num +=1\n",
        "\n",
        "\n",
        "  # convertir la list en pandas DataFrame\n",
        "  df = pd.DataFrame(data)\n",
        "\n",
        "  # exporter df en csv\n",
        "  if exporter_csv:\n",
        "    df.to_csv('articles.csv', index=False)\n",
        "\n",
        "  return df"
      ]
    },
    {
      "cell_type": "code",
      "execution_count": 58,
      "metadata": {
        "id": "aaeN5NoeYosY"
      },
      "outputs": [
        {
          "name": "stdout",
          "output_type": "stream",
          "text": [
            "Page 1 récupérée avec succès ...\n",
            "Page 2 récupérée avec succès ...\n",
            "Page 3 récupérée avec succès ...\n",
            "Page 4 récupérée avec succès ...\n",
            "Page 5 récupérée avec succès ...\n",
            "Page 6 récupérée avec succès ...\n",
            "Page 7 récupérée avec succès ...\n",
            "Page 8 récupérée avec succès ...\n",
            "Page 9 récupérée avec succès ...\n",
            "Page 10 récupérée avec succès ...\n",
            "Page 11 récupérée avec succès ...\n",
            "Page 12 récupérée avec succès ...\n",
            "Page 13 récupérée avec succès ...\n",
            "Page 14 récupérée avec succès ...\n",
            "Page 15 récupérée avec succès ...\n",
            "Page 16 récupérée avec succès ...\n",
            "Page 17 récupérée avec succès ...\n",
            "Page 18 récupérée avec succès ...\n",
            "Page 19 récupérée avec succès ...\n",
            "Page 20 récupérée avec succès ...\n",
            "Page 21 récupérée avec succès ...\n",
            "Page 22 récupérée avec succès ...\n",
            "Page 23 récupérée avec succès ...\n",
            "Page 24 récupérée avec succès ...\n",
            "Page 25 récupérée avec succès ...\n",
            "Page 26 récupérée avec succès ...\n",
            "Page 27 récupérée avec succès ...\n",
            "Page 28 récupérée avec succès ...\n",
            "Page 29 récupérée avec succès ...\n",
            "Page 30 récupérée avec succès ...\n",
            "Page 31 récupérée avec succès ...\n",
            "Page 32 récupérée avec succès ...\n",
            "Page 33 récupérée avec succès ...\n",
            "Page 34 récupérée avec succès ...\n",
            "Page 35 récupérée avec succès ...\n",
            "Page 36 récupérée avec succès ...\n",
            "Page 37 récupérée avec succès ...\n",
            "Page 38 récupérée avec succès ...\n",
            "Page 39 récupérée avec succès ...\n",
            "Page 40 récupérée avec succès ...\n",
            "Page 41 récupérée avec succès ...\n",
            "Page 42 récupérée avec succès ...\n",
            "Page 43 récupérée avec succès ...\n",
            "Page 44 récupérée avec succès ...\n",
            "Page 45 récupérée avec succès ...\n",
            "Page 46 récupérée avec succès ...\n",
            "Page 47 récupérée avec succès ...\n",
            "Page 48 récupérée avec succès ...\n",
            "Page 49 récupérée avec succès ...\n",
            "Page 50 récupérée avec succès ...\n",
            "la page 51 n'existe pas. Arrêt du Scraper...\n"
          ]
        }
      ],
      "source": [
        "books = main_2(exporter_csv=True)"
      ]
    },
    {
      "cell_type": "markdown",
      "metadata": {
        "id": "PGRhswewWCzc"
      },
      "source": [
        "#### Correction: Exercice 3"
      ]
    },
    {
      "cell_type": "code",
      "execution_count": 59,
      "metadata": {
        "id": "QjCfLzCcWMFn"
      },
      "outputs": [],
      "source": [
        "from urllib.parse import urljoin\n",
        "\n",
        "def main(\n",
        "    base_url, # url de base du site\n",
        "    threshold: int = 5 # le threshold des livres\n",
        ")-> None:\n",
        "    \"listez les categories qui ont un nombre de livres inferieur à un threshold\"\n",
        "    with requests.Session() as session:\n",
        "        response = session.get(base_url)\n",
        "\n",
        "        soup = BeautifulSoup(response.text, 'html.parser')\n",
        "        categories = soup.find('ul', class_=\"nav nav-list\").find_all('a')\n",
        "        categories_urls = [category['href'] for category in categories]\n",
        "\n",
        "        # Navigez all categories page\n",
        "        for category_url in categories_urls:\n",
        "            full_url = urljoin(base_url, category_url)\n",
        "            response = session.get(full_url)\n",
        "            soup = BeautifulSoup(response.text, 'html.parser')\n",
        "\n",
        "            books = soup.find_all('article', class_=\"product_pod\")\n",
        "            books = soup.select('article.product_pod')\n",
        "            category_title = soup.find(\"h1\").text\n",
        "            number_of_books = len(books)\n",
        "            if number_of_books < threshold:\n",
        "                print(f\"La catégorie '{category_title}' ne contient pas assez de livres ({number_of_books})\")\n"
      ]
    },
    {
      "cell_type": "code",
      "execution_count": 60,
      "metadata": {
        "id": "wWCrUBFYWMID"
      },
      "outputs": [
        {
          "name": "stdout",
          "output_type": "stream",
          "text": [
            "La catégorie 'Paranormal' ne contient pas assez de livres (1)\n",
            "La catégorie 'Parenting' ne contient pas assez de livres (1)\n",
            "La catégorie 'Adult Fiction' ne contient pas assez de livres (1)\n",
            "La catégorie 'Contemporary' ne contient pas assez de livres (3)\n",
            "La catégorie 'Academic' ne contient pas assez de livres (1)\n",
            "La catégorie 'Historical' ne contient pas assez de livres (2)\n",
            "La catégorie 'Christian' ne contient pas assez de livres (3)\n",
            "La catégorie 'Suspense' ne contient pas assez de livres (1)\n",
            "La catégorie 'Short Stories' ne contient pas assez de livres (1)\n",
            "La catégorie 'Novels' ne contient pas assez de livres (1)\n",
            "La catégorie 'Health' ne contient pas assez de livres (4)\n",
            "La catégorie 'Politics' ne contient pas assez de livres (3)\n",
            "La catégorie 'Cultural' ne contient pas assez de livres (1)\n",
            "La catégorie 'Erotica' ne contient pas assez de livres (1)\n",
            "La catégorie 'Crime' ne contient pas assez de livres (1)\n"
          ]
        }
      ],
      "source": [
        "base_url = \"https://books.toscrape.com/index.html\"\n",
        "main(\n",
        "    base_url= base_url,\n",
        "    threshold=5\n",
        ")"
      ]
    },
    {
      "cell_type": "markdown",
      "metadata": {
        "id": "QWyiH2hTOWWZ"
      },
      "source": [
        "#### Correction: Exercice 4"
      ]
    },
    {
      "cell_type": "code",
      "execution_count": 61,
      "metadata": {
        "id": "UcWmIHRkhEaB"
      },
      "outputs": [],
      "source": [
        "import re\n",
        "import sys\n",
        "from typing import List\n",
        "from urllib.parse import urljoin\n",
        "import time\n",
        "import random\n",
        "\n",
        "import requests\n",
        "import logging\n",
        "import logging.config\n",
        "\n",
        "#! pip install selectolax\n",
        "#from selectolax.parser import HTMLParser\n",
        "\n",
        "\n",
        "logger = logging.getLogger(__name__)"
      ]
    },
    {
      "cell_type": "code",
      "execution_count": 62,
      "metadata": {
        "id": "rMMHqTcIipnH"
      },
      "outputs": [
        {
          "ename": "NameError",
          "evalue": "name 'HTMLParser' is not defined",
          "output_type": "error",
          "traceback": [
            "\u001b[1;31m---------------------------------------------------------------------------\u001b[0m",
            "\u001b[1;31mNameError\u001b[0m                                 Traceback (most recent call last)",
            "Cell \u001b[1;32mIn[62], line 3\u001b[0m\n\u001b[0;32m      1\u001b[0m \u001b[38;5;28;01mdef\u001b[39;00m \u001b[38;5;21mget_next_page_url\u001b[39m(\n\u001b[0;32m      2\u001b[0m     url: \u001b[38;5;28mstr\u001b[39m, \u001b[38;5;66;03m# URL de la page actuelle\u001b[39;00m\n\u001b[1;32m----> 3\u001b[0m     tree: \u001b[43mHTMLParser\u001b[49m, \u001b[38;5;66;03m# HTMLParser object de la page actuelle\u001b[39;00m\n\u001b[0;32m      4\u001b[0m ) \u001b[38;5;241m-\u001b[39m\u001b[38;5;241m>\u001b[39m \u001b[38;5;28mstr\u001b[39m \u001b[38;5;241m|\u001b[39m \u001b[38;5;28;01mNone\u001b[39;00m: \u001b[38;5;66;03m# URL de la page suivante\u001b[39;00m\n\u001b[0;32m      5\u001b[0m     \u001b[38;5;124m\"\u001b[39m\u001b[38;5;124mRécupère l\u001b[39m\u001b[38;5;124m'\u001b[39m\u001b[38;5;124mURL de la page suivante à partir d\u001b[39m\u001b[38;5;124m'\u001b[39m\u001b[38;5;124mune page donnée.\u001b[39m\u001b[38;5;124m\"\u001b[39m\n\u001b[0;32m      7\u001b[0m     \u001b[38;5;66;03m# chercher button next et recuperer l'url\u001b[39;00m\n",
            "\u001b[1;31mNameError\u001b[0m: name 'HTMLParser' is not defined"
          ]
        }
      ],
      "source": [
        "def get_next_page_url(\n",
        "    url: str, # URL de la page actuelle\n",
        "    tree: HTMLParser, # HTMLParser object de la page actuelle\n",
        ") -> str | None: # URL de la page suivante\n",
        "    \"Récupère l'URL de la page suivante à partir d'une page donnée.\"\n",
        "\n",
        "    # chercher button next et recuperer l'url\n",
        "    next_page_node = tree.css_first(\"li.next > a\")\n",
        "    if next_page_node and \"href\" in next_page_node.attributes:\n",
        "        next_page_link = next_page_node.attributes.get(\"href\")\n",
        "        return urljoin(url, next_page_link)\n",
        "\n",
        "    logger.debug(f\"Couldn't find next page URL\")\n",
        "    return None\n",
        "\n"
      ]
    },
    {
      "cell_type": "code",
      "execution_count": null,
      "metadata": {
        "id": "XsmPRY7Wipxj"
      },
      "outputs": [],
      "source": [
        "def get_all_books_urls_one_page(\n",
        "    url: str, # URL de la page actuelle\n",
        "    tree: HTMLParser, # HTMLParser object de la page actuelle\n",
        ")-> List[str]: # Liste des URLs des livres\n",
        "\n",
        "    \"Récupère toutes les URLs des livres présents sur une page.\"\n",
        "    try:\n",
        "      book_links = tree.css('h3 > a')\n",
        "      urls = [urljoin(url, link.attributes.get('href')) for link in book_links if 'href' in link.attributes]\n",
        "      return urls\n",
        "    except Exception as e:\n",
        "      logger.error(f\"Erreur lors de l'extraction des URLs des livres sur la page {url} : {e}\")\n",
        "      return []\n"
      ]
    },
    {
      "cell_type": "code",
      "execution_count": null,
      "metadata": {
        "id": "b-6oAib5kNrJ"
      },
      "outputs": [],
      "source": [
        "def extract_stock_quantity_from_page(\n",
        "    tree: HTMLParser # HTMLParser object de la page du livre\n",
        ") -> int: # Quantité de livres en stock\n",
        "    \"Extrait la quantité de livres en stock sur la page du livre\"\n",
        "\n",
        "    try:\n",
        "        price_node = tree.css_first(\"p.instock.availability\")\n",
        "        return int(re.findall(r\"\\d+\", price_node.text())[0])\n",
        "    except AttributeError:\n",
        "        logger.error(\"Aucun noeud 'p.instock.availability' n'a été trouvé\")\n",
        "        return 0\n",
        "    except IndexError:\n",
        "        logger.error(\"Aucun nombre trouvé dans le texte de 'p.instock.availability'\")\n",
        "        return 0"
      ]
    },
    {
      "cell_type": "code",
      "execution_count": null,
      "metadata": {
        "id": "mLe2cycokNuB"
      },
      "outputs": [],
      "source": [
        "def extract_price_from_page(\n",
        "    tree: HTMLParser # HTMLParser object de la page du livre\n",
        ") -> float: # Prix du livre\n",
        "    \"Extrait le prix d'un livre depuis la page du livre.\"\n",
        "\n",
        "    price_node = tree.css_first(\"p.price_color\")\n",
        "\n",
        "    if price_node:\n",
        "        price_string = price_node.text()\n",
        "    else:\n",
        "        logger.error(\"Aucun noeud n'a été trouvé\")\n",
        "        return 0.0\n",
        "\n",
        "    try:\n",
        "        price = re.findall(r\"[0-9.]+\", price_string)[0]\n",
        "    except IndexError as e:\n",
        "        logger.error(f\"Aucun nombre n'a été trouvé : {e}\")\n",
        "        return 0.0\n",
        "    else:\n",
        "        return float(price)"
      ]
    },
    {
      "cell_type": "code",
      "execution_count": null,
      "metadata": {
        "id": "0u4ECl9HkN0y"
      },
      "outputs": [],
      "source": [
        "def get_book_price_from_url(\n",
        "    url: str, # URL de la page du livre\n",
        "    session: requests.Session = None # Session HTTP pour effectuer les requêtes\n",
        ") -> float: # Prix du livre\n",
        "    \"Récupère le prix d'un livre à partir de son URL\"\n",
        "\n",
        "    try:\n",
        "        if session:\n",
        "            response = session.get(url)\n",
        "        else:\n",
        "            response = requests.get(url)\n",
        "\n",
        "        response.raise_for_status()  # Vérifie que la requête a réussi\n",
        "\n",
        "        tree = HTMLParser(response.text)\n",
        "        price = extract_price_from_page(tree)\n",
        "        stock = extract_stock_quantity_from_page(tree)\n",
        "        return price * stock\n",
        "    except requests.exceptions.RequestException as e:\n",
        "        logger.error(f\"Erreur lors de la requête HTTP : {e}\")\n",
        "        return 0.0\n",
        "    except Exception as e:\n",
        "        logger.error(f\"Erreur lors de l'extraction du prix depuis l'URL : {e}\")\n",
        "        return 0.0\n"
      ]
    },
    {
      "cell_type": "code",
      "execution_count": null,
      "metadata": {
        "id": "ggsXiRkUkN3k"
      },
      "outputs": [],
      "source": [
        "def get_total_price_of_all_books(\n",
        "    urls: list # URLs à scrapper\n",
        ") -> float: # Prix total de tous les livres\n",
        "    \"Calcule le prix total de tous les livres (prix * quantité en stock) sur toutes les pages à partir d'une URL de départ.\"\n",
        "\n",
        "    total_price = 0.0\n",
        "    with requests.Session() as session:\n",
        "        for url in urls:\n",
        "            logger.info(f\"Scraping book {url}\")\n",
        "            total_price += get_book_price_from_url(url, session=session)\n",
        "        return total_price"
      ]
    },
    {
      "cell_type": "code",
      "execution_count": null,
      "metadata": {
        "id": "ykIgwApPaYsH"
      },
      "outputs": [],
      "source": [
        "def get_all_books_urls(\n",
        "    url: str # URL de départ\n",
        ") -> List[str]: # Liste de toutes les URLs des livres\n",
        "    \"Récupère toutes les URLs des livres sur toutes les pages à partir d'une URL de départ.\"\n",
        "\n",
        "    urls = []\n",
        "    with requests.Session() as session:\n",
        "        while True:\n",
        "            try:\n",
        "                logger.info(f\"Scraping page {url}\")\n",
        "                r = session.get(url)\n",
        "                r.raise_for_status()\n",
        "            except requests.RequestException as e:\n",
        "                logger.error(f\"Erreur lors de la requête HTTP sur la page {url} : {e}\")\n",
        "                continue\n",
        "\n",
        "            tree = HTMLParser(r.text)\n",
        "            books_urls = get_all_books_urls_one_page(url, tree)\n",
        "            urls.extend(books_urls)\n",
        "\n",
        "            url = get_next_page_url(url, tree)\n",
        "\n",
        "            ## je peux ajouter des sleep ici\n",
        "            ## pour minimiser le nombre de requete\n",
        "            time.sleep(random.uniform(0.5,1)) ## attendre un `random` seconds\n",
        "\n",
        "            if not url:\n",
        "                break\n",
        "\n",
        "    return urls\n"
      ]
    },
    {
      "cell_type": "code",
      "execution_count": 93,
      "metadata": {
        "id": "8stPHKYtaYuO"
      },
      "outputs": [],
      "source": [
        "def main_4(base_url):\n",
        "    \"calculer le prix total des books dans notre site\"\n",
        "    # extraire les urls des books\n",
        "    urls = get_all_books_urls(base_url)\n",
        "    \n",
        "    # calculer le prix des books ( prix * quantité)\n",
        "    total_price = get_total_price_of_all_books(urls)\n",
        "    print(f\"Prix Total est: {total_price}\")"
      ]
    },
    {
      "cell_type": "code",
      "execution_count": null,
      "metadata": {
        "colab": {
          "base_uri": "https://localhost:8080/"
        },
        "id": "MTLyPh5VaYwV",
        "outputId": "3e4156c1-4f56-45ae-f8d9-4891620434a3"
      },
      "outputs": [
        {
          "name": "stdout",
          "output_type": "stream",
          "text": [
            "Prix Total est: 300188.2700000007\n"
          ]
        }
      ],
      "source": [
        "base_url = \"https://books.toscrape.com/\"\n",
        "main_4(base_url = base_url)"
      ]
    },
    {
      "cell_type": "markdown",
      "metadata": {
        "id": "pLypA8alwFsV"
      },
      "source": [
        "# 3. Les obstacles:\n",
        "\n",
        "  1. Juridiques:\n",
        "\n",
        "    Malgré son aspect pratique, le web scraping s’accompagne de risques juridiques. En principe, l’exploitant d’un site Internet met sa page à disposition pour une utilisation par des êtres humains. Une consultation automatisée à l’aide d’un web scraper peut donc constituer une violation des conditions d’utilisation. C’est notamment le cas lorsque la consultation est effectuée massivement sur plusieurs pages, que ce soit simultanément ou fréquemment. Aucun être humain ne pourrait interagir avec le site de cette façon.\n",
        "\n",
        "    Par ailleurs, la consultation, l’enregistrement et l’analyse automatisés des données publiées sur un site Internet peuvent, le cas échéant, représenter une violation des droits d’auteur. Si les informations scrapées sont des données permettant une identification personnelle, l’enregistrement et l’analyse sans autorisation de la personne concernée représentent une violation des dispositions applicables en matière de protection des données. Le fait de scraper des profils Facebook pour collecter des données à caractère personnel est par exemple interdit.\n",
        "\n",
        "  2. Techniques:\n",
        "\n",
        "    Plusieurs sites résistent aux scraping, car ces scripts peuvent affecter la performance d'un site web et ca necessite des couts excessifs en infra pour maintenir la qualité de ses services. Dans ce sens, ces sites deploient des anti bots pour eviter ces attaques.\n",
        "\n",
        "    Sur la majorité des websites, il existe un fichier text \"robots.txt\" disponible à la racine des sites qui indique les pages à ne pas scraper.\n",
        "    Vous pouvez le consulter en mettant : https://nom_du_site.com/robots.txt\n",
        "\n",
        "\n"
      ]
    },
    {
      "cell_type": "code",
      "execution_count": 63,
      "metadata": {
        "id": "k_m7KfSHF_Zq"
      },
      "outputs": [],
      "source": [
        "## essayer\n",
        "\n",
        "url = \"https://facebook.com/\"\n",
        "response = requests.get(url)\n"
      ]
    },
    {
      "cell_type": "code",
      "execution_count": 64,
      "metadata": {
        "colab": {
          "base_uri": "https://localhost:8080/",
          "height": 1000
        },
        "id": "k5nLeKgXGMoH",
        "outputId": "2fc3debe-447a-48d8-f1d6-60e1bafaa98d"
      },
      "outputs": [
        {
          "data": {
            "text/plain": [
              "'<!DOCTYPE html>\\n<html lang=\"fr\" id=\"facebook\" class=\"no_js\">\\n<head><meta charset=\"utf-8\" /><meta name=\"referrer\" content=\"default\" id=\"meta_referrer\" /><script nonce=\"7dHcsT19\">function envFlush(a){function b(b){for(var c in a)b[c]=a[c]}window.requireLazy?window.requireLazy([\"Env\"],b):(window.Env=window.Env||{},b(window.Env))}envFlush({\"useTrustedTypes\":false,\"isTrustedTypesReportOnly\":false,\"ajaxpipe_token\":\"AXi_KzP1_uxVZUdPcxE\",\"stack_trace_limit\":30,\"timesliceBufferSize\":5000,\"show_invariant_decoder\":false,\"compat_iframe_token\":\"AUXdzAzAjLm9cR5cFH49OTC0CYY\",\"isCQuick\":false,\"brsid\":\"7432629438359571465\"});</script><script nonce=\"7dHcsT19\">window.openDatabase&&(window.openDatabase=function(){throw new Error()});</script><style nonce=\"7dHcsT19\"></style><script nonce=\"7dHcsT19\">__DEV__=0;</script><noscript><meta http-equiv=\"refresh\" content=\"0; URL=/?_fb_noscript=1\" /></noscript><link rel=\"manifest\" id=\"MANIFEST_LINK\" href=\"/data/manifest/\" crossorigin=\"use-credentials\" /><title id=\"pageTitle\">Facebook - Connexion ou inscription</title><meta name=\"bingbot\" content=\"noarchive\" /><meta property=\"og:site_name\" content=\"Facebook\" /><meta property=\"og:url\" content=\"https://www.facebook.com/\" /><meta property=\"og:image\" content=\"https://www.facebook.com/images/fb_icon_325x325.png\" /><meta property=\"og:locale\" content=\"fr_FR\" /><link rel=\"alternate\" media=\"only screen and (max-width: 640px)\" href=\"https://m.facebook.com/\" /><link rel=\"alternate\" media=\"handheld\" href=\"https://m.facebook.com/\" /><meta name=\"description\" content=\"Connectez-vous &#xe0; Facebook pour commencer &#xe0; partager et communiquer avec vos amis, votre famille et les personnes que vous connaissez.\" /><link rel=\"canonical\" href=\"https://www.facebook.com/\" /><link rel=\"icon\" href=\"https://static.xx.fbcdn.net/rsrc.php/yB/r/2sFJRNmJ5OP.ico\" /><link type=\"text/css\" rel=\"stylesheet\" href=\"https://static.xx.fbcdn.net/rsrc.php/v4/y3/l/0,cross/mzJS4QVJNr7.css\" data-bootloader-hash=\"n+36Djy\" crossorigin=\"anonymous\" />\\n<link type=\"text/css\" rel=\"stylesheet\" href=\"https://static.xx.fbcdn.net/rsrc.php/v4/yF/l/0,cross/ZPBV3FqP_4P.css\" data-bootloader-hash=\"50iRlkI\" crossorigin=\"anonymous\" />\\n<link type=\"text/css\" rel=\"stylesheet\" href=\"https://static.xx.fbcdn.net/rsrc.php/v4/yJ/l/0,cross/CisOkbGSadk.css\" data-bootloader-hash=\"1bSD0Ol\" crossorigin=\"anonymous\" />\\n<script src=\"https://static.xx.fbcdn.net/rsrc.php/v3/yY/r/7TXvrmQm8c5.js\" data-bootloader-hash=\"eFXu8DC\" crossorigin=\"anonymous\"></script>\\n<script nonce=\"7dHcsT19\">requireLazy([\"HasteSupportData\"],function(m){m.handle({\"clpData\":{\"6476\":{\"r\":1000,\"s\":1},\"1838142\":{\"r\":1,\"s\":1},\"4883\":{\"r\":1,\"s\":1},\"1814852\":{\"r\":1},\"1848815\":{\"r\":10000,\"s\":1}},\"gkxData\":{\"20935\":{\"result\":false,\"hash\":null},\"20940\":{\"result\":false,\"hash\":null},\"21043\":{\"result\":false,\"hash\":null},\"2199\":{\"result\":false,\"hash\":null},\"7742\":{\"result\":false,\"hash\":null},\"8068\":{\"result\":false,\"hash\":null},\"20936\":{\"result\":false,\"hash\":null},\"20948\":{\"result\":true,\"hash\":null},\"25572\":{\"result\":false,\"hash\":null},\"1221\":{\"result\":false,\"hash\":null},\"25571\":{\"result\":false,\"hash\":null}},\"justknobxData\":{\"2552\":{\"r\":false},\"3323\":{\"r\":true},\"2269\":{\"r\":true}}})});requireLazy([\"TimeSliceImpl\",\"ServerJS\"],function(TimeSlice,ServerJS){(new ServerJS()).handle({\"define\":[[\"cr:310\",[\"RunWWW\"],{\"__rc\":[\"RunWWW\",null]},-1],[\"cr:1126\",[\"TimeSliceImpl\"],{\"__rc\":[\"TimeSliceImpl\",null]},-1],[\"cr:3725\",[\"clearTimeoutWWWOrMobile\"],{\"__rc\":[\"clearTimeoutWWWOrMobile\",null]},-1],[\"cr:4344\",[\"setTimeoutWWWOrMobile\"],{\"__rc\":[\"setTimeoutWWWOrMobile\",null]},-1],[\"cr:6640\",[\"PromiseImpl\"],{\"__rc\":[\"PromiseImpl\",null]},-1],[\"cr:8958\",[\"FBJSON\"],{\"__rc\":[\"FBJSON\",null]},-1],[\"cr:1078\",[],{\"__rc\":[null,null]},-1],[\"cr:1080\",[\"unexpectedUseInComet\"],{\"__rc\":[\"unexpectedUseInComet\",null]},-1],[\"cr:2945\",[\"PromiseMonitor\"],{\"__rc\":[\"PromiseMonitor\",null]},-1],[\"cr:6108\",[\"CSS\"],{\"__rc\":[\"CSS\",null]},-1],[\"cr:7385\",[\"clearIntervalWWW\"],{\"__rc\":[\"clearIntervalWWW\",null]},-1],[\"cr:7389\",[\"setIntervalAcrossTransitionsWWW\"],{\"__rc\":[\"setIntervalAcrossTransitionsWWW\",null]},-1],[\"cr:7391\",[\"setTimeoutAcrossTransitionsWWW\"],{\"__rc\":[\"setTimeoutAcrossTransitionsWWW\",null]},-1],[\"cr:8959\",[\"DTSG\"],{\"__rc\":[\"DTSG\",null]},-1],[\"cr:8960\",[\"DTSG_ASYNC\"],{\"__rc\":[\"DTSG_ASYNC\",null]},-1],[\"cr:696703\",[],{\"__rc\":[null,null]},-1],[\"cr:708886\",[\"EventProfilerImpl\"],{\"__rc\":[\"EventProfilerImpl\",null]},-1],[\"cr:135\",[\"RunBlue\"],{\"__rc\":[\"RunBlue\",null]},-1],[\"cr:6669\",[\"DataStore\"],{\"__rc\":[\"DataStore\",null]},-1],[\"ServerNonce\",[],{\"ServerNonce\":\"F6iyMdPV74A4MhzPhG1Z73\"},141],[\"InitialCookieConsent\",[],{\"deferCookies\":false,\"initialConsent\":[1,2],\"noCookies\":false,\"shouldShowCookieBanner\":false,\"shouldWaitForDeferredDatrCookie\":false,\"optedInIntegrations\":[\"adobe_marketo_rest_api\",\"blings_io_video\",\"chili_piper_api\",\"cloudfront_cdn\",\"giphy_media\",\"google_ads_pixel_frame_legacy\",\"google_ads_pixel_img_legacy\",\"google_ads_pixel_legacy\",\"google_ads_remarketing_tag\",\"google_ads_services\",\"google_analytics_4_tag\",\"google_analytics_img\",\"google_cached_img\",\"google_double_click_loading\",\"google_double_click_redirecting\",\"google_double_click_uri_connect\",\"google_double_click_uri_frame\",\"google_double_click_uri_img\",\"google_fonts\",\"google_fonts_font\",\"google_maps\",\"google_paid_ads_frame\",\"google_paid_ads_img\",\"google_translate\",\"google_universal_analytics_legacy\",\"google_universal_analytics_legacy_img\",\"google_universal_analytics_legacy_script\",\"jio\",\"linkedin_insight\",\"linkedin_insight_img\",\"mapbox_maps_api\",\"medallia_digital_experience_analytics\",\"microsoft_exchange\",\"nytimes_oembed\",\"reachtheworld_s3\",\"soundcloud_oembed\",\"spotify_oembed\",\"spreaker_oembed\",\"ted_oembed\",\"tenor_api\",\"tenor_images\",\"tenor_media\",\"tiktok_oembed\",\"twitter_analytics_pixel\",\"twitter_analytics_pixel_img\",\"twitter_legacy_embed\",\"vimeo_oembed\",\"youtube_embed\",\"youtube_oembed\",\"advertiser_hosted_pixel\",\"airbus_sat\",\"amazon_media\",\"apps_for_office\",\"arkose_captcha\",\"aspnet_cdn\",\"autodesk_fusion\",\"bing_maps\",\"bing_widget\",\"boku_wallet\",\"bootstrap\",\"box\",\"cardinal_centinel_api\",\"chromecast_extensions\",\"cloudflare_cdnjs\",\"cloudflare_datatables\",\"cloudflare_relay\",\"conversions_api_gateway\",\"demandbase_api\",\"digitalglobe_maps_api\",\"dlocal\",\"dropbox\",\"esri_sat\",\"facebook_sdk\",\"fastly_relay\",\"gmg_pulse_embed_iframe\",\"google_ads_conversions_tag\",\"google_drive\",\"google_fonts_legacy\",\"google_hosted_libraries\",\"google_oauth_api\",\"google_recaptcha\",\"here_map_ext\",\"hive_streaming_video\",\"isptoolbox\",\"jquery\",\"js_delivr\",\"kbank\",\"mathjax\",\"meta_pixel\",\"metacdn\",\"microsoft_excel\",\"microsoft_office_addin\",\"microsoft_onedrive\",\"microsoft_speech\",\"microsoft_teams\",\"mmi_tiles\",\"open_street_map\",\"paypal_billing_agreement\",\"paypal_oauth_api\",\"payu\",\"plaid\",\"platformized_adyen_checkout\",\"plotly\",\"pydata\",\"recruitics\",\"rstudio\",\"salesforce_lighting\",\"stripe\",\"team_center\",\"tripshot\",\"trustly_direct_debit_ach\",\"twilio_voice\",\"unifier\",\"unsplash_api\",\"unsplash_image_loading\",\"vega\",\"yoti_api\",\"youtube_oembed_api\",\"google_apis\",\"google_apis_scripts\",\"google_img\",\"google_tag\",\"google_uri_frame\",\"google_uri_script\"],\"hasGranularThirdPartyCookieConsent\":true,\"exemptedIntegrations\":[\"advertiser_hosted_pixel\",\"airbus_sat\",\"amazon_media\",\"apps_for_office\",\"arkose_captcha\",\"aspnet_cdn\",\"autodesk_fusion\",\"bing_maps\",\"bing_widget\",\"boku_wallet\",\"bootstrap\",\"box\",\"cardinal_centinel_api\",\"chromecast_extensions\",\"cloudflare_cdnjs\",\"cloudflare_datatables\",\"cloudflare_relay\",\"conversions_api_gateway\",\"demandbase_api\",\"digitalglobe_maps_api\",\"dlocal\",\"dropbox\",\"esri_sat\",\"facebook_sdk\",\"fastly_relay\",\"gmg_pulse_embed_iframe\",\"google_ads_conversions_tag\",\"google_drive\",\"google_fonts_legacy\",\"google_hosted_libraries\",\"google_oauth_api\",\"google_recaptcha\",\"here_map_ext\",\"hive_streaming_video\",\"isptoolbox\",\"jquery\",\"js_delivr\",\"kbank\",\"mathjax\",\"meta_pixel\",\"metacdn\",\"microsoft_excel\",\"microsoft_office_addin\",\"microsoft_onedrive\",\"microsoft_speech\",\"microsoft_teams\",\"mmi_tiles\",\"open_street_map\",\"paypal_billing_agreement\",\"paypal_oauth_api\",\"payu\",\"plaid\",\"platformized_adyen_checkout\",\"plotly\",\"pydata\",\"recruitics\",\"rstudio\",\"salesforce_lighting\",\"stripe\",\"team_center\",\"tripshot\",\"trustly_direct_debit_ach\",\"twilio_voice\",\"unifier\",\"unsplash_api\",\"unsplash_image_loading\",\"vega\",\"yoti_api\",\"youtube_oembed_api\"]},4328],[\"CookieConsentIFrameConfig\",[],{\"consent_param\":\"FQAREhISFQAZ9XwCGiQuQEZISkxOUFJYXF5gYmRqbHR4eoIBhAGGAYgBlAGcAZ4BoAGkAaoBuAHOAd4B4AHiAeoB7AHuAfAB9AH+AYAChgKWApoCoAIEBgoMDhASFhgcHiAiJigqLDAyNjg6PKgCsgJCRGZucHZ8jgGQAZIBlgGYAZoBogGmAroCqAGsAa4BsAGyAbQBugG+AcABwgHGAcgBygHMAdAB1AHYAeQB6AH4AfoB\\\\/AGKAowCjgKQApgCogJUVnKAAYoBjAEYEHd3dy5mYWNlYm9vay5jb20A.ARYjddbh9a8Qovk0_fmJwmR-XoL2S0bQ-ry99HyggMsmK00e\",\"allowlisted_iframes\":[\"captcha-recaptcha\",\"arkose-captcha\"],\"is_checkpointed\":false},5540],[\"ServerTimeData\",[],{\"serverTime\":1730543896175,\"timeOfRequestStart\":1730543896150.7,\"timeOfResponseStart\":1730543896150.7},5943],[\"URLFragmentPreludeConfig\",[],{\"hashtagRedirect\":true,\"fragBlacklist\":[\"nonce\",\"access_token\",\"oauth_token\",\"xs\",\"checkpoint_data\",\"code\"]},137],[\"CookiePrivacySandboxConfig\",[],{\"is_affected_by_samesite_lax\":false},7723],[\"CometPersistQueryParams\",[],{\"relative\":{},\"domain\":{}},6231],[\"CookieDomain\",[],{\"domain\":\"facebook.com\"},6421],[\"GetAsyncParamsExtraData\",[],{\"extra_data\":{}},7511],[\"BootloaderConfig\",[],{\"deferBootloads\":false,\"jsRetries\":[200,500],\"jsRetryAbortNum\":2,\"jsRetryAbortTime\":5,\"silentDups\":false,\"timeout\":60000,\"tieredLoadingFromTier\":100,\"hypStep4\":false,\"phdOn\":false,\"btCutoffIndex\":2038,\"fastPathForAlreadyRequired\":true,\"earlyRequireLazy\":false,\"enableTimeoutLoggingForNonComet\":false,\"deferLongTailManifest\":true,\"lazySoT\":false,\"translationRetries\":[200,500],\"translationRetryAbortNum\":3,\"translationRetryAbortTime\":50},329],[\"CSSLoaderConfig\",[],{\"timeout\":5000},619],[\"CookieCoreConfig\",[],{\"c_user\":{\"t\":31536000},\"cppo\":{\"t\":86400},\"dpr\":{\"t\":604800},\"fbl_st\":{\"t\":31536000},\"hckd\":{},\"i_user\":{\"t\":31536000},\"locale\":{\"t\":604800},\"m_ls\":{\"t\":34560000},\"m_pixel_ratio\":{\"t\":604800},\"noscript\":{},\"presence\":{\"t\":2592000},\"sfau\":{},\"usida\":{},\"vpd\":{\"t\":5184000},\"wd\":{\"t\":604800},\"wl_cbv\":{\"t\":7776000},\"x-referer\":{},\"x-src\":{\"t\":1}},2104],[\"CurrentUserInitialData\",[],{\"ACCOUNT_ID\":\"0\",\"USER_ID\":\"0\",\"NAME\":\"\",\"SHORT_NAME\":null,\"IS_BUSINESS_PERSON_ACCOUNT\":false,\"HAS_SECONDARY_BUSINESS_PERSON\":false,\"IS_FACEBOOK_WORK_ACCOUNT\":false,\"IS_INSTAGRAM_BUSINESS_PERSON\":false,\"IS_MESSENGER_ONLY_USER\":false,\"IS_DEACTIVATED_ALLOWED_ON_MESSENGER\":false,\"IS_MESSENGER_CALL_GUEST_USER\":false,\"IS_WORK_MESSENGER_CALL_GUEST_USER\":false,\"IS_WORKROOMS_USER\":false,\"APP_ID\":\"256281040558\",\"IS_BUSINESS_DOMAIN\":false},270],[\"LSD\",[],{\"token\":\"AVpDiEASyvc\"},323],[\"SiteData\",[],{\"server_revision\":1017898612,\"client_revision\":1017898612,\"push_phase\":\"C3\",\"pkg_cohort\":\"BP:DEFAULT\",\"haste_session\":\"20029.BP:DEFAULT.2.0..0.0\",\"pr\":1,\"manifest_base_uri\":\"https:\\\\/\\\\/static.xx.fbcdn.net\",\"manifest_origin\":null,\"manifest_version_prefix\":null,\"be_one_ahead\":false,\"is_rtl\":false,\"is_experimental_tier\":false,\"is_jit_warmed_up\":true,\"hsi\":\"7432629438359571465\",\"semr_host_bucket\":\"5\",\"bl_hash_version\":2,\"comet_env\":0,\"wbloks_env\":false,\"ef_page\":null,\"compose_bootloads\":false,\"spin\":4,\"__spin_r\":1017898612,\"__spin_b\":\"trunk\",\"__spin_t\":1730543896,\"vip\":\"157.240.203.35\"},317],[\"SprinkleConfig\",[],{\"param_name\":\"jazoest\",\"version\":2,\"should_randomize\":false},2111],[\"UserAgentData\",[],{\"browserArchitecture\":\"32\",\"browserFullVersion\":null,\"browserMinorVersion\":null,\"browserName\":\"Unknown\",\"browserVersion\":null,\"deviceName\":\"Unknown\",\"engineName\":\"Unknown\",\"engineVersion\":null,\"platformArchitecture\":\"32\",\"platformName\":\"Unknown\",\"platformVersion\":null,\"platformFullVersion\":null},527],[\"PromiseUsePolyfillSetImmediateGK\",[],{\"www_always_use_polyfill_setimmediate\":false},2190],[\"JSErrorLoggingConfig\",[],{\"appId\":256281040558,\"extra\":[],\"reportInterval\":50,\"sampleWeight\":null,\"sampleWeightKey\":\"__jssesw\",\"projectBlocklist\":[]},2776],[\"DataStoreConfig\",[],{\"expandoKey\":\"__FB_STORE\",\"useExpando\":true},2915],[\"CookieCoreLoggingConfig\",[],{\"maximumIgnorableStallMs\":16.67,\"sampleRate\":9.7e-5,\"sampleRateClassic\":1.0e-10,\"sampleRateFastStale\":1.0e-8},3401],[\"ImmediateImplementationExperiments\",[],{\"prefer_message_channel\":true},3419],[\"UriNeedRawQuerySVConfig\",[],{\"uris\":[\"dms.netmng.com\",\"doubleclick.net\",\"r.msn.com\",\"watchit.sky.com\",\"graphite.instagram.com\",\"www.kfc.co.th\",\"learn.pantheon.io\",\"www.landmarkshops.in\",\"www.ncl.com\",\"s0.wp.com\",\"www.tatacliq.com\",\"bs.serving-sys.com\",\"kohls.com\",\"lazada.co.th\",\"xg4ken.com\",\"technopark.ru\",\"officedepot.com.mx\",\"bestbuy.com.mx\",\"booking.com\",\"nibio.no\",\"myworkdayjobs.com\",\"united-united.com\",\"gcc.gnu.org\"]},3871],[\"WebConnectionClassServerGuess\",[],{\"connectionClass\":\"EXCELLENT\"},4705],[\"BootloaderEndpointConfig\",[],{\"debugNoBatching\":false,\"maxBatchSize\":-1,\"endpointURI\":\"https:\\\\/\\\\/www.facebook.com\\\\/ajax\\\\/bootloader-endpoint\\\\/\"},5094],[\"BigPipeExperiments\",[],{\"link_images_to_pagelets\":false,\"am_page_load_promise_timeout\":false,\"enable_bigpipe_plugins\":false},907],[\"cr:7730\",[\"getFbtResult\"],{\"__rc\":[\"getFbtResult\",null]},-1],[\"cr:8906\",[\"goURIWWW\"],{\"__rc\":[\"goURIWWW\",null]},-1],[\"cr:925100\",[\"RunBlue\"],{\"__rc\":[\"RunBlue\",null]},-1],[\"cr:7386\",[\"clearTimeoutWWW\"],{\"__rc\":[\"clearTimeoutWWW\",null]},-1],[\"cr:7390\",[\"setTimeoutWWW\"],{\"__rc\":[\"setTimeoutWWW\",null]},-1],[\"cr:1003267\",[\"clearIntervalBlue\"],{\"__rc\":[\"clearIntervalBlue\",null]},-1],[\"cr:896462\",[\"setIntervalAcrossTransitionsBlue\"],{\"__rc\":[\"setIntervalAcrossTransitionsBlue\",null]},-1],[\"cr:986633\",[\"setTimeoutAcrossTransitionsBlue\"],{\"__rc\":[\"setTimeoutAcrossTransitionsBlue\",null]},-1],[\"cr:6799\",[\"EventProfilerAdsSessionProvider\"],{\"__rc\":[\"EventProfilerAdsSessionProvider\",null]},-1],[\"IntlVariationHoldout\",[],{\"disable_variation\":false},6533],[\"IntlNumberTypeProps\",[\"IntlCLDRNumberType03\"],{\"module\":{\"__m\":\"IntlCLDRNumberType03\"}},7027],[\"AdsManagerReadRegions\",[],{\"excluded_endpoints\":[\"\\\\/am_tabular\"]},7950],[\"AsyncRequestConfig\",[],{\"retryOnNetworkError\":\"1\",\"useFetchStreamAjaxPipeTransport\":true},328],[\"DTSGInitialData\",[],{},258],[\"IntlPhonologicalRules\",[],{\"meta\":{},\"patterns\":{}},1496],[\"IntlViewerContext\",[],{\"GENDER\":3,\"regionalLocale\":null},772],[\"NumberFormatConfig\",[],{\"decimalSeparator\":\",\",\"numberDelimiter\":\"\\\\u202f\",\"minDigitsForThousandsSeparator\":4,\"standardDecimalPatternInfo\":{\"primaryGroupSize\":3,\"secondaryGroupSize\":3},\"numberingSystemData\":null},54],[\"SessionNameConfig\",[],{\"seed\":\"2guY\"},757],[\"ZeroCategoryHeader\",[],{},1127],[\"ZeroRewriteRules\",[],{\"rewrite_rules\":{},\"whitelist\":{\"\\\\/hr\\\\/r\":1,\"\\\\/hr\\\\/p\":1,\"\\\\/zero\\\\/unsupported_browser\\\\/\":1,\"\\\\/zero\\\\/policy\\\\/optin\":1,\"\\\\/zero\\\\/optin\\\\/write\\\\/\":1,\"\\\\/zero\\\\/optin\\\\/legal\\\\/\":1,\"\\\\/zero\\\\/optin\\\\/free\\\\/\":1,\"\\\\/about\\\\/privacy\\\\/\":1,\"\\\\/about\\\\/privacy\\\\/update\\\\/\":1,\"\\\\/privacy\\\\/explanation\\\\/\":1,\"\\\\/zero\\\\/toggle\\\\/welcome\\\\/\":1,\"\\\\/zero\\\\/toggle\\\\/nux\\\\/\":1,\"\\\\/zero\\\\/toggle\\\\/settings\\\\/\":1,\"\\\\/fup\\\\/interstitial\\\\/\":1,\"\\\\/work\\\\/landing\":1,\"\\\\/work\\\\/login\\\\/\":1,\"\\\\/work\\\\/email\\\\/\":1,\"\\\\/ai.php\":1,\"\\\\/js_dialog_resources\\\\/dialog_descriptions_android.json\":0,\"\\\\/connect\\\\/jsdialog\\\\/MPlatformAppInvitesJSDialog\\\\/\":0,\"\\\\/connect\\\\/jsdialog\\\\/MPlatformOAuthShimJSDialog\\\\/\":0,\"\\\\/connect\\\\/jsdialog\\\\/MPlatformLikeJSDialog\\\\/\":0,\"\\\\/qp\\\\/interstitial\\\\/\":1,\"\\\\/qp\\\\/action\\\\/redirect\\\\/\":1,\"\\\\/qp\\\\/action\\\\/close\\\\/\":1,\"\\\\/zero\\\\/support\\\\/ineligible\\\\/\":1,\"\\\\/zero_balance_redirect\\\\/\":1,\"\\\\/zero_balance_redirect\":1,\"\\\\/zero_balance_redirect\\\\/l\\\\/\":1,\"\\\\/l.php\":1,\"\\\\/lsr.php\":1,\"\\\\/ajax\\\\/dtsg\\\\/\":1,\"\\\\/checkpoint\\\\/block\\\\/\":1,\"\\\\/exitdsite\":1,\"\\\\/zero\\\\/balance\\\\/pixel\\\\/\":1,\"\\\\/zero\\\\/balance\\\\/\":1,\"\\\\/zero\\\\/balance\\\\/carrier_landing\\\\/\":1,\"\\\\/zero\\\\/flex\\\\/logging\\\\/\":1,\"\\\\/tr\":1,\"\\\\/tr\\\\/\":1,\"\\\\/sem_campaigns\\\\/sem_pixel_test\\\\/\":1,\"\\\\/bookmarks\\\\/flyout\\\\/body\\\\/\":1,\"\\\\/zero\\\\/subno\\\\/\":1,\"\\\\/confirmemail.php\":1,\"\\\\/policies\\\\/\":1,\"\\\\/mobile\\\\/internetdotorg\\\\/classifier\\\\/\":1,\"\\\\/zero\\\\/dogfooding\":1,\"\\\\/xti.php\":1,\"\\\\/zero\\\\/fblite\\\\/config\\\\/\":1,\"\\\\/hr\\\\/zsh\\\\/wc\\\\/\":1,\"\\\\/ajax\\\\/bootloader-endpoint\\\\/\":1,\"\\\\/mobile\\\\/zero\\\\/carrier_page\\\\/\":1,\"\\\\/mobile\\\\/zero\\\\/carrier_page\\\\/education_page\\\\/\":1,\"\\\\/mobile\\\\/zero\\\\/carrier_page\\\\/feature_switch\\\\/\":1,\"\\\\/mobile\\\\/zero\\\\/carrier_page\\\\/settings_page\\\\/\":1,\"\\\\/aloha_check_build\":1,\"\\\\/upsell\\\\/zbd\\\\/softnudge\\\\/\":1,\"\\\\/mobile\\\\/zero\\\\/af_transition\\\\/\":1,\"\\\\/mobile\\\\/zero\\\\/af_transition\\\\/action\\\\/\":1,\"\\\\/mobile\\\\/zero\\\\/freemium\\\\/\":1,\"\\\\/mobile\\\\/zero\\\\/freemium\\\\/redirect\\\\/\":1,\"\\\\/mobile\\\\/zero\\\\/freemium\\\\/zero_fup\\\\/\":1,\"\\\\/privacy\\\\/policy\\\\/\":1,\"\\\\/privacy\\\\/center\\\\/\":1,\"\\\\/data\\\\/manifest\\\\/\":1,\"\\\\/cmon\":1,\"\\\\/cmon\\\\/\":1,\"\\\\/4oh4.php\":1,\"\\\\/autologin.php\":1,\"\\\\/birthday_help.php\":1,\"\\\\/checkpoint\\\\/\":1,\"\\\\/contact-importer\\\\/\":1,\"\\\\/cr.php\":1,\"\\\\/legal\\\\/terms\\\\/\":1,\"\\\\/login.php\":1,\"\\\\/login\\\\/\":1,\"\\\\/mobile\\\\/account\\\\/\":1,\"\\\\/n\\\\/\":1,\"\\\\/remote_test_device\\\\/\":1,\"\\\\/upsell\\\\/buy\\\\/\":1,\"\\\\/upsell\\\\/buyconfirm\\\\/\":1,\"\\\\/upsell\\\\/buyresult\\\\/\":1,\"\\\\/upsell\\\\/promos\\\\/\":1,\"\\\\/upsell\\\\/continue\\\\/\":1,\"\\\\/upsell\\\\/h\\\\/promos\\\\/\":1,\"\\\\/upsell\\\\/loan\\\\/learnmore\\\\/\":1,\"\\\\/upsell\\\\/purchase\\\\/\":1,\"\\\\/upsell\\\\/promos\\\\/upgrade\\\\/\":1,\"\\\\/upsell\\\\/buy_redirect\\\\/\":1,\"\\\\/upsell\\\\/loan\\\\/buyconfirm\\\\/\":1,\"\\\\/upsell\\\\/loan\\\\/buy\\\\/\":1,\"\\\\/upsell\\\\/sms\\\\/\":1,\"\\\\/wap\\\\/a\\\\/channel\\\\/reconnect.php\":1,\"\\\\/wap\\\\/a\\\\/nux\\\\/wizard\\\\/nav.php\":1,\"\\\\/wap\\\\/appreg.php\":1,\"\\\\/wap\\\\/birthday_help.php\":1,\"\\\\/wap\\\\/c.php\":1,\"\\\\/wap\\\\/confirmemail.php\":1,\"\\\\/wap\\\\/cr.php\":1,\"\\\\/wap\\\\/login.php\":1,\"\\\\/wap\\\\/r.php\":1,\"\\\\/zero\\\\/datapolicy\":1,\"\\\\/a\\\\/timezone.php\":1,\"\\\\/a\\\\/bz\":1,\"\\\\/bz\\\\/reliability\":1,\"\\\\/r.php\":1,\"\\\\/mr\\\\/\":1,\"\\\\/reg\\\\/\":1,\"\\\\/registration\\\\/log\\\\/\":1,\"\\\\/terms\\\\/\":1,\"\\\\/f123\\\\/\":1,\"\\\\/expert\\\\/\":1,\"\\\\/experts\\\\/\":1,\"\\\\/terms\\\\/index.php\":1,\"\\\\/terms.php\":1,\"\\\\/srr\\\\/\":1,\"\\\\/msite\\\\/redirect\\\\/\":1,\"\\\\/fbs\\\\/pixel\\\\/\":1,\"\\\\/contactpoint\\\\/preconfirmation\\\\/\":1,\"\\\\/contactpoint\\\\/cliff\\\\/\":1,\"\\\\/contactpoint\\\\/confirm\\\\/submit\\\\/\":1,\"\\\\/contactpoint\\\\/confirmed\\\\/\":1,\"\\\\/contactpoint\\\\/login\\\\/\":1,\"\\\\/preconfirmation\\\\/contactpoint_change\\\\/\":1,\"\\\\/help\\\\/contact\\\\/\":1,\"\\\\/survey\\\\/\":1,\"\\\\/upsell\\\\/loyaltytopup\\\\/accept\\\\/\":1,\"\\\\/settings\\\\/\":1,\"\\\\/lite\\\\/\":1,\"\\\\/zero_status_update\\\\/\":1,\"\\\\/operator_store\\\\/\":1,\"\\\\/upsell\\\\/\":1,\"\\\\/wifiauth\\\\/login\\\\/\":1}},1478],[\"DTSGInitData\",[],{\"token\":\"\",\"async_get_token\":\"\"},3515],[\"WebDriverConfig\",[],{\"isTestRunning\":false,\"isJestE2ETestRun\":false,\"isXRequestConfigEnabled\":false,\"auxiliaryServiceInfo\":{},\"testPath\":null,\"originHost\":null},5332],[\"EventConfig\",[],{\"sampling\":{\"bandwidth\":0,\"play\":0,\"playing\":0,\"progress\":0,\"pause\":0,\"ended\":0,\"seeked\":0,\"seeking\":0,\"waiting\":0,\"loadedmetadata\":0,\"canplay\":0,\"selectionchange\":0,\"change\":0,\"timeupdate\":0,\"adaptation\":0,\"focus\":0,\"blur\":0,\"load\":0,\"error\":0,\"message\":0,\"abort\":0,\"storage\":0,\"scroll\":200000,\"mousemove\":20000,\"mouseover\":10000,\"mouseout\":10000,\"mousewheel\":1,\"MSPointerMove\":10000,\"keydown\":0.1,\"click\":0.02,\"mouseup\":0.02,\"__100ms\":0.001,\"__default\":5000,\"__min\":100,\"__interactionDefault\":200,\"__eventDefault\":100000},\"page_sampling_boost\":1,\"interaction_regexes\":{},\"interaction_boost\":{},\"event_types\":{},\"manual_instrumentation\":false,\"profile_eager_execution\":false,\"disable_heuristic\":true,\"disable_event_profiler\":false},1726],[\"cr:8828\",[],{\"__rc\":[null,null]},-1],[\"cr:1094907\",[],{\"__rc\":[null,null]},-1],[\"cr:1183579\",[\"InlineFbtResultImpl\"],{\"__rc\":[\"InlineFbtResultImpl\",null]},-1],[\"cr:806696\",[\"clearTimeoutBlue\"],{\"__rc\":[\"clearTimeoutBlue\",null]},-1],[\"cr:807042\",[\"setTimeoutBlue\"],{\"__rc\":[\"setTimeoutBlue\",null]},-1],[\"FbtResultGK\",[],{\"shouldReturnFbtResult\":true,\"inlineMode\":\"NO_INLINE\"},876],[\"AdsInterfacesSessionConfig\",[],{},2393],[\"FbtQTOverrides\",[],{\"overrides\":{}},551],[\"AnalyticsCoreData\",[],{\"device_id\":\"$^|Aca5eLHuaMvdOc_L9P5cCgGqQR_GErNz7B5iRVzMfx0H6Z4kGO_7HMtLvhKbGRd7hizHTSsolwAQIs5cNvK-0ez9C5zi|fd.AcZ8zQYhj-h4H-PditUhfpk1c542gs4e09VemMR707UyG47JmFeclydK4lzzyCgzaebQP3_q2thkhoINYnoiMUjH\",\"app_id\":\"256281040558\",\"enable_bladerunner\":false,\"enable_ack\":true,\"push_phase\":\"C3\",\"enable_observer\":false,\"enable_cmcd_observer\":false,\"enable_dataloss_timer\":false,\"enable_fallback_for_br\":true,\"queue_activation_experiment\":false,\"max_delay_br_queue\":60000,\"max_delay_br_queue_immediate\":3,\"max_delay_br_init_not_complete\":3000,\"consents\":{},\"app_universe\":1,\"br_stateful_migration_on\":true,\"enable_non_fb_br_stateless_by_default\":false,\"use_falco_as_mutex_key\":false,\"is_intern\":false,\"enable_session_id_bug_fix\":true},5237]],\"require\":[[\"markJSEnabled\"],[\"lowerDomain\"],[\"URLFragmentPrelude\"],[\"Primer\"],[\"BigPipe\"],[\"Bootloader\"],[\"TimeSlice\"],[\"AsyncRequest\"],[\"FbtLogging\"],[\"IntlQtEventFalcoEvent\"],[\"RequireDeferredReference\",\"unblock\",[],[[\"AsyncRequest\",\"FbtLogging\",\"IntlQtEventFalcoEvent\"],\"sd\"]],[\"RequireDeferredReference\",\"unblock\",[],[[\"AsyncRequest\",\"FbtLogging\",\"IntlQtEventFalcoEvent\"],\"css\"]]]});});</script></head><body class=\"fbIndex UIPage_LoggedOut _-kb _605a b_c3pyn-ahh x1 Locale_fr_FR\" dir=\"ltr\"><script type=\"text/javascript\" nonce=\"7dHcsT19\">requireLazy([\"bootstrapWebSession\"],function(j){j(1730543896)})</script><div class=\"_li\" id=\"u_0_1_44\"><div id=\"globalContainer\" class=\"uiContextualLayerParent\"><div class=\"fb_content clearfix \" id=\"content\" role=\"main\"><div><div class=\"_8esj _95k9 _8esf _8opv _8f3m _8ilg _8icx _8op_ _95ka\"><div class=\"_8esk\"><div class=\"_8esl\"><div class=\"_8ice\"><img class=\"fb_logo _8ilh img\" src=\"https://static.xx.fbcdn.net/rsrc.php/y1/r/4lCu2zih0ca.svg\" alt=\"Facebook\" /></div><h2 class=\"_8eso\">Avec Facebook, partagez et restez en contact avec votre entourage.</h2></div><div class=\"_8esn\"><div class=\"_8iep _8icy _9ahz _9ah-\"><div class=\"_6luv _52jv\"><form class=\"_9vtf\" data-testid=\"royal_login_form\" action=\"/login/?privacy_mutation_token=eyJ0eXBlIjowLCJjcmVhdGlvbl90aW1lIjoxNzMwNTQzODk2LCJjYWxsc2l0ZV9pZCI6MzgxMjI5MDc5NTc1OTQ2fQ%3D%3D&amp;next\" method=\"post\" id=\"u_0_2_Uw\"><input type=\"hidden\" name=\"jazoest\" value=\"2991\" autocomplete=\"off\" /><input type=\"hidden\" name=\"lsd\" value=\"AVpDiEASyvc\" autocomplete=\"off\" /><div><div class=\"_6lux\"><input type=\"text\" class=\"inputtext _55r1 _6luy\" name=\"email\" id=\"email\" data-testid=\"royal_email\" placeholder=\"Adresse e-mail ou num&#xe9;ro de t&#xe9;l.\" autofocus=\"1\" aria-label=\"Adresse e-mail ou num&#xe9;ro de t&#xe9;l.\" /></div><div class=\"_6lux\"><div class=\"_6luy _55r1 _1kbt\" id=\"passContainer\"><input type=\"password\" class=\"inputtext _55r1 _6luy _9npi\" name=\"pass\" id=\"pass\" data-testid=\"royal_pass\" placeholder=\"Mot de passe\" aria-label=\"Mot de passe\" /><div class=\"_9ls7\" id=\"u_0_3_9C\"><a href=\"#\" role=\"button\"><div class=\"_9lsa\"><div class=\"_9lsb\" id=\"u_0_4_qI\"></div></div></a></div></div></div></div><input type=\"hidden\" autocomplete=\"off\" name=\"login_source\" value=\"comet_headerless_login\" /><input type=\"hidden\" autocomplete=\"off\" name=\"next\" value=\"\" /><div class=\"_6ltg\"><button value=\"1\" class=\"_42ft _4jy0 _6lth _4jy6 _4jy1 selected _51sy\" name=\"login\" data-testid=\"royal_login_button\" type=\"submit\" id=\"u_0_5_Pc\">Se connecter</button></div><div class=\"_6ltj\"><a href=\"https://www.facebook.com/recover/initiate/?privacy_mutation_token=eyJ0eXBlIjowLCJjcmVhdGlvbl90aW1lIjoxNzMwNTQzODk2LCJjYWxsc2l0ZV9pZCI6MzgxMjI5MDc5NTc1OTQ2fQ%3D%3D&amp;ars=facebook_login&amp;next\">Mot de passe oublié\\xa0?</a></div><div class=\"_8icz\"></div><div class=\"_6ltg\"><a role=\"button\" class=\"_42ft _4jy0 _6lti _4jy6 _4jy2 selected _51sy\" href=\"/r.php\" ajaxify=\"\" id=\"u_0_0_LR\" data-testid=\"open-registration-form-button\">Créer nouveau compte</a></div></form></div><div id=\"reg_pages_msg\" class=\"_58mk\"><a href=\"/pages/create/?ref_type=registration_form\" class=\"_8esh\">Créer une Page</a> pour une célébrité, une marque ou une entreprise.</div></div></div></div></div></div></div><div class=\"\"><div class=\"_95ke _8opy\"><div id=\"pageFooter\" data-referrer=\"page_footer\" data-testid=\"page_footer\"><ul class=\"uiList localeSelectorList _2pid _509- _4ki _6-h _6-j _6-i\" data-nocookies=\"1\"><li>Français (France)</li><li><a class=\"_sv4\" dir=\"rtl\" href=\"https://www.facebook.com/\" title=\"Arabic\" id=\"u_0_6_5+\">العربية</a></li><li><a class=\"_sv4\" dir=\"ltr\" href=\"https://ar-ar.facebook.com/\" title=\"English (US)\" id=\"u_0_7_WQ\">English (US)</a></li><li><a class=\"_sv4\" dir=\"ltr\" href=\"https://www.facebook.com/\" title=\"Italian\" id=\"u_0_8_7H\">Italiano</a></li><li><a class=\"_sv4\" dir=\"ltr\" href=\"https://it-it.facebook.com/\" title=\"German\" id=\"u_0_9_Fe\">Deutsch</a></li><li><a class=\"_sv4\" dir=\"ltr\" href=\"https://de-de.facebook.com/\" title=\"Spanish\" id=\"u_0_a_1t\">Español</a></li><li><a class=\"_sv4\" dir=\"ltr\" href=\"https://es-la.facebook.com/\" title=\"Russian\" id=\"u_0_b_6C\">Русский</a></li><li><a class=\"_sv4\" dir=\"ltr\" href=\"https://ru-ru.facebook.com/\" title=\"Portuguese (Brazil)\" id=\"u_0_c_6U\">Português (Brasil)</a></li><li><a class=\"_sv4\" dir=\"ltr\" href=\"https://pt-br.facebook.com/\" title=\"Hindi\" id=\"u_0_d_Vz\">हिन्दी</a></li><li><a class=\"_sv4\" dir=\"ltr\" href=\"https://hi-in.facebook.com/\" title=\"Simplified Chinese (China)\" id=\"u_0_e_HL\">中文(简体)</a></li><li><a class=\"_sv4\" dir=\"ltr\" href=\"https://zh-cn.facebook.com/\" title=\"Japanese\" id=\"u_0_f_ov\">日本語</a></li><li><a role=\"button\" class=\"_42ft _4jy0 _517i _517h _51sy\" rel=\"dialog\" ajaxify=\"/settings/language/language/?uri=https%3A%2F%2Fja-jp.facebook.com%2F&amp;source=www_list_selector_more\" href=\"#\" title=\"Voir plus de langues\"><i class=\"img sp_zdwpDYaFwZF sx_db60e6\"></i></a></li></ul><div id=\"contentCurve\"></div><div id=\"pageFooterChildren\" role=\"contentinfo\" aria-label=\"Liens Facebook\"><ul class=\"uiList pageFooterLinkList _509- _4ki _703 _6-i\"><li><a href=\"/reg/\" title=\"Inscrivez-vous sur Facebook\">S’inscrire</a></li><li><a href=\"/login/\" title=\"Se connecter &#xe0; Facebook\">Se connecter</a></li><li><a href=\"https://messenger.com/\" title=\"Essayez Messenger.\">Messenger</a></li><li><a href=\"/lite/\" title=\"Facebook Lite pour Android.\">Facebook Lite</a></li><li><a href=\"https://www.facebook.com/watch/\" title=\"Naviguez dans Vid&#xe9;o\">Vidéo</a></li><li><a href=\"/places/\" title=\"D&#xe9;couvrez les lieux populaires sur Facebook.\">Lieux</a></li><li><a href=\"/games/\" title=\"D&#xe9;couvrez les jeux Facebook.\">Jeux</a></li><li><a href=\"/marketplace/\" title=\"Achetez et vendez sur Facebook Marketplace.\">Marketplace</a></li><li><a href=\"https://about.meta.com/technologies/meta-pay\" title=\"En savoir plus sur Meta Pay\" target=\"_blank\">Meta Pay</a></li><li><a href=\"https://www.meta.com/\" title=\"D&#xe9;couvrez Meta\" target=\"_blank\">Meta Store</a></li><li><a href=\"https://www.meta.com/quest/\" title=\"En savoir plus sur Meta Quest\" target=\"_blank\">Meta\\xa0Quest</a></li><li><a href=\"https://www.meta.com/smart-glasses/\" title=\"En savoir plus sur Ray-Ban&#xa0;Meta\" target=\"_blank\">Ray-Ban\\xa0Meta</a></li><li><a href=\"https://www.meta.ai/\" title=\"Meta&#xa0;AI\">Meta\\xa0AI</a></li><li><a href=\"https://l.facebook.com/l.php?u=https%3A%2F%2Fwww.instagram.com%2F&amp;h=AT10E0wObvExk3zxB64fEBxNkG7L6mEdKdALeCn0_0RMKgFqfPrgNRnJJmOYqQiv0Akld0ZNA8-UxxuNQ_aouwdqc_uszv4rS48rrdZAUHorKs1YJ7b7t8MItOZ-4GWCEuCsbpm6h67Vb4Oo\" title=\"D&#xe9;couvrez Instagram\" target=\"_blank\" rel=\"nofollow\" data-lynx-mode=\"hover\">Instagram</a></li><li><a href=\"https://www.threads.net/\" title=\"D&#xe9;couvrez Threads\">Threads</a></li><li><a href=\"/fundraisers/\" title=\"Faire un don &#xe0; des causes qui le m&#xe9;ritent.\">Collectes de dons</a></li><li><a href=\"/biz/directory/\" title=\"Parcourir notre annuaire des services Facebook.\">Services</a></li><li><a href=\"/votinginformationcenter/?entry_point=c2l0ZQ%3D%3D\" title=\"Voir le Centre d&#x2019;information sur les &#xe9;lections.\">Centre d’information sur les élections</a></li><li><a href=\"/privacy/policy/?entry_point=facebook_page_footer\" title=\"D&#xe9;couvrez comment nous collectons, utilisons et partageons les informations pour faire fonctionner Facebook.\">Politique de confidentialité</a></li><li><a href=\"/privacy/center/?entry_point=facebook_page_footer\" title=\"D&#xe9;couvrez comment g&#xe9;rer et contr&#xf4;ler votre confidentialit&#xe9; sur Facebook.\">Centre de confidentialité</a></li><li><a href=\"/groups/discover/\" title=\"D&#xe9;couvrir nos groupes.\">Groupes</a></li><li><a href=\"https://about.meta.com/\" accesskey=\"8\" title=\"Consultez notre blog, d&#xe9;couvrez notre centre de ressources et recherchez des offres d&#x2019;emploi.\">À propos</a></li><li><a href=\"/ad_campaign/landing.php?placement=pflo&amp;campaign_id=402047449186&amp;nav_source=unknown&amp;extra_1=auto\" title=\"Diffusez votre publicit&#xe9; sur Facebook.\">Créer une publicité</a></li><li><a href=\"/pages/create/?ref_type=site_footer\" title=\"Cr&#xe9;ez une Page.\">Créer une Page</a></li><li><a href=\"https://developers.facebook.com/?ref=pf\" title=\"D&#xe9;veloppez sur notre propre plateforme.\">Développeurs</a></li><li><a href=\"/careers/?ref=pf\" title=\"Faites &#xe9;voluer votre carri&#xe8;re en rejoignant notre incroyable entreprise.\">Emplois</a></li><li><a href=\"/policies/cookies/\" title=\"&#xc0; propos des cookies et de Facebook.\" data-nocookies=\"1\">Cookies</a></li><li><a class=\"_41ug\" data-nocookies=\"1\" href=\"https://www.facebook.com/help/568137493302217\" title=\"En savoir plus sur Choisir sa publicit&#xe9;.\">Choisir sa publicité<i class=\"img sp_zdwpDYaFwZF sx_470b13\"></i></a></li><li><a data-nocookies=\"1\" href=\"/policies?ref=pf\" accesskey=\"9\" title=\"Prenez connaissance des conditions g&#xe9;n&#xe9;rales et des r&#xe8;glements.\">Conditions générales</a></li><li><a href=\"/help/?ref=pf\" accesskey=\"0\" title=\"Consultez les pages d&#x2019;aide.\">Aide</a></li><li><a href=\"help/637205020878504\" title=\"Consultez notre avis sur l&#x2019;importation des contacts et les non-utilisateurs.\">Importation des contacts et non-utilisateurs</a></li><li><a accesskey=\"6\" class=\"accessible_elem\" href=\"/settings\" title=\"Affichez et modifiez vos param&#xe8;tres Facebook.\">Paramètres</a></li><li><a accesskey=\"7\" class=\"accessible_elem\" href=\"/allactivity?privacy_source=activity_log_top_menu\" title=\"Affichez votre Historique d&#x2019;activit&#xe9;\">Historique d’activité</a></li></ul></div><div class=\"mvl copyright\"><div><span> Meta © 2024</span></div></div></div></div></div></div><div></div><span><img src=\"https://facebook.com/security/hsts-pixel.gif?c=3.2.5\" width=\"0\" height=\"0\" style=\"display:none\" /></span></div><div style=\"display:none\"></div>\\n<script nonce=\"7dHcsT19\">requireLazy([\"HasteSupportData\"],function(m){m.handle({\"bxData\":{\"875231\":{\"uri\":\"https:\\\\/\\\\/static.xx.fbcdn.net\\\\/rsrc.php\\\\/yT\\\\/r\\\\/aGT3gskzWBf.ico\"}},\"clpData\":{\"1744178\":{\"r\":1,\"s\":1},\"1743095\":{\"r\":1,\"s\":1}},\"gkxData\":{\"1624\":{\"result\":false,\"hash\":null},\"2160\":{\"result\":false,\"hash\":null},\"5679\":{\"result\":false,\"hash\":null},\"7541\":{\"result\":false,\"hash\":null},\"20836\":{\"result\":false,\"hash\":null},\"21050\":{\"result\":false,\"hash\":null},\"21051\":{\"result\":false,\"hash\":null},\"21052\":{\"result\":false,\"hash\":null},\"21053\":{\"result\":false,\"hash\":null},\"21054\":{\"result\":false,\"hash\":null},\"21055\":{\"result\":false,\"hash\":null},\"21056\":{\"result\":false,\"hash\":null},\"21057\":{\"result\":false,\"hash\":null},\"21058\":{\"result\":false,\"hash\":null},\"21049\":{\"result\":false,\"hash\":null},\"21116\":{\"result\":false,\"hash\":null}},\"qplData\":{\"2444\":{\"r\":100}},\"justknobxData\":{\"2233\":{\"r\":true}}})});requireLazy([\"Bootloader\"],function(m){m.handlePayload({\"consistency\":{\"rev\":1017898612},\"rsrcMap\":{\"\\\\/JZR4F\\\\/\":{\"type\":\"js\",\"src\":\"https:\\\\/\\\\/static.xx.fbcdn.net\\\\/rsrc.php\\\\/v3\\\\/yq\\\\/r\\\\/szSrDf3yAfN.js\"},\"Af5msXa\":{\"type\":\"js\",\"src\":\"https:\\\\/\\\\/static.xx.fbcdn.net\\\\/rsrc.php\\\\/v3iTOp4\\\\/yu\\\\/l\\\\/fr_FR\\\\/-7SoqkOoiBI.js\"},\"9NiATAn\":{\"type\":\"js\",\"src\":\"https:\\\\/\\\\/static.xx.fbcdn.net\\\\/rsrc.php\\\\/v3\\\\/yv\\\\/r\\\\/yRuFCzueB7p.js\"},\"+KjJUiq\":{\"type\":\"js\",\"src\":\"https:\\\\/\\\\/static.xx.fbcdn.net\\\\/rsrc.php\\\\/v3\\\\/yr\\\\/r\\\\/XFEPK2Ku-0b.js\"},\"hKUHRHk\":{\"type\":\"js\",\"src\":\"https:\\\\/\\\\/static.xx.fbcdn.net\\\\/rsrc.php\\\\/v3\\\\/yS\\\\/r\\\\/o4gjb2QTWOc.js\"},\"QbnjCmb\":{\"type\":\"js\",\"src\":\"https:\\\\/\\\\/static.xx.fbcdn.net\\\\/rsrc.php\\\\/v3\\\\/yZ\\\\/r\\\\/R8ZTLxqI2uK.js\"},\"Oj0mThQ\":{\"type\":\"js\",\"src\":\"https:\\\\/\\\\/static.xx.fbcdn.net\\\\/rsrc.php\\\\/v3\\\\/yR\\\\/r\\\\/zyFZN9-2ZLH.js\"},\"0Ta7b1B\":{\"type\":\"js\",\"src\":\"https:\\\\/\\\\/static.xx.fbcdn.net\\\\/rsrc.php\\\\/v3\\\\/ya\\\\/r\\\\/p9cZsB-TbNv.js\"},\"drZQBvZ\":{\"type\":\"js\",\"src\":\"https:\\\\/\\\\/static.xx.fbcdn.net\\\\/rsrc.php\\\\/v3\\\\/yV\\\\/r\\\\/kIG4hEfCaJD.js\"},\"Ji3N1aT\":{\"type\":\"js\",\"src\":\"https:\\\\/\\\\/static.xx.fbcdn.net\\\\/rsrc.php\\\\/v3i_uz4\\\\/yv\\\\/l\\\\/fr_FR\\\\/4R__eoncax-.js\"},\"8Jen1Hc\":{\"type\":\"js\",\"src\":\"https:\\\\/\\\\/static.xx.fbcdn.net\\\\/rsrc.php\\\\/v3i4eI4\\\\/yJ\\\\/l\\\\/fr_FR\\\\/f5rsuwjZliJ.js\"},\"2tA1inM\":{\"type\":\"js\",\"src\":\"https:\\\\/\\\\/static.xx.fbcdn.net\\\\/rsrc.php\\\\/v3iU8s4\\\\/yh\\\\/l\\\\/fr_FR\\\\/hYuL1LY6aXB.js\"},\"81EcBFr\":{\"type\":\"css\",\"src\":\"https:\\\\/\\\\/static.xx.fbcdn.net\\\\/rsrc.php\\\\/v4\\\\/y7\\\\/l\\\\/0,cross\\\\/nFTNVI0edNx.css\"},\"GAXC9eR\":{\"type\":\"js\",\"src\":\"https:\\\\/\\\\/static.xx.fbcdn.net\\\\/rsrc.php\\\\/v3ibup4\\\\/yH\\\\/l\\\\/fr_FR\\\\/00HYLucbCy2.js\"},\"Ftl2VZm\":{\"type\":\"js\",\"src\":\"https:\\\\/\\\\/static.xx.fbcdn.net\\\\/rsrc.php\\\\/v3\\\\/yK\\\\/r\\\\/lNInKxOqejp.js\"},\"n9nzybz\":{\"type\":\"js\",\"src\":\"https:\\\\/\\\\/static.xx.fbcdn.net\\\\/rsrc.php\\\\/v3\\\\/y3\\\\/r\\\\/aRS1ewpYUAP.js\"},\"ZQJBl8g\":{\"type\":\"js\",\"src\":\"https:\\\\/\\\\/static.xx.fbcdn.net\\\\/rsrc.php\\\\/v3\\\\/yQ\\\\/r\\\\/GhZEvSLVF3e.js\"},\"TQd9YNC\":{\"type\":\"js\",\"src\":\"https:\\\\/\\\\/static.xx.fbcdn.net\\\\/rsrc.php\\\\/v3\\\\/yy\\\\/r\\\\/87GSDM0JjOe.js\"},\"Wp66DuT\":{\"type\":\"js\",\"src\":\"https:\\\\/\\\\/static.xx.fbcdn.net\\\\/rsrc.php\\\\/v3\\\\/yU\\\\/r\\\\/8jiWhI0V9t8.js\"},\"3Dawd2q\":{\"type\":\"js\",\"src\":\"https:\\\\/\\\\/static.xx.fbcdn.net\\\\/rsrc.php\\\\/v3iNG14\\\\/y7\\\\/l\\\\/fr_FR\\\\/ylyTmy7Tpht.js\"},\"+2mYsBo\":{\"type\":\"js\",\"src\":\"https:\\\\/\\\\/static.xx.fbcdn.net\\\\/rsrc.php\\\\/v3\\\\/yd\\\\/r\\\\/ACVCSlW0ASp.js\"},\"0n72zgh\":{\"type\":\"js\",\"src\":\"https:\\\\/\\\\/static.xx.fbcdn.net\\\\/rsrc.php\\\\/v3iLjp4\\\\/yK\\\\/l\\\\/fr_FR\\\\/aSn4g_62vOz.js\"},\"2mxEpDK\":{\"type\":\"js\",\"src\":\"https:\\\\/\\\\/static.xx.fbcdn.net\\\\/rsrc.php\\\\/v3\\\\/yC\\\\/r\\\\/2VJN_e4a2Kt.js\"},\"PfStd3o\":{\"type\":\"js\",\"src\":\"https:\\\\/\\\\/static.xx.fbcdn.net\\\\/rsrc.php\\\\/v3iSwL4\\\\/y0\\\\/l\\\\/fr_FR\\\\/8g7vsWW8InQ.js\"},\"zJGop3b\":{\"type\":\"js\",\"src\":\"https:\\\\/\\\\/static.xx.fbcdn.net\\\\/rsrc.php\\\\/v3i0tA4\\\\/yX\\\\/l\\\\/fr_FR\\\\/uXPCtnd2FUw.js\"},\"JouLeRi\":{\"type\":\"js\",\"src\":\"https:\\\\/\\\\/static.xx.fbcdn.net\\\\/rsrc.php\\\\/v3\\\\/yz\\\\/r\\\\/UDFCsXtDquD.js\"},\"bi6Pwin\":{\"type\":\"js\",\"src\":\"https:\\\\/\\\\/static.xx.fbcdn.net\\\\/rsrc.php\\\\/v3\\\\/yy\\\\/r\\\\/C30J8i3mzTa.js\"},\"INtuorP\":{\"type\":\"css\",\"src\":\"https:\\\\/\\\\/static.xx.fbcdn.net\\\\/rsrc.php\\\\/v4\\\\/y8\\\\/l\\\\/0,cross\\\\/WbHHqBT9XK9.css\"},\"tU6E5Hz\":{\"type\":\"css\",\"src\":\"https:\\\\/\\\\/static.xx.fbcdn.net\\\\/rsrc.php\\\\/v4\\\\/yH\\\\/l\\\\/0,cross\\\\/l9i6_IIKzZ1.css\"},\"paWo8RI\":{\"type\":\"js\",\"src\":\"https:\\\\/\\\\/static.xx.fbcdn.net\\\\/rsrc.php\\\\/v3i87J4\\\\/yM\\\\/l\\\\/fr_FR\\\\/jXEXkEqRNOU.js\"},\"o2vDwxa\":{\"type\":\"js\",\"src\":\"https:\\\\/\\\\/static.xx.fbcdn.net\\\\/rsrc.php\\\\/v3\\\\/yL\\\\/r\\\\/yNE1nISLkjb.js\"},\"u6WUKHu\":{\"type\":\"js\",\"src\":\"https:\\\\/\\\\/static.xx.fbcdn.net\\\\/rsrc.php\\\\/v3ihdO4\\\\/y6\\\\/l\\\\/fr_FR\\\\/HgJe0km-S62.js\"},\"\\\\/Ns8RBM\":{\"type\":\"js\",\"src\":\"https:\\\\/\\\\/static.xx.fbcdn.net\\\\/rsrc.php\\\\/v3\\\\/yS\\\\/r\\\\/tZOq-l13ojS.js\"},\"+5BkjM1\":{\"type\":\"js\",\"src\":\"https:\\\\/\\\\/static.xx.fbcdn.net\\\\/rsrc.php\\\\/v3iSow4\\\\/yj\\\\/l\\\\/fr_FR\\\\/L5Bj_C4GpWZ.js\"},\"Dlwhc6o\":{\"type\":\"js\",\"src\":\"https:\\\\/\\\\/static.xx.fbcdn.net\\\\/rsrc.php\\\\/v3\\\\/yE\\\\/r\\\\/IzSeOp8I4pJ.js\"},\"7VTNsO0\":{\"type\":\"js\",\"src\":\"https:\\\\/\\\\/static.xx.fbcdn.net\\\\/rsrc.php\\\\/v3i2L54\\\\/y0\\\\/l\\\\/fr_FR\\\\/pdYkLwYl6BI.js\"},\"IJOQrqz\":{\"type\":\"js\",\"src\":\"https:\\\\/\\\\/static.xx.fbcdn.net\\\\/rsrc.php\\\\/v3\\\\/ys\\\\/r\\\\/F5CZwPY2EBc.js\"},\"GVfwk+L\":{\"type\":\"js\",\"src\":\"https:\\\\/\\\\/static.xx.fbcdn.net\\\\/rsrc.php\\\\/v3\\\\/yv\\\\/r\\\\/iwBzEfuivdq.js\"},\"ac6duTw\":{\"type\":\"css\",\"src\":\"https:\\\\/\\\\/static.xx.fbcdn.net\\\\/rsrc.php\\\\/v4\\\\/yp\\\\/l\\\\/0,cross\\\\/Oh5ampitrCM.css\"},\"Dx1M3d\\\\/\":{\"type\":\"js\",\"src\":\"https:\\\\/\\\\/static.xx.fbcdn.net\\\\/rsrc.php\\\\/v3\\\\/y5\\\\/r\\\\/bfGo2Ti9HXM.js\"},\"5znZkTc\":{\"type\":\"js\",\"src\":\"https:\\\\/\\\\/static.xx.fbcdn.net\\\\/rsrc.php\\\\/v3iKro4\\\\/y6\\\\/l\\\\/fr_FR\\\\/v0PZwF2REp2.js\"},\"O9NcRwy\":{\"type\":\"js\",\"src\":\"https:\\\\/\\\\/static.xx.fbcdn.net\\\\/rsrc.php\\\\/v3irAd4\\\\/y1\\\\/l\\\\/fr_FR\\\\/_z6hWJP6Evn.js\"},\"i9rcSG0\":{\"type\":\"js\",\"src\":\"https:\\\\/\\\\/static.xx.fbcdn.net\\\\/rsrc.php\\\\/v3iYxi4\\\\/y3\\\\/l\\\\/fr_FR\\\\/idPANCZmd_R.js\"},\"aIMpLwa\":{\"type\":\"js\",\"src\":\"https:\\\\/\\\\/static.xx.fbcdn.net\\\\/rsrc.php\\\\/v3imft4\\\\/y6\\\\/l\\\\/fr_FR\\\\/fGqv9bBjPJ5.js\"},\"S98j\\\\/yc\":{\"type\":\"js\",\"src\":\"https:\\\\/\\\\/static.xx.fbcdn.net\\\\/rsrc.php\\\\/v3ilqI4\\\\/yN\\\\/l\\\\/fr_FR\\\\/budzs_j_1o7.js\"},\"s\\\\/iDMuG\":{\"type\":\"css\",\"src\":\"https:\\\\/\\\\/static.xx.fbcdn.net\\\\/rsrc.php\\\\/v4\\\\/y_\\\\/l\\\\/0,cross\\\\/W8wmfp13cRw.css\"},\"e+XQ0qk\":{\"type\":\"js\",\"src\":\"https:\\\\/\\\\/static.xx.fbcdn.net\\\\/rsrc.php\\\\/v3iNIk4\\\\/yY\\\\/l\\\\/fr_FR\\\\/O2DVVB1-Z9T.js\"},\"Bk6w77a\":{\"type\":\"css\",\"src\":\"https:\\\\/\\\\/static.xx.fbcdn.net\\\\/rsrc.php\\\\/v4\\\\/ym\\\\/l\\\\/0,cross\\\\/M7_Tz09SkyS.css\"},\"CpAhVZZ\":{\"type\":\"js\",\"src\":\"https:\\\\/\\\\/static.xx.fbcdn.net\\\\/rsrc.php\\\\/v3ihml4\\\\/y3\\\\/l\\\\/fr_FR\\\\/190Rw-ccUKZ.js\"},\"CWf37w2\":{\"type\":\"css\",\"src\":\"https:\\\\/\\\\/static.xx.fbcdn.net\\\\/rsrc.php\\\\/v4\\\\/yL\\\\/l\\\\/0,cross\\\\/R3L_o-Z631q.css\"},\"OmTZdta\":{\"type\":\"css\",\"src\":\"https:\\\\/\\\\/static.xx.fbcdn.net\\\\/rsrc.php\\\\/v4\\\\/yW\\\\/l\\\\/0,cross\\\\/ETzXe9ULR6H.css\"},\"jGcZiJF\":{\"type\":\"css\",\"src\":\"https:\\\\/\\\\/static.xx.fbcdn.net\\\\/rsrc.php\\\\/v4\\\\/yg\\\\/l\\\\/0,cross\\\\/8HWByezTc5C.css\"},\"ukQqm8V\":{\"type\":\"js\",\"src\":\"https:\\\\/\\\\/static.xx.fbcdn.net\\\\/rsrc.php\\\\/v3ikQ04\\\\/yt\\\\/l\\\\/fr_FR\\\\/hSKee3uN1Nm.js\"},\"lNEqbfm\":{\"type\":\"js\",\"src\":\"https:\\\\/\\\\/static.xx.fbcdn.net\\\\/rsrc.php\\\\/v3i1eX4\\\\/yZ\\\\/l\\\\/fr_FR\\\\/fcYRWxUJ7GB.js\"},\"rNiwnly\":{\"type\":\"js\",\"src\":\"https:\\\\/\\\\/static.xx.fbcdn.net\\\\/rsrc.php\\\\/v3\\\\/yo\\\\/r\\\\/KDCWxQIcmAb.js\"},\"WxJBq+9\":{\"type\":\"js\",\"src\":\"https:\\\\/\\\\/static.xx.fbcdn.net\\\\/rsrc.php\\\\/v3\\\\/y7\\\\/r\\\\/bJ-Wl6GxdrD.js\"},\"RU+rlf6\":{\"type\":\"js\",\"src\":\"https:\\\\/\\\\/static.xx.fbcdn.net\\\\/rsrc.php\\\\/v3iJvX4\\\\/yG\\\\/l\\\\/fr_FR\\\\/dTVkfNY2S1f.js\"},\"v96UihS\":{\"type\":\"js\",\"src\":\"https:\\\\/\\\\/static.xx.fbcdn.net\\\\/rsrc.php\\\\/v3iuik4\\\\/yt\\\\/l\\\\/fr_FR\\\\/32N2HL8KL3h.js\"},\"u7SRlPN\":{\"type\":\"js\",\"src\":\"https:\\\\/\\\\/static.xx.fbcdn.net\\\\/rsrc.php\\\\/v3\\\\/yF\\\\/r\\\\/sy31-4b9OWG.js\"},\"HDEirJw\":{\"type\":\"js\",\"src\":\"https:\\\\/\\\\/static.xx.fbcdn.net\\\\/rsrc.php\\\\/v3\\\\/yy\\\\/r\\\\/5IlZoEUmiTe.js\"},\"p0S2cNh\":{\"type\":\"js\",\"src\":\"https:\\\\/\\\\/static.xx.fbcdn.net\\\\/rsrc.php\\\\/v3\\\\/yL\\\\/r\\\\/O_3se-VPkdK.js\"},\"qd\\\\/xc5P\":{\"type\":\"js\",\"src\":\"https:\\\\/\\\\/static.xx.fbcdn.net\\\\/rsrc.php\\\\/v3\\\\/yl\\\\/r\\\\/PuvUCC3dZ8K.js\"},\"C6etob2\":{\"type\":\"js\",\"src\":\"https:\\\\/\\\\/static.xx.fbcdn.net\\\\/rsrc.php\\\\/v3iHYI4\\\\/yU\\\\/l\\\\/fr_FR\\\\/u1ZZdhbBxw9.js\"},\"3QBOKTC\":{\"type\":\"js\",\"src\":\"https:\\\\/\\\\/static.xx.fbcdn.net\\\\/rsrc.php\\\\/v3\\\\/yH\\\\/r\\\\/AL5LllrA1f0.js\"},\"b9sATVO\":{\"type\":\"js\",\"src\":\"https:\\\\/\\\\/static.xx.fbcdn.net\\\\/rsrc.php\\\\/v3\\\\/yt\\\\/r\\\\/oXAkgPAYF7S.js\"},\"ERuOhRo\":{\"type\":\"css\",\"src\":\"https:\\\\/\\\\/static.xx.fbcdn.net\\\\/rsrc.php\\\\/v4\\\\/y3\\\\/l\\\\/0,cross\\\\/WilWx-RAdTT.css\"},\"3iYupIA\":{\"type\":\"css\",\"src\":\"https:\\\\/\\\\/static.xx.fbcdn.net\\\\/rsrc.php\\\\/v4\\\\/y4\\\\/l\\\\/0,cross\\\\/Nv5G9I6Jhfy.css\"},\"nVAeOOP\":{\"type\":\"js\",\"src\":\"https:\\\\/\\\\/static.xx.fbcdn.net\\\\/rsrc.php\\\\/v3i9-84\\\\/yy\\\\/l\\\\/fr_FR\\\\/ClV_ZIYtNtN.js\"},\"AI\\\\/5Wpf\":{\"type\":\"js\",\"src\":\"https:\\\\/\\\\/static.xx.fbcdn.net\\\\/rsrc.php\\\\/v3iU8s4\\\\/yu\\\\/l\\\\/fr_FR\\\\/l2OqiPUWCLM.js\"},\"G2iy9Ox\":{\"type\":\"js\",\"src\":\"https:\\\\/\\\\/static.xx.fbcdn.net\\\\/rsrc.php\\\\/v3\\\\/y3\\\\/r\\\\/NHTmQ4aEe1Y.js\"},\"b\\\\/rYFtF\":{\"type\":\"js\",\"src\":\"https:\\\\/\\\\/static.xx.fbcdn.net\\\\/rsrc.php\\\\/v3\\\\/yB\\\\/r\\\\/hGd1ihAEoHH.js\"},\"yMgn4BF\":{\"type\":\"js\",\"src\":\"https:\\\\/\\\\/static.xx.fbcdn.net\\\\/rsrc.php\\\\/v3\\\\/yA\\\\/r\\\\/-u-KeKSHGqH.js\"},\"xn\\\\/7DkG\":{\"type\":\"css\",\"src\":\"https:\\\\/\\\\/static.xx.fbcdn.net\\\\/rsrc.php\\\\/v4\\\\/y0\\\\/l\\\\/0,cross\\\\/8ENYH16uMP3.css\"},\"HBK9MF6\":{\"type\":\"js\",\"src\":\"https:\\\\/\\\\/static.xx.fbcdn.net\\\\/rsrc.php\\\\/v3i6Zu4\\\\/y-\\\\/l\\\\/fr_FR\\\\/ceXjEqL77H9.js\"},\"S4TAVaX\":{\"type\":\"js\",\"src\":\"https:\\\\/\\\\/static.xx.fbcdn.net\\\\/rsrc.php\\\\/v3\\\\/yc\\\\/r\\\\/4uxXdncaFwH.js\"},\"hJxyygk\":{\"type\":\"js\",\"src\":\"https:\\\\/\\\\/static.xx.fbcdn.net\\\\/rsrc.php\\\\/v3i7xo4\\\\/y5\\\\/l\\\\/fr_FR\\\\/Da7LzqvAjRm.js\"},\"sjXydRU\":{\"type\":\"js\",\"src\":\"https:\\\\/\\\\/static.xx.fbcdn.net\\\\/rsrc.php\\\\/v3iUNf4\\\\/yH\\\\/l\\\\/fr_FR\\\\/yW1kL83M-4C.js\"},\"RwNGFt8\":{\"type\":\"js\",\"src\":\"https:\\\\/\\\\/static.xx.fbcdn.net\\\\/rsrc.php\\\\/v3\\\\/yR\\\\/r\\\\/NTBXcpfVOaa.js\"},\"VB4zTC3\":{\"type\":\"js\",\"src\":\"https:\\\\/\\\\/static.xx.fbcdn.net\\\\/rsrc.php\\\\/v3\\\\/yy\\\\/r\\\\/ozTlFblbI9G.js\"},\"xsFg75a\":{\"type\":\"js\",\"src\":\"https:\\\\/\\\\/static.xx.fbcdn.net\\\\/rsrc.php\\\\/v3\\\\/yt\\\\/r\\\\/mnLc1TS2Wp-.js\"},\"GXq0SB+\":{\"type\":\"js\",\"src\":\"https:\\\\/\\\\/static.xx.fbcdn.net\\\\/rsrc.php\\\\/v3\\\\/yT\\\\/r\\\\/YOdxXwd2SPx.js\"},\"rCasuzG\":{\"type\":\"js\",\"src\":\"https:\\\\/\\\\/static.xx.fbcdn.net\\\\/rsrc.php\\\\/v3\\\\/yA\\\\/r\\\\/OzWmCcYw0wO.js\"},\"3lRRSja\":{\"type\":\"js\",\"src\":\"https:\\\\/\\\\/static.xx.fbcdn.net\\\\/rsrc.php\\\\/v3iblD4\\\\/yC\\\\/l\\\\/fr_FR\\\\/XJpH7LQhIAT.js\"},\"SWx3yNv\":{\"type\":\"js\",\"src\":\"https:\\\\/\\\\/static.xx.fbcdn.net\\\\/rsrc.php\\\\/v3\\\\/y7\\\\/r\\\\/g__eV5OXSXl.js\"},\"FcSL4qY\":{\"type\":\"js\",\"src\":\"https:\\\\/\\\\/static.xx.fbcdn.net\\\\/rsrc.php\\\\/v3iPQ54\\\\/yH\\\\/l\\\\/fr_FR\\\\/VbxtGSHnC5J.js\"},\"XrE1jYq\":{\"type\":\"js\",\"src\":\"https:\\\\/\\\\/static.xx.fbcdn.net\\\\/rsrc.php\\\\/v3\\\\/yk\\\\/r\\\\/BP3BbFKjR0F.js\"},\"x22Oby4\":{\"type\":\"js\",\"src\":\"https:\\\\/\\\\/static.xx.fbcdn.net\\\\/rsrc.php\\\\/v3\\\\/yZ\\\\/r\\\\/tVshp1OIV9l.js\"},\"8ELCBwH\":{\"type\":\"js\",\"src\":\"https:\\\\/\\\\/static.xx.fbcdn.net\\\\/rsrc.php\\\\/v3\\\\/ye\\\\/r\\\\/VRzSVH5iU-V.js\"},\"I+GHswV\":{\"type\":\"js\",\"src\":\"https:\\\\/\\\\/static.xx.fbcdn.net\\\\/rsrc.php\\\\/v3\\\\/yS\\\\/r\\\\/ui2DkP-wt_7.js\"},\"vdNQr9P\":{\"type\":\"js\",\"src\":\"https:\\\\/\\\\/static.xx.fbcdn.net\\\\/rsrc.php\\\\/v3\\\\/yj\\\\/r\\\\/FiVT6nDibIJ.js\"},\"\\\\/6OScYB\":{\"type\":\"js\",\"src\":\"https:\\\\/\\\\/static.xx.fbcdn.net\\\\/rsrc.php\\\\/v3\\\\/yW\\\\/r\\\\/z6oeeyX5c47.js\"},\"H\\\\/5lfuF\":{\"type\":\"js\",\"src\":\"https:\\\\/\\\\/static.xx.fbcdn.net\\\\/rsrc.php\\\\/v3\\\\/yF\\\\/r\\\\/iqrvM8jAXX7.js\"},\"17Grp2h\":{\"type\":\"js\",\"src\":\"https:\\\\/\\\\/static.xx.fbcdn.net\\\\/rsrc.php\\\\/v3\\\\/y-\\\\/r\\\\/HhbMrxvaW_H.js\"},\"QyoftxH\":{\"type\":\"js\",\"src\":\"https:\\\\/\\\\/static.xx.fbcdn.net\\\\/rsrc.php\\\\/v3\\\\/yL\\\\/r\\\\/j-_AFWnS2kv.js\"},\"QIamfde\":{\"type\":\"js\",\"src\":\"https:\\\\/\\\\/static.xx.fbcdn.net\\\\/rsrc.php\\\\/v3\\\\/yA\\\\/r\\\\/Y37sQzk-yb8.js\"},\"JuRSzyN\":{\"type\":\"js\",\"src\":\"https:\\\\/\\\\/static.xx.fbcdn.net\\\\/rsrc.php\\\\/v3\\\\/yF\\\\/r\\\\/WzNMjfKB7nj.js\"},\"zPYlTyl\":{\"type\":\"js\",\"src\":\"https:\\\\/\\\\/static.xx.fbcdn.net\\\\/rsrc.php\\\\/v3\\\\/yO\\\\/r\\\\/_tJ17sGyxOX.js\"},\"P\\\\/mr5VE\":{\"type\":\"css\",\"src\":\"data:text\\\\/css; charset=utf-8;base64,\",\"d\":1}},\"compMap\":{\"WebSpeedInteractionsTypedLogger\":{\"r\":[\"\\\\/JZR4F\\\\/\",\"Af5msXa\",\"9NiATAn\",\"+KjJUiq\",\"hKUHRHk\"],\"be\":1},\"AsyncRequest\":{\"r\":[\"\\\\/JZR4F\\\\/\",\"hKUHRHk\",\"Af5msXa\",\"QbnjCmb\",\"50iRlkI\"],\"rds\":{\"m\":[\"FbtLogging\",\"IntlQtEventFalcoEvent\"]},\"be\":1},\"DOM\":{\"r\":[\"\\\\/JZR4F\\\\/\",\"50iRlkI\"],\"be\":1},\"Form\":{\"r\":[\"\\\\/JZR4F\\\\/\",\"Oj0mThQ\",\"50iRlkI\"],\"be\":1},\"FormSubmit\":{\"r\":[\"\\\\/JZR4F\\\\/\",\"0Ta7b1B\",\"hKUHRHk\",\"Af5msXa\",\"QbnjCmb\",\"Oj0mThQ\",\"50iRlkI\"],\"rds\":{\"m\":[\"FbtLogging\",\"IntlQtEventFalcoEvent\"]},\"be\":1},\"Input\":{\"r\":[\"Oj0mThQ\"],\"be\":1},\"Toggler\":{\"r\":[\"\\\\/JZR4F\\\\/\",\"QbnjCmb\",\"drZQBvZ\",\"Ji3N1aT\",\"50iRlkI\",\"8Jen1Hc\",\"+KjJUiq\"],\"be\":1},\"Tooltip\":{\"r\":[\"\\\\/JZR4F\\\\/\",\"2tA1inM\",\"hKUHRHk\",\"81EcBFr\",\"Af5msXa\",\"QbnjCmb\",\"Ji3N1aT\",\"GAXC9eR\",\"50iRlkI\",\"Ftl2VZm\",\"+KjJUiq\",\"n9nzybz\",\"ZQJBl8g\",\"TQd9YNC\",\"Oj0mThQ\",\"Wp66DuT\"],\"rds\":{\"m\":[\"FbtLogging\",\"IntlQtEventFalcoEvent\",\"PageTransitions\",\"Animation\"],\"r\":[\"3Dawd2q\"]},\"be\":1},\"URI\":{\"r\":[],\"be\":1},\"trackReferrer\":{\"r\":[],\"be\":1},\"PhotoTagApproval\":{\"r\":[\"\\\\/JZR4F\\\\/\",\"+2mYsBo\",\"0n72zgh\",\"50iRlkI\"],\"be\":1},\"PhotoSnowlift\":{\"r\":[\"\\\\/JZR4F\\\\/\",\"2mxEpDK\",\"PfStd3o\",\"zJGop3b\",\"2tA1inM\",\"JouLeRi\",\"hKUHRHk\",\"bi6Pwin\",\"INtuorP\",\"81EcBFr\",\"tU6E5Hz\",\"Af5msXa\",\"paWo8RI\",\"o2vDwxa\",\"u6WUKHu\",\"QbnjCmb\",\"drZQBvZ\",\"Ji3N1aT\",\"\\\\/Ns8RBM\",\"+5BkjM1\",\"GAXC9eR\",\"Dlwhc6o\",\"7VTNsO0\",\"IJOQrqz\",\"GVfwk+L\",\"ac6duTw\",\"Dx1M3d\\\\/\",\"50iRlkI\",\"5znZkTc\",\"Ftl2VZm\",\"O9NcRwy\",\"1bSD0Ol\",\"i9rcSG0\",\"aIMpLwa\",\"S98j\\\\/yc\",\"8Jen1Hc\",\"Oj0mThQ\",\"s\\\\/iDMuG\",\"e+XQ0qk\",\"+KjJUiq\",\"Bk6w77a\",\"CpAhVZZ\",\"CWf37w2\",\"OmTZdta\",\"0n72zgh\",\"3Dawd2q\",\"jGcZiJF\",\"ukQqm8V\",\"lNEqbfm\",\"rNiwnly\",\"WxJBq+9\",\"RU+rlf6\",\"v96UihS\",\"u7SRlPN\",\"HDEirJw\",\"p0S2cNh\",\"qd\\\\/xc5P\",\"n9nzybz\",\"ZQJBl8g\",\"TQd9YNC\",\"Wp66DuT\"],\"rds\":{\"m\":[\"Animation\",\"FbtLogging\",\"IntlQtEventFalcoEvent\",\"PageTransitions\"]},\"be\":1},\"PhotoTagger\":{\"r\":[\"\\\\/JZR4F\\\\/\",\"C6etob2\",\"2tA1inM\",\"hKUHRHk\",\"bi6Pwin\",\"3QBOKTC\",\"Af5msXa\",\"QbnjCmb\",\"drZQBvZ\",\"b9sATVO\",\"Ji3N1aT\",\"\\\\/Ns8RBM\",\"GAXC9eR\",\"50iRlkI\",\"ERuOhRo\",\"3iYupIA\",\"Ftl2VZm\",\"nVAeOOP\",\"TQd9YNC\",\"Oj0mThQ\",\"s\\\\/iDMuG\",\"+KjJUiq\",\"AI\\\\/5Wpf\",\"0n72zgh\",\"ukQqm8V\",\"G2iy9Ox\",\"b\\\\/rYFtF\",\"n9nzybz\",\"ZQJBl8g\",\"Wp66DuT\"],\"rds\":{\"m\":[\"FbtLogging\",\"IntlQtEventFalcoEvent\",\"PageTransitions\",\"Animation\"],\"r\":[\"3Dawd2q\"]},\"be\":1},\"PhotoTags\":{\"r\":[\"\\\\/JZR4F\\\\/\",\"+KjJUiq\",\"0n72zgh\",\"yMgn4BF\",\"50iRlkI\"],\"be\":1},\"TagTokenizer\":{\"r\":[\"\\\\/JZR4F\\\\/\",\"xn\\\\/7DkG\",\"HBK9MF6\",\"S4TAVaX\",\"hJxyygk\",\"ac6duTw\",\"sjXydRU\",\"50iRlkI\",\"ERuOhRo\",\"Oj0mThQ\",\"+KjJUiq\",\"RwNGFt8\",\"VB4zTC3\"],\"rds\":{\"m\":[\"FbtLogging\",\"IntlQtEventFalcoEvent\"],\"r\":[\"Af5msXa\"]},\"be\":1},\"AsyncDialog\":{\"r\":[\"\\\\/JZR4F\\\\/\",\"JouLeRi\",\"hKUHRHk\",\"Af5msXa\",\"QbnjCmb\",\"drZQBvZ\",\"Ji3N1aT\",\"\\\\/Ns8RBM\",\"GAXC9eR\",\"GVfwk+L\",\"50iRlkI\",\"Ftl2VZm\",\"8Jen1Hc\",\"e+XQ0qk\",\"+KjJUiq\",\"Bk6w77a\",\"OmTZdta\",\"n9nzybz\",\"ZQJBl8g\",\"TQd9YNC\",\"Wp66DuT\"],\"rds\":{\"m\":[\"FbtLogging\",\"IntlQtEventFalcoEvent\"]},\"be\":1},\"Hovercard\":{\"r\":[\"\\\\/JZR4F\\\\/\",\"C6etob2\",\"2tA1inM\",\"hKUHRHk\",\"Af5msXa\",\"QbnjCmb\",\"drZQBvZ\",\"Ji3N1aT\",\"GAXC9eR\",\"50iRlkI\",\"ERuOhRo\",\"3iYupIA\",\"Ftl2VZm\",\"Oj0mThQ\",\"s\\\\/iDMuG\",\"+KjJUiq\",\"AI\\\\/5Wpf\",\"ukQqm8V\",\"n9nzybz\",\"ZQJBl8g\",\"TQd9YNC\",\"Wp66DuT\"],\"rds\":{\"m\":[\"FbtLogging\",\"IntlQtEventFalcoEvent\",\"PageTransitions\",\"Animation\"],\"r\":[\"3Dawd2q\"]},\"be\":1},\"XOfferController\":{\"r\":[\"xsFg75a\",\"Oj0mThQ\"],\"be\":1},\"PerfXSharedFields\":{\"r\":[\"GXq0SB+\",\"+KjJUiq\"],\"be\":1},\"KeyEventTypedLogger\":{\"r\":[\"\\\\/JZR4F\\\\/\",\"rCasuzG\",\"Af5msXa\",\"+KjJUiq\",\"hKUHRHk\"],\"be\":1},\"Dialog\":{\"r\":[\"\\\\/JZR4F\\\\/\",\"hKUHRHk\",\"Af5msXa\",\"QbnjCmb\",\"drZQBvZ\",\"Ji3N1aT\",\"GAXC9eR\",\"50iRlkI\",\"S98j\\\\/yc\",\"Oj0mThQ\",\"+KjJUiq\",\"jGcZiJF\",\"n9nzybz\",\"ZQJBl8g\",\"Ftl2VZm\",\"3Dawd2q\"],\"rds\":{\"m\":[\"FbtLogging\",\"IntlQtEventFalcoEvent\",\"Animation\",\"PageTransitions\"]},\"be\":1},\"ExceptionDialog\":{\"r\":[\"\\\\/JZR4F\\\\/\",\"JouLeRi\",\"QbnjCmb\",\"drZQBvZ\",\"Ji3N1aT\",\"\\\\/Ns8RBM\",\"GAXC9eR\",\"ac6duTw\",\"50iRlkI\",\"3lRRSja\",\"Ftl2VZm\",\"1bSD0Ol\",\"aIMpLwa\",\"8Jen1Hc\",\"e+XQ0qk\",\"+KjJUiq\",\"Bk6w77a\",\"OmTZdta\",\"ukQqm8V\",\"RU+rlf6\",\"n9nzybz\",\"ZQJBl8g\",\"TQd9YNC\",\"Af5msXa\",\"hKUHRHk\",\"Wp66DuT\"],\"rds\":{\"m\":[\"FbtLogging\",\"IntlQtEventFalcoEvent\"]},\"be\":1},\"QuickSandSolver\":{\"r\":[\"\\\\/JZR4F\\\\/\",\"SWx3yNv\",\"FcSL4qY\",\"hKUHRHk\",\"Af5msXa\",\"QbnjCmb\",\"XrE1jYq\",\"x22Oby4\",\"Oj0mThQ\",\"8ELCBwH\",\"50iRlkI\"],\"rds\":{\"m\":[\"FbtLogging\",\"IntlQtEventFalcoEvent\"]},\"be\":1},\"ConfirmationDialog\":{\"r\":[\"\\\\/JZR4F\\\\/\",\"I+GHswV\",\"vdNQr9P\",\"Oj0mThQ\",\"+KjJUiq\",\"\\\\/6OScYB\",\"50iRlkI\"],\"be\":1},\"MWADeveloperReauthBarrier\":{\"r\":[\"\\\\/JZR4F\\\\/\",\"H\\\\/5lfuF\",\"17Grp2h\",\"QyoftxH\",\"QIamfde\"],\"be\":1}}})});</script>\\n<script nonce=\"7dHcsT19\">requireLazy([\"InitialJSLoader\"], function(InitialJSLoader) {InitialJSLoader.loadOnDOMContentReady([\"GXq0SB+\",\"Af5msXa\",\"\\\\/JZR4F\\\\/\",\"drZQBvZ\",\"+KjJUiq\",\"hKUHRHk\",\"QbnjCmb\",\"8Jen1Hc\",\"JuRSzyN\",\"I+GHswV\",\"Oj0mThQ\",\"zPYlTyl\",\"\\\\/6OScYB\",\"P\\\\/mr5VE\"]);});</script>\\n<script nonce=\"7dHcsT19\">requireLazy([\"TimeSliceImpl\",\"ServerJS\"],function(TimeSlice,ServerJS){var s=(new ServerJS());s.handle({\"define\":[[\"cr:7736\",[\"FBLynxLogging\"],{\"__rc\":[\"FBLynxLogging\",null]},-1],[\"LinkshimHandlerConfig\",[],{\"supports_meta_referrer\":false,\"default_meta_referrer_policy\":\"default\",\"switched_meta_referrer_policy\":\"origin\",\"non_linkshim_lnfb_mode\":\"ie\",\"link_react_default_hash\":\"AT0IANWv0G-VKHdJ67aGuIS5wFKkncO1i0wROIP3Dze45hJtpLZ8KAF4UxvRMIpWsaBBD0GF51WpnETRCc12xg_OvuDLHjUEu0K2433NQQhVri02vlupUDD2jD2BCtbZLyNCjgGZWdsCrpWg\",\"untrusted_link_default_hash\":\"AT13V7NEVbLZnNkLIcGeaCYpmqTVyILt6WpgNNuicEn5wLubXapKgnlhUkplbgEMsjxF4FlGmJ1giCfy0tdEf0rFSjdJsOju1pbjSPkpbDJ8xrtgu0aKR9LthvmFsHjjODCBgQxiZs0J7UJW\",\"linkshim_host\":\"l.facebook.com\",\"linkshim_path\":\"\\\\/l.php\",\"linkshim_enc_param\":\"h\",\"linkshim_url_param\":\"u\",\"use_rel_no_opener\":false,\"use_rel_no_referrer\":false,\"always_use_https\":false,\"onion_always_shim\":true,\"middle_click_requires_event\":false,\"www_safe_js_mode\":\"hover\",\"m_safe_js_mode\":null,\"ghl_param_link_shim\":false,\"click_ids\":[],\"is_linkshim_supported\":true,\"current_domain\":\"facebook.com\",\"blocklisted_domains\":[\"ad.doubleclick.net\",\"ads-encryption-url-example.com\",\"bs.serving-sys.com\",\"ad.atdmt.com\",\"adform.net\",\"ad13.adfarm1.adition.com\",\"ilovemyfreedoms.com\",\"secure.adnxs.com\"],\"is_mobile_device\":false},27]],\"elements\":[[\"__elem_a588f507_0_1_Bu\",\"u_0_1_44\",1],[\"__elem_a588f507_0_0_mr\",\"globalContainer\",1],[\"__elem_a588f507_0_2_Hb\",\"content\",1],[\"__elem_835c633a_0_0_K3\",\"u_0_2_Uw\",1],[\"__elem_9f5fac15_0_0_XH\",\"passContainer\",1],[\"__elem_558608f3_0_0_zC\",\"pass\",1],[\"__elem_a588f507_0_3_lu\",\"u_0_3_9C\",1],[\"__elem_a588f507_0_4_j8\",\"u_0_4_qI\",1],[\"__elem_45d73b5d_0_0_OK\",\"u_0_5_Pc\",1],[\"__elem_072b8e64_0_0_0t\",\"u_0_6_5+\",1],[\"__elem_072b8e64_0_1_d3\",\"u_0_7_WQ\",1],[\"__elem_072b8e64_0_2_TG\",\"u_0_8_7H\",1],[\"__elem_072b8e64_0_3_1j\",\"u_0_9_Fe\",1],[\"__elem_072b8e64_0_4_bZ\",\"u_0_a_1t\",1],[\"__elem_072b8e64_0_5_hC\",\"u_0_b_6C\",1],[\"__elem_072b8e64_0_6_3r\",\"u_0_c_6U\",1],[\"__elem_072b8e64_0_7_vM\",\"u_0_d_Vz\",1],[\"__elem_072b8e64_0_8_Ch\",\"u_0_e_HL\",1],[\"__elem_072b8e64_0_9_GN\",\"u_0_f_ov\",1]],\"require\":[[\"ServiceWorkerLoginAndLogout\",\"login\",[],[]],[\"WebPixelRatioDetector\",\"startDetecting\",[],[false]],[\"ScriptPath\",\"set\",[],[\"XIndexReduxController\",\"a1f3c513\",{\"imp_id\":\"1GXzyGT1qif6MIoQl\",\"ef_page\":null,\"uri\":\"https:\\\\/\\\\/www.facebook.com\\\\/\"}]],[\"UITinyViewportAction\",\"init\",[],[]],[\"ResetScrollOnUnload\",\"init\",[\"__elem_a588f507_0_0_mr\"],[{\"__m\":\"__elem_a588f507_0_0_mr\"}]],[\"KeyboardActivityLogger\",\"init\",[],[]],[\"FocusRing\",\"init\",[],[]],[\"ErrorMessageConsole\",\"listenForUncaughtErrors\",[],[]],[\"HardwareCSS\",\"init\",[],[]],[\"LoginInitialLoadLogger\",\"onLoad\",[],[\"homepage\"]],[\"LoginFormController\",\"init\",[\"__elem_835c633a_0_0_K3\",\"__elem_45d73b5d_0_0_OK\"],[{\"__m\":\"__elem_835c633a_0_0_K3\"},{\"__m\":\"__elem_45d73b5d_0_0_OK\"},null,true,{\"pubKey\":{\"publicKey\":\"f562ccf5ee27cb9e7a9e0badc557f22cab7597076cfa3ab5fcdab4cbc038497d\",\"keyId\":34}},false]],[\"BrowserPrefillLogging\",\"initContactpointFieldLogging\",[],[{\"contactpointFieldID\":\"email\",\"serverPrefill\":\"\"}]],[\"BrowserPrefillLogging\",\"initPasswordFieldLogging\",[],[{\"passwordFieldID\":\"pass\"}]],[\"FocusListener\"],[\"FlipDirectionOnKeypress\"],[\"LoginFormToggle\",\"initToggle\",[\"__elem_a588f507_0_3_lu\",\"__elem_a588f507_0_4_j8\",\"__elem_558608f3_0_0_zC\",\"__elem_9f5fac15_0_0_XH\"],[{\"__m\":\"__elem_a588f507_0_3_lu\"},{\"__m\":\"__elem_a588f507_0_4_j8\"},{\"__m\":\"__elem_558608f3_0_0_zC\"},{\"__m\":\"__elem_9f5fac15_0_0_XH\"}]],[\"IntlUtils\",\"initOnClickHandler\",[\"__elem_072b8e64_0_0_0t\"],[{\"__m\":\"__elem_072b8e64_0_0_0t\"},\"ar_AR\",\"fr_FR\",false,\"www_list_selector\",\"https:\\\\/\\\\/ar-ar.facebook.com\\\\/\",0]],[\"IntlUtils\",\"initOnClickHandler\",[\"__elem_072b8e64_0_1_d3\"],[{\"__m\":\"__elem_072b8e64_0_1_d3\"},\"en_US\",\"fr_FR\",false,\"www_list_selector\",\"https:\\\\/\\\\/www.facebook.com\\\\/\",1]],[\"IntlUtils\",\"initOnClickHandler\",[\"__elem_072b8e64_0_2_TG\"],[{\"__m\":\"__elem_072b8e64_0_2_TG\"},\"it_IT\",\"fr_FR\",false,\"www_list_selector\",\"https:\\\\/\\\\/it-it.facebook.com\\\\/\",2]],[\"IntlUtils\",\"initOnClickHandler\",[\"__elem_072b8e64_0_3_1j\"],[{\"__m\":\"__elem_072b8e64_0_3_1j\"},\"de_DE\",\"fr_FR\",false,\"www_list_selector\",\"https:\\\\/\\\\/de-de.facebook.com\\\\/\",3]],[\"IntlUtils\",\"initOnClickHandler\",[\"__elem_072b8e64_0_4_bZ\"],[{\"__m\":\"__elem_072b8e64_0_4_bZ\"},\"es_LA\",\"fr_FR\",false,\"www_list_selector\",\"https:\\\\/\\\\/es-la.facebook.com\\\\/\",4]],[\"IntlUtils\",\"initOnClickHandler\",[\"__elem_072b8e64_0_5_hC\"],[{\"__m\":\"__elem_072b8e64_0_5_hC\"},\"ru_RU\",\"fr_FR\",false,\"www_list_selector\",\"https:\\\\/\\\\/ru-ru.facebook.com\\\\/\",5]],[\"IntlUtils\",\"initOnClickHandler\",[\"__elem_072b8e64_0_6_3r\"],[{\"__m\":\"__elem_072b8e64_0_6_3r\"},\"pt_BR\",\"fr_FR\",false,\"www_list_selector\",\"https:\\\\/\\\\/pt-br.facebook.com\\\\/\",6]],[\"IntlUtils\",\"initOnClickHandler\",[\"__elem_072b8e64_0_7_vM\"],[{\"__m\":\"__elem_072b8e64_0_7_vM\"},\"hi_IN\",\"fr_FR\",false,\"www_list_selector\",\"https:\\\\/\\\\/hi-in.facebook.com\\\\/\",7]],[\"IntlUtils\",\"initOnClickHandler\",[\"__elem_072b8e64_0_8_Ch\"],[{\"__m\":\"__elem_072b8e64_0_8_Ch\"},\"zh_CN\",\"fr_FR\",false,\"www_list_selector\",\"https:\\\\/\\\\/zh-cn.facebook.com\\\\/\",8]],[\"IntlUtils\",\"initOnClickHandler\",[\"__elem_072b8e64_0_9_GN\"],[{\"__m\":\"__elem_072b8e64_0_9_GN\"},\"ja_JP\",\"fr_FR\",false,\"www_list_selector\",\"https:\\\\/\\\\/ja-jp.facebook.com\\\\/\",9]],[\"FBLynx\",\"setupDelegation\",[],[]],[\"RequireDeferredReference\",\"unblock\",[],[[\"FbtLogging\",\"IntlQtEventFalcoEvent\"],\"sd\"]],[\"RequireDeferredReference\",\"unblock\",[],[[\"FbtLogging\",\"IntlQtEventFalcoEvent\"],\"css\"]],[\"TimeSliceImpl\"],[\"HasteSupportData\"],[\"ServerJS\"],[\"Run\"],[\"InitialJSLoader\"]],\"contexts\":[[{\"__m\":\"__elem_a588f507_0_1_Bu\"},true],[{\"__m\":\"__elem_a588f507_0_2_Hb\"},true]]});requireLazy([\"Run\"],function(Run){Run.onAfterLoad(function(){s.cleanup(TimeSlice)})});});\\n\\n</script>\\n<script nonce=\"7dHcsT19\">now_inl=(function(){var p=window.performance;return p&&p.now&&p.timing&&p.timing.navigationStart?function(){return p.now()+p.timing.navigationStart}:function(){return new Date().getTime()};})(); window.__bigPipeFR=now_inl();</script>\\n<link rel=\"preload\" href=\"https://static.xx.fbcdn.net/rsrc.php/v4/y3/l/0,cross/mzJS4QVJNr7.css\" as=\"style\" crossorigin=\"anonymous\" />\\n<link rel=\"preload\" href=\"https://static.xx.fbcdn.net/rsrc.php/v4/yF/l/0,cross/ZPBV3FqP_4P.css\" as=\"style\" crossorigin=\"anonymous\" />\\n<link rel=\"preload\" href=\"https://static.xx.fbcdn.net/rsrc.php/v4/yJ/l/0,cross/CisOkbGSadk.css\" as=\"style\" crossorigin=\"anonymous\" />\\n<link rel=\"preload\" href=\"https://static.xx.fbcdn.net/rsrc.php/v3/yq/r/szSrDf3yAfN.js\" as=\"script\" crossorigin=\"anonymous\" nonce=\"7dHcsT19\" />\\n<link rel=\"preload\" href=\"https://static.xx.fbcdn.net/rsrc.php/v3iTOp4/yu/l/fr_FR/-7SoqkOoiBI.js\" as=\"script\" crossorigin=\"anonymous\" nonce=\"7dHcsT19\" />\\n<link rel=\"preload\" href=\"https://static.xx.fbcdn.net/rsrc.php/v3/yS/r/o4gjb2QTWOc.js\" as=\"script\" crossorigin=\"anonymous\" nonce=\"7dHcsT19\" />\\n<link rel=\"preload\" href=\"https://static.xx.fbcdn.net/rsrc.php/v3/yZ/r/R8ZTLxqI2uK.js\" as=\"script\" crossorigin=\"anonymous\" nonce=\"7dHcsT19\" />\\n<link rel=\"preload\" href=\"https://static.xx.fbcdn.net/rsrc.php/v3i4eI4/yJ/l/fr_FR/f5rsuwjZliJ.js\" as=\"script\" crossorigin=\"anonymous\" nonce=\"7dHcsT19\" />\\n<script nonce=\"7dHcsT19\">window.__bigPipeCtor=now_inl();requireLazy([\"BigPipe\"],function(BigPipe){define(\"__bigPipe\",[],window.bigPipe=new BigPipe({\"forceFinish\":true,\"config\":{\"flush_pagelets_asap\":true,\"dispatch_pagelet_replayable_actions\":false}}));});</script>\\n<script nonce=\"7dHcsT19\">(function(){var n=now_inl();requireLazy([\"__bigPipe\"],function(bigPipe){bigPipe.beforePageletArrive(\"first_response\",n);})})();</script>\\n<script nonce=\"7dHcsT19\">requireLazy([\"__bigPipe\"],(function(bigPipe){bigPipe.onPageletArrive({displayResources:[\"n+36Djy\",\"50iRlkI\",\"1bSD0Ol\",\"/JZR4F/\",\"Af5msXa\",\"P/mr5VE\",\"hKUHRHk\",\"QbnjCmb\",\"8Jen1Hc\"],id:\"first_response\",phase:0,last_in_phase:true,tti_phase:0,all_phases:[63],hsrp:{hblp:{consistency:{rev:1017898612}}},allResources:[\"GXq0SB+\",\"Af5msXa\",\"/JZR4F/\",\"drZQBvZ\",\"+KjJUiq\",\"hKUHRHk\",\"QbnjCmb\",\"8Jen1Hc\",\"n+36Djy\",\"50iRlkI\",\"1bSD0Ol\",\"JuRSzyN\",\"I+GHswV\",\"Oj0mThQ\",\"zPYlTyl\",\"/6OScYB\",\"P/mr5VE\"]});}));</script>\\n<script nonce=\"7dHcsT19\">requireLazy([\"__bigPipe\"],function(bigPipe){bigPipe.setPageID(\"7432629438359571465\")});</script><script nonce=\"7dHcsT19\">(function(){var n=now_inl();requireLazy([\"__bigPipe\"],function(bigPipe){bigPipe.beforePageletArrive(\"last_response\",n);})})();</script>\\n<script nonce=\"7dHcsT19\">requireLazy([\"__bigPipe\"],(function(bigPipe){bigPipe.onPageletArrive({displayResources:[\"hKUHRHk\"],id:\"last_response\",phase:63,last_in_phase:true,the_end:true,jsmods:{define:[[\"cr:6016\",[\"NavigationMetricsWWW\"],{__rc:[\"NavigationMetricsWWW\",null]},-1],[\"cr:7383\",[\"BanzaiWWW\"],{__rc:[\"BanzaiWWW\",null]},-1],[\"cr:5662\",[\"Event\"],{__rc:[\"Event\",null]},-1],[\"cr:4425\",[],{__rc:[null,null]},-1],[\"cr:686\",[],{__rc:[null,null]},-1],[\"cr:1984081\",[],{__rc:[null,null]},-1],[\"cr:3376\",[],{__rc:[null,null]},-1],[\"cr:1083116\",[\"XAsyncRequest\"],{__rc:[\"XAsyncRequest\",null]},-1],[\"cr:1083117\",[],{__rc:[null,null]},-1],[\"TimeSliceInteractionSV\",[],{on_demand_reference_counting:true,on_demand_profiling_counters:true,default_rate:1000,lite_default_rate:100,interaction_to_lite_coinflip:{ADS_INTERFACES_INTERACTION:0,ads_perf_scenario:0,ads_wait_time:0,Event:1},interaction_to_coinflip:{ADS_INTERFACES_INTERACTION:1,ads_perf_scenario:1,ads_wait_time:1,Event:100},enable_heartbeat:false,maxBlockMergeDuration:0,maxBlockMergeDistance:0,enable_banzai_stream:true,user_timing_coinflip:50,banzai_stream_coinflip:0,compression_enabled:true,ref_counting_fix:false,ref_counting_cont_fix:false,also_record_new_timeslice_format:false,force_async_request_tracing_on:false},2609],[\"IntlCurrentLocale\",[],{code:\"fr_FR\"},5954],[\"USIDMetadata\",[],{browser_id:\"?\",tab_id:\"\",page_id:\"Psmbk7s1xmkfre\",transition_id:0,version:6},5888],[\"BDSignalCollectionData\",[],{sc:\"{\\\\\"t\\\\\":1659080345,\\\\\"c\\\\\":[[30000,838801],[30001,838801],[30002,838801],[30003,838801],[30004,838801],[30005,838801],[30006,573585],[30007,838801],[30008,838801],[30012,838801],[30013,838801],[30015,806033],[30018,806033],[30021,540823],[30022,540817],[30040,806033],[30093,806033],[30094,806033],[30095,806033],[30101,541591],[30102,541591],[30103,541591],[30104,541591],[30106,806039],[30107,806039],[38000,541427],[38001,806643]]}\",fds:60,fda:60,i:60,sbs:1,dbs:100,bbs:100,hbi:60,rt:262144,hbcbc:2,hbvbc:0,hbbi:30,sid:-1,hbv:\"7951761832566093744\"},5239],[\"cr:1642797\",[\"BanzaiBase\"],{__rc:[\"BanzaiBase\",null]},-1],[\"cr:1042\",[\"XAsyncRequestWWW\"],{__rc:[\"XAsyncRequestWWW\",null]},-1],[\"cr:1172\",[\"WebSession\"],{__rc:[\"WebSession\",null]},-1],[\"cr:2037\",[\"BanzaiAdapter\"],{__rc:[\"BanzaiAdapter\",null]},-1],[\"cr:3724\",[\"SetIdleTimeoutAcrossTransitions\"],{__rc:[\"SetIdleTimeoutAcrossTransitions\",null]},-1],[\"cr:9985\",[\"performanceAbsoluteNow\"],{__rc:[\"performanceAbsoluteNow\",null]},-1],[\"cr:9986\",[\"CurrentUser\"],{__rc:[\"CurrentUser\",null]},-1],[\"cr:9987\",[\"NavigationMetrics\"],{__rc:[\"NavigationMetrics\",null]},-1],[\"cr:9988\",[\"Visibility\"],{__rc:[\"Visibility\",null]},-1],[\"cr:5866\",[\"BanzaiAdapterWWW\"],{__rc:[\"BanzaiAdapterWWW\",null]},-1],[\"cr:7384\",[\"cancelIdleCallbackWWW\"],{__rc:[\"cancelIdleCallbackWWW\",null]},-1],[\"cr:692209\",[\"cancelIdleCallbackBlue\"],{__rc:[\"cancelIdleCallbackBlue\",null]},-1],[\"BanzaiConfig\",[],{MAX_SIZE:10000,MAX_WAIT:150000,MIN_WAIT:null,RESTORE_WAIT:150000,blacklist:[\"time_spent\"],disabled:false,gks:{boosted_pagelikes:true,platform_oauth_client_events:true,sticker_search_ranking:true},known_routes:[\"artillery_javascript_actions\",\"artillery_javascript_trace\",\"artillery_logger_data\",\"logger\",\"falco\",\"gk2_exposure\",\"js_error_logging\",\"loom_trace\",\"marauder\",\"perfx_custom_logger_endpoint\",\"qex\",\"require_cond_exposure_logging\",\"metaconfig_exposure\"],should_drop_unknown_routes:true,should_log_unknown_routes:false},7],[\"cr:6943\",[\"EventListenerImplForCacheStorage\"],{__rc:[\"EventListenerImplForCacheStorage\",null]},-1],[\"cr:1634616\",[\"UserActivityBlue\"],{__rc:[\"UserActivityBlue\",null]},-1],[\"cr:5695\",[\"EventListenerWWW\"],{__rc:[\"EventListenerWWW\",null]},-1],[\"cr:844180\",[\"TimeSpentImmediateActiveSecondsLoggerBlue\"],{__rc:[\"TimeSpentImmediateActiveSecondsLoggerBlue\",null]},-1],[\"cr:1187159\",[\"BlueCompatBroker\"],{__rc:[\"BlueCompatBroker\",null]},-1],[\"WebDevicePerfInfoData\",[],{needsFullUpdate:true,needsPartialUpdate:false,shouldLogResourcePerf:false},3977],[\"WebStorageMonsterLoggingURI\",[],{uri:\"/ajax/webstorage/process_keys/?state=1\"},3032],[\"TimeSpentConfig\",[],{delay:1000,timeout:64,\"0_delay\":0,\"0_timeout\":8},142],[\"cr:710\",[],{__rc:[null,null]},-1],[\"cr:1353359\",[\"EventListenerImplForBlue\"],{__rc:[\"EventListenerImplForBlue\",null]},-1],[\"ImmediateActiveSecondsConfig\",[],{sampling_rate:0},423],[\"CometAltpayJsSdkIframeAllowedDomains\",[],{allowed_domains:[\"https://live.adyen.com\",\"https://integration-facebook.payu.in\",\"https://facebook.payulatam.com\",\"https://secure.payu.com\",\"https://facebook.dlocal.com\",\"https://buy2.boku.com\"]},4920]],require:[[\"BDClientSignalCollectionTrigger\",\"startSignalCollection\",[],[{sc:\"{\\\\\"t\\\\\":1659080345,\\\\\"c\\\\\":[[30000,838801],[30001,838801],[30002,838801],[30003,838801],[30004,838801],[30005,838801],[30006,573585],[30007,838801],[30008,838801],[30012,838801],[30013,838801],[30015,806033],[30018,806033],[30021,540823],[30022,540817],[30040,806033],[30093,806033],[30094,806033],[30095,806033],[30101,541591],[30102,541591],[30103,541591],[30104,541591],[30106,806039],[30107,806039],[38000,541427],[38001,806643]]}\",fds:60,fda:60,i:60,sbs:1,dbs:100,bbs:100,hbi:60,rt:262144,hbcbc:2,hbvbc:0,hbbi:30,sid:-1,hbv:\"7951761832566093744\"}]],[\"NavigationMetrics\",\"setPage\",[],[{page:\"XIndexReduxController\",page_type:\"normal\",page_uri:\"https://www.facebook.com/\",serverLID:\"7432629438359571465\"}]],[\"FalcoLoggerTransports\",\"attach\",[],[]],[\"Chromedome\",\"start\",[],[{}]],[\"DimensionTracking\"],[\"NavigationClickPointHandler\"],[\"WebDevicePerfInfoLogging\",\"doLog\",[],[]],[\"WebStorageMonster\",\"schedule\",[],[]],[\"Artillery\",\"disable\",[],[]],[\"ScriptPathLogger\",\"startLogging\",[],[]],[\"TimeSpentBitArrayLogger\",\"init\",[],[]],[\"CookieCore\",\"setWithoutChecksIfFirstPartyContext\",[],[\"_js_datr\",\"GAEmZzd0jBmyEoFavua9hdhq\",34560000000,\"/\",true,\".facebook.com\"]],[\"ClickRefLogger\"],[\"TransportSelectingClientSingletonConditional\"],[\"RequireDeferredReference\",\"unblock\",[],[[\"TransportSelectingClientSingletonConditional\"],\"sd\"]],[\"RequireDeferredReference\",\"unblock\",[],[[\"TransportSelectingClientSingletonConditional\"],\"css\"]]]},hsrp:{hsdp:{clpData:{\"1871697\":{r:1,s:1},\"1829319\":{r:1},\"1829320\":{r:1},\"1843988\":{r:1}},qexData:{\"526\":{r:null},\"538\":{r:null},\"543\":{r:null}}},hblp:{consistency:{rev:1017898612}}},allResources:[\"/JZR4F/\",\"JuRSzyN\",\"Af5msXa\",\"zPYlTyl\",\"3Dawd2q\",\"ZQJBl8g\",\"JouLeRi\",\"QbnjCmb\",\"hKUHRHk\"]});}));</script></body></html>'"
            ]
          },
          "execution_count": 64,
          "metadata": {},
          "output_type": "execute_result"
        }
      ],
      "source": [
        "response.text"
      ]
    },
    {
      "cell_type": "markdown",
      "metadata": {
        "id": "lXt48xEXkVse"
      },
      "source": [
        "Beaucoup de sites web aujourdhui fonctionnet avec des frameworks javascript( react , vuejs) qui permettent le rechargement dynamique du contenu sur une page.\n",
        "-> on ne peut pas avec une simple requete (requests) récuperer toutes les ressources d'un site web avec un script comme on le fait avec un navigateur.\n",
        "\n"
      ]
    },
    {
      "cell_type": "markdown",
      "metadata": {
        "id": "fu9_4FfOmGw4"
      },
      "source": [
        "** Un autre probléme c'est le nombre de requests envoyé par secondes. si le serveur detect que le nombre est enorme et n'est pas humain , on a un risque d'etre bloqué. parmis les solutions on peut :\n",
        "\n",
        "  - Ajouter des times sleeps de quelques secondes.\n",
        "  - Utiliser des proxies ( les proxies publiques ne sont pas trop efficace) [https://free-proxy-list.net/] `requests.get(url,proxies=proxy)`\n",
        "  - Utiliser des navigateurs comme Tor\n",
        "\n",
        "\n"
      ]
    },
    {
      "cell_type": "code",
      "execution_count": null,
      "metadata": {
        "id": "YsLweDj9GtF_"
      },
      "outputs": [],
      "source": [
        "import random\n",
        "\n",
        "# fixer une liste d'adresse proxies\n",
        "proxies = [\n",
        "    \"117.250.3.58:8080\",\n",
        "    \"119.350.4.88:8080\",\n",
        "]\n",
        "# je vais choisir aléatoirement\n",
        "my_proxy = random.choice(proxies)\n",
        "\n",
        "# definir le lien du proxy avec le protocle http et https\n",
        "proxy = {\"http\": f\"http://{my_proxy}\", \"https\": f\"https://{my_proxy}\"}\n",
        "\n",
        "# faire une req http avec des adresses proxies\n",
        "response = requests.get(base_url, proxies=proxy)"
      ]
    },
    {
      "cell_type": "markdown",
      "metadata": {
        "id": "ts3FPkompfgf"
      },
      "source": [
        "** Autre blocage avec le user-agent\n",
        "\n"
      ]
    },
    {
      "cell_type": "code",
      "execution_count": 65,
      "metadata": {
        "colab": {
          "base_uri": "https://localhost:8080/"
        },
        "id": "wuYPayqlqO2j",
        "outputId": "aa81764f-60e7-4c4c-e874-01e0b3c74d00"
      },
      "outputs": [
        {
          "data": {
            "text/plain": [
              "{'User-Agent': 'python-requests/2.32.3', 'Accept-Encoding': 'gzip, deflate', 'Accept': '*/*', 'Connection': 'keep-alive'}"
            ]
          },
          "execution_count": 65,
          "metadata": {},
          "output_type": "execute_result"
        }
      ],
      "source": [
        "response.request.headers ## voir tab network navigateur"
      ]
    },
    {
      "cell_type": "markdown",
      "metadata": {
        "id": "H6LS048zFrhg"
      },
      "source": [
        "on peut modifier le User-Agent"
      ]
    },
    {
      "cell_type": "code",
      "execution_count": null,
      "metadata": {
        "id": "TGoZz9_vFn2w"
      },
      "outputs": [],
      "source": [
        "user_agent = \"Mozilla/5.0 (Macintosh; Intel Mac OS X 10.15; rv:109.0) Gecko/20100101 Firefox/109.0\"\n",
        "headers = {\"User-Agent\": user_agent}\n",
        "r = requests.get(base_url, headers=headers, proxies=proxy)"
      ]
    },
    {
      "cell_type": "markdown",
      "metadata": {
        "id": "O8wAbSMHI-5V"
      },
      "source": [
        "## Selenium :\n",
        "\n",
        "Selenium est une suite open source d'outils et de bibliothèques utilisée pour l'automatisation du navigateur.\n",
        "\n",
        "Selenium est utilisé pour :\n",
        "- Il permet aux utilisateurs de tester le fonctionnement de leurs sites Web sur différents navigateurs.\n",
        "\n",
        "- Effectuez des tests multi-navigateurs pour vérifier si le site Web fonctionne de manière cohérente sur différents navigateurs\n",
        "\n",
        "\n",
        "On parle d'un navigatuer `Headless` c'est-à-dire , l'utilisateur va utiliser des navigateurs comme (Chrome, Firefox, Opera, ..) mais sans être obligé d'avoir une interface graphique pour les faire fonctionner, autrement dit, on peut ouvrir ces navigateurs en arriére-plan en utilisant des scripts.\n",
        "\n",
        "Avec ces navigateur `Headless`, on peut réaliser plusieurs actions:\n",
        "\n",
        "- Ecrire des informations dans des champs de texte.\n",
        "- Cliquer sur des boutons, liens, des cases à chocher, des boutons radio.\n",
        "- Soumettre des formulaires automatiquement.\n",
        "- Effectuer des actions de glisser-déposer\n",
        "- Cliquer avec le bouton droit ou double-cliquer sur des éléments\n",
        "- Fermer des fenêtres pop-up, gérer des alertes, et interagir avec des boites de dialogue\n",
        "- Configurer des temps d'attente pour les éléments qui prennent du temps à se charger ou apparaître.\n",
        "- Récupération d'informations.\n",
        "- Gérer le défilement d'une page, ce qui est particulièrement utile pour les pages avec chargement dynamique\n"
      ]
    },
    {
      "cell_type": "markdown",
      "metadata": {
        "id": "6qAWqncB9L_R"
      },
      "source": [
        "Pour commencer avec Selenium, on doit choisir un navigateur et installer sond WebDriver.\n",
        "\n",
        "Chrome : https://www.chromedriverdownload.com/en/downloads/chromedriver-130-download\n",
        "https://googlechromelabs.github.io/chrome-for-testing/#stable"
      ]
    }
  ],
  "metadata": {
    "colab": {
      "collapsed_sections": [
        "nNLiiHAo9jTD",
        "7gX7wmKMP3Ko",
        "vC2GHw7UQBHY",
        "PGRhswewWCzc"
      ],
      "provenance": []
    },
    "kernelspec": {
      "display_name": "ml_cours",
      "language": "python",
      "name": "python3"
    },
    "language_info": {
      "codemirror_mode": {
        "name": "ipython",
        "version": 3
      },
      "file_extension": ".py",
      "mimetype": "text/x-python",
      "name": "python",
      "nbconvert_exporter": "python",
      "pygments_lexer": "ipython3",
      "version": "3.12.1"
    }
  },
  "nbformat": 4,
  "nbformat_minor": 0
}
