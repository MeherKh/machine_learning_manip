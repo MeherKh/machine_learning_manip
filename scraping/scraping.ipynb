{
  "cells": [
    {
      "cell_type": "markdown",
      "metadata": {
        "id": "6SjHAb7asHrx"
      },
      "source": [
        "1. scraping: Qu'est-ce que cela signifie?\n",
        "\n",
        "2. Notions de base sur le scraping\n",
        "  - Comment utiliser `requests` et `BeautifulSoup` pour extraire des éléments HTML ?\n",
        "  - Exercices\n",
        "3. Les obstacles du scraping\n",
        "  - Les aspects juridiques\n",
        "  - Obstacles à surmonter (techniques) et comment les contourner: (Selenium)\n",
        "\n",
        "4. Project: extract prices from Amazon or Airbnb\n",
        "\n",
        "5. Production and Automation:\n",
        "  - extract the price of a given product and get an alert if the price is lower that a given threshold."
      ]
    },
    {
      "cell_type": "markdown",
      "metadata": {
        "id": "g4qsFJ2wutVX"
      },
      "source": [
        "# 1. scraping: Qu'est-ce que cela signifie?:\n",
        "\n",
        "c'est un process utilisé pour extraire les données à partir des sites web.\n",
        "\n",
        "- cette technique implique l'envoi d'une requete à un site web, le téléchargement et l'extraction de données à partir de la page.\n",
        "\n",
        "```Imaginez le temps gagné, au lieu d’extraire les données manuellement.```\n",
        "\n",
        "\n",
        "Le web scraping peut être utilisé à des fins diverses. En dehors de l’indexation par les moteurs de recherche, il est notamment utilisé pour :\n",
        "\n",
        "- Créer des bases de données de contact,\n",
        "- Surveiller et comparer les prix des offres en ligne,\n",
        "- Rassembler des données de différentes sources en ligne,\n",
        "- Assurer un suivi de la présence et de la réputation en ligne,\n",
        "- Collecter des données financières, météorologiques et autres,\n",
        "- Surveiller les modifications apportées aux contenus web,\n",
        "- Collecter des données pour la recherche,\n"
      ]
    },
    {
      "cell_type": "markdown",
      "metadata": {
        "id": "tW5CbOy5vgOj"
      },
      "source": [
        "# 2. C'est quoi Beautifulsoup et requests :\n",
        "\n",
        "  * requests : effectuer des requette HTTP , pour recuperer le html\n",
        "  * BeautifulSoup : un parseur , un analyseur pour Analyser le html , naviguer dans le DOM ( on peut utiliser Beautifulsoup sans request , dans le cas ou j'ai des fichier html en local)"
      ]
    },
    {
      "cell_type": "markdown",
      "metadata": {
        "id": "ABlWRMnPx62w"
      },
      "source": [
        "2.2 recuperer le contenu d'une page avec requests\n"
      ]
    },
    {
      "cell_type": "code",
      "execution_count": 1,
      "metadata": {
        "id": "raalyE47x512"
      },
      "outputs": [],
      "source": [
        "#! pip install requests\n",
        "import requests"
      ]
    },
    {
      "cell_type": "code",
      "execution_count": 10,
      "metadata": {
        "id": "SV6EZA7tx_yt"
      },
      "outputs": [],
      "source": [
        "response = requests.get(\"https://pi.tn/\")\n",
        "#response = requests.get(\"https://www.oddschecker.com/\")"
      ]
    },
    {
      "cell_type": "code",
      "execution_count": 14,
      "metadata": {
        "colab": {
          "base_uri": "https://localhost:8080/"
        },
        "id": "TPDodgEbzEMs",
        "outputId": "b9488235-f4ae-425b-c1b3-f521f9c96b43"
      },
      "outputs": [
        {
          "name": "stdout",
          "output_type": "stream",
          "text": [
            "<Response [200]>\n",
            "200\n"
          ]
        }
      ],
      "source": [
        "print(response)\n",
        "print(response.status_code)\n",
        "#print(response.text)"
      ]
    },
    {
      "cell_type": "code",
      "execution_count": 66,
      "metadata": {
        "id": "OVHX2wmSzEO5"
      },
      "outputs": [],
      "source": [
        "# make some exceptions to handle websites errors\n",
        "\n",
        "try:\n",
        "  response = requests.get(\"https://pi.tn/\")\n",
        "  response.raise_for_status()\n",
        "except requests.exceptions.HTTPError as errh: # des http errors\n",
        "  print(errh)\n",
        "except requests.exceptions.ConnectionError as errc: # n'arrive pas à établir une connexion avec le serveur\n",
        "  print(errc)\n",
        "except requests.exceptions.Timeout as errt: # trop de temps à repondre\n",
        "  print(errt)\n",
        "except requests.exceptions.RequestException as err: # autres\n",
        "  print(err)"
      ]
    },
    {
      "cell_type": "code",
      "execution_count": 19,
      "metadata": {
        "id": "A2mVZno2zES7"
      },
      "outputs": [],
      "source": [
        "## example save google html content\n",
        "\n",
        "response = requests.get(\"https://www.google.com/\")\n",
        "with open(\"google.html\", \"w\") as f:\n",
        "  f.write(response.text)"
      ]
    },
    {
      "cell_type": "code",
      "execution_count": 20,
      "metadata": {
        "colab": {
          "base_uri": "https://localhost:8080/",
          "height": 122
        },
        "id": "yQv10WjDzEU8",
        "outputId": "32093b47-e4f4-4b90-b084-6ee0b4cf2004"
      },
      "outputs": [
        {
          "data": {
            "text/plain": [
              "'<!doctype html><html dir=\"rtl\" itemscope=\"\" itemtype=\"http://schema.org/WebPage\" lang=\"ar-TN\"><head><meta content=\"text/html; charset=UTF-8\" http-equiv=\"Content-Type\"><meta content=\"/images/branding/googleg/1x/googleg_standard_color_128dp.png\" itemprop=\"image\"><title>Google</title><script nonce=\"tiZiGneuFTPup-PdnfsYGQ\">(function(){var _g={kEI:\\'eJETZ5z4PL78ptQP-NOJ0QM\\',kEXPI:\\'0,3700312,127,945,538661,2872,2891,8348,64702,219727,6700,106646,19673,8155,23351,22435,9779,45601,17056,76209,15816,1804,27093,19989,1635,29276,12990,5226768,1021,116,8832396,1224,56,155,3,7439775,20539820,16672,43887,3,1603,3,2124363,23029351,12799,51196,5,49280,19294,3328,15165,8182,49429,21669,6755,155,2484,13504,7735,7042,2097,4600,328,3217,4,1238,1766,2949,17652,4863,2526,5634,687,29090,764,1341,5406,8247,54,357,1856,2,9,13411,2376,2464,2234,8829,1905,7285,6,905,4372,797,3026,5659,8185,7112,3561,4140,2836,4016,1542,251,572,25,1771,31,1313,2096,960,1495,3276,2829,848,219,4,3,273,2,209,967,41,1932,3,815,3246,1825,454,241,3366,1159,200,398,1,1343,2,259,149,1508,856,241,61,456,664,1922,4,370,271,1,32,2,1346,149,104,1107,88,215,255,3,1,205,519,470,395,46,1,893,1226,11,2169,1156,4,1,6,304,1634,270,1258,155,1483,111,609,537,369,131,1335,2963,44,673,139,347,119,25,9,270,1131,747,27,3,558,626,382,713,209,411,574,43,339,862,181,996,192,23,244,81,547,3,7,149,27,623,440,448,6,2,25,260,28,4,4,6,115,4,131,717,69,863,2572,404,694,51,34,31,157,389,142,718,10,118,1778,12,614,4,235,2,190,680,550,1593,2,124,17,2,41,1144,137,43,49,430,896,17,287,42,5,227,523,1,8,1,1,4,1,4,60,487,525,223,41,422,1188,3,187,70,150,391,556,1269,1929,659,2084,471,217,21052716,364209,3,12262,3639,3,7328,1713,7956,18,590,1207,983,704,866,1069,2652,7580522,6505\\',kBL:\\'EKpo\\',kOPI:89978449};(function(){var a;((a=window.google)==null?0:a.stvsc)?google.kEI=_g.kEI:window.google=_g;}).call(this);})();(function(){google.sn=\\'webhp\\';google.kHL=\\'ar-TN\\';})();(function(){\\nvar h=this||self;function l(){return window.google!==void 0&&window.google.kOPI!==void 0&&window.google.kOPI!==0?window.google.kOPI:null};var m,n=[];function p(a){for(var b;a&&(!a.getAttribute||!(b=a.getAttribute(\"eid\")));)a=a.parentNode;return b||m}function q(a){for(var b=null;a&&(!a.getAttribute||!(b=a.getAttribute(\"leid\")));)a=a.parentNode;return b}function r(a){/^http:/i.test(a)&&window.location.protocol===\"https:\"&&(google.ml&&google.ml(Error(\"a\"),!1,{src:a,glmm:1}),a=\"\");return a}\\nfunction t(a,b,c,d,k){var e=\"\";b.search(\"&ei=\")===-1&&(e=\"&ei=\"+p(d),b.search(\"&lei=\")===-1&&(d=q(d))&&(e+=\"&lei=\"+d));d=\"\";var g=b.search(\"&cshid=\")===-1&&a!==\"slh\",f=[];f.push([\"zx\",Date.now().toString()]);h._cshid&&g&&f.push([\"cshid\",h._cshid]);c=c();c!=null&&f.push([\"opi\",c.toString()]);for(c=0;c<f.length;c++){if(c===0||c>0)d+=\"&\";d+=f[c][0]+\"=\"+f[c][1]}return\"/\"+(k||\"gen_204\")+\"?atyp=i&ct=\"+String(a)+\"&cad=\"+(b+e+d)};m=google.kEI;google.getEI=p;google.getLEI=q;google.ml=function(){return null};google.log=function(a,b,c,d,k,e){e=e===void 0?l:e;c||(c=t(a,b,e,d,k));if(c=r(c)){a=new Image;var g=n.length;n[g]=a;a.onerror=a.onload=a.onabort=function(){delete n[g]};a.src=c}};google.logUrl=function(a,b){b=b===void 0?l:b;return t(\"\",a,b)};}).call(this);(function(){google.y={};google.sy=[];var d;(d=google).x||(d.x=function(a,b){if(a)var c=a.id;else{do c=Math.random();while(google.y[c])}google.y[c]=[a,b];return!1});var e;(e=google).sx||(e.sx=function(a){google.sy.push(a)});google.lm=[];var f;(f=google).plm||(f.plm=function(a){google.lm.push.apply(google.lm,a)});google.lq=[];var g;(g=google).load||(g.load=function(a,b,c){google.lq.push([[a],b,c])});var h;(h=google).loadAll||(h.loadAll=function(a,b){google.lq.push([a,b])});google.bx=!1;var k;(k=google).lx||(k.lx=function(){});var l=[],m;(m=google).fce||(m.fce=function(a,b,c,n){l.push([a,b,c,n])});google.qce=l;}).call(this);google.f={};(function(){\\ndocument.documentElement.addEventListener(\"submit\",function(b){var a;if(a=b.target){var c=a.getAttribute(\"data-submitfalse\");a=c===\"1\"||c===\"q\"&&!a.elements.q.value?!0:!1}else a=!1;a&&(b.preventDefault(),b.stopPropagation())},!0);document.documentElement.addEventListener(\"click\",function(b){var a;a:{for(a=b.target;a&&a!==document.documentElement;a=a.parentElement)if(a.tagName===\"A\"){a=a.getAttribute(\"data-nohref\")===\"1\";break a}a=!1}a&&b.preventDefault()},!0);}).call(this);</script><style>#gbar,#guser{font-size:13px;padding-top:1px !important;}#gbar{height:22px}#guser{padding-bottom:7px !important;text-align:left}.gbh,.gbd{border-top:1px solid #c9d7f1;font-size:1px}.gbh{height:0;position:absolute;top:24px;width:100%}@media all{.gb1{height:22px;margin-left:.5em;vertical-align:top}#gbar{float:right}}a.gb1,a.gb4{text-decoration:underline !important}a.gb1,a.gb4{color:#00c !important}.gbi .gb4{color:#dd8e27 !important}.gbf .gb4{color:#900 !important}\\n</style><style>body,td,a,p,.h{font-family:arial,sans-serif}body{margin:0;overflow-y:scroll}#gog{padding:3px 8px 0}td{line-height:.8em}.gac_m td{line-height:17px}form{margin-bottom:20px}.h{color:#1967d2}em{font-weight:bold;font-style:normal}.lst{height:25px;width:496px}.gsfi,.lst{font:18px arial,sans-serif}.gsfs{font:17px arial,sans-serif}.ds{display:inline-box;display:inline-block;margin:3px 0 4px;margin-right:4px}input{font-family:inherit}body{background:#fff;color:#000}a{color:#681da8;text-decoration:none}a:hover,a:active{text-decoration:underline}.fl a{color:#1967d2}a:visited{color:#681da8}.sblc{padding-top:5px}.sblc a{display:block;margin:2px 0;margin-right:13px;font-size:11px}.lsbb{background:#f8f9fa;border:solid 1px;border-color:#dadce0 #dadce0 #70757a #70757a;height:30px}.lsbb{display:block}#WqQANb a{display:inline-block;margin:0 12px}.lsb{background:url(/images/nav_logo229.png) 0 -261px repeat-x;color:#000;border:none;cursor:pointer;height:30px;margin:0;outline:0;font:15px arial,sans-serif;vertical-align:top}.lsb:active{background:#dadce0}.lst:focus{outline:none}.Ucigb{width:458px}</style><script nonce=\"tiZiGneuFTPup-PdnfsYGQ\">(function(){window.google.erd={jsr:1,bv:2100,de:true,dpf:\\'7NHtg39hEjfMpYoapqleIgjWFfairKcEFL1O44a3kJQ\\'};\\nvar g=this||self;var k,l=(k=g.mei)!=null?k:1,n,p=(n=g.sdo)!=null?n:!0,q=0,r,t=google.erd,v=t.jsr;google.ml=function(a,b,d,m,e){e=e===void 0?2:e;b&&(r=a&&a.message);d===void 0&&(d={});d.cad=\"ple_\"+google.ple+\".aple_\"+google.aple;if(google.dl)return google.dl(a,e,d,!0),null;b=d;if(v<0){window.console&&console.error(a,b);if(v===-2)throw a;b=!1}else b=!a||!a.message||a.message===\"Error loading script\"||q>=l&&!m?!1:!0;if(!b)return null;q++;d=d||{};b=encodeURIComponent;var c=\"/gen_204?atyp=i&ei=\"+b(google.kEI);google.kEXPI&&(c+=\"&jexpid=\"+b(google.kEXPI));c+=\"&srcpg=\"+b(google.sn)+\"&jsr=\"+b(t.jsr)+\\n\"&bver=\"+b(t.bv);t.dpf&&(c+=\"&dpf=\"+b(t.dpf));var f=a.lineNumber;f!==void 0&&(c+=\"&line=\"+f);var h=a.fileName;h&&(h.indexOf(\"-extension:/\")>0&&(e=3),c+=\"&script=\"+b(h),f&&h===window.location.href&&(f=document.documentElement.outerHTML.split(\"\\\\n\")[f],c+=\"&cad=\"+b(f?f.substring(0,300):\"No script found.\")));google.ple&&google.ple===1&&(e=2);c+=\"&jsel=\"+e;for(var u in d)c+=\"&\",c+=b(u),c+=\"=\",c+=b(d[u]);c=c+\"&emsg=\"+b(a.name+\": \"+a.message);c=c+\"&jsst=\"+b(a.stack||\"N/A\");c.length>=12288&&(c=c.substr(0,12288));a=c;m||google.log(0,\"\",a);return a};window.onerror=function(a,b,d,m,e){r!==a&&(a=e instanceof Error?e:Error(a),d===void 0||\"lineNumber\"in a||(a.lineNumber=d),b===void 0||\"fileName\"in a||(a.fileName=b),google.ml(a,!1,void 0,!1,a.name===\"SyntaxError\"||a.message.substring(0,11)===\"SyntaxError\"||a.message.indexOf(\"Script error\")!==-1?3:0));r=null;p&&q>=l&&(window.onerror=null)};})();</script></head><body bgcolor=\"#fff\"><script nonce=\"tiZiGneuFTPup-PdnfsYGQ\">(function(){var src=\\'/images/nav_logo229.png\\';var iesg=false;document.body.onload = function(){window.n && window.n();if (document.images){new Image().src=src;}\\nif (!iesg){document.f&&document.f.q.focus();document.gbqf&&document.gbqf.q.focus();}\\n}\\n})();</script><div id=\"mngb\"><div id=gbar><nobr><b class=gb1>&#1576;&#1581;&#1579;</b> <a class=gb1 href=\"https://www.google.com/imghp?hl=ar&tab=wi\">&#1589;&#1608;&#1585;</a> <a class=gb1 href=\"https://maps.google.tn/maps?hl=ar&tab=wl\">&#1582;&#1585;&#1575;&#1574;&#1591; Google</a> <a class=gb1 href=\"https://play.google.com/?hl=ar&tab=w8\">Play</a> <a class=gb1 href=\"https://www.youtube.com/?tab=w1\">YouTube</a> <a class=gb1 href=\"https://news.google.com/?tab=wn\">&#1575;&#1604;&#1571;&#1582;&#1576;&#1575;&#1585;</a> <a class=gb1 href=\"https://mail.google.com/mail/?tab=wm\">Gmail</a> <a class=gb1 href=\"https://drive.google.com/?tab=wo\">Drive</a> <a class=gb1 style=\"text-decoration:none\" href=\"https://www.google.tn/intl/ar/about/products?tab=wh\"><u>&#1575;&#1604;&#1605;&#1586;&#1610;&#1583;</u> &raquo;</a></nobr></div><div id=guser width=100%><nobr><span id=gbn class=gbi></span><span id=gbf class=gbf></span><span id=gbe></span><a href=\"http://www.google.tn/history/optout?hl=ar\" class=gb4>&#1587;&#1616;&#1580;&#1604; &#1576;&#1581;&#1579; &#1575;&#1604;&#1608;&#1610;&#1576;</a> | <a  href=\"/preferences?hl=ar\" class=gb4>&#1575;&#1604;&#1573;&#1593;&#1583;&#1575;&#1583;&#1575;&#1578;</a> | <a target=_top id=gb_70 href=\"https://accounts.google.com/ServiceLogin?hl=ar&passive=true&continue=https://www.google.com/&ec=GAZAAQ\" class=gb4>&#1578;&#1587;&#1580;&#1610;&#1604; &#1575;&#1604;&#1583;&#1582;&#1608;&#1604;</a></nobr></div><div class=gbh style=left:0></div><div class=gbh style=right:0></div></div><center><br clear=\"all\" id=\"lgpd\"><div id=\"XjhHGf\"><img alt=\"Google\" height=\"92\" src=\"/images/branding/googlelogo/1x/googlelogo_white_background_color_272x92dp.png\" style=\"padding:28px 0 14px\" width=\"272\" id=\"hplogo\"><br><br></div><form action=\"/search\" name=\"f\"><table cellpadding=\"0\" cellspacing=\"0\"><tr valign=\"top\"><td width=\"25%\">&nbsp;</td><td align=\"center\" nowrap=\"\"><input name=\"ie\" value=\"ISO-8859-1\" type=\"hidden\"><input value=\"ar-TN\" name=\"hl\" type=\"hidden\"><input name=\"source\" type=\"hidden\" value=\"hp\"><input name=\"biw\" type=\"hidden\"><input name=\"bih\" type=\"hidden\"><div class=\"ds\" style=\"height:32px;margin:4px 0\"><div style=\"position:relative;zoom:1\"><input class=\"lst Ucigb\" style=\"margin:0;padding:5px 6px 0 8px;vertical-align:top;color:#000;padding-left:38px\" autocomplete=\"off\" value=\"\" title=\"&#1576;&#1581;&#1579; Google\" maxlength=\"2048\" name=\"q\" size=\"57\"><img src=\"/textinputassistant/tia.png\" style=\"position:absolute;cursor:pointer;left:5px;top:4px;z-index:300\" data-script-url=\"/textinputassistant/13/ar_tia.js\" id=\"tsuid_1\" alt=\"\" height=\"23\" width=\"27\"><script nonce=\"tiZiGneuFTPup-PdnfsYGQ\">(function(){var id=\\'tsuid_1\\';document.getElementById(id).onclick = function(){var s = document.createElement(\\'script\\');s.src = this.getAttribute(\\'data-script-url\\');document.body.appendChild(s);};})();</script></div></div><br style=\"line-height:0\"><span class=\"ds\"><span class=\"lsbb\"><input class=\"lsb\" value=\"&#1576;&#1581;&#1579; Google\" name=\"btnG\" type=\"submit\"></span></span><span class=\"ds\"><span class=\"lsbb\"><input class=\"lsb\" id=\"tsuid_2\" value=\"&#1590;&#1585;&#1576;&#1577; &#1581;&#1592;\" name=\"btnI\" type=\"submit\"><script nonce=\"tiZiGneuFTPup-PdnfsYGQ\">(function(){var id=\\'tsuid_2\\';document.getElementById(id).onclick = function(){if (this.form.q.value){this.checked = 1;if (this.form.iflsig)this.form.iflsig.disabled = false;}\\nelse top.location=\\'/doodles/\\';};})();</script><input value=\"AL9hbdgAAAAAZxOficpY8ANp5jvViA5fYeEQKkmeN3Ff\" name=\"iflsig\" type=\"hidden\"></span></span></td><td class=\"fl sblc\" align=\"right\" nowrap=\"\" width=\"25%\"><a href=\"/advanced_search?hl=ar-TN&amp;authuser=0\">&#1576;&#1581;&#1579; &#1605;&#1578;&#1602;&#1583;&#1605;</a></td></tr></table><input id=\"gbv\" name=\"gbv\" type=\"hidden\" value=\"1\"><script nonce=\"tiZiGneuFTPup-PdnfsYGQ\">(function(){var a,b=\"1\";if(document&&document.getElementById)if(typeof XMLHttpRequest!=\"undefined\")b=\"2\";else if(typeof ActiveXObject!=\"undefined\"){var c,d,e=[\"MSXML2.XMLHTTP.6.0\",\"MSXML2.XMLHTTP.3.0\",\"MSXML2.XMLHTTP\",\"Microsoft.XMLHTTP\"];for(c=0;d=e[c++];)try{new ActiveXObject(d),b=\"2\"}catch(h){}}a=b;if(a==\"2\"&&location.search.indexOf(\"&gbv=2\")==-1){var f=google.gbvu,g=document.getElementById(\"gbv\");g&&(g.value=a);f&&window.setTimeout(function(){location.href=f},0)};}).call(this);</script></form><div style=\"font-size:83%;min-height:3.5em\"><br><div id=\"gws-output-pages-elements-homepage_additional_languages__als\"><style>#gws-output-pages-elements-homepage_additional_languages__als{font-size:small;margin-bottom:24px}#SIvCob{color:#474747;display:inline-block;line-height:28px;}#SIvCob a{padding:0 3px;}.H6sW5{display:inline-block;margin:0 2px;white-space:nowrap}.z4hgWe{display:inline-block;margin:0 2px}</style><div id=\"SIvCob\">&#1605;&#1581;&#1585;&#1617;&#1603; &#1576;&#1581;&#1579; Google &#1605;&#1578;&#1608;&#1601;&#1617;&#1585; &#1576;&#1575;&#1604;&#1604;&#1594;&#1577;:  <a dir=\"ltr\" href=\"https://www.google.com/setprefs?sig=0_pMLe6pr2_gXzhNtc4Ez5Y4oeKus%3D&amp;hl=fr&amp;source=homepage&amp;sa=X&amp;ved=0ahUKEwiclPKzpZqJAxU-vokEHfhpIjoQ2ZgBCAY\">Français</a>  </div></div></div><span id=\"footer\"><div style=\"font-size:10pt\"><div style=\"margin:19px auto;text-align:center\" id=\"WqQANb\"><a href=\"/intl/ar/ads/\">&#1575;&#1604;&#1573;&#1593;&#1604;&#1575;&#1606;&#1575;&#1578;</a><a href=\"http://www.google.com/intl/ar/services/\">&#1581;&#1604;&#1608;&#1604; &#1575;&#1604;&#1588;&#1585;&#1603;&#1575;&#1578;</a><a href=\"/intl/ar/about.html\">&#1603;&#1604; &#1605;&#1575; &#1578;&#1581;&#1576; &#1605;&#1593;&#1585;&#1601;&#1578;&#1607; &#1593;&#1606; Google &#1607;&#1606;&#1575;</a><a dir=\"ltr\" href=\"https://www.google.com/setprefdomain?prefdom=TN&amp;prev=https://www.google.tn/&amp;sig=K_gH6j4CBWHwcXxzr_owZnG337XS0%3D\">Google.tn</a></div></div><p style=\"font-size:8pt;color:#70757a\">&copy; 2024 - <a href=\"/intl/ar/policies/privacy/\">&#1575;&#1604;&#1582;&#1589;&#1608;&#1589;&#1610;&#1577;</a> - <a href=\"/intl/ar/policies/terms/\">&#1575;&#1604;&#1576;&#1606;&#1608;&#1583;</a></p></span></center><script nonce=\"tiZiGneuFTPup-PdnfsYGQ\">(function(){window.google.cdo={height:757,width:1440};(function(){var a=window.innerWidth,b=window.innerHeight;if(!a||!b){var c=window.document,d=c.compatMode==\"CSS1Compat\"?c.documentElement:c.body;a=d.clientWidth;b=d.clientHeight}\\nif(a&&b&&(a!=google.cdo.width||b!=google.cdo.height)){var e=google,f=e.log,g=\"/client_204?&atyp=i&biw=\"+a+\"&bih=\"+b+\"&ei=\"+google.kEI,h=\"\",k=[],l=window.google!==void 0&&window.google.kOPI!==void 0&&window.google.kOPI!==0?window.google.kOPI:null;l!=null&&k.push([\"opi\",l.toString()]);for(var m=0;m<k.length;m++){if(m===0||m>0)h+=\"&\";h+=k[m][0]+\"=\"+k[m][1]}f.call(e,\"\",\"\",g+h)};}).call(this);})();</script>  <script nonce=\"tiZiGneuFTPup-PdnfsYGQ\">(function(){google.xjs={basecomb:\\'/xjs/_/js/k\\\\x3dxjs.hp.en.EXAQEv_jiso.es5.O/ck\\\\x3dxjs.hp.FDbYVVpoVjM.R.X.O/am\\\\x3dAgAAAEAAAAAAAAAAAAAAAAAAAAAAAAAAAAAgCAAAAAAAAAAADABAHAAAAAIABAQAAAAAHAAAAAAAAAQgAiBYABAmAAAciO8IAATAIgAAvA/d\\\\x3d1/ed\\\\x3d1/dg\\\\x3d0/ujg\\\\x3d1/rs\\\\x3dACT90oFNWQu1IzfL5wrYU_UhuPPoMCaZKA\\',basecss:\\'/xjs/_/ss/k\\\\x3dxjs.hp.FDbYVVpoVjM.R.X.O/am\\\\x3dAgAAAEAAAAAAAAAAAAAAAAAAAAAAAAAAAAAACAAAAAAAAAAAAABAAAAAAAIABAQAAAAAAAAAAAAAAAQgAiBYABAm/rs\\\\x3dACT90oEAdx5XeS6c2wLm0-Y3un3S9Rg8jA\\',basejs:\\'/xjs/_/js/k\\\\x3dxjs.hp.en.EXAQEv_jiso.es5.O/am\\\\x3dAAAAAAAAAAAAAAAAAAAAAAAAAAAAAAAAAAAgAAAAAAAAAAAADAAAHAAAAAAAAAAAAAAAHAAAAAAAAAAAAAAAAAAAAAAciO8IAATAIgAAvA/dg\\\\x3d0/rs\\\\x3dACT90oGQ_jlk3YuwtNT0ZEXcYvDdAEUxbw\\',excm:[]};})();</script>  <link href=\"/xjs/_/ss/k=xjs.hp.FDbYVVpoVjM.R.X.O/am=AgAAAEAAAAAAAAAAAAAAAAAAAAAAAAAAAAAACAAAAAAAAAAAAABAAAAAAAIABAQAAAAAAAAAAAAAAAQgAiBYABAm/d=1/ed=1/rs=ACT90oEAdx5XeS6c2wLm0-Y3un3S9Rg8jA/m=sb_he,d\" rel=\"stylesheet\" nonce=\"tiZiGneuFTPup-PdnfsYGQ\">      <script nonce=\"tiZiGneuFTPup-PdnfsYGQ\">(function(){var u=\\'/xjs/_/js/k\\\\x3dxjs.hp.en.EXAQEv_jiso.es5.O/am\\\\x3dAAAAAAAAAAAAAAAAAAAAAAAAAAAAAAAAAAAgAAAAAAAAAAAADAAAHAAAAAAAAAAAAAAAHAAAAAAAAAAAAAAAAAAAAAAciO8IAATAIgAAvA/d\\\\x3d1/ed\\\\x3d1/dg\\\\x3d3/rs\\\\x3dACT90oGQ_jlk3YuwtNT0ZEXcYvDdAEUxbw/m\\\\x3dsb_he,d\\';var st=1;var amd=1000;var mmd=0;var pod=true;var f=typeof Object.defineProperties==\"function\"?Object.defineProperty:function(a,b,c){if(a==Array.prototype||a==Object.prototype)return a;a[b]=c.value;return a},g=function(a){a=[\"object\"==typeof globalThis&&globalThis,a,\"object\"==typeof window&&window,\"object\"==typeof self&&self,\"object\"==typeof global&&global];for(var b=0;b<a.length;++b){var c=a[b];if(c&&c.Math==Math)return c}throw Error(\"a\");},h=g(this),k=function(a,b){if(b)a:{var c=h;a=a.split(\".\");for(var d=0;d<a.length-1;d++){var e=a[d];if(!(e in\\nc))break a;c=c[e]}a=a[a.length-1];d=c[a];b=b(d);b!=d&&b!=null&&f(c,a,{configurable:!0,writable:!0,value:b})}};k(\"globalThis\",function(a){return a||h});\\nvar l=this||self;function m(){var a,b,c;if(b=a=(b=window.google)==null?void 0:(c=b.ia)==null?void 0:c.r.B2Jtyd)b=a.m,b=b===1||b===5;return b&&a.cbfd!=null&&a.cbvi!=null?a:void 0};\\nvar n=globalThis.trustedTypes,p;function q(){var a=null;if(!n)return a;try{var b=function(c){return c};a=n.createPolicy(\"goog#html\",{createHTML:b,createScript:b,createScriptURL:b})}catch(c){}return a};var r=function(a){this.g=a};r.prototype.toString=function(){return this.g+\"\"};function t(a){if(a instanceof r)return a.g;throw Error(\"b\");};var w=/^\\\\s*(?!javascript:)(?:[\\\\w+.-]+:|[^:/?#]*(?:[/?#]|$))/i;var x=\"alternate author bookmark canonical cite help icon license modulepreload next prefetch dns-prefetch prerender preconnect preload prev search subresource\".split(\" \");function y(a,b){a.src=t(b);var c;b=a.ownerDocument&&a.ownerDocument.defaultView||window;b=b===void 0?document:b;var d;b=(d=(c=\"document\"in b?b.document:b).querySelector)==null?void 0:d.call(c,\"script[nonce]\");(c=b==null?\"\":b.nonce||b.getAttribute(\"nonce\")||\"\")&&a.setAttribute(\"nonce\",c)};var z=function(a){var b=document;a=String(a);b.contentType===\"application/xhtml+xml\"&&(a=a.toLowerCase());return b.createElement(a)};function A(a){a=a===null?\"null\":a===void 0?\"undefined\":a;p===void 0&&(p=q());var b=p;return new r(b?b.createScriptURL(a):a)};google.ps===void 0&&(google.ps=[]);function B(){var a=u,b=function(){};google.lx=google.stvsc?b:function(){C(a);google.lx=b};google.bx||google.lx()}function D(a,b){b&&y(a,A(b));var c=a.onload;a.onload=function(d){c&&c(d);google.ps=google.ps.filter(function(e){return a!==e})};google.ps.push(a);document.body.appendChild(a)}google.as=D;function C(a){google.timers&&google.timers.load&&google.tick&&google.tick(\"load\",\"xjsls\");var b=z(\"SCRIPT\");b.onerror=function(){google.ple=1};b.onload=function(){google.ple=0};google.xjsus=void 0;D(b,a);google.aple=-1;google.dp=!0}\\nfunction E(){var a=[u];if(!google.dp){for(var b=0;b<a.length;b++){var c=z(\"LINK\"),d=c,e=A(a[b]);if(e instanceof r)d.href=t(e).toString(),d.rel=\"preload\";else{if(x.indexOf(\"preload\")===-1)throw Error(\"c`preload\");e=w.test(e)?e:void 0;e!==void 0&&(d.href=e,d.rel=\"preload\")}c.setAttribute(\"as\",\"script\");document.body.appendChild(c)}google.dp=!0}};function F(a){var b=a.getAttribute(\"jscontroller\");return(b===\"UBXHI\"||b===\"R3fhkb\"||b===\"TSZEqd\")&&a.hasAttribute(\"data-src\")}function G(){for(var a=document.getElementsByTagName(\"img\"),b=0,c=a.length;b<c;b++){var d=a[b];if(d.hasAttribute(\"data-lzy_\")&&Number(d.getAttribute(\"data-atf\"))&1&&!F(d))return!0}return!1}for(var H=document.getElementsByTagName(\"img\"),I=0,J=H.length;I<J;++I){var K=H[I];Number(K.getAttribute(\"data-atf\"))&1&&F(K)&&(K.src=K.getAttribute(\"data-src\"))};var L,M,N,O,P,Q;function R(){google.xjsu=u;l._F_jsUrl=u;P=function(){B()};L=!1;M=(st===1||st===3)&&!!google.caft&&!G();N=m();O=(st===2||st===3)&&!!N&&!G();Q=pod}function S(){L||M||O||(P(),L=!0)}setTimeout(function(){google&&google.tick&&google.timers&&google.timers.load&&google.tick(\"load\",\"xjspls\");R();if(M||O){if(M){var a=function(){M=!1;S()};google.caft(a);window.setTimeout(a,amd)}O&&(a=function(){O=!1;S()},N.cbvi.push(a),window.setTimeout(a,mmd));Q&&(L||E())}else P()},0);})();window._ = window._ || {};window._DumpException = _._DumpException = function(e){throw e;};window._s = window._s || {};_s._DumpException = _._DumpException;window._qs = window._qs || {};_qs._DumpException = _._DumpException;(function(){var t=[2,256,0,0,0,0,0,521,570425344,3276802,16892944,167936,1028,7340160,0,134283264,274210818,38992,251167168,813760514,1006632994,2];window._F_toggles = window._xjs_toggles = t;})();window._F_installCss = window._F_installCss || function(css){};(function(){google.jl={bfl:0,dw:false,ine:false,ubm:false,uwp:true,vs:false};})();(function(){var pmc=\\'{\\\\x22d\\\\x22:{},\\\\x22sb_he\\\\x22:{\\\\x22agen\\\\x22:false,\\\\x22cgen\\\\x22:false,\\\\x22client\\\\x22:\\\\x22heirloom-hp\\\\x22,\\\\x22dh\\\\x22:true,\\\\x22ds\\\\x22:\\\\x22\\\\x22,\\\\x22fl\\\\x22:true,\\\\x22host\\\\x22:\\\\x22google.com\\\\x22,\\\\x22jsonp\\\\x22:true,\\\\x22msgs\\\\x22:{\\\\x22cibl\\\\x22:\\\\x22\\\\\\\\u0645\\\\\\\\u062d\\\\\\\\u0648 \\\\\\\\u0627\\\\\\\\u0644\\\\\\\\u0628\\\\\\\\u062d\\\\\\\\u062b\\\\x22,\\\\x22dym\\\\x22:\\\\x22\\\\\\\\u0647\\\\\\\\u0644 \\\\\\\\u062a\\\\\\\\u0642\\\\\\\\u0635\\\\\\\\u062f :\\\\x22,\\\\x22lcky\\\\x22:\\\\x22\\\\\\\\u0636\\\\\\\\u0631\\\\\\\\u0628\\\\\\\\u0629 \\\\\\\\u062d\\\\\\\\u0638\\\\x22,\\\\x22lml\\\\x22:\\\\x22\\\\\\\\u0645\\\\\\\\u0632\\\\\\\\u064a\\\\\\\\u062f \\\\\\\\u0645\\\\\\\\u0646 \\\\\\\\u0627\\\\\\\\u0644\\\\\\\\u0645\\\\\\\\u0639\\\\\\\\u0644\\\\\\\\u0648\\\\\\\\u0645\\\\\\\\u0627\\\\\\\\u062a\\\\x22,\\\\x22psrc\\\\x22:\\\\x22\\\\\\\\u062a\\\\\\\\u0645\\\\\\\\u062a \\\\\\\\u0625\\\\\\\\u0632\\\\\\\\u0627\\\\\\\\u0644\\\\\\\\u0629 \\\\\\\\u0647\\\\\\\\u0630\\\\\\\\u0627 \\\\\\\\u0627\\\\\\\\u0644\\\\\\\\u0628\\\\\\\\u062d\\\\\\\\u062b \\\\\\\\u0645\\\\\\\\u0646 \\\\\\\\u003Ca href\\\\x3d\\\\\\\\\\\\x22/history\\\\\\\\\\\\x22\\\\\\\\u003E\\\\\\\\u0633\\\\\\\\u0650\\\\\\\\u062c\\\\\\\\u0644 \\\\\\\\u0627\\\\\\\\u0644\\\\\\\\u0628\\\\\\\\u062d\\\\\\\\u062b\\\\\\\\u003C/a\\\\\\\\u003E.\\\\x22,\\\\x22psrl\\\\x22:\\\\x22\\\\\\\\u0625\\\\\\\\u0632\\\\\\\\u0627\\\\\\\\u0644\\\\\\\\u0629\\\\x22,\\\\x22sbit\\\\x22:\\\\x22\\\\\\\\u0627\\\\\\\\u0644\\\\\\\\u0628\\\\\\\\u062d\\\\\\\\u062b \\\\\\\\u0628\\\\\\\\u062d\\\\\\\\u0633\\\\\\\\u0628 \\\\\\\\u0627\\\\\\\\u0644\\\\\\\\u0635\\\\\\\\u0648\\\\\\\\u0631\\\\x22,\\\\x22srch\\\\x22:\\\\x22\\\\\\\\u0628\\\\\\\\u062d\\\\\\\\u062b Google\\\\\\\\u200f\\\\x22},\\\\x22ovr\\\\x22:{},\\\\x22pq\\\\x22:\\\\x22\\\\x22,\\\\x22rfs\\\\x22:[],\\\\x22stok\\\\x22:\\\\x22mKqywvdgsaZZo9VDYkJF458OMRo\\\\x22}}\\';google.pmc=JSON.parse(pmc);})();(function(){var b=function(a){var c=0;return function(){return c<a.length?{done:!1,value:a[c++]}:{done:!0}}};\\nvar e=this||self;var g,h;a:{for(var k=[\"CLOSURE_FLAGS\"],l=e,n=0;n<k.length;n++)if(l=l[k[n]],l==null){h=null;break a}h=l}var p=h&&h[610401301];g=p!=null?p:!1;var q,r=e.navigator;q=r?r.userAgentData||null:null;function t(a){return g?q?q.brands.some(function(c){return(c=c.brand)&&c.indexOf(a)!=-1}):!1:!1}function u(a){var c;a:{if(c=e.navigator)if(c=c.userAgent)break a;c=\"\"}return c.indexOf(a)!=-1};function v(){return g?!!q&&q.brands.length>0:!1}function w(){return u(\"Safari\")&&!(x()||(v()?0:u(\"Coast\"))||(v()?0:u(\"Opera\"))||(v()?0:u(\"Edge\"))||(v()?t(\"Microsoft Edge\"):u(\"Edg/\"))||(v()?t(\"Opera\"):u(\"OPR\"))||u(\"Firefox\")||u(\"FxiOS\")||u(\"Silk\")||u(\"Android\"))}function x(){return v()?t(\"Chromium\"):(u(\"Chrome\")||u(\"CriOS\"))&&!(v()?0:u(\"Edge\"))||u(\"Silk\")}function y(){return u(\"Android\")&&!(x()||u(\"Firefox\")||u(\"FxiOS\")||(v()?0:u(\"Opera\"))||u(\"Silk\"))};var z=v()?!1:u(\"Trident\")||u(\"MSIE\");y();x();w();var A=!z&&!w(),D=function(a){if(/-[a-z]/.test(\"ved\"))return null;if(A&&a.dataset){if(y()&&!(\"ved\"in a.dataset))return null;a=a.dataset.ved;return a===void 0?null:a}return a.getAttribute(\"data-\"+\"ved\".replace(/([A-Z])/g,\"-$1\").toLowerCase())};var E=[],F=null;function G(a){a=a.target;var c=performance.now(),f=[],H=f.concat,d=E;if(!(d instanceof Array)){var m=typeof Symbol!=\"undefined\"&&Symbol.iterator&&d[Symbol.iterator];if(m)d=m.call(d);else if(typeof d.length==\"number\")d={next:b(d)};else throw Error(\"b`\"+String(d));for(var B=[];!(m=d.next()).done;)B.push(m.value);d=B}E=H.call(f,d,[c]);if(a&&a instanceof HTMLElement)if(a===F){if(c=E.length>=4)c=(E[E.length-1]-E[E.length-4])/1E3<5;if(c){c=google.getEI(a);a.hasAttribute(\"data-ved\")?f=a?D(a)||\"\":\"\":f=(f=\\na.closest(\"[data-ved]\"))?D(f)||\"\":\"\";f=f||\"\";if(a.hasAttribute(\"jsname\"))a=a.getAttribute(\"jsname\");else{var C;a=(C=a.closest(\"[jsname]\"))==null?void 0:C.getAttribute(\"jsname\")}google.log(\"rcm\",\"&ei=\"+c+\"&tgtved=\"+f+\"&jsname=\"+(a||\"\"))}}else F=a,E=[c]}window.document.addEventListener(\"DOMContentLoaded\",function(){document.body.addEventListener(\"click\",G)});}).call(this);</script></body></html>'"
            ]
          },
          "execution_count": 20,
          "metadata": {},
          "output_type": "execute_result"
        }
      ],
      "source": [
        "response.text"
      ]
    },
    {
      "cell_type": "markdown",
      "metadata": {
        "id": "cZJa4rZfnqBw"
      },
      "source": [
        "2.3 Analyser le contenu d'une page avec BeautifulSoup ( de preference , on utilise python files)"
      ]
    },
    {
      "cell_type": "code",
      "execution_count": 22,
      "metadata": {
        "id": "qYleK7K1njg0"
      },
      "outputs": [],
      "source": [
        "## on doit installer beautifulSoup\n",
        "#! pip install beautifulsoup4 # la version 4"
      ]
    },
    {
      "cell_type": "code",
      "execution_count": 25,
      "metadata": {
        "id": "d9ZBZXX8nji-"
      },
      "outputs": [],
      "source": [
        "from bs4 import BeautifulSoup\n",
        "import shutil\n",
        "import pandas as pd\n",
        "from pprint import pprint"
      ]
    },
    {
      "cell_type": "markdown",
      "metadata": {
        "id": "nNLiiHAo9jTD"
      },
      "source": [
        "## Premiers pas avec BS"
      ]
    },
    {
      "cell_type": "code",
      "execution_count": 26,
      "metadata": {
        "id": "QwMNzlPJ9nI9"
      },
      "outputs": [],
      "source": [
        "## nous avons un contenu html\n",
        "\n",
        "html_doc = \"\"\"<html><head><title>The Dormouse's story</title></head>\n",
        "<body>\n",
        "<p class=\"title\"><b>The Dormouse's story</b></p>\n",
        "\n",
        "<p class=\"story\">Once upon a time there were three little sisters; and their names were\n",
        "<a href=\"http://example.com/elsie\" class=\"sister\" id=\"link1\">Elsie</a>,\n",
        "<a href=\"http://example.com/lacie\" class=\"sister\" id=\"link2\">Lacie</a> and\n",
        "<a href=\"http://example.com/tillie\" class=\"sister\" id=\"link3\">Tillie</a>;\n",
        "and they lived at the bottom of a well.</p>\n",
        "\n",
        "<p class=\"story\">...</p>\n",
        "\"\"\""
      ]
    },
    {
      "cell_type": "code",
      "execution_count": 27,
      "metadata": {
        "id": "D4OpErWb9nZG"
      },
      "outputs": [],
      "source": [
        "# init la classe de BS4\n",
        "soup = BeautifulSoup(html_doc, 'html.parser')"
      ]
    },
    {
      "cell_type": "code",
      "execution_count": 28,
      "metadata": {
        "colab": {
          "base_uri": "https://localhost:8080/"
        },
        "id": "u4bX_Ci0-Erh",
        "outputId": "5a4a22f2-4b3c-44e6-de35-1e79f0f51595"
      },
      "outputs": [
        {
          "name": "stdout",
          "output_type": "stream",
          "text": [
            "<html>\n",
            " <head>\n",
            "  <title>\n",
            "   The Dormouse's story\n",
            "  </title>\n",
            " </head>\n",
            " <body>\n",
            "  <p class=\"title\">\n",
            "   <b>\n",
            "    The Dormouse's story\n",
            "   </b>\n",
            "  </p>\n",
            "  <p class=\"story\">\n",
            "   Once upon a time there were three little sisters; and their names were\n",
            "   <a class=\"sister\" href=\"http://example.com/elsie\" id=\"link1\">\n",
            "    Elsie\n",
            "   </a>\n",
            "   ,\n",
            "   <a class=\"sister\" href=\"http://example.com/lacie\" id=\"link2\">\n",
            "    Lacie\n",
            "   </a>\n",
            "   and\n",
            "   <a class=\"sister\" href=\"http://example.com/tillie\" id=\"link3\">\n",
            "    Tillie\n",
            "   </a>\n",
            "   ;\n",
            "and they lived at the bottom of a well.\n",
            "  </p>\n",
            "  <p class=\"story\">\n",
            "   ...\n",
            "  </p>\n",
            " </body>\n",
            "</html>\n",
            "\n"
          ]
        }
      ],
      "source": [
        "# afficher le contenu html de facon claire\n",
        "print(soup.prettify())"
      ]
    },
    {
      "cell_type": "code",
      "execution_count": 29,
      "metadata": {
        "colab": {
          "base_uri": "https://localhost:8080/"
        },
        "id": "bbiTjR8x-Et9",
        "outputId": "44a680ff-bba6-4f00-faee-838b3a05f84f"
      },
      "outputs": [
        {
          "data": {
            "text/plain": [
              "<title>The Dormouse's story</title>"
            ]
          },
          "execution_count": 29,
          "metadata": {},
          "output_type": "execute_result"
        }
      ],
      "source": [
        "## afficher le tag 'title' du page html\n",
        "soup.title"
      ]
    },
    {
      "cell_type": "code",
      "execution_count": 30,
      "metadata": {
        "colab": {
          "base_uri": "https://localhost:8080/",
          "height": 35
        },
        "id": "1pnH1imV-EwI",
        "outputId": "23c808fa-f3df-47ba-8fc8-b4cb3ad21f43"
      },
      "outputs": [
        {
          "data": {
            "text/plain": [
              "'title'"
            ]
          },
          "execution_count": 30,
          "metadata": {},
          "output_type": "execute_result"
        }
      ],
      "source": [
        "## afficher le nom du tag\n",
        "soup.title.name"
      ]
    },
    {
      "cell_type": "code",
      "execution_count": 32,
      "metadata": {
        "colab": {
          "base_uri": "https://localhost:8080/",
          "height": 35
        },
        "id": "5o8Hf51M-EyJ",
        "outputId": "19c0895b-5fa9-41f2-aa17-640f5b83096e"
      },
      "outputs": [
        {
          "data": {
            "text/plain": [
              "\"The Dormouse's story\""
            ]
          },
          "execution_count": 32,
          "metadata": {},
          "output_type": "execute_result"
        }
      ],
      "source": [
        "## afficher le contenu du tag\n",
        "soup.title.text"
      ]
    },
    {
      "cell_type": "code",
      "execution_count": 33,
      "metadata": {
        "colab": {
          "base_uri": "https://localhost:8080/",
          "height": 35
        },
        "id": "Ag-yzowU-mGn",
        "outputId": "484f80a5-0c3a-4c61-aa82-dd0b858b91b0"
      },
      "outputs": [
        {
          "data": {
            "text/plain": [
              "'head'"
            ]
          },
          "execution_count": 33,
          "metadata": {},
          "output_type": "execute_result"
        }
      ],
      "source": [
        "## afficher le tag parent\n",
        "soup.title.parent.name"
      ]
    },
    {
      "cell_type": "code",
      "execution_count": 34,
      "metadata": {
        "colab": {
          "base_uri": "https://localhost:8080/"
        },
        "id": "GIlkvvoP-mI9",
        "outputId": "2e8b819e-2ea3-40d3-bf05-49c275bc8a8e"
      },
      "outputs": [
        {
          "data": {
            "text/plain": [
              "<p class=\"title\"><b>The Dormouse's story</b></p>"
            ]
          },
          "execution_count": 34,
          "metadata": {},
          "output_type": "execute_result"
        }
      ],
      "source": [
        "## afficher un premier tag 'p'\n",
        "soup.p"
      ]
    },
    {
      "cell_type": "code",
      "execution_count": 35,
      "metadata": {
        "colab": {
          "base_uri": "https://localhost:8080/"
        },
        "id": "f-gtQnbd-mLB",
        "outputId": "9cd9eb2d-0600-4346-bebc-c87ef7775a53"
      },
      "outputs": [
        {
          "data": {
            "text/plain": [
              "['title']"
            ]
          },
          "execution_count": 35,
          "metadata": {},
          "output_type": "execute_result"
        }
      ],
      "source": [
        "## afficher la classe du premier tag 'p'\n",
        "soup.p['class']"
      ]
    },
    {
      "cell_type": "code",
      "execution_count": 80,
      "metadata": {
        "colab": {
          "base_uri": "https://localhost:8080/"
        },
        "id": "rFBtrL4jAX5B",
        "outputId": "7108a0b8-cb62-46df-9093-fe80184bec06"
      },
      "outputs": [
        {
          "data": {
            "text/plain": [
              "['body', 'strikeout']"
            ]
          },
          "execution_count": 80,
          "metadata": {},
          "output_type": "execute_result"
        }
      ],
      "source": [
        "## parfois on peut trouver des classes multiples\n",
        "css_soup = BeautifulSoup('<p class=\"body strikeout\"></p>', 'html.parser')\n",
        "css_soup.p[\"class\"]"
      ]
    },
    {
      "cell_type": "code",
      "execution_count": 41,
      "metadata": {
        "colab": {
          "base_uri": "https://localhost:8080/"
        },
        "id": "wvFoktg--mNW",
        "outputId": "26e1562f-18fe-433b-88f1-075c7ccd8bfd"
      },
      "outputs": [
        {
          "data": {
            "text/plain": [
              "<a class=\"sister\" href=\"http://example.com/elsie\" id=\"link1\">Elsie</a>"
            ]
          },
          "execution_count": 41,
          "metadata": {},
          "output_type": "execute_result"
        }
      ],
      "source": [
        "## afficher un premier tag 'a'\n",
        "soup.a"
      ]
    },
    {
      "cell_type": "code",
      "execution_count": 42,
      "metadata": {
        "colab": {
          "base_uri": "https://localhost:8080/"
        },
        "id": "9RBoTtfD-mPj",
        "outputId": "dbb38ce9-6613-46d7-998b-7713dc332dc4"
      },
      "outputs": [
        {
          "data": {
            "text/plain": [
              "[<a class=\"sister\" href=\"http://example.com/elsie\" id=\"link1\">Elsie</a>,\n",
              " <a class=\"sister\" href=\"http://example.com/lacie\" id=\"link2\">Lacie</a>,\n",
              " <a class=\"sister\" href=\"http://example.com/tillie\" id=\"link3\">Tillie</a>]"
            ]
          },
          "execution_count": 42,
          "metadata": {},
          "output_type": "execute_result"
        }
      ],
      "source": [
        "## on veut extraire toutes les balises « a »\n",
        "soup.find_all('a')"
      ]
    },
    {
      "cell_type": "code",
      "execution_count": 36,
      "metadata": {
        "colab": {
          "base_uri": "https://localhost:8080/"
        },
        "id": "vWdtRLE2-mRi",
        "outputId": "5a186801-c4eb-41f6-8310-8569c206967e"
      },
      "outputs": [
        {
          "data": {
            "text/plain": [
              "<a class=\"sister\" href=\"http://example.com/lacie\" id=\"link2\">Lacie</a>"
            ]
          },
          "execution_count": 36,
          "metadata": {},
          "output_type": "execute_result"
        }
      ],
      "source": [
        "## on veut extraire la balise 'a' qui a un id link2\n",
        "soup.find(id=\"link2\")"
      ]
    },
    {
      "cell_type": "code",
      "execution_count": 42,
      "metadata": {
        "colab": {
          "base_uri": "https://localhost:8080/"
        },
        "id": "frvWtTe5-mTd",
        "outputId": "d6ab12d9-3525-42fb-fb4e-4c2cc9b46d8e"
      },
      "outputs": [
        {
          "name": "stdout",
          "output_type": "stream",
          "text": [
            "http://example.com/elsie\n",
            "http://example.com/lacie\n",
            "http://example.com/tillie\n"
          ]
        }
      ],
      "source": [
        "## on veut extraire seulement les url de ces balises 'a'\n",
        "## si l'attribut href n'existe pas, on affiche None\n",
        "\n",
        "for link in soup.find_all('a'):\n",
        "    print(link.get('href', None))"
      ]
    },
    {
      "cell_type": "code",
      "execution_count": 85,
      "metadata": {
        "colab": {
          "base_uri": "https://localhost:8080/"
        },
        "id": "LnVczMOu-mWM",
        "outputId": "2a3f8a53-a133-41b5-f7b3-9bd567fd139f"
      },
      "outputs": [
        {
          "name": "stdout",
          "output_type": "stream",
          "text": [
            "The Dormouse's story\n",
            "\n",
            "The Dormouse's story\n",
            "Once upon a time there were three little sisters; and their names were\n",
            "Elsie,\n",
            "Lacie and\n",
            "Tillie;\n",
            "and they lived at the bottom of a well.\n",
            "...\n",
            "\n"
          ]
        }
      ],
      "source": [
        "## on veut extraire les texts dans notre page\n",
        "print(soup.get_text())"
      ]
    },
    {
      "cell_type": "code",
      "execution_count": 43,
      "metadata": {
        "colab": {
          "base_uri": "https://localhost:8080/"
        },
        "id": "qB1cYNSA-Ez7",
        "outputId": "6da4454d-70ab-4892-9035-9420591b81b7"
      },
      "outputs": [
        {
          "data": {
            "text/plain": [
              "<head><title>The Dormouse's story</title></head>"
            ]
          },
          "execution_count": 43,
          "metadata": {},
          "output_type": "execute_result"
        }
      ],
      "source": [
        "## trouver un element par son nom\n",
        "head_tag = soup.find(\"head\")\n",
        "head_tag"
      ]
    },
    {
      "cell_type": "code",
      "execution_count": 44,
      "metadata": {
        "colab": {
          "base_uri": "https://localhost:8080/"
        },
        "id": "QW49If0LBTZ4",
        "outputId": "97b7e0f8-db7d-44a2-f4ce-718193eec58f"
      },
      "outputs": [
        {
          "data": {
            "text/plain": [
              "[<title>The Dormouse's story</title>]"
            ]
          },
          "execution_count": 44,
          "metadata": {},
          "output_type": "execute_result"
        }
      ],
      "source": [
        "## afficher les childrens de notre head_tag\n",
        "head_tag.contents"
      ]
    },
    {
      "cell_type": "code",
      "execution_count": 47,
      "metadata": {},
      "outputs": [
        {
          "data": {
            "text/plain": [
              "[\"The Dormouse's story\"]"
            ]
          },
          "execution_count": 47,
          "metadata": {},
          "output_type": "execute_result"
        }
      ],
      "source": [
        "head_tag.contents[0].contents"
      ]
    },
    {
      "cell_type": "code",
      "execution_count": 49,
      "metadata": {
        "colab": {
          "base_uri": "https://localhost:8080/"
        },
        "id": "GXU8-wCLBTcY",
        "outputId": "cb4354ac-4a6d-4cd7-c38a-1b726e1fffac"
      },
      "outputs": [
        {
          "name": "stdout",
          "output_type": "stream",
          "text": [
            "The Dormouse's story\n",
            "The Dormouse's story\n",
            "The Dormouse's story\n"
          ]
        }
      ],
      "source": [
        "## afficher le contenu\n",
        "print(head_tag.contents[0].text)\n",
        "\n",
        "## ou bien\n",
        "print(head_tag.contents[0].get_text())\n",
        "\n",
        "## ou bien\n",
        "print(head_tag.contents[0].contents[0])"
      ]
    },
    {
      "cell_type": "code",
      "execution_count": 54,
      "metadata": {
        "colab": {
          "base_uri": "https://localhost:8080/"
        },
        "id": "M53csWSEBTeu",
        "outputId": "54ac3a5e-c330-4cd7-95ee-9d6b0ed5a7f8"
      },
      "outputs": [
        {
          "name": "stdout",
          "output_type": "stream",
          "text": [
            "le child est :  <title>The Dormouse's story</title>\n",
            "le nom du tag est :  title\n",
            "le contenu du tag est : The Dormouse's story\n"
          ]
        }
      ],
      "source": [
        "## au lieu de recuperer les children dans une liste\n",
        "## on peut:\n",
        "\n",
        "for child in head_tag.children:\n",
        "  print(\"le child est : \", child)\n",
        "  print(\"le nom du tag est : \",child.name)\n",
        "  print(\"le contenu du tag est :\", child.text)"
      ]
    },
    {
      "cell_type": "code",
      "execution_count": 90,
      "metadata": {
        "colab": {
          "base_uri": "https://localhost:8080/"
        },
        "id": "6zZwNUOlBTg3",
        "outputId": "9662cfb4-140e-47bf-b7fd-e7fff3f9f1d6"
      },
      "outputs": [
        {
          "name": "stdout",
          "output_type": "stream",
          "text": [
            "<a>\n",
            " <b>\n",
            "  text1\n",
            " </b>\n",
            " <c>\n",
            "  text2\n",
            " </c>\n",
            "</a>\n",
            "\n"
          ]
        }
      ],
      "source": [
        "## avoir les siblings tag\n",
        "sibling_soup = BeautifulSoup(\"<a><b>text1</b><c>text2</c></a>\", 'html.parser')\n",
        "print(sibling_soup.prettify())"
      ]
    },
    {
      "cell_type": "code",
      "execution_count": 91,
      "metadata": {
        "colab": {
          "base_uri": "https://localhost:8080/"
        },
        "id": "CLcByHsaBTjG",
        "outputId": "11d1e057-513a-48ed-cd81-f6b56a3da14b"
      },
      "outputs": [
        {
          "data": {
            "text/plain": [
              "<c>text2</c>"
            ]
          },
          "execution_count": 91,
          "metadata": {},
          "output_type": "execute_result"
        }
      ],
      "source": [
        "## recuperer le next sibling de b\n",
        "sibling_soup.b.next_sibling"
      ]
    },
    {
      "cell_type": "code",
      "execution_count": 92,
      "metadata": {
        "colab": {
          "base_uri": "https://localhost:8080/"
        },
        "id": "R0zDZbX8BTlN",
        "outputId": "c8e91c51-c4c8-48a2-ee1c-06a1878f2908"
      },
      "outputs": [
        {
          "data": {
            "text/plain": [
              "<b>text1</b>"
            ]
          },
          "execution_count": 92,
          "metadata": {},
          "output_type": "execute_result"
        }
      ],
      "source": [
        "## recuperer le previous sibling de c\n",
        "sibling_soup.c.previous_sibling"
      ]
    },
    {
      "cell_type": "code",
      "execution_count": 93,
      "metadata": {
        "id": "fEmdA6BXBTnk"
      },
      "outputs": [],
      "source": [
        "## on peut passer des fonctions dans `find_all` et `find`\n",
        "## par exemple, une fonction qui qui renvoie True\n",
        "# si une balise définit l’attribut « class » mais ne définit pas l’attribut « id »"
      ]
    },
    {
      "cell_type": "code",
      "execution_count": 94,
      "metadata": {
        "id": "MVjcZvJ8BTp0"
      },
      "outputs": [],
      "source": [
        "def has_class_but_no_id(tag):\n",
        "    return tag.has_attr('class') and not tag.has_attr('id')"
      ]
    },
    {
      "cell_type": "code",
      "execution_count": 95,
      "metadata": {
        "colab": {
          "base_uri": "https://localhost:8080/"
        },
        "id": "F2zfet8BBTsM",
        "outputId": "4aedc435-a0bd-4c9d-c7c5-ca6e0d00aea9"
      },
      "outputs": [
        {
          "data": {
            "text/plain": [
              "[<p class=\"title\"><b>The Dormouse's story</b></p>,\n",
              " <p class=\"story\">Once upon a time there were three little sisters; and their names were\n",
              " <a class=\"sister\" href=\"http://example.com/elsie\" id=\"link1\">Elsie</a>,\n",
              " <a class=\"sister\" href=\"http://example.com/lacie\" id=\"link2\">Lacie</a> and\n",
              " <a class=\"sister\" href=\"http://example.com/tillie\" id=\"link3\">Tillie</a>;\n",
              " and they lived at the bottom of a well.</p>,\n",
              " <p class=\"story\">...</p>]"
            ]
          },
          "execution_count": 95,
          "metadata": {},
          "output_type": "execute_result"
        }
      ],
      "source": [
        "soup.find_all(has_class_but_no_id)"
      ]
    },
    {
      "cell_type": "code",
      "execution_count": 96,
      "metadata": {
        "colab": {
          "base_uri": "https://localhost:8080/"
        },
        "id": "ZdtXfyynBTuZ",
        "outputId": "9551a3bb-89e8-4fa4-a5ad-238dbe1450d8"
      },
      "outputs": [
        {
          "data": {
            "text/plain": [
              "[<b>The Dormouse's story</b>,\n",
              " <a class=\"sister\" href=\"http://example.com/elsie\" id=\"link1\">Elsie</a>,\n",
              " <a class=\"sister\" href=\"http://example.com/lacie\" id=\"link2\">Lacie</a>,\n",
              " <a class=\"sister\" href=\"http://example.com/tillie\" id=\"link3\">Tillie</a>]"
            ]
          },
          "execution_count": 96,
          "metadata": {},
          "output_type": "execute_result"
        }
      ],
      "source": [
        "## on peut passer des lists\n",
        "## ce code trouve toutes les balises <a> et toutes les balises <b> :\n",
        "soup.find_all([\"a\", \"b\"])"
      ]
    },
    {
      "cell_type": "code",
      "execution_count": 53,
      "metadata": {
        "colab": {
          "base_uri": "https://localhost:8080/"
        },
        "id": "SMH_evhqBTwp",
        "outputId": "7da00e7d-349b-44a1-d4cf-4128b4a95384"
      },
      "outputs": [
        {
          "data": {
            "text/plain": [
              "[<a class=\"sister\" href=\"http://example.com/elsie\" id=\"link1\">Elsie</a>,\n",
              " <a class=\"sister\" href=\"http://example.com/lacie\" id=\"link2\">Lacie</a>,\n",
              " <a class=\"sister\" href=\"http://example.com/tillie\" id=\"link3\">Tillie</a>]"
            ]
          },
          "execution_count": 53,
          "metadata": {},
          "output_type": "execute_result"
        }
      ],
      "source": [
        "## recuperer par nom de class\n",
        "soup.find_all(\"a\", class_=\"sister\")"
      ]
    },
    {
      "cell_type": "code",
      "execution_count": 98,
      "metadata": {
        "colab": {
          "base_uri": "https://localhost:8080/"
        },
        "id": "oPxai8qMBTyk",
        "outputId": "a25857fc-00fc-45f1-b318-d48d0bde65b7"
      },
      "outputs": [
        {
          "data": {
            "text/plain": [
              "[<a class=\"sister\" href=\"http://example.com/elsie\" id=\"link1\">Elsie</a>,\n",
              " <a class=\"sister\" href=\"http://example.com/lacie\" id=\"link2\">Lacie</a>]"
            ]
          },
          "execution_count": 98,
          "metadata": {},
          "output_type": "execute_result"
        }
      ],
      "source": [
        "## on peut limiter notre find_all\n",
        "soup.find_all(\"a\", class_=\"sister\", limit=2)"
      ]
    },
    {
      "cell_type": "code",
      "execution_count": 99,
      "metadata": {
        "colab": {
          "base_uri": "https://localhost:8080/"
        },
        "id": "ZbvFCBl1BT2R",
        "outputId": "83caab38-58c8-4337-c399-0e92359ecf63"
      },
      "outputs": [
        {
          "data": {
            "text/plain": [
              "[<a class=\"sister\" href=\"http://example.com/elsie\" id=\"link1\">Elsie</a>,\n",
              " <a class=\"sister\" href=\"http://example.com/lacie\" id=\"link2\">Lacie</a>,\n",
              " <a class=\"sister\" href=\"http://example.com/tillie\" id=\"link3\">Tillie</a>]"
            ]
          },
          "execution_count": 99,
          "metadata": {},
          "output_type": "execute_result"
        }
      ],
      "source": [
        "## rechercher des tags directement dans d'autres tags\n",
        "soup.css.select(\"p > a\")"
      ]
    },
    {
      "cell_type": "markdown",
      "metadata": {
        "id": "X33zSAc19oCZ"
      },
      "source": [
        "## Scrapper un site web\n",
        "\n",
        "\n"
      ]
    },
    {
      "cell_type": "code",
      "execution_count": 56,
      "metadata": {
        "id": "XKkvEUrILBJB"
      },
      "outputs": [],
      "source": [
        "## on va utiliser ce site web : https://books.toscrape.com/"
      ]
    },
    {
      "cell_type": "code",
      "execution_count": 59,
      "metadata": {
        "id": "uhsL7DmdnjlU"
      },
      "outputs": [],
      "source": [
        "# recuperer le contenu du site\n",
        "url = \"https://books.toscrape.com/\"\n",
        "response = requests.get(url)\n",
        "\n",
        "# creer une variable soup pour analyse le contenu html\n",
        "soup = BeautifulSoup(response.text, \"html.parser\") # on peut trouver 3 parseurs : lxml-xml, html.parser, html5lib (lent et tolerant aux erreurs de formattage)"
      ]
    },
    {
      "cell_type": "code",
      "execution_count": 61,
      "metadata": {
        "id": "g6IRUZ-Pnjnl"
      },
      "outputs": [
        {
          "name": "stdout",
          "output_type": "stream",
          "text": [
            "<!DOCTYPE html>\n",
            "<!--[if lt IE 7]>      <html lang=\"en-us\" class=\"no-js lt-ie9 lt-ie8 lt-ie7\"> <![endif]-->\n",
            "<!--[if IE 7]>         <html lang=\"en-us\" class=\"no-js lt-ie9 lt-ie8\"> <![endif]-->\n",
            "<!--[if IE 8]>         <html lang=\"en-us\" class=\"no-js lt-ie9\"> <![endif]-->\n",
            "<!--[if gt IE 8]><!-->\n",
            "<html class=\"no-js\" lang=\"en-us\">\n",
            " <!--<![endif]-->\n",
            " <head>\n",
            "  <title>\n",
            "   All products | Books to Scrape - Sandbox\n",
            "  </title>\n",
            "  <meta content=\"text/html; charset=utf-8\" http-equiv=\"content-type\"/>\n",
            "  <meta content=\"24th Jun 2016 09:29\" name=\"created\"/>\n",
            "  <meta content=\"\" name=\"description\"/>\n",
            "  <meta content=\"width=device-width\" name=\"viewport\"/>\n",
            "  <meta content=\"NOARCHIVE,NOCACHE\" name=\"robots\"/>\n",
            "  <!-- Le HTML5 shim, for IE6-8 support of HTML elements -->\n",
            "  <!--[if lt IE 9]>\n",
            "        <script src=\"//html5shim.googlecode.com/svn/trunk/html5.js\"></script>\n",
            "        <![endif]-->\n",
            "  <link href=\"static/oscar/favicon.ico\" rel=\"shortcut icon\"/>\n",
            "  <link href=\"static/oscar/css/styles.css\" rel=\"stylesheet\" type=\"text/css\"/>\n",
            "  <link href=\"static/oscar/js/bootstrap-datetimepicker/bootstrap-datetimepicker.css\" rel=\"stylesheet\"/>\n",
            "  <link href=\"static/oscar/css/datetimepicker.css\" rel=\"stylesheet\" type=\"text/css\"/>\n",
            " </head>\n",
            " <body class=\"default\" id=\"default\">\n",
            "  <header class=\"header container-fluid\">\n",
            "   <div class=\"page_inner\">\n",
            "    <div class=\"row\">\n",
            "     <div class=\"col-sm-8 h1\">\n",
            "      <a href=\"index.html\">\n",
            "       Books to Scrape\n",
            "      </a>\n",
            "      <small>\n",
            "       We love being scraped!\n",
            "      </small>\n",
            "     </div>\n",
            "    </div>\n",
            "   </div>\n",
            "  </header>\n",
            "  <div class=\"container-fluid page\">\n",
            "   <div class=\"page_inner\">\n",
            "    <ul class=\"breadcrumb\">\n",
            "     <li>\n",
            "      <a href=\"index.html\">\n",
            "       Home\n",
            "      </a>\n",
            "     </li>\n",
            "     <li class=\"active\">\n",
            "      All products\n",
            "     </li>\n",
            "    </ul>\n",
            "    <div class=\"row\">\n",
            "     <aside class=\"sidebar col-sm-4 col-md-3\">\n",
            "      <div id=\"promotions_left\">\n",
            "      </div>\n",
            "      <div class=\"side_categories\">\n",
            "       <ul class=\"nav nav-list\">\n",
            "        <li>\n",
            "         <a href=\"catalogue/category/books_1/index.html\">\n",
            "          Books\n",
            "         </a>\n",
            "         <ul>\n",
            "          <li>\n",
            "           <a href=\"catalogue/category/books/travel_2/index.html\">\n",
            "            Travel\n",
            "           </a>\n",
            "          </li>\n",
            "          <li>\n",
            "           <a href=\"catalogue/category/books/mystery_3/index.html\">\n",
            "            Mystery\n",
            "           </a>\n",
            "          </li>\n",
            "          <li>\n",
            "           <a href=\"catalogue/category/books/historical-fiction_4/index.html\">\n",
            "            Historical Fiction\n",
            "           </a>\n",
            "          </li>\n",
            "          <li>\n",
            "           <a href=\"catalogue/category/books/sequential-art_5/index.html\">\n",
            "            Sequential Art\n",
            "           </a>\n",
            "          </li>\n",
            "          <li>\n",
            "           <a href=\"catalogue/category/books/classics_6/index.html\">\n",
            "            Classics\n",
            "           </a>\n",
            "          </li>\n",
            "          <li>\n",
            "           <a href=\"catalogue/category/books/philosophy_7/index.html\">\n",
            "            Philosophy\n",
            "           </a>\n",
            "          </li>\n",
            "          <li>\n",
            "           <a href=\"catalogue/category/books/romance_8/index.html\">\n",
            "            Romance\n",
            "           </a>\n",
            "          </li>\n",
            "          <li>\n",
            "           <a href=\"catalogue/category/books/womens-fiction_9/index.html\">\n",
            "            Womens Fiction\n",
            "           </a>\n",
            "          </li>\n",
            "          <li>\n",
            "           <a href=\"catalogue/category/books/fiction_10/index.html\">\n",
            "            Fiction\n",
            "           </a>\n",
            "          </li>\n",
            "          <li>\n",
            "           <a href=\"catalogue/category/books/childrens_11/index.html\">\n",
            "            Childrens\n",
            "           </a>\n",
            "          </li>\n",
            "          <li>\n",
            "           <a href=\"catalogue/category/books/religion_12/index.html\">\n",
            "            Religion\n",
            "           </a>\n",
            "          </li>\n",
            "          <li>\n",
            "           <a href=\"catalogue/category/books/nonfiction_13/index.html\">\n",
            "            Nonfiction\n",
            "           </a>\n",
            "          </li>\n",
            "          <li>\n",
            "           <a href=\"catalogue/category/books/music_14/index.html\">\n",
            "            Music\n",
            "           </a>\n",
            "          </li>\n",
            "          <li>\n",
            "           <a href=\"catalogue/category/books/default_15/index.html\">\n",
            "            Default\n",
            "           </a>\n",
            "          </li>\n",
            "          <li>\n",
            "           <a href=\"catalogue/category/books/science-fiction_16/index.html\">\n",
            "            Science Fiction\n",
            "           </a>\n",
            "          </li>\n",
            "          <li>\n",
            "           <a href=\"catalogue/category/books/sports-and-games_17/index.html\">\n",
            "            Sports and Games\n",
            "           </a>\n",
            "          </li>\n",
            "          <li>\n",
            "           <a href=\"catalogue/category/books/add-a-comment_18/index.html\">\n",
            "            Add a comment\n",
            "           </a>\n",
            "          </li>\n",
            "          <li>\n",
            "           <a href=\"catalogue/category/books/fantasy_19/index.html\">\n",
            "            Fantasy\n",
            "           </a>\n",
            "          </li>\n",
            "          <li>\n",
            "           <a href=\"catalogue/category/books/new-adult_20/index.html\">\n",
            "            New Adult\n",
            "           </a>\n",
            "          </li>\n",
            "          <li>\n",
            "           <a href=\"catalogue/category/books/young-adult_21/index.html\">\n",
            "            Young Adult\n",
            "           </a>\n",
            "          </li>\n",
            "          <li>\n",
            "           <a href=\"catalogue/category/books/science_22/index.html\">\n",
            "            Science\n",
            "           </a>\n",
            "          </li>\n",
            "          <li>\n",
            "           <a href=\"catalogue/category/books/poetry_23/index.html\">\n",
            "            Poetry\n",
            "           </a>\n",
            "          </li>\n",
            "          <li>\n",
            "           <a href=\"catalogue/category/books/paranormal_24/index.html\">\n",
            "            Paranormal\n",
            "           </a>\n",
            "          </li>\n",
            "          <li>\n",
            "           <a href=\"catalogue/category/books/art_25/index.html\">\n",
            "            Art\n",
            "           </a>\n",
            "          </li>\n",
            "          <li>\n",
            "           <a href=\"catalogue/category/books/psychology_26/index.html\">\n",
            "            Psychology\n",
            "           </a>\n",
            "          </li>\n",
            "          <li>\n",
            "           <a href=\"catalogue/category/books/autobiography_27/index.html\">\n",
            "            Autobiography\n",
            "           </a>\n",
            "          </li>\n",
            "          <li>\n",
            "           <a href=\"catalogue/category/books/parenting_28/index.html\">\n",
            "            Parenting\n",
            "           </a>\n",
            "          </li>\n",
            "          <li>\n",
            "           <a href=\"catalogue/category/books/adult-fiction_29/index.html\">\n",
            "            Adult Fiction\n",
            "           </a>\n",
            "          </li>\n",
            "          <li>\n",
            "           <a href=\"catalogue/category/books/humor_30/index.html\">\n",
            "            Humor\n",
            "           </a>\n",
            "          </li>\n",
            "          <li>\n",
            "           <a href=\"catalogue/category/books/horror_31/index.html\">\n",
            "            Horror\n",
            "           </a>\n",
            "          </li>\n",
            "          <li>\n",
            "           <a href=\"catalogue/category/books/history_32/index.html\">\n",
            "            History\n",
            "           </a>\n",
            "          </li>\n",
            "          <li>\n",
            "           <a href=\"catalogue/category/books/food-and-drink_33/index.html\">\n",
            "            Food and Drink\n",
            "           </a>\n",
            "          </li>\n",
            "          <li>\n",
            "           <a href=\"catalogue/category/books/christian-fiction_34/index.html\">\n",
            "            Christian Fiction\n",
            "           </a>\n",
            "          </li>\n",
            "          <li>\n",
            "           <a href=\"catalogue/category/books/business_35/index.html\">\n",
            "            Business\n",
            "           </a>\n",
            "          </li>\n",
            "          <li>\n",
            "           <a href=\"catalogue/category/books/biography_36/index.html\">\n",
            "            Biography\n",
            "           </a>\n",
            "          </li>\n",
            "          <li>\n",
            "           <a href=\"catalogue/category/books/thriller_37/index.html\">\n",
            "            Thriller\n",
            "           </a>\n",
            "          </li>\n",
            "          <li>\n",
            "           <a href=\"catalogue/category/books/contemporary_38/index.html\">\n",
            "            Contemporary\n",
            "           </a>\n",
            "          </li>\n",
            "          <li>\n",
            "           <a href=\"catalogue/category/books/spirituality_39/index.html\">\n",
            "            Spirituality\n",
            "           </a>\n",
            "          </li>\n",
            "          <li>\n",
            "           <a href=\"catalogue/category/books/academic_40/index.html\">\n",
            "            Academic\n",
            "           </a>\n",
            "          </li>\n",
            "          <li>\n",
            "           <a href=\"catalogue/category/books/self-help_41/index.html\">\n",
            "            Self Help\n",
            "           </a>\n",
            "          </li>\n",
            "          <li>\n",
            "           <a href=\"catalogue/category/books/historical_42/index.html\">\n",
            "            Historical\n",
            "           </a>\n",
            "          </li>\n",
            "          <li>\n",
            "           <a href=\"catalogue/category/books/christian_43/index.html\">\n",
            "            Christian\n",
            "           </a>\n",
            "          </li>\n",
            "          <li>\n",
            "           <a href=\"catalogue/category/books/suspense_44/index.html\">\n",
            "            Suspense\n",
            "           </a>\n",
            "          </li>\n",
            "          <li>\n",
            "           <a href=\"catalogue/category/books/short-stories_45/index.html\">\n",
            "            Short Stories\n",
            "           </a>\n",
            "          </li>\n",
            "          <li>\n",
            "           <a href=\"catalogue/category/books/novels_46/index.html\">\n",
            "            Novels\n",
            "           </a>\n",
            "          </li>\n",
            "          <li>\n",
            "           <a href=\"catalogue/category/books/health_47/index.html\">\n",
            "            Health\n",
            "           </a>\n",
            "          </li>\n",
            "          <li>\n",
            "           <a href=\"catalogue/category/books/politics_48/index.html\">\n",
            "            Politics\n",
            "           </a>\n",
            "          </li>\n",
            "          <li>\n",
            "           <a href=\"catalogue/category/books/cultural_49/index.html\">\n",
            "            Cultural\n",
            "           </a>\n",
            "          </li>\n",
            "          <li>\n",
            "           <a href=\"catalogue/category/books/erotica_50/index.html\">\n",
            "            Erotica\n",
            "           </a>\n",
            "          </li>\n",
            "          <li>\n",
            "           <a href=\"catalogue/category/books/crime_51/index.html\">\n",
            "            Crime\n",
            "           </a>\n",
            "          </li>\n",
            "         </ul>\n",
            "        </li>\n",
            "       </ul>\n",
            "      </div>\n",
            "     </aside>\n",
            "     <div class=\"col-sm-8 col-md-9\">\n",
            "      <div class=\"page-header action\">\n",
            "       <h1>\n",
            "        All products\n",
            "       </h1>\n",
            "      </div>\n",
            "      <div id=\"messages\">\n",
            "      </div>\n",
            "      <div id=\"promotions\">\n",
            "      </div>\n",
            "      <form class=\"form-horizontal\" method=\"get\">\n",
            "       <div style=\"display:none\">\n",
            "       </div>\n",
            "       <strong>\n",
            "        1000\n",
            "       </strong>\n",
            "       results - showing\n",
            "       <strong>\n",
            "        1\n",
            "       </strong>\n",
            "       to\n",
            "       <strong>\n",
            "        20\n",
            "       </strong>\n",
            "       .\n",
            "      </form>\n",
            "      <section>\n",
            "       <div class=\"alert alert-warning\" role=\"alert\">\n",
            "        <strong>\n",
            "         Warning!\n",
            "        </strong>\n",
            "        This is a demo website for web scraping purposes. Prices and ratings here were randomly assigned and have no real meaning.\n",
            "       </div>\n",
            "       <div>\n",
            "        <ol class=\"row\">\n",
            "         <li class=\"col-xs-6 col-sm-4 col-md-3 col-lg-3\">\n",
            "          <article class=\"product_pod\">\n",
            "           <div class=\"image_container\">\n",
            "            <a href=\"catalogue/a-light-in-the-attic_1000/index.html\">\n",
            "             <img alt=\"A Light in the Attic\" class=\"thumbnail\" src=\"media/cache/2c/da/2cdad67c44b002e7ead0cc35693c0e8b.jpg\"/>\n",
            "            </a>\n",
            "           </div>\n",
            "           <p class=\"star-rating Three\">\n",
            "            <i class=\"icon-star\">\n",
            "            </i>\n",
            "            <i class=\"icon-star\">\n",
            "            </i>\n",
            "            <i class=\"icon-star\">\n",
            "            </i>\n",
            "            <i class=\"icon-star\">\n",
            "            </i>\n",
            "            <i class=\"icon-star\">\n",
            "            </i>\n",
            "           </p>\n",
            "           <h3>\n",
            "            <a href=\"catalogue/a-light-in-the-attic_1000/index.html\" title=\"A Light in the Attic\">\n",
            "             A Light in the ...\n",
            "            </a>\n",
            "           </h3>\n",
            "           <div class=\"product_price\">\n",
            "            <p class=\"price_color\">\n",
            "             Â£51.77\n",
            "            </p>\n",
            "            <p class=\"instock availability\">\n",
            "             <i class=\"icon-ok\">\n",
            "             </i>\n",
            "             In stock\n",
            "            </p>\n",
            "            <form>\n",
            "             <button class=\"btn btn-primary btn-block\" data-loading-text=\"Adding...\" type=\"submit\">\n",
            "              Add to basket\n",
            "             </button>\n",
            "            </form>\n",
            "           </div>\n",
            "          </article>\n",
            "         </li>\n",
            "         <li class=\"col-xs-6 col-sm-4 col-md-3 col-lg-3\">\n",
            "          <article class=\"product_pod\">\n",
            "           <div class=\"image_container\">\n",
            "            <a href=\"catalogue/tipping-the-velvet_999/index.html\">\n",
            "             <img alt=\"Tipping the Velvet\" class=\"thumbnail\" src=\"media/cache/26/0c/260c6ae16bce31c8f8c95daddd9f4a1c.jpg\"/>\n",
            "            </a>\n",
            "           </div>\n",
            "           <p class=\"star-rating One\">\n",
            "            <i class=\"icon-star\">\n",
            "            </i>\n",
            "            <i class=\"icon-star\">\n",
            "            </i>\n",
            "            <i class=\"icon-star\">\n",
            "            </i>\n",
            "            <i class=\"icon-star\">\n",
            "            </i>\n",
            "            <i class=\"icon-star\">\n",
            "            </i>\n",
            "           </p>\n",
            "           <h3>\n",
            "            <a href=\"catalogue/tipping-the-velvet_999/index.html\" title=\"Tipping the Velvet\">\n",
            "             Tipping the Velvet\n",
            "            </a>\n",
            "           </h3>\n",
            "           <div class=\"product_price\">\n",
            "            <p class=\"price_color\">\n",
            "             Â£53.74\n",
            "            </p>\n",
            "            <p class=\"instock availability\">\n",
            "             <i class=\"icon-ok\">\n",
            "             </i>\n",
            "             In stock\n",
            "            </p>\n",
            "            <form>\n",
            "             <button class=\"btn btn-primary btn-block\" data-loading-text=\"Adding...\" type=\"submit\">\n",
            "              Add to basket\n",
            "             </button>\n",
            "            </form>\n",
            "           </div>\n",
            "          </article>\n",
            "         </li>\n",
            "         <li class=\"col-xs-6 col-sm-4 col-md-3 col-lg-3\">\n",
            "          <article class=\"product_pod\">\n",
            "           <div class=\"image_container\">\n",
            "            <a href=\"catalogue/soumission_998/index.html\">\n",
            "             <img alt=\"Soumission\" class=\"thumbnail\" src=\"media/cache/3e/ef/3eef99c9d9adef34639f510662022830.jpg\"/>\n",
            "            </a>\n",
            "           </div>\n",
            "           <p class=\"star-rating One\">\n",
            "            <i class=\"icon-star\">\n",
            "            </i>\n",
            "            <i class=\"icon-star\">\n",
            "            </i>\n",
            "            <i class=\"icon-star\">\n",
            "            </i>\n",
            "            <i class=\"icon-star\">\n",
            "            </i>\n",
            "            <i class=\"icon-star\">\n",
            "            </i>\n",
            "           </p>\n",
            "           <h3>\n",
            "            <a href=\"catalogue/soumission_998/index.html\" title=\"Soumission\">\n",
            "             Soumission\n",
            "            </a>\n",
            "           </h3>\n",
            "           <div class=\"product_price\">\n",
            "            <p class=\"price_color\">\n",
            "             Â£50.10\n",
            "            </p>\n",
            "            <p class=\"instock availability\">\n",
            "             <i class=\"icon-ok\">\n",
            "             </i>\n",
            "             In stock\n",
            "            </p>\n",
            "            <form>\n",
            "             <button class=\"btn btn-primary btn-block\" data-loading-text=\"Adding...\" type=\"submit\">\n",
            "              Add to basket\n",
            "             </button>\n",
            "            </form>\n",
            "           </div>\n",
            "          </article>\n",
            "         </li>\n",
            "         <li class=\"col-xs-6 col-sm-4 col-md-3 col-lg-3\">\n",
            "          <article class=\"product_pod\">\n",
            "           <div class=\"image_container\">\n",
            "            <a href=\"catalogue/sharp-objects_997/index.html\">\n",
            "             <img alt=\"Sharp Objects\" class=\"thumbnail\" src=\"media/cache/32/51/3251cf3a3412f53f339e42cac2134093.jpg\"/>\n",
            "            </a>\n",
            "           </div>\n",
            "           <p class=\"star-rating Four\">\n",
            "            <i class=\"icon-star\">\n",
            "            </i>\n",
            "            <i class=\"icon-star\">\n",
            "            </i>\n",
            "            <i class=\"icon-star\">\n",
            "            </i>\n",
            "            <i class=\"icon-star\">\n",
            "            </i>\n",
            "            <i class=\"icon-star\">\n",
            "            </i>\n",
            "           </p>\n",
            "           <h3>\n",
            "            <a href=\"catalogue/sharp-objects_997/index.html\" title=\"Sharp Objects\">\n",
            "             Sharp Objects\n",
            "            </a>\n",
            "           </h3>\n",
            "           <div class=\"product_price\">\n",
            "            <p class=\"price_color\">\n",
            "             Â£47.82\n",
            "            </p>\n",
            "            <p class=\"instock availability\">\n",
            "             <i class=\"icon-ok\">\n",
            "             </i>\n",
            "             In stock\n",
            "            </p>\n",
            "            <form>\n",
            "             <button class=\"btn btn-primary btn-block\" data-loading-text=\"Adding...\" type=\"submit\">\n",
            "              Add to basket\n",
            "             </button>\n",
            "            </form>\n",
            "           </div>\n",
            "          </article>\n",
            "         </li>\n",
            "         <li class=\"col-xs-6 col-sm-4 col-md-3 col-lg-3\">\n",
            "          <article class=\"product_pod\">\n",
            "           <div class=\"image_container\">\n",
            "            <a href=\"catalogue/sapiens-a-brief-history-of-humankind_996/index.html\">\n",
            "             <img alt=\"Sapiens: A Brief History of Humankind\" class=\"thumbnail\" src=\"media/cache/be/a5/bea5697f2534a2f86a3ef27b5a8c12a6.jpg\"/>\n",
            "            </a>\n",
            "           </div>\n",
            "           <p class=\"star-rating Five\">\n",
            "            <i class=\"icon-star\">\n",
            "            </i>\n",
            "            <i class=\"icon-star\">\n",
            "            </i>\n",
            "            <i class=\"icon-star\">\n",
            "            </i>\n",
            "            <i class=\"icon-star\">\n",
            "            </i>\n",
            "            <i class=\"icon-star\">\n",
            "            </i>\n",
            "           </p>\n",
            "           <h3>\n",
            "            <a href=\"catalogue/sapiens-a-brief-history-of-humankind_996/index.html\" title=\"Sapiens: A Brief History of Humankind\">\n",
            "             Sapiens: A Brief History ...\n",
            "            </a>\n",
            "           </h3>\n",
            "           <div class=\"product_price\">\n",
            "            <p class=\"price_color\">\n",
            "             Â£54.23\n",
            "            </p>\n",
            "            <p class=\"instock availability\">\n",
            "             <i class=\"icon-ok\">\n",
            "             </i>\n",
            "             In stock\n",
            "            </p>\n",
            "            <form>\n",
            "             <button class=\"btn btn-primary btn-block\" data-loading-text=\"Adding...\" type=\"submit\">\n",
            "              Add to basket\n",
            "             </button>\n",
            "            </form>\n",
            "           </div>\n",
            "          </article>\n",
            "         </li>\n",
            "         <li class=\"col-xs-6 col-sm-4 col-md-3 col-lg-3\">\n",
            "          <article class=\"product_pod\">\n",
            "           <div class=\"image_container\">\n",
            "            <a href=\"catalogue/the-requiem-red_995/index.html\">\n",
            "             <img alt=\"The Requiem Red\" class=\"thumbnail\" src=\"media/cache/68/33/68339b4c9bc034267e1da611ab3b34f8.jpg\"/>\n",
            "            </a>\n",
            "           </div>\n",
            "           <p class=\"star-rating One\">\n",
            "            <i class=\"icon-star\">\n",
            "            </i>\n",
            "            <i class=\"icon-star\">\n",
            "            </i>\n",
            "            <i class=\"icon-star\">\n",
            "            </i>\n",
            "            <i class=\"icon-star\">\n",
            "            </i>\n",
            "            <i class=\"icon-star\">\n",
            "            </i>\n",
            "           </p>\n",
            "           <h3>\n",
            "            <a href=\"catalogue/the-requiem-red_995/index.html\" title=\"The Requiem Red\">\n",
            "             The Requiem Red\n",
            "            </a>\n",
            "           </h3>\n",
            "           <div class=\"product_price\">\n",
            "            <p class=\"price_color\">\n",
            "             Â£22.65\n",
            "            </p>\n",
            "            <p class=\"instock availability\">\n",
            "             <i class=\"icon-ok\">\n",
            "             </i>\n",
            "             In stock\n",
            "            </p>\n",
            "            <form>\n",
            "             <button class=\"btn btn-primary btn-block\" data-loading-text=\"Adding...\" type=\"submit\">\n",
            "              Add to basket\n",
            "             </button>\n",
            "            </form>\n",
            "           </div>\n",
            "          </article>\n",
            "         </li>\n",
            "         <li class=\"col-xs-6 col-sm-4 col-md-3 col-lg-3\">\n",
            "          <article class=\"product_pod\">\n",
            "           <div class=\"image_container\">\n",
            "            <a href=\"catalogue/the-dirty-little-secrets-of-getting-your-dream-job_994/index.html\">\n",
            "             <img alt=\"The Dirty Little Secrets of Getting Your Dream Job\" class=\"thumbnail\" src=\"media/cache/92/27/92274a95b7c251fea59a2b8a78275ab4.jpg\"/>\n",
            "            </a>\n",
            "           </div>\n",
            "           <p class=\"star-rating Four\">\n",
            "            <i class=\"icon-star\">\n",
            "            </i>\n",
            "            <i class=\"icon-star\">\n",
            "            </i>\n",
            "            <i class=\"icon-star\">\n",
            "            </i>\n",
            "            <i class=\"icon-star\">\n",
            "            </i>\n",
            "            <i class=\"icon-star\">\n",
            "            </i>\n",
            "           </p>\n",
            "           <h3>\n",
            "            <a href=\"catalogue/the-dirty-little-secrets-of-getting-your-dream-job_994/index.html\" title=\"The Dirty Little Secrets of Getting Your Dream Job\">\n",
            "             The Dirty Little Secrets ...\n",
            "            </a>\n",
            "           </h3>\n",
            "           <div class=\"product_price\">\n",
            "            <p class=\"price_color\">\n",
            "             Â£33.34\n",
            "            </p>\n",
            "            <p class=\"instock availability\">\n",
            "             <i class=\"icon-ok\">\n",
            "             </i>\n",
            "             In stock\n",
            "            </p>\n",
            "            <form>\n",
            "             <button class=\"btn btn-primary btn-block\" data-loading-text=\"Adding...\" type=\"submit\">\n",
            "              Add to basket\n",
            "             </button>\n",
            "            </form>\n",
            "           </div>\n",
            "          </article>\n",
            "         </li>\n",
            "         <li class=\"col-xs-6 col-sm-4 col-md-3 col-lg-3\">\n",
            "          <article class=\"product_pod\">\n",
            "           <div class=\"image_container\">\n",
            "            <a href=\"catalogue/the-coming-woman-a-novel-based-on-the-life-of-the-infamous-feminist-victoria-woodhull_993/index.html\">\n",
            "             <img alt=\"The Coming Woman: A Novel Based on the Life of the Infamous Feminist, Victoria Woodhull\" class=\"thumbnail\" src=\"media/cache/3d/54/3d54940e57e662c4dd1f3ff00c78cc64.jpg\"/>\n",
            "            </a>\n",
            "           </div>\n",
            "           <p class=\"star-rating Three\">\n",
            "            <i class=\"icon-star\">\n",
            "            </i>\n",
            "            <i class=\"icon-star\">\n",
            "            </i>\n",
            "            <i class=\"icon-star\">\n",
            "            </i>\n",
            "            <i class=\"icon-star\">\n",
            "            </i>\n",
            "            <i class=\"icon-star\">\n",
            "            </i>\n",
            "           </p>\n",
            "           <h3>\n",
            "            <a href=\"catalogue/the-coming-woman-a-novel-based-on-the-life-of-the-infamous-feminist-victoria-woodhull_993/index.html\" title=\"The Coming Woman: A Novel Based on the Life of the Infamous Feminist, Victoria Woodhull\">\n",
            "             The Coming Woman: A ...\n",
            "            </a>\n",
            "           </h3>\n",
            "           <div class=\"product_price\">\n",
            "            <p class=\"price_color\">\n",
            "             Â£17.93\n",
            "            </p>\n",
            "            <p class=\"instock availability\">\n",
            "             <i class=\"icon-ok\">\n",
            "             </i>\n",
            "             In stock\n",
            "            </p>\n",
            "            <form>\n",
            "             <button class=\"btn btn-primary btn-block\" data-loading-text=\"Adding...\" type=\"submit\">\n",
            "              Add to basket\n",
            "             </button>\n",
            "            </form>\n",
            "           </div>\n",
            "          </article>\n",
            "         </li>\n",
            "         <li class=\"col-xs-6 col-sm-4 col-md-3 col-lg-3\">\n",
            "          <article class=\"product_pod\">\n",
            "           <div class=\"image_container\">\n",
            "            <a href=\"catalogue/the-boys-in-the-boat-nine-americans-and-their-epic-quest-for-gold-at-the-1936-berlin-olympics_992/index.html\">\n",
            "             <img alt=\"The Boys in the Boat: Nine Americans and Their Epic Quest for Gold at the 1936 Berlin Olympics\" class=\"thumbnail\" src=\"media/cache/66/88/66883b91f6804b2323c8369331cb7dd1.jpg\"/>\n",
            "            </a>\n",
            "           </div>\n",
            "           <p class=\"star-rating Four\">\n",
            "            <i class=\"icon-star\">\n",
            "            </i>\n",
            "            <i class=\"icon-star\">\n",
            "            </i>\n",
            "            <i class=\"icon-star\">\n",
            "            </i>\n",
            "            <i class=\"icon-star\">\n",
            "            </i>\n",
            "            <i class=\"icon-star\">\n",
            "            </i>\n",
            "           </p>\n",
            "           <h3>\n",
            "            <a href=\"catalogue/the-boys-in-the-boat-nine-americans-and-their-epic-quest-for-gold-at-the-1936-berlin-olympics_992/index.html\" title=\"The Boys in the Boat: Nine Americans and Their Epic Quest for Gold at the 1936 Berlin Olympics\">\n",
            "             The Boys in the ...\n",
            "            </a>\n",
            "           </h3>\n",
            "           <div class=\"product_price\">\n",
            "            <p class=\"price_color\">\n",
            "             Â£22.60\n",
            "            </p>\n",
            "            <p class=\"instock availability\">\n",
            "             <i class=\"icon-ok\">\n",
            "             </i>\n",
            "             In stock\n",
            "            </p>\n",
            "            <form>\n",
            "             <button class=\"btn btn-primary btn-block\" data-loading-text=\"Adding...\" type=\"submit\">\n",
            "              Add to basket\n",
            "             </button>\n",
            "            </form>\n",
            "           </div>\n",
            "          </article>\n",
            "         </li>\n",
            "         <li class=\"col-xs-6 col-sm-4 col-md-3 col-lg-3\">\n",
            "          <article class=\"product_pod\">\n",
            "           <div class=\"image_container\">\n",
            "            <a href=\"catalogue/the-black-maria_991/index.html\">\n",
            "             <img alt=\"The Black Maria\" class=\"thumbnail\" src=\"media/cache/58/46/5846057e28022268153beff6d352b06c.jpg\"/>\n",
            "            </a>\n",
            "           </div>\n",
            "           <p class=\"star-rating One\">\n",
            "            <i class=\"icon-star\">\n",
            "            </i>\n",
            "            <i class=\"icon-star\">\n",
            "            </i>\n",
            "            <i class=\"icon-star\">\n",
            "            </i>\n",
            "            <i class=\"icon-star\">\n",
            "            </i>\n",
            "            <i class=\"icon-star\">\n",
            "            </i>\n",
            "           </p>\n",
            "           <h3>\n",
            "            <a href=\"catalogue/the-black-maria_991/index.html\" title=\"The Black Maria\">\n",
            "             The Black Maria\n",
            "            </a>\n",
            "           </h3>\n",
            "           <div class=\"product_price\">\n",
            "            <p class=\"price_color\">\n",
            "             Â£52.15\n",
            "            </p>\n",
            "            <p class=\"instock availability\">\n",
            "             <i class=\"icon-ok\">\n",
            "             </i>\n",
            "             In stock\n",
            "            </p>\n",
            "            <form>\n",
            "             <button class=\"btn btn-primary btn-block\" data-loading-text=\"Adding...\" type=\"submit\">\n",
            "              Add to basket\n",
            "             </button>\n",
            "            </form>\n",
            "           </div>\n",
            "          </article>\n",
            "         </li>\n",
            "         <li class=\"col-xs-6 col-sm-4 col-md-3 col-lg-3\">\n",
            "          <article class=\"product_pod\">\n",
            "           <div class=\"image_container\">\n",
            "            <a href=\"catalogue/starving-hearts-triangular-trade-trilogy-1_990/index.html\">\n",
            "             <img alt=\"Starving Hearts (Triangular Trade Trilogy, #1)\" class=\"thumbnail\" src=\"media/cache/be/f4/bef44da28c98f905a3ebec0b87be8530.jpg\"/>\n",
            "            </a>\n",
            "           </div>\n",
            "           <p class=\"star-rating Two\">\n",
            "            <i class=\"icon-star\">\n",
            "            </i>\n",
            "            <i class=\"icon-star\">\n",
            "            </i>\n",
            "            <i class=\"icon-star\">\n",
            "            </i>\n",
            "            <i class=\"icon-star\">\n",
            "            </i>\n",
            "            <i class=\"icon-star\">\n",
            "            </i>\n",
            "           </p>\n",
            "           <h3>\n",
            "            <a href=\"catalogue/starving-hearts-triangular-trade-trilogy-1_990/index.html\" title=\"Starving Hearts (Triangular Trade Trilogy, #1)\">\n",
            "             Starving Hearts (Triangular Trade ...\n",
            "            </a>\n",
            "           </h3>\n",
            "           <div class=\"product_price\">\n",
            "            <p class=\"price_color\">\n",
            "             Â£13.99\n",
            "            </p>\n",
            "            <p class=\"instock availability\">\n",
            "             <i class=\"icon-ok\">\n",
            "             </i>\n",
            "             In stock\n",
            "            </p>\n",
            "            <form>\n",
            "             <button class=\"btn btn-primary btn-block\" data-loading-text=\"Adding...\" type=\"submit\">\n",
            "              Add to basket\n",
            "             </button>\n",
            "            </form>\n",
            "           </div>\n",
            "          </article>\n",
            "         </li>\n",
            "         <li class=\"col-xs-6 col-sm-4 col-md-3 col-lg-3\">\n",
            "          <article class=\"product_pod\">\n",
            "           <div class=\"image_container\">\n",
            "            <a href=\"catalogue/shakespeares-sonnets_989/index.html\">\n",
            "             <img alt=\"Shakespeare's Sonnets\" class=\"thumbnail\" src=\"media/cache/10/48/1048f63d3b5061cd2f424d20b3f9b666.jpg\"/>\n",
            "            </a>\n",
            "           </div>\n",
            "           <p class=\"star-rating Four\">\n",
            "            <i class=\"icon-star\">\n",
            "            </i>\n",
            "            <i class=\"icon-star\">\n",
            "            </i>\n",
            "            <i class=\"icon-star\">\n",
            "            </i>\n",
            "            <i class=\"icon-star\">\n",
            "            </i>\n",
            "            <i class=\"icon-star\">\n",
            "            </i>\n",
            "           </p>\n",
            "           <h3>\n",
            "            <a href=\"catalogue/shakespeares-sonnets_989/index.html\" title=\"Shakespeare's Sonnets\">\n",
            "             Shakespeare's Sonnets\n",
            "            </a>\n",
            "           </h3>\n",
            "           <div class=\"product_price\">\n",
            "            <p class=\"price_color\">\n",
            "             Â£20.66\n",
            "            </p>\n",
            "            <p class=\"instock availability\">\n",
            "             <i class=\"icon-ok\">\n",
            "             </i>\n",
            "             In stock\n",
            "            </p>\n",
            "            <form>\n",
            "             <button class=\"btn btn-primary btn-block\" data-loading-text=\"Adding...\" type=\"submit\">\n",
            "              Add to basket\n",
            "             </button>\n",
            "            </form>\n",
            "           </div>\n",
            "          </article>\n",
            "         </li>\n",
            "         <li class=\"col-xs-6 col-sm-4 col-md-3 col-lg-3\">\n",
            "          <article class=\"product_pod\">\n",
            "           <div class=\"image_container\">\n",
            "            <a href=\"catalogue/set-me-free_988/index.html\">\n",
            "             <img alt=\"Set Me Free\" class=\"thumbnail\" src=\"media/cache/5b/88/5b88c52633f53cacf162c15f4f823153.jpg\"/>\n",
            "            </a>\n",
            "           </div>\n",
            "           <p class=\"star-rating Five\">\n",
            "            <i class=\"icon-star\">\n",
            "            </i>\n",
            "            <i class=\"icon-star\">\n",
            "            </i>\n",
            "            <i class=\"icon-star\">\n",
            "            </i>\n",
            "            <i class=\"icon-star\">\n",
            "            </i>\n",
            "            <i class=\"icon-star\">\n",
            "            </i>\n",
            "           </p>\n",
            "           <h3>\n",
            "            <a href=\"catalogue/set-me-free_988/index.html\" title=\"Set Me Free\">\n",
            "             Set Me Free\n",
            "            </a>\n",
            "           </h3>\n",
            "           <div class=\"product_price\">\n",
            "            <p class=\"price_color\">\n",
            "             Â£17.46\n",
            "            </p>\n",
            "            <p class=\"instock availability\">\n",
            "             <i class=\"icon-ok\">\n",
            "             </i>\n",
            "             In stock\n",
            "            </p>\n",
            "            <form>\n",
            "             <button class=\"btn btn-primary btn-block\" data-loading-text=\"Adding...\" type=\"submit\">\n",
            "              Add to basket\n",
            "             </button>\n",
            "            </form>\n",
            "           </div>\n",
            "          </article>\n",
            "         </li>\n",
            "         <li class=\"col-xs-6 col-sm-4 col-md-3 col-lg-3\">\n",
            "          <article class=\"product_pod\">\n",
            "           <div class=\"image_container\">\n",
            "            <a href=\"catalogue/scott-pilgrims-precious-little-life-scott-pilgrim-1_987/index.html\">\n",
            "             <img alt=\"Scott Pilgrim's Precious Little Life (Scott Pilgrim #1)\" class=\"thumbnail\" src=\"media/cache/94/b1/94b1b8b244bce9677c2f29ccc890d4d2.jpg\"/>\n",
            "            </a>\n",
            "           </div>\n",
            "           <p class=\"star-rating Five\">\n",
            "            <i class=\"icon-star\">\n",
            "            </i>\n",
            "            <i class=\"icon-star\">\n",
            "            </i>\n",
            "            <i class=\"icon-star\">\n",
            "            </i>\n",
            "            <i class=\"icon-star\">\n",
            "            </i>\n",
            "            <i class=\"icon-star\">\n",
            "            </i>\n",
            "           </p>\n",
            "           <h3>\n",
            "            <a href=\"catalogue/scott-pilgrims-precious-little-life-scott-pilgrim-1_987/index.html\" title=\"Scott Pilgrim's Precious Little Life (Scott Pilgrim #1)\">\n",
            "             Scott Pilgrim's Precious Little ...\n",
            "            </a>\n",
            "           </h3>\n",
            "           <div class=\"product_price\">\n",
            "            <p class=\"price_color\">\n",
            "             Â£52.29\n",
            "            </p>\n",
            "            <p class=\"instock availability\">\n",
            "             <i class=\"icon-ok\">\n",
            "             </i>\n",
            "             In stock\n",
            "            </p>\n",
            "            <form>\n",
            "             <button class=\"btn btn-primary btn-block\" data-loading-text=\"Adding...\" type=\"submit\">\n",
            "              Add to basket\n",
            "             </button>\n",
            "            </form>\n",
            "           </div>\n",
            "          </article>\n",
            "         </li>\n",
            "         <li class=\"col-xs-6 col-sm-4 col-md-3 col-lg-3\">\n",
            "          <article class=\"product_pod\">\n",
            "           <div class=\"image_container\">\n",
            "            <a href=\"catalogue/rip-it-up-and-start-again_986/index.html\">\n",
            "             <img alt=\"Rip it Up and Start Again\" class=\"thumbnail\" src=\"media/cache/81/c4/81c4a973364e17d01f217e1188253d5e.jpg\"/>\n",
            "            </a>\n",
            "           </div>\n",
            "           <p class=\"star-rating Five\">\n",
            "            <i class=\"icon-star\">\n",
            "            </i>\n",
            "            <i class=\"icon-star\">\n",
            "            </i>\n",
            "            <i class=\"icon-star\">\n",
            "            </i>\n",
            "            <i class=\"icon-star\">\n",
            "            </i>\n",
            "            <i class=\"icon-star\">\n",
            "            </i>\n",
            "           </p>\n",
            "           <h3>\n",
            "            <a href=\"catalogue/rip-it-up-and-start-again_986/index.html\" title=\"Rip it Up and Start Again\">\n",
            "             Rip it Up and ...\n",
            "            </a>\n",
            "           </h3>\n",
            "           <div class=\"product_price\">\n",
            "            <p class=\"price_color\">\n",
            "             Â£35.02\n",
            "            </p>\n",
            "            <p class=\"instock availability\">\n",
            "             <i class=\"icon-ok\">\n",
            "             </i>\n",
            "             In stock\n",
            "            </p>\n",
            "            <form>\n",
            "             <button class=\"btn btn-primary btn-block\" data-loading-text=\"Adding...\" type=\"submit\">\n",
            "              Add to basket\n",
            "             </button>\n",
            "            </form>\n",
            "           </div>\n",
            "          </article>\n",
            "         </li>\n",
            "         <li class=\"col-xs-6 col-sm-4 col-md-3 col-lg-3\">\n",
            "          <article class=\"product_pod\">\n",
            "           <div class=\"image_container\">\n",
            "            <a href=\"catalogue/our-band-could-be-your-life-scenes-from-the-american-indie-underground-1981-1991_985/index.html\">\n",
            "             <img alt=\"Our Band Could Be Your Life: Scenes from the American Indie Underground, 1981-1991\" class=\"thumbnail\" src=\"media/cache/54/60/54607fe8945897cdcced0044103b10b6.jpg\"/>\n",
            "            </a>\n",
            "           </div>\n",
            "           <p class=\"star-rating Three\">\n",
            "            <i class=\"icon-star\">\n",
            "            </i>\n",
            "            <i class=\"icon-star\">\n",
            "            </i>\n",
            "            <i class=\"icon-star\">\n",
            "            </i>\n",
            "            <i class=\"icon-star\">\n",
            "            </i>\n",
            "            <i class=\"icon-star\">\n",
            "            </i>\n",
            "           </p>\n",
            "           <h3>\n",
            "            <a href=\"catalogue/our-band-could-be-your-life-scenes-from-the-american-indie-underground-1981-1991_985/index.html\" title=\"Our Band Could Be Your Life: Scenes from the American Indie Underground, 1981-1991\">\n",
            "             Our Band Could Be ...\n",
            "            </a>\n",
            "           </h3>\n",
            "           <div class=\"product_price\">\n",
            "            <p class=\"price_color\">\n",
            "             Â£57.25\n",
            "            </p>\n",
            "            <p class=\"instock availability\">\n",
            "             <i class=\"icon-ok\">\n",
            "             </i>\n",
            "             In stock\n",
            "            </p>\n",
            "            <form>\n",
            "             <button class=\"btn btn-primary btn-block\" data-loading-text=\"Adding...\" type=\"submit\">\n",
            "              Add to basket\n",
            "             </button>\n",
            "            </form>\n",
            "           </div>\n",
            "          </article>\n",
            "         </li>\n",
            "         <li class=\"col-xs-6 col-sm-4 col-md-3 col-lg-3\">\n",
            "          <article class=\"product_pod\">\n",
            "           <div class=\"image_container\">\n",
            "            <a href=\"catalogue/olio_984/index.html\">\n",
            "             <img alt=\"Olio\" class=\"thumbnail\" src=\"media/cache/55/33/553310a7162dfbc2c6d19a84da0df9e1.jpg\"/>\n",
            "            </a>\n",
            "           </div>\n",
            "           <p class=\"star-rating One\">\n",
            "            <i class=\"icon-star\">\n",
            "            </i>\n",
            "            <i class=\"icon-star\">\n",
            "            </i>\n",
            "            <i class=\"icon-star\">\n",
            "            </i>\n",
            "            <i class=\"icon-star\">\n",
            "            </i>\n",
            "            <i class=\"icon-star\">\n",
            "            </i>\n",
            "           </p>\n",
            "           <h3>\n",
            "            <a href=\"catalogue/olio_984/index.html\" title=\"Olio\">\n",
            "             Olio\n",
            "            </a>\n",
            "           </h3>\n",
            "           <div class=\"product_price\">\n",
            "            <p class=\"price_color\">\n",
            "             Â£23.88\n",
            "            </p>\n",
            "            <p class=\"instock availability\">\n",
            "             <i class=\"icon-ok\">\n",
            "             </i>\n",
            "             In stock\n",
            "            </p>\n",
            "            <form>\n",
            "             <button class=\"btn btn-primary btn-block\" data-loading-text=\"Adding...\" type=\"submit\">\n",
            "              Add to basket\n",
            "             </button>\n",
            "            </form>\n",
            "           </div>\n",
            "          </article>\n",
            "         </li>\n",
            "         <li class=\"col-xs-6 col-sm-4 col-md-3 col-lg-3\">\n",
            "          <article class=\"product_pod\">\n",
            "           <div class=\"image_container\">\n",
            "            <a href=\"catalogue/mesaerion-the-best-science-fiction-stories-1800-1849_983/index.html\">\n",
            "             <img alt=\"Mesaerion: The Best Science Fiction Stories 1800-1849\" class=\"thumbnail\" src=\"media/cache/09/a3/09a3aef48557576e1a85ba7efea8ecb7.jpg\"/>\n",
            "            </a>\n",
            "           </div>\n",
            "           <p class=\"star-rating One\">\n",
            "            <i class=\"icon-star\">\n",
            "            </i>\n",
            "            <i class=\"icon-star\">\n",
            "            </i>\n",
            "            <i class=\"icon-star\">\n",
            "            </i>\n",
            "            <i class=\"icon-star\">\n",
            "            </i>\n",
            "            <i class=\"icon-star\">\n",
            "            </i>\n",
            "           </p>\n",
            "           <h3>\n",
            "            <a href=\"catalogue/mesaerion-the-best-science-fiction-stories-1800-1849_983/index.html\" title=\"Mesaerion: The Best Science Fiction Stories 1800-1849\">\n",
            "             Mesaerion: The Best Science ...\n",
            "            </a>\n",
            "           </h3>\n",
            "           <div class=\"product_price\">\n",
            "            <p class=\"price_color\">\n",
            "             Â£37.59\n",
            "            </p>\n",
            "            <p class=\"instock availability\">\n",
            "             <i class=\"icon-ok\">\n",
            "             </i>\n",
            "             In stock\n",
            "            </p>\n",
            "            <form>\n",
            "             <button class=\"btn btn-primary btn-block\" data-loading-text=\"Adding...\" type=\"submit\">\n",
            "              Add to basket\n",
            "             </button>\n",
            "            </form>\n",
            "           </div>\n",
            "          </article>\n",
            "         </li>\n",
            "         <li class=\"col-xs-6 col-sm-4 col-md-3 col-lg-3\">\n",
            "          <article class=\"product_pod\">\n",
            "           <div class=\"image_container\">\n",
            "            <a href=\"catalogue/libertarianism-for-beginners_982/index.html\">\n",
            "             <img alt=\"Libertarianism for Beginners\" class=\"thumbnail\" src=\"media/cache/0b/bc/0bbcd0a6f4bcd81ccb1049a52736406e.jpg\"/>\n",
            "            </a>\n",
            "           </div>\n",
            "           <p class=\"star-rating Two\">\n",
            "            <i class=\"icon-star\">\n",
            "            </i>\n",
            "            <i class=\"icon-star\">\n",
            "            </i>\n",
            "            <i class=\"icon-star\">\n",
            "            </i>\n",
            "            <i class=\"icon-star\">\n",
            "            </i>\n",
            "            <i class=\"icon-star\">\n",
            "            </i>\n",
            "           </p>\n",
            "           <h3>\n",
            "            <a href=\"catalogue/libertarianism-for-beginners_982/index.html\" title=\"Libertarianism for Beginners\">\n",
            "             Libertarianism for Beginners\n",
            "            </a>\n",
            "           </h3>\n",
            "           <div class=\"product_price\">\n",
            "            <p class=\"price_color\">\n",
            "             Â£51.33\n",
            "            </p>\n",
            "            <p class=\"instock availability\">\n",
            "             <i class=\"icon-ok\">\n",
            "             </i>\n",
            "             In stock\n",
            "            </p>\n",
            "            <form>\n",
            "             <button class=\"btn btn-primary btn-block\" data-loading-text=\"Adding...\" type=\"submit\">\n",
            "              Add to basket\n",
            "             </button>\n",
            "            </form>\n",
            "           </div>\n",
            "          </article>\n",
            "         </li>\n",
            "         <li class=\"col-xs-6 col-sm-4 col-md-3 col-lg-3\">\n",
            "          <article class=\"product_pod\">\n",
            "           <div class=\"image_container\">\n",
            "            <a href=\"catalogue/its-only-the-himalayas_981/index.html\">\n",
            "             <img alt=\"It's Only the Himalayas\" class=\"thumbnail\" src=\"media/cache/27/a5/27a53d0bb95bdd88288eaf66c9230d7e.jpg\"/>\n",
            "            </a>\n",
            "           </div>\n",
            "           <p class=\"star-rating Two\">\n",
            "            <i class=\"icon-star\">\n",
            "            </i>\n",
            "            <i class=\"icon-star\">\n",
            "            </i>\n",
            "            <i class=\"icon-star\">\n",
            "            </i>\n",
            "            <i class=\"icon-star\">\n",
            "            </i>\n",
            "            <i class=\"icon-star\">\n",
            "            </i>\n",
            "           </p>\n",
            "           <h3>\n",
            "            <a href=\"catalogue/its-only-the-himalayas_981/index.html\" title=\"It's Only the Himalayas\">\n",
            "             It's Only the Himalayas\n",
            "            </a>\n",
            "           </h3>\n",
            "           <div class=\"product_price\">\n",
            "            <p class=\"price_color\">\n",
            "             Â£45.17\n",
            "            </p>\n",
            "            <p class=\"instock availability\">\n",
            "             <i class=\"icon-ok\">\n",
            "             </i>\n",
            "             In stock\n",
            "            </p>\n",
            "            <form>\n",
            "             <button class=\"btn btn-primary btn-block\" data-loading-text=\"Adding...\" type=\"submit\">\n",
            "              Add to basket\n",
            "             </button>\n",
            "            </form>\n",
            "           </div>\n",
            "          </article>\n",
            "         </li>\n",
            "        </ol>\n",
            "        <div>\n",
            "         <ul class=\"pager\">\n",
            "          <li class=\"current\">\n",
            "           Page 1 of 50\n",
            "          </li>\n",
            "          <li class=\"next\">\n",
            "           <a href=\"catalogue/page-2.html\">\n",
            "            next\n",
            "           </a>\n",
            "          </li>\n",
            "         </ul>\n",
            "        </div>\n",
            "       </div>\n",
            "      </section>\n",
            "     </div>\n",
            "    </div>\n",
            "    <!-- /row -->\n",
            "   </div>\n",
            "   <!-- /page_inner -->\n",
            "  </div>\n",
            "  <!-- /container-fluid -->\n",
            "  <footer class=\"footer container-fluid\">\n",
            "  </footer>\n",
            "  <!-- jQuery -->\n",
            "  <script src=\"http://ajax.googleapis.com/ajax/libs/jquery/1.9.1/jquery.min.js\">\n",
            "  </script>\n",
            "  <script>\n",
            "   window.jQuery || document.write('<script src=\"static/oscar/js/jquery/jquery-1.9.1.min.js\"><\\/script>')\n",
            "  </script>\n",
            "  <!-- Twitter Bootstrap -->\n",
            "  <script src=\"static/oscar/js/bootstrap3/bootstrap.min.js\" type=\"text/javascript\">\n",
            "  </script>\n",
            "  <!-- Oscar -->\n",
            "  <script charset=\"utf-8\" src=\"static/oscar/js/oscar/ui.js\" type=\"text/javascript\">\n",
            "  </script>\n",
            "  <script charset=\"utf-8\" src=\"static/oscar/js/bootstrap-datetimepicker/bootstrap-datetimepicker.js\" type=\"text/javascript\">\n",
            "  </script>\n",
            "  <script charset=\"utf-8\" src=\"static/oscar/js/bootstrap-datetimepicker/locales/bootstrap-datetimepicker.all.js\" type=\"text/javascript\">\n",
            "  </script>\n",
            "  <script type=\"text/javascript\">\n",
            "   $(function() {\n",
            "                \n",
            "    \n",
            "    \n",
            "    oscar.init();\n",
            "\n",
            "    oscar.search.init();\n",
            "\n",
            "            });\n",
            "  </script>\n",
            "  <!-- Version: N/A -->\n",
            " </body>\n",
            "</html>\n",
            "\n"
          ]
        }
      ],
      "source": [
        "print(soup.prettify()) # afficher le html"
      ]
    },
    {
      "cell_type": "code",
      "execution_count": 62,
      "metadata": {
        "id": "AY9_zfyGnjqA"
      },
      "outputs": [],
      "source": [
        "## recuperer des infos avec bs4"
      ]
    },
    {
      "cell_type": "code",
      "execution_count": 63,
      "metadata": {
        "id": "OBIay5vAnjsL"
      },
      "outputs": [],
      "source": [
        "first_p = soup.find(\"p\") # retourner le premier paragraph"
      ]
    },
    {
      "cell_type": "code",
      "execution_count": 64,
      "metadata": {
        "id": "NPrHUOzenjuv"
      },
      "outputs": [
        {
          "name": "stdout",
          "output_type": "stream",
          "text": [
            "[<p class=\"star-rating Three\">\n",
            "<i class=\"icon-star\"></i>\n",
            "<i class=\"icon-star\"></i>\n",
            "<i class=\"icon-star\"></i>\n",
            "<i class=\"icon-star\"></i>\n",
            "<i class=\"icon-star\"></i>\n",
            "</p>,\n",
            " <p class=\"price_color\">Â£51.77</p>,\n",
            " <p class=\"instock availability\">\n",
            "<i class=\"icon-ok\"></i>\n",
            "    \n",
            "        In stock\n",
            "    \n",
            "</p>,\n",
            " <p class=\"star-rating One\">\n",
            "<i class=\"icon-star\"></i>\n",
            "<i class=\"icon-star\"></i>\n",
            "<i class=\"icon-star\"></i>\n",
            "<i class=\"icon-star\"></i>\n",
            "<i class=\"icon-star\"></i>\n",
            "</p>,\n",
            " <p class=\"price_color\">Â£53.74</p>,\n",
            " <p class=\"instock availability\">\n",
            "<i class=\"icon-ok\"></i>\n",
            "    \n",
            "        In stock\n",
            "    \n",
            "</p>,\n",
            " <p class=\"star-rating One\">\n",
            "<i class=\"icon-star\"></i>\n",
            "<i class=\"icon-star\"></i>\n",
            "<i class=\"icon-star\"></i>\n",
            "<i class=\"icon-star\"></i>\n",
            "<i class=\"icon-star\"></i>\n",
            "</p>,\n",
            " <p class=\"price_color\">Â£50.10</p>,\n",
            " <p class=\"instock availability\">\n",
            "<i class=\"icon-ok\"></i>\n",
            "    \n",
            "        In stock\n",
            "    \n",
            "</p>,\n",
            " <p class=\"star-rating Four\">\n",
            "<i class=\"icon-star\"></i>\n",
            "<i class=\"icon-star\"></i>\n",
            "<i class=\"icon-star\"></i>\n",
            "<i class=\"icon-star\"></i>\n",
            "<i class=\"icon-star\"></i>\n",
            "</p>,\n",
            " <p class=\"price_color\">Â£47.82</p>,\n",
            " <p class=\"instock availability\">\n",
            "<i class=\"icon-ok\"></i>\n",
            "    \n",
            "        In stock\n",
            "    \n",
            "</p>,\n",
            " <p class=\"star-rating Five\">\n",
            "<i class=\"icon-star\"></i>\n",
            "<i class=\"icon-star\"></i>\n",
            "<i class=\"icon-star\"></i>\n",
            "<i class=\"icon-star\"></i>\n",
            "<i class=\"icon-star\"></i>\n",
            "</p>,\n",
            " <p class=\"price_color\">Â£54.23</p>,\n",
            " <p class=\"instock availability\">\n",
            "<i class=\"icon-ok\"></i>\n",
            "    \n",
            "        In stock\n",
            "    \n",
            "</p>,\n",
            " <p class=\"star-rating One\">\n",
            "<i class=\"icon-star\"></i>\n",
            "<i class=\"icon-star\"></i>\n",
            "<i class=\"icon-star\"></i>\n",
            "<i class=\"icon-star\"></i>\n",
            "<i class=\"icon-star\"></i>\n",
            "</p>,\n",
            " <p class=\"price_color\">Â£22.65</p>,\n",
            " <p class=\"instock availability\">\n",
            "<i class=\"icon-ok\"></i>\n",
            "    \n",
            "        In stock\n",
            "    \n",
            "</p>,\n",
            " <p class=\"star-rating Four\">\n",
            "<i class=\"icon-star\"></i>\n",
            "<i class=\"icon-star\"></i>\n",
            "<i class=\"icon-star\"></i>\n",
            "<i class=\"icon-star\"></i>\n",
            "<i class=\"icon-star\"></i>\n",
            "</p>,\n",
            " <p class=\"price_color\">Â£33.34</p>,\n",
            " <p class=\"instock availability\">\n",
            "<i class=\"icon-ok\"></i>\n",
            "    \n",
            "        In stock\n",
            "    \n",
            "</p>,\n",
            " <p class=\"star-rating Three\">\n",
            "<i class=\"icon-star\"></i>\n",
            "<i class=\"icon-star\"></i>\n",
            "<i class=\"icon-star\"></i>\n",
            "<i class=\"icon-star\"></i>\n",
            "<i class=\"icon-star\"></i>\n",
            "</p>,\n",
            " <p class=\"price_color\">Â£17.93</p>,\n",
            " <p class=\"instock availability\">\n",
            "<i class=\"icon-ok\"></i>\n",
            "    \n",
            "        In stock\n",
            "    \n",
            "</p>,\n",
            " <p class=\"star-rating Four\">\n",
            "<i class=\"icon-star\"></i>\n",
            "<i class=\"icon-star\"></i>\n",
            "<i class=\"icon-star\"></i>\n",
            "<i class=\"icon-star\"></i>\n",
            "<i class=\"icon-star\"></i>\n",
            "</p>,\n",
            " <p class=\"price_color\">Â£22.60</p>,\n",
            " <p class=\"instock availability\">\n",
            "<i class=\"icon-ok\"></i>\n",
            "    \n",
            "        In stock\n",
            "    \n",
            "</p>,\n",
            " <p class=\"star-rating One\">\n",
            "<i class=\"icon-star\"></i>\n",
            "<i class=\"icon-star\"></i>\n",
            "<i class=\"icon-star\"></i>\n",
            "<i class=\"icon-star\"></i>\n",
            "<i class=\"icon-star\"></i>\n",
            "</p>,\n",
            " <p class=\"price_color\">Â£52.15</p>,\n",
            " <p class=\"instock availability\">\n",
            "<i class=\"icon-ok\"></i>\n",
            "    \n",
            "        In stock\n",
            "    \n",
            "</p>,\n",
            " <p class=\"star-rating Two\">\n",
            "<i class=\"icon-star\"></i>\n",
            "<i class=\"icon-star\"></i>\n",
            "<i class=\"icon-star\"></i>\n",
            "<i class=\"icon-star\"></i>\n",
            "<i class=\"icon-star\"></i>\n",
            "</p>,\n",
            " <p class=\"price_color\">Â£13.99</p>,\n",
            " <p class=\"instock availability\">\n",
            "<i class=\"icon-ok\"></i>\n",
            "    \n",
            "        In stock\n",
            "    \n",
            "</p>,\n",
            " <p class=\"star-rating Four\">\n",
            "<i class=\"icon-star\"></i>\n",
            "<i class=\"icon-star\"></i>\n",
            "<i class=\"icon-star\"></i>\n",
            "<i class=\"icon-star\"></i>\n",
            "<i class=\"icon-star\"></i>\n",
            "</p>,\n",
            " <p class=\"price_color\">Â£20.66</p>,\n",
            " <p class=\"instock availability\">\n",
            "<i class=\"icon-ok\"></i>\n",
            "    \n",
            "        In stock\n",
            "    \n",
            "</p>,\n",
            " <p class=\"star-rating Five\">\n",
            "<i class=\"icon-star\"></i>\n",
            "<i class=\"icon-star\"></i>\n",
            "<i class=\"icon-star\"></i>\n",
            "<i class=\"icon-star\"></i>\n",
            "<i class=\"icon-star\"></i>\n",
            "</p>,\n",
            " <p class=\"price_color\">Â£17.46</p>,\n",
            " <p class=\"instock availability\">\n",
            "<i class=\"icon-ok\"></i>\n",
            "    \n",
            "        In stock\n",
            "    \n",
            "</p>,\n",
            " <p class=\"star-rating Five\">\n",
            "<i class=\"icon-star\"></i>\n",
            "<i class=\"icon-star\"></i>\n",
            "<i class=\"icon-star\"></i>\n",
            "<i class=\"icon-star\"></i>\n",
            "<i class=\"icon-star\"></i>\n",
            "</p>,\n",
            " <p class=\"price_color\">Â£52.29</p>,\n",
            " <p class=\"instock availability\">\n",
            "<i class=\"icon-ok\"></i>\n",
            "    \n",
            "        In stock\n",
            "    \n",
            "</p>,\n",
            " <p class=\"star-rating Five\">\n",
            "<i class=\"icon-star\"></i>\n",
            "<i class=\"icon-star\"></i>\n",
            "<i class=\"icon-star\"></i>\n",
            "<i class=\"icon-star\"></i>\n",
            "<i class=\"icon-star\"></i>\n",
            "</p>,\n",
            " <p class=\"price_color\">Â£35.02</p>,\n",
            " <p class=\"instock availability\">\n",
            "<i class=\"icon-ok\"></i>\n",
            "    \n",
            "        In stock\n",
            "    \n",
            "</p>,\n",
            " <p class=\"star-rating Three\">\n",
            "<i class=\"icon-star\"></i>\n",
            "<i class=\"icon-star\"></i>\n",
            "<i class=\"icon-star\"></i>\n",
            "<i class=\"icon-star\"></i>\n",
            "<i class=\"icon-star\"></i>\n",
            "</p>,\n",
            " <p class=\"price_color\">Â£57.25</p>,\n",
            " <p class=\"instock availability\">\n",
            "<i class=\"icon-ok\"></i>\n",
            "    \n",
            "        In stock\n",
            "    \n",
            "</p>,\n",
            " <p class=\"star-rating One\">\n",
            "<i class=\"icon-star\"></i>\n",
            "<i class=\"icon-star\"></i>\n",
            "<i class=\"icon-star\"></i>\n",
            "<i class=\"icon-star\"></i>\n",
            "<i class=\"icon-star\"></i>\n",
            "</p>,\n",
            " <p class=\"price_color\">Â£23.88</p>,\n",
            " <p class=\"instock availability\">\n",
            "<i class=\"icon-ok\"></i>\n",
            "    \n",
            "        In stock\n",
            "    \n",
            "</p>,\n",
            " <p class=\"star-rating One\">\n",
            "<i class=\"icon-star\"></i>\n",
            "<i class=\"icon-star\"></i>\n",
            "<i class=\"icon-star\"></i>\n",
            "<i class=\"icon-star\"></i>\n",
            "<i class=\"icon-star\"></i>\n",
            "</p>,\n",
            " <p class=\"price_color\">Â£37.59</p>,\n",
            " <p class=\"instock availability\">\n",
            "<i class=\"icon-ok\"></i>\n",
            "    \n",
            "        In stock\n",
            "    \n",
            "</p>,\n",
            " <p class=\"star-rating Two\">\n",
            "<i class=\"icon-star\"></i>\n",
            "<i class=\"icon-star\"></i>\n",
            "<i class=\"icon-star\"></i>\n",
            "<i class=\"icon-star\"></i>\n",
            "<i class=\"icon-star\"></i>\n",
            "</p>,\n",
            " <p class=\"price_color\">Â£51.33</p>,\n",
            " <p class=\"instock availability\">\n",
            "<i class=\"icon-ok\"></i>\n",
            "    \n",
            "        In stock\n",
            "    \n",
            "</p>,\n",
            " <p class=\"star-rating Two\">\n",
            "<i class=\"icon-star\"></i>\n",
            "<i class=\"icon-star\"></i>\n",
            "<i class=\"icon-star\"></i>\n",
            "<i class=\"icon-star\"></i>\n",
            "<i class=\"icon-star\"></i>\n",
            "</p>,\n",
            " <p class=\"price_color\">Â£45.17</p>,\n",
            " <p class=\"instock availability\">\n",
            "<i class=\"icon-ok\"></i>\n",
            "    \n",
            "        In stock\n",
            "    \n",
            "</p>]\n"
          ]
        }
      ],
      "source": [
        "all_p = soup.find_all(\"p\") # retourner tous les paragraphs - (list)\n",
        "pprint(all_p)"
      ]
    },
    {
      "cell_type": "code",
      "execution_count": 65,
      "metadata": {
        "id": "8dfFsp86nj1k"
      },
      "outputs": [],
      "source": [
        "## on veut recuperer all books\n",
        "## analyser le contenu avec inspecter l'element\n",
        "## chaque book se trouve dans une balise article et de classe class=\"product_pod\""
      ]
    },
    {
      "cell_type": "code",
      "execution_count": 71,
      "metadata": {
        "id": "rH5nDx0onj4I"
      },
      "outputs": [],
      "source": [
        "all_books = soup.find_all(\"article\", class_=\"product_pod\")"
      ]
    },
    {
      "cell_type": "code",
      "execution_count": 109,
      "metadata": {
        "colab": {
          "base_uri": "https://localhost:8080/"
        },
        "id": "zLBFB6dCnj8k",
        "outputId": "df6a323d-77a2-4d89-c8f1-789b756c9a59"
      },
      "outputs": [
        {
          "name": "stdout",
          "output_type": "stream",
          "text": [
            "div\n",
            "div\n"
          ]
        }
      ],
      "source": [
        "# recuperer le aside du page\n",
        "aside = soup.find(\"aside\")\n",
        "# je veux afficher les children (les balises sous le aside)\n",
        "\n",
        "for child in aside.children:\n",
        "  #print(child.name) # nom du balise ( les None sont des retour a la ligne par exemple ( pas de balise))\n",
        "  if child.name:\n",
        "    print(child.name)"
      ]
    },
    {
      "cell_type": "code",
      "execution_count": 111,
      "metadata": {
        "id": "6cRTodj_nj-o"
      },
      "outputs": [],
      "source": [
        "## on suppose on veut recuperer les sous categories dans le aside\n",
        "side_categos = aside.find(\"div\", class_=\"side_categories\")"
      ]
    },
    {
      "cell_type": "code",
      "execution_count": 112,
      "metadata": {
        "id": "YKTAvzEKnkA6"
      },
      "outputs": [],
      "source": [
        "## extract links\n",
        "links = side_categos.find_all(\"a\")"
      ]
    },
    {
      "cell_type": "code",
      "execution_count": 113,
      "metadata": {
        "id": "cCUt9oI3zEXo"
      },
      "outputs": [],
      "source": [
        "## let's start scraping our website:\n",
        "##1. on veut recupérer les noms des categories des books ( à gauche du page)\n",
        "##2. recuperer les images qui sont sur cette page d'accueil\n"
      ]
    },
    {
      "cell_type": "code",
      "execution_count": 114,
      "metadata": {
        "id": "7wKfssoB6tNz"
      },
      "outputs": [],
      "source": [
        "# recuperer le contenu du site\n",
        "url = \"https://books.toscrape.com/\"\n",
        "response = requests.get(url)\n",
        "\n",
        "# creer une variable soup pour analyse le contenu html\n",
        "soup = BeautifulSoup(response.text, \"html.parser\")"
      ]
    },
    {
      "cell_type": "code",
      "execution_count": 115,
      "metadata": {
        "id": "gWGbajQU6tQf"
      },
      "outputs": [],
      "source": [
        "## 1. les noms des categories\n",
        "# recuperer le aside\n",
        "aside = soup.find(\"div\", class_=\"side_categories\")\n",
        "\n",
        "# recuperer la liste\n",
        "categos_div = aside.find(\"ul\").find(\"li\").find(\"ul\")\n",
        "\n",
        "# extraire les noms\n",
        "categories = [child.text.strip() for child in categos_div.children if child.name]\n"
      ]
    },
    {
      "cell_type": "code",
      "execution_count": 115,
      "metadata": {
        "id": "5Vv-UE_o6tU-"
      },
      "outputs": [],
      "source": [
        "## 2. les images\n",
        "images = soup.find(\"section\").find_all(\"img\")\n",
        "# recuperer le src de l'image , si n'existe pas , retourne Nan\n",
        "urls = [img.get(\"src\") for img in images]\n",
        "\n",
        "# par exemple si on veut telecharger la premiere image\n",
        "full_url_img = url + urls[0] ## website url + image url concatenation\n",
        "r = requests.get(full_url_img, stream=True)  # la réponse n'est pas téléchargée immédiatement.\n",
        "\n",
        "if r.status_code == 200:\n",
        "   with open(\"images/book1.jpg\", 'wb') as f:\n",
        "      r.raw.decode_content = True\n",
        "      shutil.copyfileobj(r.raw, f)"
      ]
    },
    {
      "cell_type": "markdown",
      "metadata": {
        "id": "msuO1e-lOhNV"
      },
      "source": [
        "### Exercice\n",
        "\n",
        "À vous de jouer\n",
        "\n",
        "* Exercice 1:\n",
        "\n",
        "  - récuperer les titres des books\n",
        "  - les prix des books\n",
        "  - la disponibilité\n",
        "  - les ratings ( on veut avoir la note : 1, 2, 3, 4, 5)\n",
        "  - exporter la data en csv\n",
        "\n",
        "\n",
        "* Exercice 2:\n",
        "\n",
        "  - Réalisez la meme tache sur les differentes pages ( il existe plusieurs pages dans notre site web)\n",
        "\n",
        "\n",
        "* Exercice 3:\n",
        "\n",
        "  - listez (afficher un message) les categories qui ont un nombre de livres inferieur à un `threshold`(un nombre en param) choisi par l'utilisateur\n",
        "\n",
        "* Exercice 4:\n",
        "\n",
        "  - Calculez le prix total de la valeur de notre biblio. Autrement dit, vous devez multiplier le prix de chaque livre * la quantité en stock et faire la somme. ```( Pour trouvez la quantité de chaque livre , vous devez cliquer sur le nom du livre et vous allez trouver une fiche qui contient toutes les informations)```\n",
        "\n",
        "\n",
        "`Il est préférable d'implémenter notre code dans un fichier Python`"
      ]
    }
  ],
  "metadata": {
    "colab": {
      "collapsed_sections": [
        "nNLiiHAo9jTD",
        "7gX7wmKMP3Ko",
        "vC2GHw7UQBHY",
        "PGRhswewWCzc"
      ],
      "provenance": []
    },
    "kernelspec": {
      "display_name": "ml_cours",
      "language": "python",
      "name": "python3"
    },
    "language_info": {
      "codemirror_mode": {
        "name": "ipython",
        "version": 3
      },
      "file_extension": ".py",
      "mimetype": "text/x-python",
      "name": "python",
      "nbconvert_exporter": "python",
      "pygments_lexer": "ipython3",
      "version": "3.12.1"
    }
  },
  "nbformat": 4,
  "nbformat_minor": 0
}
