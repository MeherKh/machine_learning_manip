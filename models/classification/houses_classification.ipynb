{
  "cells": [
    {
      "cell_type": "markdown",
      "metadata": {},
      "source": [
        "**Classification using KNN**\n",
        "\n",
        "<u>Goal:</u>\n",
        "\n",
        "The main goal is to learn how to use KNN with scikit-learn library\"\n",
        "\n",
        "<u>To do:</u>\n",
        "\n",
        "Complete the source code whenever you find <font color='red'>#?</font>"
      ]
    },
    {
      "cell_type": "markdown",
      "metadata": {
        "id": "r7H-PzjB8HwW"
      },
      "source": [
        "This case study concerns simple house data.\n",
        "\n",
        "This data does not require preprocessing.\n",
        "\n",
        "The goal is to :\n",
        "- From a labeled population of houses, apply KNN to find the best classifier.\n",
        "- Given a new house, predict the label of the class to which it belongs."
      ]
    },
    {
      "cell_type": "markdown",
      "metadata": {
        "id": "TPjaqXMU8QwN"
      },
      "source": [
        "**1. Create the dataset**"
      ]
    },
    {
      "cell_type": "markdown",
      "metadata": {},
      "source": [
        "The classification requires a <font color='red'>labeled dataset</font>.\n",
        "\n",
        "In our case, the dataset is composed of 2 parts:\n",
        "- <font color='red'>X</font> : data table of shape Nxd :\n",
        "   - The N rows are houses\n",
        "   - The d columns are the primitive caracteristics/features of houses. \n",
        "      - They should be numerical values required for machine learning. \n",
        "      - In our case , they are : 'surface' and 'nb_rooms'\n",
        "- <font color='red'>y</font> : a list of N labels. \n",
        "   - The label values belong to a set of finite discrete class values.\n",
        "   - In our case, the possible class values are {'cheap', 'expensive'}\n",
        "   - Each label correponds to the class of a house (row) in X."
      ]
    },
    {
      "cell_type": "code",
      "execution_count": 1,
      "metadata": {},
      "outputs": [],
      "source": [
        "# Import numpy module\n",
        "import numpy as np"
      ]
    },
    {
      "cell_type": "code",
      "execution_count": 2,
      "metadata": {
        "colab": {
          "base_uri": "https://localhost:8080/",
          "height": 238
        },
        "id": "_OeP9pkgGWcw",
        "outputId": "0789213b-411d-4205-f174-6598c56fd85d"
      },
      "outputs": [
        {
          "data": {
            "text/plain": [
              "array([[100,   2],\n",
              "       [100,   2],\n",
              "       [200,   2],\n",
              "       [200,   3],\n",
              "       [300,   2],\n",
              "       [300,   2],\n",
              "       [400,   3],\n",
              "       [450,   4],\n",
              "       [500,   4],\n",
              "       [500,   5],\n",
              "       [600,   4],\n",
              "       [650,   5]])"
            ]
          },
          "execution_count": 2,
          "metadata": {},
          "output_type": "execute_result"
        }
      ],
      "source": [
        "# Create X a numpy matrix that contains the primitive data (surface and nb_rooms) of houses:\n",
        "# [[100,2],\n",
        "# [100,2],\n",
        "# [200,2],\n",
        "# [200,3],\n",
        "# [300,2],\n",
        "# [300,2],\n",
        "# [400,3],\n",
        "# [450,4],\n",
        "# [500,4],\n",
        "# [500,5],\n",
        "# [600,4],\n",
        "# [650,5]]\n",
        "X =  #?\n",
        "X"
      ]
    },
    {
      "cell_type": "code",
      "execution_count": 3,
      "metadata": {},
      "outputs": [
        {
          "data": {
            "text/plain": [
              "['cheap',\n",
              " 'cheap',\n",
              " 'cheap',\n",
              " 'cheap',\n",
              " 'cheap',\n",
              " 'cheap',\n",
              " 'expensive',\n",
              " 'expensive',\n",
              " 'expensive',\n",
              " 'expensive',\n",
              " 'expensive',\n",
              " 'expensive']"
            ]
          },
          "execution_count": 3,
          "metadata": {},
          "output_type": "execute_result"
        }
      ],
      "source": [
        "# Create y that represents the house class labels : ['cheap','cheap','cheap','cheap','cheap','cheap','expensive','expensive','expensive','expensive','expensive','expensive']\n",
        "y = #?\n",
        "y"
      ]
    },
    {
      "cell_type": "markdown",
      "metadata": {},
      "source": [
        "**2. Split the dataset into train & test**\n",
        "\n",
        "The dataset is splitted into : \n",
        "- train set : \n",
        "    - It is a labeled sub dataset used for model learning\n",
        "    - It is composed of X_train y_train\n",
        "    - By default, it represents 70% of whole dataset\n",
        "- test set : \n",
        "    - It is a labeled sub dataset used for model evaluation\n",
        "    - It is composed of X_test, y_test\n",
        "    - By default, it represents 30% of whole dataset\n",
        "\n",
        "To perform the splitting, we generally use the function <font color='red'>train_test_split</font> from the module sklearn.model_selection"
      ]
    },
    {
      "cell_type": "code",
      "execution_count": 4,
      "metadata": {},
      "outputs": [],
      "source": [
        "# Import train_test_split from sklearn.model_selection\n",
        "from  #? import  #?"
      ]
    },
    {
      "cell_type": "code",
      "execution_count": 5,
      "metadata": {},
      "outputs": [],
      "source": [
        "# Call train_test_split\n",
        "# Pass arguments :\n",
        "# - X : Observable/Mesurable/Input data\n",
        "# - y : Target/Class/Output data\n",
        "# - train_size : % of train data, in our case 0.7\n",
        "# - stratify : an array of labels given to data \n",
        "#       + It ensures that the distribution of classes or categories \n",
        "#         in the original dataset is preserved in both the training and testing sets.\n",
        "#       + It is important when dealing with imbalanced datasets\n",
        "X_train, X_test, y_train, y_test = train_test_split( #?,  #?, train_size= #?, stratify=y)"
      ]
    },
    {
      "cell_type": "code",
      "execution_count": 6,
      "metadata": {},
      "outputs": [
        {
          "data": {
            "text/plain": [
              "['cheap',\n",
              " 'expensive',\n",
              " 'cheap',\n",
              " 'cheap',\n",
              " 'expensive',\n",
              " 'expensive',\n",
              " 'cheap',\n",
              " 'expensive']"
            ]
          },
          "execution_count": 6,
          "metadata": {},
          "output_type": "execute_result"
        }
      ],
      "source": [
        "# Show y_train\n",
        "y_train"
      ]
    },
    {
      "cell_type": "code",
      "execution_count": 7,
      "metadata": {},
      "outputs": [
        {
          "data": {
            "text/plain": [
              "['cheap', 'expensive', 'expensive', 'cheap']"
            ]
          },
          "execution_count": 7,
          "metadata": {},
          "output_type": "execute_result"
        }
      ],
      "source": [
        "# Show y_test\n",
        "y_test"
      ]
    },
    {
      "cell_type": "markdown",
      "metadata": {
        "id": "DK0hfldC8hT9"
      },
      "source": [
        "**2. Learning process using KNN**\n",
        "\n",
        "In scikit-learn ,<font color='red'>KNN</font> is implemented as <font color='red'>KNeighborsClassifier class</font> in <font color='red'>sklearn.neighbors</font> module.\n",
        "\n",
        "KNN class has :\n",
        "- a <font color='red'>constructor function</font> that allows to initialize hyperparameters\n",
        "- a <font color='red'>fit()</font> function that allows to fit the model given the training data\n",
        "- a <font color='red'>predict()</font> function that allows to predict the class label for a given new data"
      ]
    },
    {
      "cell_type": "code",
      "execution_count": 10,
      "metadata": {
        "id": "g9upC0368SxM"
      },
      "outputs": [],
      "source": [
        "# Import KNeighborsClassifier class from sklearn.neighbors module\n",
        "from  #? import  #?"
      ]
    },
    {
      "cell_type": "code",
      "execution_count": 11,
      "metadata": {
        "colab": {
          "base_uri": "https://localhost:8080/"
        },
        "id": "sU9A-v67IdOC",
        "outputId": "82f5f0d1-5a1f-4f1e-c75f-312f5be7e53a"
      },
      "outputs": [],
      "source": [
        "# Create a KNN instance denoted knn from KNeighborsClassifier class\n",
        "# Initialize the hyperparameter :\n",
        "# - n_neighbors : it represents the number of neighbors \n",
        "#   used to vote the class label in prediction process\n",
        "#   In our case, its value is 3\n",
        "knn = #?(n_neighbors=3)"
      ]
    },
    {
      "cell_type": "code",
      "execution_count": 12,
      "metadata": {},
      "outputs": [
        {
          "data": {
            "text/html": [
              "<style>#sk-container-id-1 {color: black;}#sk-container-id-1 pre{padding: 0;}#sk-container-id-1 div.sk-toggleable {background-color: white;}#sk-container-id-1 label.sk-toggleable__label {cursor: pointer;display: block;width: 100%;margin-bottom: 0;padding: 0.3em;box-sizing: border-box;text-align: center;}#sk-container-id-1 label.sk-toggleable__label-arrow:before {content: \"▸\";float: left;margin-right: 0.25em;color: #696969;}#sk-container-id-1 label.sk-toggleable__label-arrow:hover:before {color: black;}#sk-container-id-1 div.sk-estimator:hover label.sk-toggleable__label-arrow:before {color: black;}#sk-container-id-1 div.sk-toggleable__content {max-height: 0;max-width: 0;overflow: hidden;text-align: left;background-color: #f0f8ff;}#sk-container-id-1 div.sk-toggleable__content pre {margin: 0.2em;color: black;border-radius: 0.25em;background-color: #f0f8ff;}#sk-container-id-1 input.sk-toggleable__control:checked~div.sk-toggleable__content {max-height: 200px;max-width: 100%;overflow: auto;}#sk-container-id-1 input.sk-toggleable__control:checked~label.sk-toggleable__label-arrow:before {content: \"▾\";}#sk-container-id-1 div.sk-estimator input.sk-toggleable__control:checked~label.sk-toggleable__label {background-color: #d4ebff;}#sk-container-id-1 div.sk-label input.sk-toggleable__control:checked~label.sk-toggleable__label {background-color: #d4ebff;}#sk-container-id-1 input.sk-hidden--visually {border: 0;clip: rect(1px 1px 1px 1px);clip: rect(1px, 1px, 1px, 1px);height: 1px;margin: -1px;overflow: hidden;padding: 0;position: absolute;width: 1px;}#sk-container-id-1 div.sk-estimator {font-family: monospace;background-color: #f0f8ff;border: 1px dotted black;border-radius: 0.25em;box-sizing: border-box;margin-bottom: 0.5em;}#sk-container-id-1 div.sk-estimator:hover {background-color: #d4ebff;}#sk-container-id-1 div.sk-parallel-item::after {content: \"\";width: 100%;border-bottom: 1px solid gray;flex-grow: 1;}#sk-container-id-1 div.sk-label:hover label.sk-toggleable__label {background-color: #d4ebff;}#sk-container-id-1 div.sk-serial::before {content: \"\";position: absolute;border-left: 1px solid gray;box-sizing: border-box;top: 0;bottom: 0;left: 50%;z-index: 0;}#sk-container-id-1 div.sk-serial {display: flex;flex-direction: column;align-items: center;background-color: white;padding-right: 0.2em;padding-left: 0.2em;position: relative;}#sk-container-id-1 div.sk-item {position: relative;z-index: 1;}#sk-container-id-1 div.sk-parallel {display: flex;align-items: stretch;justify-content: center;background-color: white;position: relative;}#sk-container-id-1 div.sk-item::before, #sk-container-id-1 div.sk-parallel-item::before {content: \"\";position: absolute;border-left: 1px solid gray;box-sizing: border-box;top: 0;bottom: 0;left: 50%;z-index: -1;}#sk-container-id-1 div.sk-parallel-item {display: flex;flex-direction: column;z-index: 1;position: relative;background-color: white;}#sk-container-id-1 div.sk-parallel-item:first-child::after {align-self: flex-end;width: 50%;}#sk-container-id-1 div.sk-parallel-item:last-child::after {align-self: flex-start;width: 50%;}#sk-container-id-1 div.sk-parallel-item:only-child::after {width: 0;}#sk-container-id-1 div.sk-dashed-wrapped {border: 1px dashed gray;margin: 0 0.4em 0.5em 0.4em;box-sizing: border-box;padding-bottom: 0.4em;background-color: white;}#sk-container-id-1 div.sk-label label {font-family: monospace;font-weight: bold;display: inline-block;line-height: 1.2em;}#sk-container-id-1 div.sk-label-container {text-align: center;}#sk-container-id-1 div.sk-container {/* jupyter's `normalize.less` sets `[hidden] { display: none; }` but bootstrap.min.css set `[hidden] { display: none !important; }` so we also need the `!important` here to be able to override the default hidden behavior on the sphinx rendered scikit-learn.org. See: https://github.com/scikit-learn/scikit-learn/issues/21755 */display: inline-block !important;position: relative;}#sk-container-id-1 div.sk-text-repr-fallback {display: none;}</style><div id=\"sk-container-id-1\" class=\"sk-top-container\"><div class=\"sk-text-repr-fallback\"><pre>KNeighborsClassifier(n_neighbors=3)</pre><b>In a Jupyter environment, please rerun this cell to show the HTML representation or trust the notebook. <br />On GitHub, the HTML representation is unable to render, please try loading this page with nbviewer.org.</b></div><div class=\"sk-container\" hidden><div class=\"sk-item\"><div class=\"sk-estimator sk-toggleable\"><input class=\"sk-toggleable__control sk-hidden--visually\" id=\"sk-estimator-id-1\" type=\"checkbox\" checked><label for=\"sk-estimator-id-1\" class=\"sk-toggleable__label sk-toggleable__label-arrow\">KNeighborsClassifier</label><div class=\"sk-toggleable__content\"><pre>KNeighborsClassifier(n_neighbors=3)</pre></div></div></div></div></div>"
            ],
            "text/plain": [
              "KNeighborsClassifier(n_neighbors=3)"
            ]
          },
          "execution_count": 12,
          "metadata": {},
          "output_type": "execute_result"
        }
      ],
      "source": [
        "# Call knn.fit() function\n",
        "# Pass as arguments :\n",
        "# - the train data X_train\n",
        "# - the train class labels y_train \n",
        "knn.fit(#?, #?)"
      ]
    },
    {
      "cell_type": "code",
      "execution_count": 13,
      "metadata": {},
      "outputs": [
        {
          "data": {
            "text/plain": [
              "array(['cheap', 'expensive'], dtype='<U9')"
            ]
          },
          "execution_count": 13,
          "metadata": {},
          "output_type": "execute_result"
        }
      ],
      "source": [
        "# We can show the class labels found by the classifier\n",
        "knn.classes_"
      ]
    },
    {
      "cell_type": "markdown",
      "metadata": {},
      "source": [
        "**Evaluation using test dataset**\n",
        "\n",
        "The evaluation step allows to judge the model performance.\n",
        "\n",
        "Several metrics are computed using test data :\n",
        "- Confusion matrix : a matrix that summarizes the classification results : TP,TN, FP and FN\n",
        "- Accuracy score : a measure of how often the classifier correctly predicts the test data"
      ]
    },
    {
      "cell_type": "code",
      "execution_count": 14,
      "metadata": {},
      "outputs": [
        {
          "data": {
            "text/plain": [
              "array(['cheap', 'expensive', 'cheap', 'expensive'], dtype='<U9')"
            ]
          },
          "execution_count": 14,
          "metadata": {},
          "output_type": "execute_result"
        }
      ],
      "source": [
        "# Predict class labels for test data\n",
        "# Call predict predict() and\n",
        "# Pass X_test as argument\n",
        "y_test_pred= knn.#?(#?)\n",
        "y_test_pred"
      ]
    },
    {
      "cell_type": "code",
      "execution_count": 15,
      "metadata": {},
      "outputs": [
        {
          "data": {
            "text/plain": [
              "array([ True,  True,  True,  True])"
            ]
          },
          "execution_count": 15,
          "metadata": {},
          "output_type": "execute_result"
        }
      ],
      "source": [
        "# Show matching between predicted class labels and true class labels\n",
        "y_test_pred==y_test"
      ]
    },
    {
      "cell_type": "code",
      "execution_count": 16,
      "metadata": {},
      "outputs": [],
      "source": [
        "# Import confusion_matrix function from sklearn.metrics\n",
        "from #? import #?"
      ]
    },
    {
      "cell_type": "code",
      "execution_count": 17,
      "metadata": {},
      "outputs": [
        {
          "data": {
            "text/plain": [
              "array([[2, 0],\n",
              "       [0, 2]], dtype=int64)"
            ]
          },
          "execution_count": 17,
          "metadata": {},
          "output_type": "execute_result"
        }
      ],
      "source": [
        "# compute confusion matrix\n",
        "# Call confusion_matrix\n",
        "# Pass as arguments :\n",
        "# - y_test (true class labels of test data)\n",
        "# - y_test_pred (predicted class labels of test data)\n",
        "\n",
        "#?(#?, #?)"
      ]
    },
    {
      "cell_type": "code",
      "execution_count": 18,
      "metadata": {},
      "outputs": [],
      "source": [
        "# Import  accuracy_score function from sklearn.metrics\n",
        "from #? import #?"
      ]
    },
    {
      "cell_type": "code",
      "execution_count": 19,
      "metadata": {},
      "outputs": [
        {
          "data": {
            "text/plain": [
              "1.0"
            ]
          },
          "execution_count": 19,
          "metadata": {},
          "output_type": "execute_result"
        }
      ],
      "source": [
        "# compute accuracy score\n",
        "# Call accuracy_score function\n",
        "# Pass as arguments :\n",
        "# - y_test (true class labels of test data)\n",
        "# - y_test_pred (predicted class labels of test data)\n",
        "\n",
        "#?(#?, #?)"
      ]
    },
    {
      "cell_type": "markdown",
      "metadata": {
        "id": "JUqqpNYKF5w3"
      },
      "source": [
        "**4. Prediction process**\n",
        "\n",
        "Once the model is successefully evaluated, we can use it to predict the class label for a new house"
      ]
    },
    {
      "cell_type": "code",
      "execution_count": 22,
      "metadata": {
        "colab": {
          "base_uri": "https://localhost:8080/",
          "height": 81
        },
        "id": "H6_DYvPU9RJc",
        "outputId": "899bbae8-e65b-4c74-8ba3-f0f55ab94767"
      },
      "outputs": [
        {
          "data": {
            "text/plain": [
              "[[550, 4]]"
            ]
          },
          "execution_count": 22,
          "metadata": {},
          "output_type": "execute_result"
        }
      ],
      "source": [
        "# Suppose we have data of a new house (that is not used in learning)\n",
        "# For example: house_new = [500.67,24]\n",
        "# Create the new house as a matrix of 1 row : \n",
        "house_new = #?\n",
        "house_new"
      ]
    },
    {
      "cell_type": "code",
      "execution_count": 23,
      "metadata": {
        "colab": {
          "base_uri": "https://localhost:8080/"
        },
        "id": "_Rbu6w6k9JgX",
        "outputId": "59f0809b-2ace-475a-e318-47f887477182"
      },
      "outputs": [
        {
          "data": {
            "text/plain": [
              "array(['expensive'], dtype='<U9')"
            ]
          },
          "execution_count": 23,
          "metadata": {},
          "output_type": "execute_result"
        }
      ],
      "source": [
        "# Predict the class label of house_new\n",
        "# Call predict function and\n",
        "# Pass the matrix house_new as argument\n",
        "\n",
        "y_house_new=knn.#?(#?)\n",
        "y_house_new"
      ]
    }
  ],
  "metadata": {
    "colab": {
      "collapsed_sections": [],
      "provenance": []
    },
    "kernelspec": {
      "display_name": "Python 3",
      "name": "python3"
    },
    "language_info": {
      "codemirror_mode": {
        "name": "ipython",
        "version": 3
      },
      "file_extension": ".py",
      "mimetype": "text/x-python",
      "name": "python",
      "nbconvert_exporter": "python",
      "pygments_lexer": "ipython3",
      "version": "3.12.1"
    }
  },
  "nbformat": 4,
  "nbformat_minor": 0
}
