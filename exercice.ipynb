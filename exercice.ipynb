{
  "cells": [
    {
      "cell_type": "markdown",
      "metadata": {
        "id": "FTRc8FRuXkNr"
      },
      "source": [
        "# Exercice :\n",
        "\n"
      ]
    },
    {
      "cell_type": "markdown",
      "metadata": {
        "id": "P3hTUB_Qcont"
      },
      "source": [
        "**Dans cet exercice, vous allez mettre en pratique les compétences acquises lors de ce lab en utilisant Python pour gérer les données des étudiants.**\n",
        "\n",
        "\n",
        "En utilisant, la dataframe que nous avons traités, Écrivez un programme qui demande à l'utilisateur d'entrer un code étudiant. (NB: vous pouvez utiliser la fonction input() et N'oubliez pas d'afficher un message d'error si le code de l'etudiant n'existe pas)\n",
        "\n",
        "En utilisant le code étudiant saisi, affichez les informations suivantes de l'étudiant :\n",
        "\n",
        "    Son nom et prenom\n",
        "    Son email.\n",
        "    Son sexe.\n",
        "    Sa date de naissance.\n",
        "    Sa spécialité.\n",
        "    Le nombre de cours ratés.\n",
        "    La mention obtenue.\n",
        "\n",
        "\n",
        "En outre, pour la spécialité de l'étudiant saisi, affichez :\n",
        "\n",
        "    Le nombre maximum de cours ratés parmi tous les étudiants de cette spécialité.\n",
        "    \n",
        "    Le moyenne de cours ratés parmi tous les étudiants de cette spécialité.\n",
        "\n",
        "    Le nombre d'étudiants ayant obtenu une mention faible, passable, bien et très bien dans cette spécialité.\n",
        "\n"
      ]
    }
  ],
  "metadata": {
    "colab": {
      "provenance": []
    },
    "kernelspec": {
      "display_name": "Python 3.10.6 64-bit",
      "language": "python",
      "name": "python3"
    },
    "language_info": {
      "codemirror_mode": {
        "name": "ipython",
        "version": 3
      },
      "file_extension": ".py",
      "mimetype": "text/x-python",
      "name": "python",
      "nbconvert_exporter": "python",
      "pygments_lexer": "ipython3",
      "version": "3.12.1"
    },
    "vscode": {
      "interpreter": {
        "hash": "4208a5c7ea3c1373a4c12881fbe5d65f41f21e84c6a5b692de7dc9469121efba"
      }
    }
  },
  "nbformat": 4,
  "nbformat_minor": 0
}
