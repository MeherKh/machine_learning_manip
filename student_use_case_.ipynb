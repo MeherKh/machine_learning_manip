{
  "cells": [
    {
      "cell_type": "markdown",
      "metadata": {
        "id": "ZlFCoXl_8vHT"
      },
      "source": [
        "# Imports"
      ]
    },
    {
      "cell_type": "code",
      "execution_count": 46,
      "metadata": {
        "id": "7HKHsUru8zn5"
      },
      "outputs": [],
      "source": [
        "import pandas as pd"
      ]
    },
    {
      "cell_type": "markdown",
      "metadata": {
        "id": "D_abNipcSAd6"
      },
      "source": [
        "# Create dataframe using Series"
      ]
    },
    {
      "cell_type": "code",
      "execution_count": 2,
      "metadata": {
        "id": "J_l8e1qUSMoo"
      },
      "outputs": [],
      "source": [
        "# create a list of students\n",
        "nom_etudiant = [\"Slim\",\"Neder\",\"Mohamed\",\"Amen\"]"
      ]
    },
    {
      "cell_type": "code",
      "execution_count": 3,
      "metadata": {
        "colab": {
          "base_uri": "https://localhost:8080/"
        },
        "id": "wp59x9VcSgU3",
        "outputId": "bc4f8292-7a80-4730-9045-663dac7a319f"
      },
      "outputs": [
        {
          "data": {
            "text/plain": [
              "0       Slim\n",
              "1      Neder\n",
              "2    Mohamed\n",
              "3       Amen\n",
              "Name: nom_etudiant, dtype: object"
            ]
          },
          "execution_count": 3,
          "metadata": {},
          "output_type": "execute_result"
        }
      ],
      "source": [
        "# create a series from the list of values\n",
        "nom_etudiant = pd.Series(nom_etudiant, name=\"nom_etudiant\")\n",
        "nom_etudiant"
      ]
    },
    {
      "cell_type": "code",
      "execution_count": 31,
      "metadata": {
        "colab": {
          "base_uri": "https://localhost:8080/"
        },
        "id": "a4ZhWvTLS76B",
        "outputId": "060e2fd8-4d63-4702-8315-6bf82ec99f71"
      },
      "outputs": [
        {
          "data": {
            "text/plain": [
              "RangeIndex(start=0, stop=4, step=1)"
            ]
          },
          "execution_count": 31,
          "metadata": {},
          "output_type": "execute_result"
        }
      ],
      "source": [
        "nom_etudiant.index"
      ]
    },
    {
      "cell_type": "markdown",
      "metadata": {
        "id": "Sx6FU-hITLNz"
      },
      "source": [
        "## create a series from dictionary"
      ]
    },
    {
      "cell_type": "code",
      "execution_count": 11,
      "metadata": {
        "colab": {
          "base_uri": "https://localhost:8080/"
        },
        "id": "2DOvz3RLTOjX",
        "outputId": "da45f423-1a84-4e9c-cb17-d1e9765e5b2a"
      },
      "outputs": [
        {
          "data": {
            "text/plain": [
              "nom          Foulen\n",
              "prenom    benFoulen\n",
              "Name: Etudiant1, dtype: object"
            ]
          },
          "execution_count": 11,
          "metadata": {},
          "output_type": "execute_result"
        }
      ],
      "source": [
        "etudiant = {\"nom\": \"Foulen\", \"prenom\":\"benFoulen\"}\n",
        "etudiant = pd.Series(etudiant, name = \"Etudiant1\")\n",
        "etudiant"
      ]
    },
    {
      "cell_type": "markdown",
      "metadata": {
        "id": "6eNxbzaHTrQI"
      },
      "source": [
        "## create dataframes"
      ]
    },
    {
      "cell_type": "code",
      "execution_count": 12,
      "metadata": {
        "colab": {
          "base_uri": "https://localhost:8080/",
          "height": 206
        },
        "id": "_ETL8BWJTvmD",
        "outputId": "ad6458b7-ae94-45e9-da70-1703c11f79a4"
      },
      "outputs": [
        {
          "data": {
            "text/html": [
              "<div>\n",
              "<style scoped>\n",
              "    .dataframe tbody tr th:only-of-type {\n",
              "        vertical-align: middle;\n",
              "    }\n",
              "\n",
              "    .dataframe tbody tr th {\n",
              "        vertical-align: top;\n",
              "    }\n",
              "\n",
              "    .dataframe thead th {\n",
              "        text-align: right;\n",
              "    }\n",
              "</style>\n",
              "<table border=\"1\" class=\"dataframe\">\n",
              "  <thead>\n",
              "    <tr style=\"text-align: right;\">\n",
              "      <th></th>\n",
              "      <th>Nom</th>\n",
              "      <th>Note</th>\n",
              "      <th>moyenne</th>\n",
              "    </tr>\n",
              "  </thead>\n",
              "  <tbody>\n",
              "    <tr>\n",
              "      <th>123</th>\n",
              "      <td>Mohamed</td>\n",
              "      <td>18</td>\n",
              "      <td>15</td>\n",
              "    </tr>\n",
              "    <tr>\n",
              "      <th>124</th>\n",
              "      <td>Slim</td>\n",
              "      <td>17</td>\n",
              "      <td>10</td>\n",
              "    </tr>\n",
              "    <tr>\n",
              "      <th>125</th>\n",
              "      <td>Amen</td>\n",
              "      <td>19</td>\n",
              "      <td>11</td>\n",
              "    </tr>\n",
              "    <tr>\n",
              "      <th>126</th>\n",
              "      <td>Samar</td>\n",
              "      <td>15</td>\n",
              "      <td>12</td>\n",
              "    </tr>\n",
              "    <tr>\n",
              "      <th>127</th>\n",
              "      <td>Ahmed</td>\n",
              "      <td>16</td>\n",
              "      <td>17</td>\n",
              "    </tr>\n",
              "  </tbody>\n",
              "</table>\n",
              "</div>"
            ],
            "text/plain": [
              "         Nom  Note  moyenne\n",
              "123  Mohamed    18       15\n",
              "124     Slim    17       10\n",
              "125     Amen    19       11\n",
              "126    Samar    15       12\n",
              "127    Ahmed    16       17"
            ]
          },
          "execution_count": 12,
          "metadata": {},
          "output_type": "execute_result"
        }
      ],
      "source": [
        "ids = [123,124,125,126,127]\n",
        "\n",
        "# Creating series for names of students\n",
        "nom = pd.Series([\"Mohamed\",\"Slim\", \"Amen\", \"Samar\", \"Ahmed\"], name='Nom', index=ids)\n",
        "\n",
        "# Creating series for Marks\n",
        "note = pd.Series([18, 17, 19, 15, 16], name='note', index=ids)\n",
        "\n",
        "# moyenne\n",
        "moyenne = pd.Series([15, 10, 11, 12, 17], name=\"moyenne\", index=ids)\n",
        "\n",
        "# Combining the 2 series nom and note togther as columns of one dataframe.\n",
        "df_etudiants = pd.DataFrame({'Nom': nom, 'Note': note, 'moyenne': moyenne})\n",
        "\n",
        "df_etudiants"
      ]
    },
    {
      "cell_type": "markdown",
      "metadata": {
        "id": "35l7_AWJ84ex"
      },
      "source": [
        "# Load data from csv"
      ]
    },
    {
      "cell_type": "code",
      "execution_count": 13,
      "metadata": {
        "id": "dBAd9iUP86NK"
      },
      "outputs": [],
      "source": [
        "data = pd.read_csv(\"etudiants.csv\")"
      ]
    },
    {
      "cell_type": "markdown",
      "metadata": {
        "id": "aeVwK7MB8-cY"
      },
      "source": [
        "# Explore data"
      ]
    },
    {
      "cell_type": "code",
      "execution_count": 52,
      "metadata": {
        "colab": {
          "base_uri": "https://localhost:8080/",
          "height": 100
        },
        "id": "6b1MvrZ19A_f",
        "outputId": "8639a405-6c46-40f4-9a39-e835bcfb8a64"
      },
      "outputs": [
        {
          "data": {
            "text/html": [
              "<div>\n",
              "<style scoped>\n",
              "    .dataframe tbody tr th:only-of-type {\n",
              "        vertical-align: middle;\n",
              "    }\n",
              "\n",
              "    .dataframe tbody tr th {\n",
              "        vertical-align: top;\n",
              "    }\n",
              "\n",
              "    .dataframe thead th {\n",
              "        text-align: right;\n",
              "    }\n",
              "</style>\n",
              "<table border=\"1\" class=\"dataframe\">\n",
              "  <thead>\n",
              "    <tr style=\"text-align: right;\">\n",
              "      <th></th>\n",
              "      <th>id_etudiant</th>\n",
              "      <th>prenom_etudiant</th>\n",
              "      <th>nom_etudiant</th>\n",
              "      <th>email</th>\n",
              "      <th>sex</th>\n",
              "      <th>date_naissance</th>\n",
              "      <th>mention</th>\n",
              "      <th>specialite</th>\n",
              "      <th>frais_scolarite</th>\n",
              "      <th>cours_rate</th>\n",
              "      <th>loisirs</th>\n",
              "      <th>date_debut</th>\n",
              "      <th>date_sortie</th>\n",
              "    </tr>\n",
              "  </thead>\n",
              "  <tbody>\n",
              "    <tr>\n",
              "      <th>0</th>\n",
              "      <td>1</td>\n",
              "      <td>Tam</td>\n",
              "      <td>Sandwick</td>\n",
              "      <td>tsandwick0@princeton.edu</td>\n",
              "      <td>M</td>\n",
              "      <td>17/7/1993</td>\n",
              "      <td>passable</td>\n",
              "      <td>Licence-IT</td>\n",
              "      <td>€2773,84</td>\n",
              "      <td>2.0</td>\n",
              "      <td>sport</td>\n",
              "      <td>8/2/2018</td>\n",
              "      <td>8/22/2022</td>\n",
              "    </tr>\n",
              "    <tr>\n",
              "      <th>1</th>\n",
              "      <td>2</td>\n",
              "      <td>Euell</td>\n",
              "      <td>Gabbatt</td>\n",
              "      <td>egabbatt1@netlog.com</td>\n",
              "      <td>M</td>\n",
              "      <td>5/2/1996</td>\n",
              "      <td>bien</td>\n",
              "      <td>Business</td>\n",
              "      <td>€2003,15</td>\n",
              "      <td>7.0</td>\n",
              "      <td>NaN</td>\n",
              "      <td>8/20/2017</td>\n",
              "      <td>12/5/2023</td>\n",
              "    </tr>\n",
              "    <tr>\n",
              "      <th>2</th>\n",
              "      <td>3</td>\n",
              "      <td>Adan</td>\n",
              "      <td>Antonchik</td>\n",
              "      <td>aantonchik2@toplist.cz</td>\n",
              "      <td>M</td>\n",
              "      <td>9/8/2003</td>\n",
              "      <td>bien</td>\n",
              "      <td>Licence-IT</td>\n",
              "      <td>€2039,02</td>\n",
              "      <td>4.0</td>\n",
              "      <td>NaN</td>\n",
              "      <td>2/16/2017</td>\n",
              "      <td>6/15/2021</td>\n",
              "    </tr>\n",
              "    <tr>\n",
              "      <th>3</th>\n",
              "      <td>4</td>\n",
              "      <td>Lela</td>\n",
              "      <td>Cavilla</td>\n",
              "      <td>lcavilla3@umn.edu</td>\n",
              "      <td>F</td>\n",
              "      <td>3/7/1991</td>\n",
              "      <td>bien</td>\n",
              "      <td>ING-IT</td>\n",
              "      <td>€3676,58</td>\n",
              "      <td>8.0</td>\n",
              "      <td>NaN</td>\n",
              "      <td>12/18/2015</td>\n",
              "      <td>5/15/2021</td>\n",
              "    </tr>\n",
              "    <tr>\n",
              "      <th>4</th>\n",
              "      <td>5</td>\n",
              "      <td>Banky</td>\n",
              "      <td>Pipet</td>\n",
              "      <td>bpipet4@sourceforge.net</td>\n",
              "      <td>M</td>\n",
              "      <td>27/3/1991</td>\n",
              "      <td>trés bien</td>\n",
              "      <td>Licence-IT</td>\n",
              "      <td>€3660,16</td>\n",
              "      <td>9.0</td>\n",
              "      <td>sport</td>\n",
              "      <td>9/3/2016</td>\n",
              "      <td>5/12/2022</td>\n",
              "    </tr>\n",
              "  </tbody>\n",
              "</table>\n",
              "</div>"
            ],
            "text/plain": [
              "   id_etudiant prenom_etudiant nom_etudiant                     email sex  \\\n",
              "0            1             Tam     Sandwick  tsandwick0@princeton.edu   M   \n",
              "1            2           Euell      Gabbatt      egabbatt1@netlog.com   M   \n",
              "2            3            Adan    Antonchik    aantonchik2@toplist.cz   M   \n",
              "3            4            Lela      Cavilla         lcavilla3@umn.edu   F   \n",
              "4            5           Banky        Pipet   bpipet4@sourceforge.net   M   \n",
              "\n",
              "  date_naissance    mention  specialite frais_scolarite  cours_rate loisirs  \\\n",
              "0      17/7/1993   passable  Licence-IT        €2773,84         2.0   sport   \n",
              "1       5/2/1996       bien    Business        €2003,15         7.0     NaN   \n",
              "2       9/8/2003       bien  Licence-IT        €2039,02         4.0     NaN   \n",
              "3       3/7/1991       bien      ING-IT        €3676,58         8.0     NaN   \n",
              "4      27/3/1991  trés bien  Licence-IT        €3660,16         9.0   sport   \n",
              "\n",
              "   date_debut date_sortie  \n",
              "0    8/2/2018   8/22/2022  \n",
              "1   8/20/2017   12/5/2023  \n",
              "2   2/16/2017   6/15/2021  \n",
              "3  12/18/2015   5/15/2021  \n",
              "4    9/3/2016   5/12/2022  "
            ]
          },
          "execution_count": 52,
          "metadata": {},
          "output_type": "execute_result"
        }
      ],
      "source": [
        "data.head()"
      ]
    },
    {
      "cell_type": "code",
      "execution_count": 55,
      "metadata": {},
      "outputs": [
        {
          "data": {
            "text/html": [
              "<div>\n",
              "<style scoped>\n",
              "    .dataframe tbody tr th:only-of-type {\n",
              "        vertical-align: middle;\n",
              "    }\n",
              "\n",
              "    .dataframe tbody tr th {\n",
              "        vertical-align: top;\n",
              "    }\n",
              "\n",
              "    .dataframe thead th {\n",
              "        text-align: right;\n",
              "    }\n",
              "</style>\n",
              "<table border=\"1\" class=\"dataframe\">\n",
              "  <thead>\n",
              "    <tr style=\"text-align: right;\">\n",
              "      <th></th>\n",
              "      <th>id_etudiant</th>\n",
              "      <th>prenom_etudiant</th>\n",
              "      <th>nom_etudiant</th>\n",
              "      <th>email</th>\n",
              "      <th>sex</th>\n",
              "      <th>date_naissance</th>\n",
              "      <th>mention</th>\n",
              "      <th>specialite</th>\n",
              "      <th>frais_scolarite</th>\n",
              "      <th>cours_rate</th>\n",
              "      <th>loisirs</th>\n",
              "      <th>date_debut</th>\n",
              "      <th>date_sortie</th>\n",
              "    </tr>\n",
              "  </thead>\n",
              "  <tbody>\n",
              "    <tr>\n",
              "      <th>995</th>\n",
              "      <td>996</td>\n",
              "      <td>Tabbie</td>\n",
              "      <td>Burdas</td>\n",
              "      <td>tburdasrn@yale.edu</td>\n",
              "      <td>M</td>\n",
              "      <td>24/11/1990</td>\n",
              "      <td>passable</td>\n",
              "      <td>Prepa</td>\n",
              "      <td>€2558,90</td>\n",
              "      <td>4.0</td>\n",
              "      <td>NaN</td>\n",
              "      <td>10/18/2016</td>\n",
              "      <td>5/9/2022</td>\n",
              "    </tr>\n",
              "    <tr>\n",
              "      <th>996</th>\n",
              "      <td>997</td>\n",
              "      <td>Simone</td>\n",
              "      <td>Tomsett</td>\n",
              "      <td>stomsettro@gov.uk</td>\n",
              "      <td>F</td>\n",
              "      <td>16/12/2001</td>\n",
              "      <td>passable</td>\n",
              "      <td>Licence-IT</td>\n",
              "      <td>€4956,89</td>\n",
              "      <td>4.0</td>\n",
              "      <td>Danser</td>\n",
              "      <td>9/2/2017</td>\n",
              "      <td>10/20/2021</td>\n",
              "    </tr>\n",
              "    <tr>\n",
              "      <th>997</th>\n",
              "      <td>998</td>\n",
              "      <td>Joseito</td>\n",
              "      <td>Gavagan</td>\n",
              "      <td>jgavaganrp@scientificamerican.com</td>\n",
              "      <td>M</td>\n",
              "      <td>8/12/1994</td>\n",
              "      <td>bien</td>\n",
              "      <td>Business</td>\n",
              "      <td>€3438,87</td>\n",
              "      <td>7.0</td>\n",
              "      <td>bricolage</td>\n",
              "      <td>3/4/2016</td>\n",
              "      <td>7/31/2024</td>\n",
              "    </tr>\n",
              "    <tr>\n",
              "      <th>998</th>\n",
              "      <td>999</td>\n",
              "      <td>Lucius</td>\n",
              "      <td>Erswell</td>\n",
              "      <td>lerswellrq@themeforest.net</td>\n",
              "      <td>M</td>\n",
              "      <td>25/10/2004</td>\n",
              "      <td>faible</td>\n",
              "      <td>ING-IT</td>\n",
              "      <td>€4184,08</td>\n",
              "      <td>1.0</td>\n",
              "      <td>sport</td>\n",
              "      <td>11/15/2017</td>\n",
              "      <td>7/27/2023</td>\n",
              "    </tr>\n",
              "    <tr>\n",
              "      <th>999</th>\n",
              "      <td>1000</td>\n",
              "      <td>Robers</td>\n",
              "      <td>Theobold</td>\n",
              "      <td>rtheoboldrr@yellowpages.com</td>\n",
              "      <td>M</td>\n",
              "      <td>28/12/2000</td>\n",
              "      <td>passable</td>\n",
              "      <td>Licence-IT</td>\n",
              "      <td>€2445,25</td>\n",
              "      <td>9.0</td>\n",
              "      <td>NaN</td>\n",
              "      <td>3/7/2016</td>\n",
              "      <td>11/8/2020</td>\n",
              "    </tr>\n",
              "  </tbody>\n",
              "</table>\n",
              "</div>"
            ],
            "text/plain": [
              "     id_etudiant prenom_etudiant nom_etudiant  \\\n",
              "995          996          Tabbie       Burdas   \n",
              "996          997          Simone      Tomsett   \n",
              "997          998         Joseito      Gavagan   \n",
              "998          999          Lucius      Erswell   \n",
              "999         1000          Robers     Theobold   \n",
              "\n",
              "                                 email sex date_naissance   mention  \\\n",
              "995                 tburdasrn@yale.edu   M     24/11/1990  passable   \n",
              "996                  stomsettro@gov.uk   F     16/12/2001  passable   \n",
              "997  jgavaganrp@scientificamerican.com   M      8/12/1994      bien   \n",
              "998         lerswellrq@themeforest.net   M     25/10/2004    faible   \n",
              "999        rtheoboldrr@yellowpages.com   M     28/12/2000  passable   \n",
              "\n",
              "     specialite frais_scolarite  cours_rate    loisirs  date_debut date_sortie  \n",
              "995       Prepa        €2558,90         4.0        NaN  10/18/2016    5/9/2022  \n",
              "996  Licence-IT        €4956,89         4.0     Danser    9/2/2017  10/20/2021  \n",
              "997    Business        €3438,87         7.0  bricolage    3/4/2016   7/31/2024  \n",
              "998      ING-IT        €4184,08         1.0      sport  11/15/2017   7/27/2023  \n",
              "999  Licence-IT        €2445,25         9.0        NaN    3/7/2016   11/8/2020  "
            ]
          },
          "execution_count": 55,
          "metadata": {},
          "output_type": "execute_result"
        }
      ],
      "source": [
        "data.tail()"
      ]
    },
    {
      "cell_type": "code",
      "execution_count": 22,
      "metadata": {
        "colab": {
          "base_uri": "https://localhost:8080/"
        },
        "id": "1_SwRSCw9VPO",
        "outputId": "11f4297a-c104-44fe-a0eb-e4486868d32f"
      },
      "outputs": [
        {
          "data": {
            "text/plain": [
              "(1000, 13)"
            ]
          },
          "execution_count": 22,
          "metadata": {},
          "output_type": "execute_result"
        }
      ],
      "source": [
        "data.shape"
      ]
    },
    {
      "cell_type": "code",
      "execution_count": 23,
      "metadata": {},
      "outputs": [
        {
          "data": {
            "text/plain": [
              "1000"
            ]
          },
          "execution_count": 23,
          "metadata": {},
          "output_type": "execute_result"
        }
      ],
      "source": [
        "data.shape[0]"
      ]
    },
    {
      "cell_type": "code",
      "execution_count": 24,
      "metadata": {},
      "outputs": [
        {
          "data": {
            "text/plain": [
              "13"
            ]
          },
          "execution_count": 24,
          "metadata": {},
          "output_type": "execute_result"
        }
      ],
      "source": [
        "data.shape[1]"
      ]
    },
    {
      "cell_type": "code",
      "execution_count": 25,
      "metadata": {
        "colab": {
          "base_uri": "https://localhost:8080/"
        },
        "id": "_cPJGpVF9RGi",
        "outputId": "2ad20acc-f797-4743-a8ae-74df5bcf9838"
      },
      "outputs": [
        {
          "name": "stdout",
          "output_type": "stream",
          "text": [
            "<class 'pandas.core.frame.DataFrame'>\n",
            "RangeIndex: 1000 entries, 0 to 999\n",
            "Data columns (total 13 columns):\n",
            " #   Column           Non-Null Count  Dtype  \n",
            "---  ------           --------------  -----  \n",
            " 0   id_etudiant      1000 non-null   int64  \n",
            " 1   prenom_etudiant  1000 non-null   object \n",
            " 2   nom_etudiant     1000 non-null   object \n",
            " 3   email            1000 non-null   object \n",
            " 4   sex              978 non-null    object \n",
            " 5   date_naissance   1000 non-null   object \n",
            " 6   mention          1000 non-null   object \n",
            " 7   specialite       1000 non-null   object \n",
            " 8   frais_scolarite  973 non-null    object \n",
            " 9   cours_rate       1000 non-null   float64\n",
            " 10  loisirs          406 non-null    object \n",
            " 11  date_debut       1000 non-null   object \n",
            " 12  date_sortie      1000 non-null   object \n",
            "dtypes: float64(1), int64(1), object(11)\n",
            "memory usage: 101.7+ KB\n"
          ]
        }
      ],
      "source": [
        "data.info()"
      ]
    },
    {
      "cell_type": "code",
      "execution_count": 26,
      "metadata": {
        "colab": {
          "base_uri": "https://localhost:8080/",
          "height": 300
        },
        "id": "f87Dv4vX9YBt",
        "outputId": "bfec1066-32ee-4cd3-a5e6-8d665d3c674d"
      },
      "outputs": [
        {
          "data": {
            "text/html": [
              "<div>\n",
              "<style scoped>\n",
              "    .dataframe tbody tr th:only-of-type {\n",
              "        vertical-align: middle;\n",
              "    }\n",
              "\n",
              "    .dataframe tbody tr th {\n",
              "        vertical-align: top;\n",
              "    }\n",
              "\n",
              "    .dataframe thead th {\n",
              "        text-align: right;\n",
              "    }\n",
              "</style>\n",
              "<table border=\"1\" class=\"dataframe\">\n",
              "  <thead>\n",
              "    <tr style=\"text-align: right;\">\n",
              "      <th></th>\n",
              "      <th>id_etudiant</th>\n",
              "      <th>cours_rate</th>\n",
              "    </tr>\n",
              "  </thead>\n",
              "  <tbody>\n",
              "    <tr>\n",
              "      <th>count</th>\n",
              "      <td>1000.000000</td>\n",
              "      <td>1000.000000</td>\n",
              "    </tr>\n",
              "    <tr>\n",
              "      <th>mean</th>\n",
              "      <td>500.500000</td>\n",
              "      <td>5.087000</td>\n",
              "    </tr>\n",
              "    <tr>\n",
              "      <th>std</th>\n",
              "      <td>288.819436</td>\n",
              "      <td>3.206823</td>\n",
              "    </tr>\n",
              "    <tr>\n",
              "      <th>min</th>\n",
              "      <td>1.000000</td>\n",
              "      <td>0.000000</td>\n",
              "    </tr>\n",
              "    <tr>\n",
              "      <th>25%</th>\n",
              "      <td>250.750000</td>\n",
              "      <td>2.000000</td>\n",
              "    </tr>\n",
              "    <tr>\n",
              "      <th>50%</th>\n",
              "      <td>500.500000</td>\n",
              "      <td>5.000000</td>\n",
              "    </tr>\n",
              "    <tr>\n",
              "      <th>75%</th>\n",
              "      <td>750.250000</td>\n",
              "      <td>8.000000</td>\n",
              "    </tr>\n",
              "    <tr>\n",
              "      <th>max</th>\n",
              "      <td>1000.000000</td>\n",
              "      <td>10.000000</td>\n",
              "    </tr>\n",
              "  </tbody>\n",
              "</table>\n",
              "</div>"
            ],
            "text/plain": [
              "       id_etudiant   cours_rate\n",
              "count  1000.000000  1000.000000\n",
              "mean    500.500000     5.087000\n",
              "std     288.819436     3.206823\n",
              "min       1.000000     0.000000\n",
              "25%     250.750000     2.000000\n",
              "50%     500.500000     5.000000\n",
              "75%     750.250000     8.000000\n",
              "max    1000.000000    10.000000"
            ]
          },
          "execution_count": 26,
          "metadata": {},
          "output_type": "execute_result"
        }
      ],
      "source": [
        "data.describe()"
      ]
    },
    {
      "cell_type": "markdown",
      "metadata": {
        "id": "4Zkv7j0E_Gh2"
      },
      "source": [
        "# Slicing"
      ]
    },
    {
      "cell_type": "code",
      "execution_count": 26,
      "metadata": {},
      "outputs": [
        {
          "data": {
            "text/html": [
              "<div>\n",
              "<style scoped>\n",
              "    .dataframe tbody tr th:only-of-type {\n",
              "        vertical-align: middle;\n",
              "    }\n",
              "\n",
              "    .dataframe tbody tr th {\n",
              "        vertical-align: top;\n",
              "    }\n",
              "\n",
              "    .dataframe thead th {\n",
              "        text-align: right;\n",
              "    }\n",
              "</style>\n",
              "<table border=\"1\" class=\"dataframe\">\n",
              "  <thead>\n",
              "    <tr style=\"text-align: right;\">\n",
              "      <th></th>\n",
              "      <th>id_etudiant</th>\n",
              "      <th>prenom_etudiant</th>\n",
              "      <th>nom_etudiant</th>\n",
              "      <th>email</th>\n",
              "      <th>sex</th>\n",
              "      <th>date_naissance</th>\n",
              "      <th>mention</th>\n",
              "      <th>specialite</th>\n",
              "      <th>frais_scolarite</th>\n",
              "      <th>cours_rate</th>\n",
              "      <th>loisirs</th>\n",
              "      <th>date_debut</th>\n",
              "      <th>date_sortie</th>\n",
              "    </tr>\n",
              "  </thead>\n",
              "  <tbody>\n",
              "    <tr>\n",
              "      <th>0</th>\n",
              "      <td>1</td>\n",
              "      <td>Tam</td>\n",
              "      <td>Sandwick</td>\n",
              "      <td>tsandwick0@princeton.edu</td>\n",
              "      <td>M</td>\n",
              "      <td>17/7/1993</td>\n",
              "      <td>passable</td>\n",
              "      <td>Licence-IT</td>\n",
              "      <td>€2773,84</td>\n",
              "      <td>2.0</td>\n",
              "      <td>sport</td>\n",
              "      <td>8/2/2018</td>\n",
              "      <td>8/22/2022</td>\n",
              "    </tr>\n",
              "    <tr>\n",
              "      <th>1</th>\n",
              "      <td>2</td>\n",
              "      <td>Euell</td>\n",
              "      <td>Gabbatt</td>\n",
              "      <td>egabbatt1@netlog.com</td>\n",
              "      <td>M</td>\n",
              "      <td>5/2/1996</td>\n",
              "      <td>bien</td>\n",
              "      <td>Business</td>\n",
              "      <td>€2003,15</td>\n",
              "      <td>7.0</td>\n",
              "      <td>NaN</td>\n",
              "      <td>8/20/2017</td>\n",
              "      <td>12/5/2023</td>\n",
              "    </tr>\n",
              "    <tr>\n",
              "      <th>2</th>\n",
              "      <td>3</td>\n",
              "      <td>Adan</td>\n",
              "      <td>Antonchik</td>\n",
              "      <td>aantonchik2@toplist.cz</td>\n",
              "      <td>M</td>\n",
              "      <td>9/8/2003</td>\n",
              "      <td>bien</td>\n",
              "      <td>Licence-IT</td>\n",
              "      <td>€2039,02</td>\n",
              "      <td>4.0</td>\n",
              "      <td>NaN</td>\n",
              "      <td>2/16/2017</td>\n",
              "      <td>6/15/2021</td>\n",
              "    </tr>\n",
              "    <tr>\n",
              "      <th>3</th>\n",
              "      <td>4</td>\n",
              "      <td>Lela</td>\n",
              "      <td>Cavilla</td>\n",
              "      <td>lcavilla3@umn.edu</td>\n",
              "      <td>F</td>\n",
              "      <td>3/7/1991</td>\n",
              "      <td>bien</td>\n",
              "      <td>ING-IT</td>\n",
              "      <td>€3676,58</td>\n",
              "      <td>8.0</td>\n",
              "      <td>NaN</td>\n",
              "      <td>12/18/2015</td>\n",
              "      <td>5/15/2021</td>\n",
              "    </tr>\n",
              "    <tr>\n",
              "      <th>4</th>\n",
              "      <td>5</td>\n",
              "      <td>Banky</td>\n",
              "      <td>Pipet</td>\n",
              "      <td>bpipet4@sourceforge.net</td>\n",
              "      <td>M</td>\n",
              "      <td>27/3/1991</td>\n",
              "      <td>trés bien</td>\n",
              "      <td>Licence-IT</td>\n",
              "      <td>€3660,16</td>\n",
              "      <td>9.0</td>\n",
              "      <td>sport</td>\n",
              "      <td>9/3/2016</td>\n",
              "      <td>5/12/2022</td>\n",
              "    </tr>\n",
              "  </tbody>\n",
              "</table>\n",
              "</div>"
            ],
            "text/plain": [
              "   id_etudiant prenom_etudiant nom_etudiant                     email sex  \\\n",
              "0            1             Tam     Sandwick  tsandwick0@princeton.edu   M   \n",
              "1            2           Euell      Gabbatt      egabbatt1@netlog.com   M   \n",
              "2            3            Adan    Antonchik    aantonchik2@toplist.cz   M   \n",
              "3            4            Lela      Cavilla         lcavilla3@umn.edu   F   \n",
              "4            5           Banky        Pipet   bpipet4@sourceforge.net   M   \n",
              "\n",
              "  date_naissance    mention  specialite frais_scolarite  cours_rate loisirs  \\\n",
              "0      17/7/1993   passable  Licence-IT        €2773,84         2.0   sport   \n",
              "1       5/2/1996       bien    Business        €2003,15         7.0     NaN   \n",
              "2       9/8/2003       bien  Licence-IT        €2039,02         4.0     NaN   \n",
              "3       3/7/1991       bien      ING-IT        €3676,58         8.0     NaN   \n",
              "4      27/3/1991  trés bien  Licence-IT        €3660,16         9.0   sport   \n",
              "\n",
              "   date_debut date_sortie  \n",
              "0    8/2/2018   8/22/2022  \n",
              "1   8/20/2017   12/5/2023  \n",
              "2   2/16/2017   6/15/2021  \n",
              "3  12/18/2015   5/15/2021  \n",
              "4    9/3/2016   5/12/2022  "
            ]
          },
          "execution_count": 26,
          "metadata": {},
          "output_type": "execute_result"
        }
      ],
      "source": [
        "data.head()"
      ]
    },
    {
      "cell_type": "markdown",
      "metadata": {
        "id": "hjs3WVXfCcrF"
      },
      "source": [
        "## slice by rows\n"
      ]
    },
    {
      "cell_type": "code",
      "execution_count": 56,
      "metadata": {},
      "outputs": [
        {
          "data": {
            "text/plain": [
              "0      False\n",
              "1       True\n",
              "2      False\n",
              "3      False\n",
              "4      False\n",
              "       ...  \n",
              "995    False\n",
              "996    False\n",
              "997    False\n",
              "998    False\n",
              "999    False\n",
              "Name: id_etudiant, Length: 1000, dtype: bool"
            ]
          },
          "execution_count": 56,
          "metadata": {},
          "output_type": "execute_result"
        }
      ],
      "source": [
        "data[\"id_etudiant\"] == 2"
      ]
    },
    {
      "cell_type": "code",
      "execution_count": 57,
      "metadata": {
        "colab": {
          "base_uri": "https://localhost:8080/",
          "height": 100
        },
        "id": "9bn6PDjnBx7q",
        "outputId": "fc243e7e-de1d-4f4c-fd31-ca184db36c30"
      },
      "outputs": [
        {
          "data": {
            "text/html": [
              "<div>\n",
              "<style scoped>\n",
              "    .dataframe tbody tr th:only-of-type {\n",
              "        vertical-align: middle;\n",
              "    }\n",
              "\n",
              "    .dataframe tbody tr th {\n",
              "        vertical-align: top;\n",
              "    }\n",
              "\n",
              "    .dataframe thead th {\n",
              "        text-align: right;\n",
              "    }\n",
              "</style>\n",
              "<table border=\"1\" class=\"dataframe\">\n",
              "  <thead>\n",
              "    <tr style=\"text-align: right;\">\n",
              "      <th></th>\n",
              "      <th>id_etudiant</th>\n",
              "      <th>prenom_etudiant</th>\n",
              "      <th>nom_etudiant</th>\n",
              "      <th>email</th>\n",
              "      <th>sex</th>\n",
              "      <th>date_naissance</th>\n",
              "      <th>mention</th>\n",
              "      <th>specialite</th>\n",
              "      <th>frais_scolarite</th>\n",
              "      <th>cours_rate</th>\n",
              "      <th>loisirs</th>\n",
              "      <th>date_debut</th>\n",
              "      <th>date_sortie</th>\n",
              "    </tr>\n",
              "  </thead>\n",
              "  <tbody>\n",
              "    <tr>\n",
              "      <th>1</th>\n",
              "      <td>2</td>\n",
              "      <td>Euell</td>\n",
              "      <td>Gabbatt</td>\n",
              "      <td>egabbatt1@netlog.com</td>\n",
              "      <td>M</td>\n",
              "      <td>5/2/1996</td>\n",
              "      <td>bien</td>\n",
              "      <td>Business</td>\n",
              "      <td>€2003,15</td>\n",
              "      <td>7.0</td>\n",
              "      <td>NaN</td>\n",
              "      <td>8/20/2017</td>\n",
              "      <td>12/5/2023</td>\n",
              "    </tr>\n",
              "  </tbody>\n",
              "</table>\n",
              "</div>"
            ],
            "text/plain": [
              "   id_etudiant prenom_etudiant nom_etudiant                 email sex  \\\n",
              "1            2           Euell      Gabbatt  egabbatt1@netlog.com   M   \n",
              "\n",
              "  date_naissance mention specialite frais_scolarite  cours_rate loisirs  \\\n",
              "1       5/2/1996    bien   Business        €2003,15         7.0     NaN   \n",
              "\n",
              "  date_debut date_sortie  \n",
              "1  8/20/2017   12/5/2023  "
            ]
          },
          "execution_count": 57,
          "metadata": {},
          "output_type": "execute_result"
        }
      ],
      "source": [
        "data.loc[data[\"id_etudiant\"] == 2 , :]"
      ]
    },
    {
      "cell_type": "markdown",
      "metadata": {
        "id": "cy5ZXS6IDGYf"
      },
      "source": [
        "## Slice by columns"
      ]
    },
    {
      "cell_type": "code",
      "execution_count": 58,
      "metadata": {
        "colab": {
          "base_uri": "https://localhost:8080/",
          "height": 423
        },
        "id": "DbphD1R3DIi8",
        "outputId": "824c869e-85c3-4682-db10-9e12e15f57d8"
      },
      "outputs": [
        {
          "data": {
            "text/html": [
              "<div>\n",
              "<style scoped>\n",
              "    .dataframe tbody tr th:only-of-type {\n",
              "        vertical-align: middle;\n",
              "    }\n",
              "\n",
              "    .dataframe tbody tr th {\n",
              "        vertical-align: top;\n",
              "    }\n",
              "\n",
              "    .dataframe thead th {\n",
              "        text-align: right;\n",
              "    }\n",
              "</style>\n",
              "<table border=\"1\" class=\"dataframe\">\n",
              "  <thead>\n",
              "    <tr style=\"text-align: right;\">\n",
              "      <th></th>\n",
              "      <th>id_etudiant</th>\n",
              "      <th>prenom_etudiant</th>\n",
              "    </tr>\n",
              "  </thead>\n",
              "  <tbody>\n",
              "    <tr>\n",
              "      <th>0</th>\n",
              "      <td>1</td>\n",
              "      <td>Tam</td>\n",
              "    </tr>\n",
              "    <tr>\n",
              "      <th>1</th>\n",
              "      <td>2</td>\n",
              "      <td>Euell</td>\n",
              "    </tr>\n",
              "    <tr>\n",
              "      <th>2</th>\n",
              "      <td>3</td>\n",
              "      <td>Adan</td>\n",
              "    </tr>\n",
              "    <tr>\n",
              "      <th>3</th>\n",
              "      <td>4</td>\n",
              "      <td>Lela</td>\n",
              "    </tr>\n",
              "    <tr>\n",
              "      <th>4</th>\n",
              "      <td>5</td>\n",
              "      <td>Banky</td>\n",
              "    </tr>\n",
              "    <tr>\n",
              "      <th>...</th>\n",
              "      <td>...</td>\n",
              "      <td>...</td>\n",
              "    </tr>\n",
              "    <tr>\n",
              "      <th>995</th>\n",
              "      <td>996</td>\n",
              "      <td>Tabbie</td>\n",
              "    </tr>\n",
              "    <tr>\n",
              "      <th>996</th>\n",
              "      <td>997</td>\n",
              "      <td>Simone</td>\n",
              "    </tr>\n",
              "    <tr>\n",
              "      <th>997</th>\n",
              "      <td>998</td>\n",
              "      <td>Joseito</td>\n",
              "    </tr>\n",
              "    <tr>\n",
              "      <th>998</th>\n",
              "      <td>999</td>\n",
              "      <td>Lucius</td>\n",
              "    </tr>\n",
              "    <tr>\n",
              "      <th>999</th>\n",
              "      <td>1000</td>\n",
              "      <td>Robers</td>\n",
              "    </tr>\n",
              "  </tbody>\n",
              "</table>\n",
              "<p>1000 rows × 2 columns</p>\n",
              "</div>"
            ],
            "text/plain": [
              "     id_etudiant prenom_etudiant\n",
              "0              1             Tam\n",
              "1              2           Euell\n",
              "2              3            Adan\n",
              "3              4            Lela\n",
              "4              5           Banky\n",
              "..           ...             ...\n",
              "995          996          Tabbie\n",
              "996          997          Simone\n",
              "997          998         Joseito\n",
              "998          999          Lucius\n",
              "999         1000          Robers\n",
              "\n",
              "[1000 rows x 2 columns]"
            ]
          },
          "execution_count": 58,
          "metadata": {},
          "output_type": "execute_result"
        }
      ],
      "source": [
        "data.loc[:, [\"id_etudiant\",\"prenom_etudiant\"]]"
      ]
    },
    {
      "cell_type": "markdown",
      "metadata": {
        "id": "pCrG-WZkClZb"
      },
      "source": [
        "## slice by rows and columns"
      ]
    },
    {
      "cell_type": "code",
      "execution_count": 59,
      "metadata": {},
      "outputs": [
        {
          "data": {
            "text/plain": [
              "Index(['id_etudiant', 'prenom_etudiant', 'nom_etudiant', 'email', 'sex',\n",
              "       'date_naissance', 'mention', 'specialite', 'frais_scolarite',\n",
              "       'cours_rate', 'loisirs', 'date_debut', 'date_sortie'],\n",
              "      dtype='object')"
            ]
          },
          "execution_count": 59,
          "metadata": {},
          "output_type": "execute_result"
        }
      ],
      "source": [
        "data.columns"
      ]
    },
    {
      "cell_type": "code",
      "execution_count": 60,
      "metadata": {
        "colab": {
          "base_uri": "https://localhost:8080/"
        },
        "id": "RX1nPVS0CKgn",
        "outputId": "2a26038d-fae0-4f8b-8e40-0632a4a87805"
      },
      "outputs": [
        {
          "data": {
            "text/plain": [
              "Index(['id_etudiant', 'prenom_etudiant', 'nom_etudiant', 'email'], dtype='object')"
            ]
          },
          "execution_count": 60,
          "metadata": {},
          "output_type": "execute_result"
        }
      ],
      "source": [
        "selected_columns = data.columns[0:4]\n",
        "selected_columns"
      ]
    },
    {
      "cell_type": "code",
      "execution_count": 34,
      "metadata": {
        "colab": {
          "base_uri": "https://localhost:8080/",
          "height": 80
        },
        "id": "Yow_1JV2B96R",
        "outputId": "9c1e7f6b-fc6d-43b6-d284-72166b16b902"
      },
      "outputs": [
        {
          "data": {
            "text/html": [
              "<div>\n",
              "<style scoped>\n",
              "    .dataframe tbody tr th:only-of-type {\n",
              "        vertical-align: middle;\n",
              "    }\n",
              "\n",
              "    .dataframe tbody tr th {\n",
              "        vertical-align: top;\n",
              "    }\n",
              "\n",
              "    .dataframe thead th {\n",
              "        text-align: right;\n",
              "    }\n",
              "</style>\n",
              "<table border=\"1\" class=\"dataframe\">\n",
              "  <thead>\n",
              "    <tr style=\"text-align: right;\">\n",
              "      <th></th>\n",
              "      <th>id_etudiant</th>\n",
              "      <th>prenom_etudiant</th>\n",
              "      <th>nom_etudiant</th>\n",
              "      <th>email</th>\n",
              "    </tr>\n",
              "  </thead>\n",
              "  <tbody>\n",
              "    <tr>\n",
              "      <th>1</th>\n",
              "      <td>2</td>\n",
              "      <td>Euell</td>\n",
              "      <td>Gabbatt</td>\n",
              "      <td>egabbatt1@netlog.com</td>\n",
              "    </tr>\n",
              "  </tbody>\n",
              "</table>\n",
              "</div>"
            ],
            "text/plain": [
              "   id_etudiant prenom_etudiant nom_etudiant                 email\n",
              "1            2           Euell      Gabbatt  egabbatt1@netlog.com"
            ]
          },
          "execution_count": 34,
          "metadata": {},
          "output_type": "execute_result"
        }
      ],
      "source": [
        "data.loc[(data[\"id_etudiant\"]==2), selected_columns]"
      ]
    },
    {
      "cell_type": "markdown",
      "metadata": {
        "id": "rEWzMr-5CpmW"
      },
      "source": [
        "## Slice by iloc"
      ]
    },
    {
      "cell_type": "code",
      "execution_count": 35,
      "metadata": {},
      "outputs": [
        {
          "data": {
            "text/html": [
              "<div>\n",
              "<style scoped>\n",
              "    .dataframe tbody tr th:only-of-type {\n",
              "        vertical-align: middle;\n",
              "    }\n",
              "\n",
              "    .dataframe tbody tr th {\n",
              "        vertical-align: top;\n",
              "    }\n",
              "\n",
              "    .dataframe thead th {\n",
              "        text-align: right;\n",
              "    }\n",
              "</style>\n",
              "<table border=\"1\" class=\"dataframe\">\n",
              "  <thead>\n",
              "    <tr style=\"text-align: right;\">\n",
              "      <th></th>\n",
              "      <th>id_etudiant</th>\n",
              "      <th>prenom_etudiant</th>\n",
              "      <th>nom_etudiant</th>\n",
              "      <th>email</th>\n",
              "      <th>sex</th>\n",
              "      <th>date_naissance</th>\n",
              "      <th>mention</th>\n",
              "      <th>specialite</th>\n",
              "      <th>frais_scolarite</th>\n",
              "      <th>cours_rate</th>\n",
              "      <th>loisirs</th>\n",
              "      <th>date_debut</th>\n",
              "      <th>date_sortie</th>\n",
              "    </tr>\n",
              "  </thead>\n",
              "  <tbody>\n",
              "    <tr>\n",
              "      <th>0</th>\n",
              "      <td>1</td>\n",
              "      <td>Tam</td>\n",
              "      <td>Sandwick</td>\n",
              "      <td>tsandwick0@princeton.edu</td>\n",
              "      <td>M</td>\n",
              "      <td>17/7/1993</td>\n",
              "      <td>passable</td>\n",
              "      <td>Licence-IT</td>\n",
              "      <td>€2773,84</td>\n",
              "      <td>2.0</td>\n",
              "      <td>sport</td>\n",
              "      <td>8/2/2018</td>\n",
              "      <td>8/22/2022</td>\n",
              "    </tr>\n",
              "  </tbody>\n",
              "</table>\n",
              "</div>"
            ],
            "text/plain": [
              "   id_etudiant prenom_etudiant nom_etudiant                     email sex  \\\n",
              "0            1             Tam     Sandwick  tsandwick0@princeton.edu   M   \n",
              "\n",
              "  date_naissance   mention  specialite frais_scolarite  cours_rate loisirs  \\\n",
              "0      17/7/1993  passable  Licence-IT        €2773,84         2.0   sport   \n",
              "\n",
              "  date_debut date_sortie  \n",
              "0   8/2/2018   8/22/2022  "
            ]
          },
          "execution_count": 35,
          "metadata": {},
          "output_type": "execute_result"
        }
      ],
      "source": [
        "data.head(1)"
      ]
    },
    {
      "cell_type": "code",
      "execution_count": 61,
      "metadata": {
        "colab": {
          "base_uri": "https://localhost:8080/",
          "height": 143
        },
        "id": "RHTdHvzACVC1",
        "outputId": "1e92cd37-38e7-4af8-f83c-5ce3c4cb9dd0"
      },
      "outputs": [
        {
          "data": {
            "text/html": [
              "<div>\n",
              "<style scoped>\n",
              "    .dataframe tbody tr th:only-of-type {\n",
              "        vertical-align: middle;\n",
              "    }\n",
              "\n",
              "    .dataframe tbody tr th {\n",
              "        vertical-align: top;\n",
              "    }\n",
              "\n",
              "    .dataframe thead th {\n",
              "        text-align: right;\n",
              "    }\n",
              "</style>\n",
              "<table border=\"1\" class=\"dataframe\">\n",
              "  <thead>\n",
              "    <tr style=\"text-align: right;\">\n",
              "      <th></th>\n",
              "      <th>prenom_etudiant</th>\n",
              "      <th>nom_etudiant</th>\n",
              "    </tr>\n",
              "  </thead>\n",
              "  <tbody>\n",
              "    <tr>\n",
              "      <th>900</th>\n",
              "      <td>Dulcia</td>\n",
              "      <td>Gumery</td>\n",
              "    </tr>\n",
              "    <tr>\n",
              "      <th>1</th>\n",
              "      <td>Euell</td>\n",
              "      <td>Gabbatt</td>\n",
              "    </tr>\n",
              "    <tr>\n",
              "      <th>2</th>\n",
              "      <td>Adan</td>\n",
              "      <td>Antonchik</td>\n",
              "    </tr>\n",
              "  </tbody>\n",
              "</table>\n",
              "</div>"
            ],
            "text/plain": [
              "    prenom_etudiant nom_etudiant\n",
              "900          Dulcia       Gumery\n",
              "1             Euell      Gabbatt\n",
              "2              Adan    Antonchik"
            ]
          },
          "execution_count": 61,
          "metadata": {},
          "output_type": "execute_result"
        }
      ],
      "source": [
        "data.iloc[[900,1,2],[1,2]]"
      ]
    },
    {
      "cell_type": "code",
      "execution_count": 37,
      "metadata": {},
      "outputs": [
        {
          "data": {
            "text/html": [
              "<div>\n",
              "<style scoped>\n",
              "    .dataframe tbody tr th:only-of-type {\n",
              "        vertical-align: middle;\n",
              "    }\n",
              "\n",
              "    .dataframe tbody tr th {\n",
              "        vertical-align: top;\n",
              "    }\n",
              "\n",
              "    .dataframe thead th {\n",
              "        text-align: right;\n",
              "    }\n",
              "</style>\n",
              "<table border=\"1\" class=\"dataframe\">\n",
              "  <thead>\n",
              "    <tr style=\"text-align: right;\">\n",
              "      <th></th>\n",
              "      <th>id_etudiant</th>\n",
              "      <th>prenom_etudiant</th>\n",
              "      <th>nom_etudiant</th>\n",
              "      <th>email</th>\n",
              "      <th>sex</th>\n",
              "      <th>date_naissance</th>\n",
              "      <th>mention</th>\n",
              "      <th>specialite</th>\n",
              "      <th>frais_scolarite</th>\n",
              "      <th>cours_rate</th>\n",
              "      <th>loisirs</th>\n",
              "      <th>date_debut</th>\n",
              "      <th>date_sortie</th>\n",
              "    </tr>\n",
              "  </thead>\n",
              "  <tbody>\n",
              "    <tr>\n",
              "      <th>0</th>\n",
              "      <td>1</td>\n",
              "      <td>Tam</td>\n",
              "      <td>Sandwick</td>\n",
              "      <td>tsandwick0@princeton.edu</td>\n",
              "      <td>M</td>\n",
              "      <td>17/7/1993</td>\n",
              "      <td>passable</td>\n",
              "      <td>Licence-IT</td>\n",
              "      <td>€2773,84</td>\n",
              "      <td>2.0</td>\n",
              "      <td>sport</td>\n",
              "      <td>8/2/2018</td>\n",
              "      <td>8/22/2022</td>\n",
              "    </tr>\n",
              "  </tbody>\n",
              "</table>\n",
              "</div>"
            ],
            "text/plain": [
              "   id_etudiant prenom_etudiant nom_etudiant                     email sex  \\\n",
              "0            1             Tam     Sandwick  tsandwick0@princeton.edu   M   \n",
              "\n",
              "  date_naissance   mention  specialite frais_scolarite  cours_rate loisirs  \\\n",
              "0      17/7/1993  passable  Licence-IT        €2773,84         2.0   sport   \n",
              "\n",
              "  date_debut date_sortie  \n",
              "0   8/2/2018   8/22/2022  "
            ]
          },
          "execution_count": 37,
          "metadata": {},
          "output_type": "execute_result"
        }
      ],
      "source": [
        "data.head(1)"
      ]
    },
    {
      "cell_type": "code",
      "execution_count": 38,
      "metadata": {
        "colab": {
          "base_uri": "https://localhost:8080/",
          "height": 143
        },
        "id": "hfJf_isDDvIg",
        "outputId": "3975bac3-7234-45ae-ec45-cce5009e606f"
      },
      "outputs": [
        {
          "data": {
            "text/html": [
              "<div>\n",
              "<style scoped>\n",
              "    .dataframe tbody tr th:only-of-type {\n",
              "        vertical-align: middle;\n",
              "    }\n",
              "\n",
              "    .dataframe tbody tr th {\n",
              "        vertical-align: top;\n",
              "    }\n",
              "\n",
              "    .dataframe thead th {\n",
              "        text-align: right;\n",
              "    }\n",
              "</style>\n",
              "<table border=\"1\" class=\"dataframe\">\n",
              "  <thead>\n",
              "    <tr style=\"text-align: right;\">\n",
              "      <th></th>\n",
              "      <th>prenom_etudiant</th>\n",
              "      <th>nom_etudiant</th>\n",
              "    </tr>\n",
              "  </thead>\n",
              "  <tbody>\n",
              "    <tr>\n",
              "      <th>0</th>\n",
              "      <td>Tam</td>\n",
              "      <td>Sandwick</td>\n",
              "    </tr>\n",
              "    <tr>\n",
              "      <th>1</th>\n",
              "      <td>Euell</td>\n",
              "      <td>Gabbatt</td>\n",
              "    </tr>\n",
              "    <tr>\n",
              "      <th>2</th>\n",
              "      <td>Adan</td>\n",
              "      <td>Antonchik</td>\n",
              "    </tr>\n",
              "  </tbody>\n",
              "</table>\n",
              "</div>"
            ],
            "text/plain": [
              "  prenom_etudiant nom_etudiant\n",
              "0             Tam     Sandwick\n",
              "1           Euell      Gabbatt\n",
              "2            Adan    Antonchik"
            ]
          },
          "execution_count": 38,
          "metadata": {},
          "output_type": "execute_result"
        }
      ],
      "source": [
        "data.iloc[0:3,1:3]"
      ]
    },
    {
      "cell_type": "code",
      "execution_count": 41,
      "metadata": {},
      "outputs": [
        {
          "data": {
            "text/html": [
              "<div>\n",
              "<style scoped>\n",
              "    .dataframe tbody tr th:only-of-type {\n",
              "        vertical-align: middle;\n",
              "    }\n",
              "\n",
              "    .dataframe tbody tr th {\n",
              "        vertical-align: top;\n",
              "    }\n",
              "\n",
              "    .dataframe thead th {\n",
              "        text-align: right;\n",
              "    }\n",
              "</style>\n",
              "<table border=\"1\" class=\"dataframe\">\n",
              "  <thead>\n",
              "    <tr style=\"text-align: right;\">\n",
              "      <th></th>\n",
              "      <th>id_etudiant</th>\n",
              "      <th>prenom_etudiant</th>\n",
              "      <th>nom_etudiant</th>\n",
              "      <th>email</th>\n",
              "      <th>sex</th>\n",
              "      <th>date_naissance</th>\n",
              "      <th>mention</th>\n",
              "      <th>specialite</th>\n",
              "      <th>frais_scolarite</th>\n",
              "      <th>cours_rate</th>\n",
              "      <th>loisirs</th>\n",
              "      <th>date_debut</th>\n",
              "      <th>date_sortie</th>\n",
              "    </tr>\n",
              "  </thead>\n",
              "  <tbody>\n",
              "    <tr>\n",
              "      <th>0</th>\n",
              "      <td>1</td>\n",
              "      <td>Tam</td>\n",
              "      <td>Sandwick</td>\n",
              "      <td>tsandwick0@princeton.edu</td>\n",
              "      <td>M</td>\n",
              "      <td>17/7/1993</td>\n",
              "      <td>passable</td>\n",
              "      <td>Licence-IT</td>\n",
              "      <td>€2773,84</td>\n",
              "      <td>2.0</td>\n",
              "      <td>sport</td>\n",
              "      <td>8/2/2018</td>\n",
              "      <td>8/22/2022</td>\n",
              "    </tr>\n",
              "  </tbody>\n",
              "</table>\n",
              "</div>"
            ],
            "text/plain": [
              "   id_etudiant prenom_etudiant nom_etudiant                     email sex  \\\n",
              "0            1             Tam     Sandwick  tsandwick0@princeton.edu   M   \n",
              "\n",
              "  date_naissance   mention  specialite frais_scolarite  cours_rate loisirs  \\\n",
              "0      17/7/1993  passable  Licence-IT        €2773,84         2.0   sport   \n",
              "\n",
              "  date_debut date_sortie  \n",
              "0   8/2/2018   8/22/2022  "
            ]
          },
          "execution_count": 41,
          "metadata": {},
          "output_type": "execute_result"
        }
      ],
      "source": [
        "data.head(1)"
      ]
    },
    {
      "cell_type": "markdown",
      "metadata": {
        "id": "0ksZmG19GSWh"
      },
      "source": [
        "## Select les etudiants qui ont un sex M"
      ]
    },
    {
      "cell_type": "code",
      "execution_count": null,
      "metadata": {
        "colab": {
          "base_uri": "https://localhost:8080/",
          "height": 443
        },
        "id": "JVxN0JcNGWgP",
        "outputId": "de6a78e5-56e7-4a2e-895d-7a5be4af803a"
      },
      "outputs": [],
      "source": [
        "data[data.sex == \"M\"]"
      ]
    },
    {
      "cell_type": "code",
      "execution_count": null,
      "metadata": {},
      "outputs": [],
      "source": [
        "data[data[\"sex\"]==\"M\"]"
      ]
    },
    {
      "cell_type": "code",
      "execution_count": 43,
      "metadata": {},
      "outputs": [
        {
          "data": {
            "text/html": [
              "<div>\n",
              "<style scoped>\n",
              "    .dataframe tbody tr th:only-of-type {\n",
              "        vertical-align: middle;\n",
              "    }\n",
              "\n",
              "    .dataframe tbody tr th {\n",
              "        vertical-align: top;\n",
              "    }\n",
              "\n",
              "    .dataframe thead th {\n",
              "        text-align: right;\n",
              "    }\n",
              "</style>\n",
              "<table border=\"1\" class=\"dataframe\">\n",
              "  <thead>\n",
              "    <tr style=\"text-align: right;\">\n",
              "      <th></th>\n",
              "      <th>id_etudiant</th>\n",
              "      <th>prenom_etudiant</th>\n",
              "      <th>nom_etudiant</th>\n",
              "      <th>email</th>\n",
              "      <th>sex</th>\n",
              "      <th>date_naissance</th>\n",
              "      <th>mention</th>\n",
              "      <th>specialite</th>\n",
              "      <th>frais_scolarite</th>\n",
              "      <th>cours_rate</th>\n",
              "      <th>loisirs</th>\n",
              "      <th>date_debut</th>\n",
              "      <th>date_sortie</th>\n",
              "    </tr>\n",
              "  </thead>\n",
              "  <tbody>\n",
              "    <tr>\n",
              "      <th>0</th>\n",
              "      <td>1</td>\n",
              "      <td>Tam</td>\n",
              "      <td>Sandwick</td>\n",
              "      <td>tsandwick0@princeton.edu</td>\n",
              "      <td>M</td>\n",
              "      <td>17/7/1993</td>\n",
              "      <td>passable</td>\n",
              "      <td>Licence-IT</td>\n",
              "      <td>€2773,84</td>\n",
              "      <td>2.0</td>\n",
              "      <td>sport</td>\n",
              "      <td>8/2/2018</td>\n",
              "      <td>8/22/2022</td>\n",
              "    </tr>\n",
              "  </tbody>\n",
              "</table>\n",
              "</div>"
            ],
            "text/plain": [
              "   id_etudiant prenom_etudiant nom_etudiant                     email sex  \\\n",
              "0            1             Tam     Sandwick  tsandwick0@princeton.edu   M   \n",
              "\n",
              "  date_naissance   mention  specialite frais_scolarite  cours_rate loisirs  \\\n",
              "0      17/7/1993  passable  Licence-IT        €2773,84         2.0   sport   \n",
              "\n",
              "  date_debut date_sortie  \n",
              "0   8/2/2018   8/22/2022  "
            ]
          },
          "execution_count": 43,
          "metadata": {},
          "output_type": "execute_result"
        }
      ],
      "source": [
        "data.head(1)"
      ]
    },
    {
      "cell_type": "markdown",
      "metadata": {
        "id": "XVLgRkiAFY4P"
      },
      "source": [
        "## Select les etudiants qui ont un sex M et qui ont eu mention bien"
      ]
    },
    {
      "cell_type": "code",
      "execution_count": 62,
      "metadata": {},
      "outputs": [
        {
          "data": {
            "text/html": [
              "<div>\n",
              "<style scoped>\n",
              "    .dataframe tbody tr th:only-of-type {\n",
              "        vertical-align: middle;\n",
              "    }\n",
              "\n",
              "    .dataframe tbody tr th {\n",
              "        vertical-align: top;\n",
              "    }\n",
              "\n",
              "    .dataframe thead th {\n",
              "        text-align: right;\n",
              "    }\n",
              "</style>\n",
              "<table border=\"1\" class=\"dataframe\">\n",
              "  <thead>\n",
              "    <tr style=\"text-align: right;\">\n",
              "      <th></th>\n",
              "      <th>id_etudiant</th>\n",
              "      <th>prenom_etudiant</th>\n",
              "      <th>nom_etudiant</th>\n",
              "      <th>email</th>\n",
              "      <th>sex</th>\n",
              "      <th>date_naissance</th>\n",
              "      <th>mention</th>\n",
              "      <th>specialite</th>\n",
              "      <th>frais_scolarite</th>\n",
              "      <th>cours_rate</th>\n",
              "      <th>loisirs</th>\n",
              "      <th>date_debut</th>\n",
              "      <th>date_sortie</th>\n",
              "    </tr>\n",
              "  </thead>\n",
              "  <tbody>\n",
              "    <tr>\n",
              "      <th>1</th>\n",
              "      <td>2</td>\n",
              "      <td>Euell</td>\n",
              "      <td>Gabbatt</td>\n",
              "      <td>egabbatt1@netlog.com</td>\n",
              "      <td>M</td>\n",
              "      <td>5/2/1996</td>\n",
              "      <td>bien</td>\n",
              "      <td>Business</td>\n",
              "      <td>€2003,15</td>\n",
              "      <td>7.0</td>\n",
              "      <td>NaN</td>\n",
              "      <td>8/20/2017</td>\n",
              "      <td>12/5/2023</td>\n",
              "    </tr>\n",
              "    <tr>\n",
              "      <th>2</th>\n",
              "      <td>3</td>\n",
              "      <td>Adan</td>\n",
              "      <td>Antonchik</td>\n",
              "      <td>aantonchik2@toplist.cz</td>\n",
              "      <td>M</td>\n",
              "      <td>9/8/2003</td>\n",
              "      <td>bien</td>\n",
              "      <td>Licence-IT</td>\n",
              "      <td>€2039,02</td>\n",
              "      <td>4.0</td>\n",
              "      <td>NaN</td>\n",
              "      <td>2/16/2017</td>\n",
              "      <td>6/15/2021</td>\n",
              "    </tr>\n",
              "    <tr>\n",
              "      <th>7</th>\n",
              "      <td>8</td>\n",
              "      <td>Desmond</td>\n",
              "      <td>Heavyside</td>\n",
              "      <td>dheavyside7@china.com.cn</td>\n",
              "      <td>M</td>\n",
              "      <td>24/9/1996</td>\n",
              "      <td>bien</td>\n",
              "      <td>ING-IT</td>\n",
              "      <td>€3417,44</td>\n",
              "      <td>0.0</td>\n",
              "      <td>NaN</td>\n",
              "      <td>1/24/2018</td>\n",
              "      <td>4/10/2020</td>\n",
              "    </tr>\n",
              "    <tr>\n",
              "      <th>10</th>\n",
              "      <td>11</td>\n",
              "      <td>Bentlee</td>\n",
              "      <td>McNickle</td>\n",
              "      <td>bmcnicklea@wp.com</td>\n",
              "      <td>M</td>\n",
              "      <td>16/5/1990</td>\n",
              "      <td>bien</td>\n",
              "      <td>Business</td>\n",
              "      <td>€3000,31</td>\n",
              "      <td>7.0</td>\n",
              "      <td>NaN</td>\n",
              "      <td>10/14/2017</td>\n",
              "      <td>4/20/2024</td>\n",
              "    </tr>\n",
              "    <tr>\n",
              "      <th>12</th>\n",
              "      <td>13</td>\n",
              "      <td>Archy</td>\n",
              "      <td>Goulborn</td>\n",
              "      <td>agoulbornc@a8.net</td>\n",
              "      <td>M</td>\n",
              "      <td>19/12/1998</td>\n",
              "      <td>bien</td>\n",
              "      <td>Licence-IT</td>\n",
              "      <td>€2589,71</td>\n",
              "      <td>0.0</td>\n",
              "      <td>NaN</td>\n",
              "      <td>10/31/2016</td>\n",
              "      <td>12/24/2023</td>\n",
              "    </tr>\n",
              "    <tr>\n",
              "      <th>...</th>\n",
              "      <td>...</td>\n",
              "      <td>...</td>\n",
              "      <td>...</td>\n",
              "      <td>...</td>\n",
              "      <td>...</td>\n",
              "      <td>...</td>\n",
              "      <td>...</td>\n",
              "      <td>...</td>\n",
              "      <td>...</td>\n",
              "      <td>...</td>\n",
              "      <td>...</td>\n",
              "      <td>...</td>\n",
              "      <td>...</td>\n",
              "    </tr>\n",
              "    <tr>\n",
              "      <th>978</th>\n",
              "      <td>979</td>\n",
              "      <td>Jared</td>\n",
              "      <td>Inold</td>\n",
              "      <td>jinoldr6@com.com</td>\n",
              "      <td>M</td>\n",
              "      <td>23/5/1997</td>\n",
              "      <td>bien</td>\n",
              "      <td>Prepa</td>\n",
              "      <td>€3975,65</td>\n",
              "      <td>5.0</td>\n",
              "      <td>NaN</td>\n",
              "      <td>7/1/2016</td>\n",
              "      <td>6/24/2024</td>\n",
              "    </tr>\n",
              "    <tr>\n",
              "      <th>981</th>\n",
              "      <td>982</td>\n",
              "      <td>Emanuele</td>\n",
              "      <td>Phillips</td>\n",
              "      <td>ephillipsr9@mozilla.org</td>\n",
              "      <td>M</td>\n",
              "      <td>7/9/1992</td>\n",
              "      <td>bien</td>\n",
              "      <td>Prepa</td>\n",
              "      <td>€2806,39</td>\n",
              "      <td>8.0</td>\n",
              "      <td>NaN</td>\n",
              "      <td>4/8/2018</td>\n",
              "      <td>4/11/2024</td>\n",
              "    </tr>\n",
              "    <tr>\n",
              "      <th>989</th>\n",
              "      <td>990</td>\n",
              "      <td>Salomo</td>\n",
              "      <td>Doorey</td>\n",
              "      <td>sdooreyrh@eventbrite.com</td>\n",
              "      <td>M</td>\n",
              "      <td>22/2/1995</td>\n",
              "      <td>bien</td>\n",
              "      <td>Licence-IT</td>\n",
              "      <td>€3890,53</td>\n",
              "      <td>5.0</td>\n",
              "      <td>NaN</td>\n",
              "      <td>11/6/2017</td>\n",
              "      <td>7/5/2021</td>\n",
              "    </tr>\n",
              "    <tr>\n",
              "      <th>994</th>\n",
              "      <td>995</td>\n",
              "      <td>Binky</td>\n",
              "      <td>Luna</td>\n",
              "      <td>blunarm@ehow.com</td>\n",
              "      <td>M</td>\n",
              "      <td>10/1/2002</td>\n",
              "      <td>bien</td>\n",
              "      <td>Licence-IT</td>\n",
              "      <td>€2819,91</td>\n",
              "      <td>2.0</td>\n",
              "      <td>NaN</td>\n",
              "      <td>5/18/2017</td>\n",
              "      <td>7/16/2023</td>\n",
              "    </tr>\n",
              "    <tr>\n",
              "      <th>997</th>\n",
              "      <td>998</td>\n",
              "      <td>Joseito</td>\n",
              "      <td>Gavagan</td>\n",
              "      <td>jgavaganrp@scientificamerican.com</td>\n",
              "      <td>M</td>\n",
              "      <td>8/12/1994</td>\n",
              "      <td>bien</td>\n",
              "      <td>Business</td>\n",
              "      <td>€3438,87</td>\n",
              "      <td>7.0</td>\n",
              "      <td>bricolage</td>\n",
              "      <td>3/4/2016</td>\n",
              "      <td>7/31/2024</td>\n",
              "    </tr>\n",
              "  </tbody>\n",
              "</table>\n",
              "<p>143 rows × 13 columns</p>\n",
              "</div>"
            ],
            "text/plain": [
              "     id_etudiant prenom_etudiant nom_etudiant  \\\n",
              "1              2           Euell      Gabbatt   \n",
              "2              3            Adan    Antonchik   \n",
              "7              8         Desmond    Heavyside   \n",
              "10            11         Bentlee     McNickle   \n",
              "12            13           Archy     Goulborn   \n",
              "..           ...             ...          ...   \n",
              "978          979           Jared        Inold   \n",
              "981          982        Emanuele     Phillips   \n",
              "989          990          Salomo       Doorey   \n",
              "994          995           Binky         Luna   \n",
              "997          998         Joseito      Gavagan   \n",
              "\n",
              "                                 email sex date_naissance mention  specialite  \\\n",
              "1                 egabbatt1@netlog.com   M       5/2/1996    bien    Business   \n",
              "2               aantonchik2@toplist.cz   M       9/8/2003    bien  Licence-IT   \n",
              "7             dheavyside7@china.com.cn   M      24/9/1996    bien      ING-IT   \n",
              "10                   bmcnicklea@wp.com   M      16/5/1990    bien    Business   \n",
              "12                   agoulbornc@a8.net   M     19/12/1998    bien  Licence-IT   \n",
              "..                                 ...  ..            ...     ...         ...   \n",
              "978                   jinoldr6@com.com   M      23/5/1997    bien       Prepa   \n",
              "981            ephillipsr9@mozilla.org   M       7/9/1992    bien       Prepa   \n",
              "989           sdooreyrh@eventbrite.com   M      22/2/1995    bien  Licence-IT   \n",
              "994                   blunarm@ehow.com   M      10/1/2002    bien  Licence-IT   \n",
              "997  jgavaganrp@scientificamerican.com   M      8/12/1994    bien    Business   \n",
              "\n",
              "    frais_scolarite  cours_rate    loisirs  date_debut date_sortie  \n",
              "1          €2003,15         7.0        NaN   8/20/2017   12/5/2023  \n",
              "2          €2039,02         4.0        NaN   2/16/2017   6/15/2021  \n",
              "7          €3417,44         0.0        NaN   1/24/2018   4/10/2020  \n",
              "10         €3000,31         7.0        NaN  10/14/2017   4/20/2024  \n",
              "12         €2589,71         0.0        NaN  10/31/2016  12/24/2023  \n",
              "..              ...         ...        ...         ...         ...  \n",
              "978        €3975,65         5.0        NaN    7/1/2016   6/24/2024  \n",
              "981        €2806,39         8.0        NaN    4/8/2018   4/11/2024  \n",
              "989        €3890,53         5.0        NaN   11/6/2017    7/5/2021  \n",
              "994        €2819,91         2.0        NaN   5/18/2017   7/16/2023  \n",
              "997        €3438,87         7.0  bricolage    3/4/2016   7/31/2024  \n",
              "\n",
              "[143 rows x 13 columns]"
            ]
          },
          "execution_count": 62,
          "metadata": {},
          "output_type": "execute_result"
        }
      ],
      "source": [
        "data.loc[(data[\"sex\"]==\"M\") & (data[\"mention\"]==\"bien\"),:]"
      ]
    },
    {
      "cell_type": "code",
      "execution_count": 44,
      "metadata": {
        "colab": {
          "base_uri": "https://localhost:8080/",
          "height": 443
        },
        "id": "wSL9AEsFF4bM",
        "outputId": "193b9099-19cc-4820-b30b-61b7c601289e"
      },
      "outputs": [
        {
          "data": {
            "text/html": [
              "<div>\n",
              "<style scoped>\n",
              "    .dataframe tbody tr th:only-of-type {\n",
              "        vertical-align: middle;\n",
              "    }\n",
              "\n",
              "    .dataframe tbody tr th {\n",
              "        vertical-align: top;\n",
              "    }\n",
              "\n",
              "    .dataframe thead th {\n",
              "        text-align: right;\n",
              "    }\n",
              "</style>\n",
              "<table border=\"1\" class=\"dataframe\">\n",
              "  <thead>\n",
              "    <tr style=\"text-align: right;\">\n",
              "      <th></th>\n",
              "      <th>id_etudiant</th>\n",
              "      <th>prenom_etudiant</th>\n",
              "      <th>nom_etudiant</th>\n",
              "      <th>email</th>\n",
              "      <th>sex</th>\n",
              "      <th>date_naissance</th>\n",
              "      <th>mention</th>\n",
              "      <th>specialite</th>\n",
              "      <th>frais_scolarite</th>\n",
              "      <th>cours_rate</th>\n",
              "      <th>loisirs</th>\n",
              "      <th>date_debut</th>\n",
              "      <th>date_sortie</th>\n",
              "    </tr>\n",
              "  </thead>\n",
              "  <tbody>\n",
              "    <tr>\n",
              "      <th>1</th>\n",
              "      <td>2</td>\n",
              "      <td>Euell</td>\n",
              "      <td>Gabbatt</td>\n",
              "      <td>egabbatt1@netlog.com</td>\n",
              "      <td>M</td>\n",
              "      <td>5/2/1996</td>\n",
              "      <td>bien</td>\n",
              "      <td>Business</td>\n",
              "      <td>€2003,15</td>\n",
              "      <td>7.0</td>\n",
              "      <td>NaN</td>\n",
              "      <td>8/20/2017</td>\n",
              "      <td>12/5/2023</td>\n",
              "    </tr>\n",
              "    <tr>\n",
              "      <th>2</th>\n",
              "      <td>3</td>\n",
              "      <td>Adan</td>\n",
              "      <td>Antonchik</td>\n",
              "      <td>aantonchik2@toplist.cz</td>\n",
              "      <td>M</td>\n",
              "      <td>9/8/2003</td>\n",
              "      <td>bien</td>\n",
              "      <td>Licence-IT</td>\n",
              "      <td>€2039,02</td>\n",
              "      <td>4.0</td>\n",
              "      <td>NaN</td>\n",
              "      <td>2/16/2017</td>\n",
              "      <td>6/15/2021</td>\n",
              "    </tr>\n",
              "    <tr>\n",
              "      <th>7</th>\n",
              "      <td>8</td>\n",
              "      <td>Desmond</td>\n",
              "      <td>Heavyside</td>\n",
              "      <td>dheavyside7@china.com.cn</td>\n",
              "      <td>M</td>\n",
              "      <td>24/9/1996</td>\n",
              "      <td>bien</td>\n",
              "      <td>ING-IT</td>\n",
              "      <td>€3417,44</td>\n",
              "      <td>0.0</td>\n",
              "      <td>NaN</td>\n",
              "      <td>1/24/2018</td>\n",
              "      <td>4/10/2020</td>\n",
              "    </tr>\n",
              "    <tr>\n",
              "      <th>10</th>\n",
              "      <td>11</td>\n",
              "      <td>Bentlee</td>\n",
              "      <td>McNickle</td>\n",
              "      <td>bmcnicklea@wp.com</td>\n",
              "      <td>M</td>\n",
              "      <td>16/5/1990</td>\n",
              "      <td>bien</td>\n",
              "      <td>Business</td>\n",
              "      <td>€3000,31</td>\n",
              "      <td>7.0</td>\n",
              "      <td>NaN</td>\n",
              "      <td>10/14/2017</td>\n",
              "      <td>4/20/2024</td>\n",
              "    </tr>\n",
              "    <tr>\n",
              "      <th>12</th>\n",
              "      <td>13</td>\n",
              "      <td>Archy</td>\n",
              "      <td>Goulborn</td>\n",
              "      <td>agoulbornc@a8.net</td>\n",
              "      <td>M</td>\n",
              "      <td>19/12/1998</td>\n",
              "      <td>bien</td>\n",
              "      <td>Licence-IT</td>\n",
              "      <td>€2589,71</td>\n",
              "      <td>0.0</td>\n",
              "      <td>NaN</td>\n",
              "      <td>10/31/2016</td>\n",
              "      <td>12/24/2023</td>\n",
              "    </tr>\n",
              "    <tr>\n",
              "      <th>...</th>\n",
              "      <td>...</td>\n",
              "      <td>...</td>\n",
              "      <td>...</td>\n",
              "      <td>...</td>\n",
              "      <td>...</td>\n",
              "      <td>...</td>\n",
              "      <td>...</td>\n",
              "      <td>...</td>\n",
              "      <td>...</td>\n",
              "      <td>...</td>\n",
              "      <td>...</td>\n",
              "      <td>...</td>\n",
              "      <td>...</td>\n",
              "    </tr>\n",
              "    <tr>\n",
              "      <th>978</th>\n",
              "      <td>979</td>\n",
              "      <td>Jared</td>\n",
              "      <td>Inold</td>\n",
              "      <td>jinoldr6@com.com</td>\n",
              "      <td>M</td>\n",
              "      <td>23/5/1997</td>\n",
              "      <td>bien</td>\n",
              "      <td>Prepa</td>\n",
              "      <td>€3975,65</td>\n",
              "      <td>5.0</td>\n",
              "      <td>NaN</td>\n",
              "      <td>7/1/2016</td>\n",
              "      <td>6/24/2024</td>\n",
              "    </tr>\n",
              "    <tr>\n",
              "      <th>981</th>\n",
              "      <td>982</td>\n",
              "      <td>Emanuele</td>\n",
              "      <td>Phillips</td>\n",
              "      <td>ephillipsr9@mozilla.org</td>\n",
              "      <td>M</td>\n",
              "      <td>7/9/1992</td>\n",
              "      <td>bien</td>\n",
              "      <td>Prepa</td>\n",
              "      <td>€2806,39</td>\n",
              "      <td>8.0</td>\n",
              "      <td>NaN</td>\n",
              "      <td>4/8/2018</td>\n",
              "      <td>4/11/2024</td>\n",
              "    </tr>\n",
              "    <tr>\n",
              "      <th>989</th>\n",
              "      <td>990</td>\n",
              "      <td>Salomo</td>\n",
              "      <td>Doorey</td>\n",
              "      <td>sdooreyrh@eventbrite.com</td>\n",
              "      <td>M</td>\n",
              "      <td>22/2/1995</td>\n",
              "      <td>bien</td>\n",
              "      <td>Licence-IT</td>\n",
              "      <td>€3890,53</td>\n",
              "      <td>5.0</td>\n",
              "      <td>NaN</td>\n",
              "      <td>11/6/2017</td>\n",
              "      <td>7/5/2021</td>\n",
              "    </tr>\n",
              "    <tr>\n",
              "      <th>994</th>\n",
              "      <td>995</td>\n",
              "      <td>Binky</td>\n",
              "      <td>Luna</td>\n",
              "      <td>blunarm@ehow.com</td>\n",
              "      <td>M</td>\n",
              "      <td>10/1/2002</td>\n",
              "      <td>bien</td>\n",
              "      <td>Licence-IT</td>\n",
              "      <td>€2819,91</td>\n",
              "      <td>2.0</td>\n",
              "      <td>NaN</td>\n",
              "      <td>5/18/2017</td>\n",
              "      <td>7/16/2023</td>\n",
              "    </tr>\n",
              "    <tr>\n",
              "      <th>997</th>\n",
              "      <td>998</td>\n",
              "      <td>Joseito</td>\n",
              "      <td>Gavagan</td>\n",
              "      <td>jgavaganrp@scientificamerican.com</td>\n",
              "      <td>M</td>\n",
              "      <td>8/12/1994</td>\n",
              "      <td>bien</td>\n",
              "      <td>Business</td>\n",
              "      <td>€3438,87</td>\n",
              "      <td>7.0</td>\n",
              "      <td>bricolage</td>\n",
              "      <td>3/4/2016</td>\n",
              "      <td>7/31/2024</td>\n",
              "    </tr>\n",
              "  </tbody>\n",
              "</table>\n",
              "<p>143 rows × 13 columns</p>\n",
              "</div>"
            ],
            "text/plain": [
              "     id_etudiant prenom_etudiant nom_etudiant  \\\n",
              "1              2           Euell      Gabbatt   \n",
              "2              3            Adan    Antonchik   \n",
              "7              8         Desmond    Heavyside   \n",
              "10            11         Bentlee     McNickle   \n",
              "12            13           Archy     Goulborn   \n",
              "..           ...             ...          ...   \n",
              "978          979           Jared        Inold   \n",
              "981          982        Emanuele     Phillips   \n",
              "989          990          Salomo       Doorey   \n",
              "994          995           Binky         Luna   \n",
              "997          998         Joseito      Gavagan   \n",
              "\n",
              "                                 email sex date_naissance mention  specialite  \\\n",
              "1                 egabbatt1@netlog.com   M       5/2/1996    bien    Business   \n",
              "2               aantonchik2@toplist.cz   M       9/8/2003    bien  Licence-IT   \n",
              "7             dheavyside7@china.com.cn   M      24/9/1996    bien      ING-IT   \n",
              "10                   bmcnicklea@wp.com   M      16/5/1990    bien    Business   \n",
              "12                   agoulbornc@a8.net   M     19/12/1998    bien  Licence-IT   \n",
              "..                                 ...  ..            ...     ...         ...   \n",
              "978                   jinoldr6@com.com   M      23/5/1997    bien       Prepa   \n",
              "981            ephillipsr9@mozilla.org   M       7/9/1992    bien       Prepa   \n",
              "989           sdooreyrh@eventbrite.com   M      22/2/1995    bien  Licence-IT   \n",
              "994                   blunarm@ehow.com   M      10/1/2002    bien  Licence-IT   \n",
              "997  jgavaganrp@scientificamerican.com   M      8/12/1994    bien    Business   \n",
              "\n",
              "    frais_scolarite  cours_rate    loisirs  date_debut date_sortie  \n",
              "1          €2003,15         7.0        NaN   8/20/2017   12/5/2023  \n",
              "2          €2039,02         4.0        NaN   2/16/2017   6/15/2021  \n",
              "7          €3417,44         0.0        NaN   1/24/2018   4/10/2020  \n",
              "10         €3000,31         7.0        NaN  10/14/2017   4/20/2024  \n",
              "12         €2589,71         0.0        NaN  10/31/2016  12/24/2023  \n",
              "..              ...         ...        ...         ...         ...  \n",
              "978        €3975,65         5.0        NaN    7/1/2016   6/24/2024  \n",
              "981        €2806,39         8.0        NaN    4/8/2018   4/11/2024  \n",
              "989        €3890,53         5.0        NaN   11/6/2017    7/5/2021  \n",
              "994        €2819,91         2.0        NaN   5/18/2017   7/16/2023  \n",
              "997        €3438,87         7.0  bricolage    3/4/2016   7/31/2024  \n",
              "\n",
              "[143 rows x 13 columns]"
            ]
          },
          "execution_count": 44,
          "metadata": {},
          "output_type": "execute_result"
        }
      ],
      "source": [
        "data[(data.sex == \"M\") & (data.mention == \"bien\")]"
      ]
    },
    {
      "cell_type": "code",
      "execution_count": 45,
      "metadata": {},
      "outputs": [
        {
          "data": {
            "text/html": [
              "<div>\n",
              "<style scoped>\n",
              "    .dataframe tbody tr th:only-of-type {\n",
              "        vertical-align: middle;\n",
              "    }\n",
              "\n",
              "    .dataframe tbody tr th {\n",
              "        vertical-align: top;\n",
              "    }\n",
              "\n",
              "    .dataframe thead th {\n",
              "        text-align: right;\n",
              "    }\n",
              "</style>\n",
              "<table border=\"1\" class=\"dataframe\">\n",
              "  <thead>\n",
              "    <tr style=\"text-align: right;\">\n",
              "      <th></th>\n",
              "      <th>id_etudiant</th>\n",
              "      <th>prenom_etudiant</th>\n",
              "      <th>nom_etudiant</th>\n",
              "      <th>email</th>\n",
              "      <th>sex</th>\n",
              "      <th>date_naissance</th>\n",
              "      <th>mention</th>\n",
              "      <th>specialite</th>\n",
              "      <th>frais_scolarite</th>\n",
              "      <th>cours_rate</th>\n",
              "      <th>loisirs</th>\n",
              "      <th>date_debut</th>\n",
              "      <th>date_sortie</th>\n",
              "    </tr>\n",
              "  </thead>\n",
              "  <tbody>\n",
              "    <tr>\n",
              "      <th>0</th>\n",
              "      <td>1</td>\n",
              "      <td>Tam</td>\n",
              "      <td>Sandwick</td>\n",
              "      <td>tsandwick0@princeton.edu</td>\n",
              "      <td>M</td>\n",
              "      <td>17/7/1993</td>\n",
              "      <td>passable</td>\n",
              "      <td>Licence-IT</td>\n",
              "      <td>€2773,84</td>\n",
              "      <td>2.0</td>\n",
              "      <td>sport</td>\n",
              "      <td>8/2/2018</td>\n",
              "      <td>8/22/2022</td>\n",
              "    </tr>\n",
              "  </tbody>\n",
              "</table>\n",
              "</div>"
            ],
            "text/plain": [
              "   id_etudiant prenom_etudiant nom_etudiant                     email sex  \\\n",
              "0            1             Tam     Sandwick  tsandwick0@princeton.edu   M   \n",
              "\n",
              "  date_naissance   mention  specialite frais_scolarite  cours_rate loisirs  \\\n",
              "0      17/7/1993  passable  Licence-IT        €2773,84         2.0   sport   \n",
              "\n",
              "  date_debut date_sortie  \n",
              "0   8/2/2018   8/22/2022  "
            ]
          },
          "execution_count": 45,
          "metadata": {},
          "output_type": "execute_result"
        }
      ],
      "source": [
        "data.head(1)"
      ]
    },
    {
      "cell_type": "markdown",
      "metadata": {
        "id": "eiOJlWg1GiDq"
      },
      "source": [
        "## Select les etudiants qui ont une specialité Business ou Licence-IT"
      ]
    },
    {
      "cell_type": "code",
      "execution_count": null,
      "metadata": {
        "colab": {
          "base_uri": "https://localhost:8080/",
          "height": 443
        },
        "id": "yvLvDvpGGs5j",
        "outputId": "8de6a9fd-a402-4596-f427-ef050b835899"
      },
      "outputs": [],
      "source": [
        "data[(data.specialite == \"Business\") | (data.specialite == \"Licence-IT\")]"
      ]
    },
    {
      "cell_type": "markdown",
      "metadata": {
        "id": "vbNp0ZhfG91y"
      },
      "source": [
        "## Select les etudiants qui ont un sex F et qui ont une specialité Business ou Licence-IT"
      ]
    },
    {
      "cell_type": "code",
      "execution_count": null,
      "metadata": {
        "colab": {
          "base_uri": "https://localhost:8080/",
          "height": 443
        },
        "id": "pIq65s9HHJrF",
        "outputId": "4fb764e6-b7b4-4364-fc5a-710cb55ee7d9"
      },
      "outputs": [],
      "source": [
        "data[\n",
        "    (data.sex == \"F\")&\n",
        "     ((data.specialite == \"Business\") | (data.specialite == \"Licence-IT\"))\n",
        "]"
      ]
    }
  ],
  "metadata": {
    "colab": {
      "provenance": []
    },
    "kernelspec": {
      "display_name": "Python 3.10.6 64-bit",
      "language": "python",
      "name": "python3"
    },
    "language_info": {
      "codemirror_mode": {
        "name": "ipython",
        "version": 3
      },
      "file_extension": ".py",
      "mimetype": "text/x-python",
      "name": "python",
      "nbconvert_exporter": "python",
      "pygments_lexer": "ipython3",
      "version": "3.12.1"
    },
    "vscode": {
      "interpreter": {
        "hash": "4208a5c7ea3c1373a4c12881fbe5d65f41f21e84c6a5b692de7dc9469121efba"
      }
    }
  },
  "nbformat": 4,
  "nbformat_minor": 0
}
