{
  "cells": [
    {
      "cell_type": "markdown",
      "metadata": {
        "id": "z3PcNoud5hE_"
      },
      "source": [
        "# Imports"
      ]
    },
    {
      "cell_type": "code",
      "execution_count": 52,
      "metadata": {
        "id": "-vndPn3o5kSv"
      },
      "outputs": [],
      "source": [
        "import pandas as pd\n",
        "import numpy as np\n",
        "import matplotlib.pyplot as plt\n",
        "import seaborn as sns\n",
        "import datetime\n",
        "%matplotlib inline\n"
      ]
    },
    {
      "cell_type": "markdown",
      "metadata": {
        "id": "oYwK7DYT5vrF"
      },
      "source": [
        "# Load data"
      ]
    },
    {
      "cell_type": "code",
      "execution_count": 53,
      "metadata": {
        "id": "y4z9aj5N5s3V"
      },
      "outputs": [],
      "source": [
        "reviews = pd.read_csv('reviews.csv')\n",
        "calendar = pd.read_csv('calendar.csv')\n",
        "listings = pd.read_csv('listings.csv')"
      ]
    },
    {
      "cell_type": "markdown",
      "metadata": {
        "id": "anD-uU6I5_iM"
      },
      "source": [
        "# Data Exploration\n"
      ]
    },
    {
      "cell_type": "code",
      "execution_count": 10,
      "metadata": {
        "colab": {
          "base_uri": "https://localhost:8080/"
        },
        "id": "QnmyviJo6KcS",
        "outputId": "bf74ae7b-af85-48a8-e724-cb9334fbac6f"
      },
      "outputs": [
        {
          "name": "stdout",
          "output_type": "stream",
          "text": [
            "nous avons 374 jours et 3105 maisons uniques.\n"
          ]
        }
      ],
      "source": [
        "# À quel point les maisons Airbnb sont-elles occupées?\n",
        "\n",
        "print('nous avons', calendar.date.nunique(), 'jours et', calendar.listing_id.nunique(), 'maisons uniques.')"
      ]
    },
    {
      "cell_type": "code",
      "execution_count": 11,
      "metadata": {
        "colab": {
          "base_uri": "https://localhost:8080/"
        },
        "id": "VZHyDW3Q-euj",
        "outputId": "c2fe3f53-3344-44d6-eeeb-cdbae3d00865"
      },
      "outputs": [
        {
          "data": {
            "text/plain": [
              "('2020-12-21', '2021-12-29')"
            ]
          },
          "execution_count": 11,
          "metadata": {},
          "output_type": "execute_result"
        }
      ],
      "source": [
        "## Les données du calendrier couvrent une période d'un an\n",
        "calendar.date.min(), calendar.date.max()"
      ]
    },
    {
      "cell_type": "code",
      "execution_count": 12,
      "metadata": {
        "colab": {
          "base_uri": "https://localhost:8080/",
          "height": 226
        },
        "id": "HDR1hB9z_FJI",
        "outputId": "379454dc-f7fc-48c2-aa02-ac04872dbb22"
      },
      "outputs": [
        {
          "data": {
            "text/html": [
              "<div>\n",
              "<style scoped>\n",
              "    .dataframe tbody tr th:only-of-type {\n",
              "        vertical-align: middle;\n",
              "    }\n",
              "\n",
              "    .dataframe tbody tr th {\n",
              "        vertical-align: top;\n",
              "    }\n",
              "\n",
              "    .dataframe thead th {\n",
              "        text-align: right;\n",
              "    }\n",
              "</style>\n",
              "<table border=\"1\" class=\"dataframe\">\n",
              "  <thead>\n",
              "    <tr style=\"text-align: right;\">\n",
              "      <th></th>\n",
              "      <th>listing_id</th>\n",
              "      <th>date</th>\n",
              "      <th>available</th>\n",
              "      <th>price</th>\n",
              "      <th>adjusted_price</th>\n",
              "      <th>minimum_nights</th>\n",
              "      <th>maximum_nights</th>\n",
              "    </tr>\n",
              "  </thead>\n",
              "  <tbody>\n",
              "    <tr>\n",
              "      <th>0</th>\n",
              "      <td>1109224</td>\n",
              "      <td>2020-12-21</td>\n",
              "      <td>f</td>\n",
              "      <td>$439.00</td>\n",
              "      <td>$439.00</td>\n",
              "      <td>2</td>\n",
              "      <td>90</td>\n",
              "    </tr>\n",
              "    <tr>\n",
              "      <th>1</th>\n",
              "      <td>1109224</td>\n",
              "      <td>2020-12-22</td>\n",
              "      <td>t</td>\n",
              "      <td>$439.00</td>\n",
              "      <td>$439.00</td>\n",
              "      <td>2</td>\n",
              "      <td>90</td>\n",
              "    </tr>\n",
              "    <tr>\n",
              "      <th>2</th>\n",
              "      <td>1109224</td>\n",
              "      <td>2020-12-23</td>\n",
              "      <td>t</td>\n",
              "      <td>$439.00</td>\n",
              "      <td>$439.00</td>\n",
              "      <td>2</td>\n",
              "      <td>90</td>\n",
              "    </tr>\n",
              "    <tr>\n",
              "      <th>3</th>\n",
              "      <td>1109224</td>\n",
              "      <td>2020-12-24</td>\n",
              "      <td>t</td>\n",
              "      <td>$439.00</td>\n",
              "      <td>$439.00</td>\n",
              "      <td>2</td>\n",
              "      <td>90</td>\n",
              "    </tr>\n",
              "    <tr>\n",
              "      <th>4</th>\n",
              "      <td>1109224</td>\n",
              "      <td>2020-12-25</td>\n",
              "      <td>t</td>\n",
              "      <td>$469.00</td>\n",
              "      <td>$469.00</td>\n",
              "      <td>2</td>\n",
              "      <td>90</td>\n",
              "    </tr>\n",
              "  </tbody>\n",
              "</table>\n",
              "</div>"
            ],
            "text/plain": [
              "   listing_id        date available    price adjusted_price  minimum_nights  \\\n",
              "0     1109224  2020-12-21         f  $439.00        $439.00               2   \n",
              "1     1109224  2020-12-22         t  $439.00        $439.00               2   \n",
              "2     1109224  2020-12-23         t  $439.00        $439.00               2   \n",
              "3     1109224  2020-12-24         t  $439.00        $439.00               2   \n",
              "4     1109224  2020-12-25         t  $469.00        $469.00               2   \n",
              "\n",
              "   maximum_nights  \n",
              "0              90  \n",
              "1              90  \n",
              "2              90  \n",
              "3              90  \n",
              "4              90  "
            ]
          },
          "execution_count": 12,
          "metadata": {},
          "output_type": "execute_result"
        }
      ],
      "source": [
        "## calendar preview\n",
        "calendar.head()"
      ]
    },
    {
      "cell_type": "code",
      "execution_count": 13,
      "metadata": {
        "colab": {
          "base_uri": "https://localhost:8080/"
        },
        "id": "-TcDUYJ-_DL-",
        "outputId": "6a672b50-59ea-46d4-82e2-4ff425691fb4"
      },
      "outputs": [
        {
          "data": {
            "text/plain": [
              "(1133325, 7)"
            ]
          },
          "execution_count": 13,
          "metadata": {},
          "output_type": "execute_result"
        }
      ],
      "source": [
        "## calendar shape\n",
        "calendar.shape"
      ]
    },
    {
      "cell_type": "code",
      "execution_count": 14,
      "metadata": {
        "colab": {
          "base_uri": "https://localhost:8080/",
          "height": 304
        },
        "id": "hOvvwP1i-1KD",
        "outputId": "57332897-f14e-4c33-a26e-40270bbe0c8d"
      },
      "outputs": [
        {
          "data": {
            "text/plain": [
              "listing_id        0\n",
              "date              0\n",
              "available         0\n",
              "price             0\n",
              "adjusted_price    0\n",
              "minimum_nights    0\n",
              "maximum_nights    0\n",
              "dtype: int64"
            ]
          },
          "execution_count": 14,
          "metadata": {},
          "output_type": "execute_result"
        }
      ],
      "source": [
        "## null values in calendar ??\n",
        "calendar.isnull().sum()"
      ]
    },
    {
      "cell_type": "code",
      "execution_count": 15,
      "metadata": {
        "colab": {
          "base_uri": "https://localhost:8080/",
          "height": 178
        },
        "id": "-PURCarW_G36",
        "outputId": "d0fac73e-06bf-45a2-9e9b-3c95399fe609"
      },
      "outputs": [
        {
          "data": {
            "text/plain": [
              "available\n",
              "t    582910\n",
              "f    550415\n",
              "Name: count, dtype: int64"
            ]
          },
          "execution_count": 15,
          "metadata": {},
          "output_type": "execute_result"
        }
      ],
      "source": [
        "## available column ??\n",
        "## f (false) means not available, t(true) means available.\n",
        "calendar.available.value_counts()"
      ]
    },
    {
      "cell_type": "code",
      "execution_count": 16,
      "metadata": {
        "id": "ffc4xkrH_Xs5"
      },
      "outputs": [],
      "source": [
        "# Découvrez la disponibilité moyenne quotidienne sur un an.\n",
        "# Convertissez la colonne en 0 si elle est disponible et en 1 si elle ne l'est pas.\n",
        "calendar_ = calendar[['date', 'available']].copy()\n",
        "calendar_['busy'] = calendar_.available.map( lambda x: 0 if x == 't' else 1) ## calendar_.available.map({\"f\":1, \"t\":0})\n",
        "calendar_ = calendar_.groupby('date')['busy'].mean().reset_index()\n",
        "calendar_['date'] = pd.to_datetime(calendar_['date'])"
      ]
    },
    {
      "cell_type": "code",
      "execution_count": 17,
      "metadata": {
        "colab": {
          "base_uri": "https://localhost:8080/",
          "height": 409
        },
        "id": "5BIQ0jtIA73x",
        "outputId": "890131fc-d8e9-4454-d82f-a013d6ed40ac"
      },
      "outputs": [
        {
          "data": {
            "image/png": "[encoded data removed]",
            "text/plain": [
              "<Figure size 1000x500 with 1 Axes>"
            ]
          },
          "metadata": {},
          "output_type": "display_data"
        }
      ],
      "source": [
        "plt.figure(figsize=(10, 5))\n",
        "plt.plot(calendar_['date'], calendar_['busy'])\n",
        "plt.title('Airbnb Toronto Calendar')\n",
        "plt.ylabel('% busy')\n",
        "plt.show();\n",
        "\n",
        "## Le mois le plus chargé a été décembre 2021."
      ]
    },
    {
      "cell_type": "markdown",
      "metadata": {
        "id": "BV_cfAZWB96j"
      },
      "source": [
        "## Prices on the Calendar"
      ]
    },
    {
      "cell_type": "code",
      "execution_count": 18,
      "metadata": {
        "colab": {
          "base_uri": "https://localhost:8080/",
          "height": 226
        },
        "id": "BZ0ZpBPKA8D3",
        "outputId": "4c146bbc-9c01-4694-a0ef-b53151460438"
      },
      "outputs": [
        {
          "data": {
            "text/html": [
              "<div>\n",
              "<style scoped>\n",
              "    .dataframe tbody tr th:only-of-type {\n",
              "        vertical-align: middle;\n",
              "    }\n",
              "\n",
              "    .dataframe tbody tr th {\n",
              "        vertical-align: top;\n",
              "    }\n",
              "\n",
              "    .dataframe thead th {\n",
              "        text-align: right;\n",
              "    }\n",
              "</style>\n",
              "<table border=\"1\" class=\"dataframe\">\n",
              "  <thead>\n",
              "    <tr style=\"text-align: right;\">\n",
              "      <th></th>\n",
              "      <th>listing_id</th>\n",
              "      <th>date</th>\n",
              "      <th>available</th>\n",
              "      <th>price</th>\n",
              "      <th>adjusted_price</th>\n",
              "      <th>minimum_nights</th>\n",
              "      <th>maximum_nights</th>\n",
              "    </tr>\n",
              "  </thead>\n",
              "  <tbody>\n",
              "    <tr>\n",
              "      <th>0</th>\n",
              "      <td>1109224</td>\n",
              "      <td>2020-12-21</td>\n",
              "      <td>f</td>\n",
              "      <td>$439.00</td>\n",
              "      <td>$439.00</td>\n",
              "      <td>2</td>\n",
              "      <td>90</td>\n",
              "    </tr>\n",
              "    <tr>\n",
              "      <th>1</th>\n",
              "      <td>1109224</td>\n",
              "      <td>2020-12-22</td>\n",
              "      <td>t</td>\n",
              "      <td>$439.00</td>\n",
              "      <td>$439.00</td>\n",
              "      <td>2</td>\n",
              "      <td>90</td>\n",
              "    </tr>\n",
              "    <tr>\n",
              "      <th>2</th>\n",
              "      <td>1109224</td>\n",
              "      <td>2020-12-23</td>\n",
              "      <td>t</td>\n",
              "      <td>$439.00</td>\n",
              "      <td>$439.00</td>\n",
              "      <td>2</td>\n",
              "      <td>90</td>\n",
              "    </tr>\n",
              "    <tr>\n",
              "      <th>3</th>\n",
              "      <td>1109224</td>\n",
              "      <td>2020-12-24</td>\n",
              "      <td>t</td>\n",
              "      <td>$439.00</td>\n",
              "      <td>$439.00</td>\n",
              "      <td>2</td>\n",
              "      <td>90</td>\n",
              "    </tr>\n",
              "    <tr>\n",
              "      <th>4</th>\n",
              "      <td>1109224</td>\n",
              "      <td>2020-12-25</td>\n",
              "      <td>t</td>\n",
              "      <td>$469.00</td>\n",
              "      <td>$469.00</td>\n",
              "      <td>2</td>\n",
              "      <td>90</td>\n",
              "    </tr>\n",
              "  </tbody>\n",
              "</table>\n",
              "</div>"
            ],
            "text/plain": [
              "   listing_id        date available    price adjusted_price  minimum_nights  \\\n",
              "0     1109224  2020-12-21         f  $439.00        $439.00               2   \n",
              "1     1109224  2020-12-22         t  $439.00        $439.00               2   \n",
              "2     1109224  2020-12-23         t  $439.00        $439.00               2   \n",
              "3     1109224  2020-12-24         t  $439.00        $439.00               2   \n",
              "4     1109224  2020-12-25         t  $469.00        $469.00               2   \n",
              "\n",
              "   maximum_nights  \n",
              "0              90  \n",
              "1              90  \n",
              "2              90  \n",
              "3              90  \n",
              "4              90  "
            ]
          },
          "execution_count": 18,
          "metadata": {},
          "output_type": "execute_result"
        }
      ],
      "source": [
        "calendar.head()"
      ]
    },
    {
      "cell_type": "code",
      "execution_count": 19,
      "metadata": {
        "id": "mQRe-9wgA8Gq"
      },
      "outputs": [],
      "source": [
        "# Supprimez le symbole « $ » dans la colonne de prix\n",
        "# et convertissez-le en numérique,\n",
        "# puis convertissez la date en type de données datetime.\n",
        "calendar['price'] = calendar['price'].str.replace(',', '').str.replace('$', '').astype(float)\n",
        "calendar['date'] = pd.to_datetime(calendar['date'])\n"
      ]
    },
    {
      "cell_type": "code",
      "execution_count": 20,
      "metadata": {
        "colab": {
          "base_uri": "https://localhost:8080/",
          "height": 438
        },
        "id": "EQ8uJyXZCfPt",
        "outputId": "3f6894b0-e119-493f-91fe-e982c1af66c7"
      },
      "outputs": [
        {
          "data": {
            "image/png": "[encoded data removed]",
            "text/plain": [
              "<Figure size 1200x700 with 1 Axes>"
            ]
          },
          "metadata": {},
          "output_type": "display_data"
        }
      ],
      "source": [
        "mean_of_month = calendar.groupby(calendar['date'].dt.strftime('%B'),\n",
        "                                 sort=False)['price'].mean()\n",
        "mean_of_month.plot(kind = 'barh' , figsize = (12,7))\n",
        "plt.xlabel('average monthly price');\n",
        "\n",
        "# Le prix des logements Airbnb augmente au cours des mois de octobre, sept et novem.\n",
        "# Certes, ces trois mois sont les meilleurs pour visiter la ville."
      ]
    },
    {
      "cell_type": "markdown",
      "metadata": {
        "id": "3Y2-TV-kFprF"
      },
      "source": [
        "## Listings"
      ]
    },
    {
      "cell_type": "code",
      "execution_count": 21,
      "metadata": {
        "colab": {
          "base_uri": "https://localhost:8080/"
        },
        "id": "T8oPH_Q_Fuec",
        "outputId": "38b73403-27cf-4b00-f25d-373c25a9bed5"
      },
      "outputs": [
        {
          "name": "stdout",
          "output_type": "stream",
          "text": [
            "nous avons 3106 listings\n"
          ]
        }
      ],
      "source": [
        "## nombre de maisons dans notre fichier listings\n",
        "print('nous avons', listings.id.nunique(), 'listings')"
      ]
    },
    {
      "cell_type": "code",
      "execution_count": 22,
      "metadata": {
        "colab": {
          "base_uri": "https://localhost:8080/",
          "height": 394
        },
        "id": "8leQVzq2GNmr",
        "outputId": "d57b2486-b6f6-4480-eab1-7cfa928d80eb"
      },
      "outputs": [
        {
          "data": {
            "text/html": [
              "<div>\n",
              "<style scoped>\n",
              "    .dataframe tbody tr th:only-of-type {\n",
              "        vertical-align: middle;\n",
              "    }\n",
              "\n",
              "    .dataframe tbody tr th {\n",
              "        vertical-align: top;\n",
              "    }\n",
              "\n",
              "    .dataframe thead th {\n",
              "        text-align: right;\n",
              "    }\n",
              "</style>\n",
              "<table border=\"1\" class=\"dataframe\">\n",
              "  <thead>\n",
              "    <tr style=\"text-align: right;\">\n",
              "      <th></th>\n",
              "      <th>id</th>\n",
              "    </tr>\n",
              "    <tr>\n",
              "      <th>neighbourhood_cleansed</th>\n",
              "      <th></th>\n",
              "    </tr>\n",
              "  </thead>\n",
              "  <tbody>\n",
              "    <tr>\n",
              "      <th>Dorchester</th>\n",
              "      <td>386</td>\n",
              "    </tr>\n",
              "    <tr>\n",
              "      <th>Downtown</th>\n",
              "      <td>331</td>\n",
              "    </tr>\n",
              "    <tr>\n",
              "      <th>Jamaica Plain</th>\n",
              "      <td>242</td>\n",
              "    </tr>\n",
              "    <tr>\n",
              "      <th>Roxbury</th>\n",
              "      <td>224</td>\n",
              "    </tr>\n",
              "    <tr>\n",
              "      <th>Brighton</th>\n",
              "      <td>216</td>\n",
              "    </tr>\n",
              "    <tr>\n",
              "      <th>South End</th>\n",
              "      <td>197</td>\n",
              "    </tr>\n",
              "    <tr>\n",
              "      <th>Back Bay</th>\n",
              "      <td>189</td>\n",
              "    </tr>\n",
              "    <tr>\n",
              "      <th>East Boston</th>\n",
              "      <td>179</td>\n",
              "    </tr>\n",
              "    <tr>\n",
              "      <th>South Boston</th>\n",
              "      <td>154</td>\n",
              "    </tr>\n",
              "    <tr>\n",
              "      <th>Allston</th>\n",
              "      <td>151</td>\n",
              "    </tr>\n",
              "  </tbody>\n",
              "</table>\n",
              "</div>"
            ],
            "text/plain": [
              "                         id\n",
              "neighbourhood_cleansed     \n",
              "Dorchester              386\n",
              "Downtown                331\n",
              "Jamaica Plain           242\n",
              "Roxbury                 224\n",
              "Brighton                216\n",
              "South End               197\n",
              "Back Bay                189\n",
              "East Boston             179\n",
              "South Boston            154\n",
              "Allston                 151"
            ]
          },
          "execution_count": 22,
          "metadata": {},
          "output_type": "execute_result"
        }
      ],
      "source": [
        "# Le quartier qui compte le plus grand nombre d'annonces est  Dorchester.\n",
        "listings.groupby(by='neighbourhood_cleansed').count()[['id']].sort_values(by='id', ascending=False).head(10)"
      ]
    },
    {
      "cell_type": "code",
      "execution_count": 23,
      "metadata": {
        "id": "yEBHlziEGwRa"
      },
      "outputs": [
        {
          "data": {
            "text/plain": [
              "0       $132.00\n",
              "1       $169.00\n",
              "2        $70.00\n",
              "3        $73.00\n",
              "4        $75.00\n",
              "         ...   \n",
              "3101     $44.00\n",
              "3102    $180.00\n",
              "3103    $169.00\n",
              "3104    $120.00\n",
              "3105    $150.00\n",
              "Name: price, Length: 3106, dtype: object"
            ]
          },
          "execution_count": 23,
          "metadata": {},
          "output_type": "execute_result"
        }
      ],
      "source": [
        "## Explore Prices\n",
        "listings.price"
      ]
    },
    {
      "cell_type": "code",
      "execution_count": 24,
      "metadata": {
        "id": "9oJZBQdkHCZ4"
      },
      "outputs": [],
      "source": [
        "listings['price'] = listings['price'].str.replace(',', '').str.replace('$', '').astype(float)"
      ]
    },
    {
      "cell_type": "code",
      "execution_count": 25,
      "metadata": {
        "colab": {
          "base_uri": "https://localhost:8080/",
          "height": 335
        },
        "id": "oQ5VlDtLHbpq",
        "outputId": "9806f7f7-c7eb-4f90-e441-8a1a5d99d35c"
      },
      "outputs": [
        {
          "data": {
            "text/plain": [
              "count    3106.000000\n",
              "mean      144.753703\n",
              "std       155.607881\n",
              "min         0.000000\n",
              "25%        69.000000\n",
              "50%       109.000000\n",
              "75%       169.000000\n",
              "max      3999.000000\n",
              "Name: price, dtype: float64"
            ]
          },
          "execution_count": 25,
          "metadata": {},
          "output_type": "execute_result"
        }
      ],
      "source": [
        "listings['price'].describe()"
      ]
    },
    {
      "cell_type": "code",
      "execution_count": 26,
      "metadata": {
        "colab": {
          "base_uri": "https://localhost:8080/",
          "height": 458
        },
        "id": "sELHzoEOHere",
        "outputId": "65ce31b9-9398-4f86-b68d-698b807e9ac6"
      },
      "outputs": [
        {
          "data": {
            "text/plain": [
              "id                                                                           41740613\n",
              "listing_url                                     https://www.airbnb.com/rooms/41740613\n",
              "scrape_id                                                              20201221044328\n",
              "last_scraped                                                               2020-12-21\n",
              "name                                                             The Revolution Hotel\n",
              "                                                                ...                  \n",
              "calculated_host_listings_count                                                      1\n",
              "calculated_host_listings_count_entire_homes                                         0\n",
              "calculated_host_listings_count_private_rooms                                        0\n",
              "calculated_host_listings_count_shared_rooms                                         0\n",
              "reviews_per_month                                                                 NaN\n",
              "Name: 2297, Length: 74, dtype: object"
            ]
          },
          "execution_count": 26,
          "metadata": {},
          "output_type": "execute_result"
        }
      ],
      "source": [
        "## min price = 0 ??? need to deal with it\n",
        "listings.iloc[np.argmin(listings['price'])]"
      ]
    },
    {
      "cell_type": "code",
      "execution_count": 27,
      "metadata": {
        "colab": {
          "base_uri": "https://localhost:8080/",
          "height": 458
        },
        "id": "8vVEdSSAHtsw",
        "outputId": "90768340-601a-409b-85a3-3d05c46f736c"
      },
      "outputs": [
        {
          "data": {
            "text/plain": [
              "id                                                                                      13657486\n",
              "listing_url                                                https://www.airbnb.com/rooms/13657486\n",
              "scrape_id                                                                         20201221044328\n",
              "last_scraped                                                                          2020-12-21\n",
              "name                                            Large, modern 2br, 2ba renovated 6/16 with patio\n",
              "                                                                      ...                       \n",
              "calculated_host_listings_count                                                                 1\n",
              "calculated_host_listings_count_entire_homes                                                    1\n",
              "calculated_host_listings_count_private_rooms                                                   0\n",
              "calculated_host_listings_count_shared_rooms                                                    0\n",
              "reviews_per_month                                                                           0.07\n",
              "Name: 645, Length: 74, dtype: object"
            ]
          },
          "execution_count": 27,
          "metadata": {},
          "output_type": "execute_result"
        }
      ],
      "source": [
        "listings.iloc[np.argmax(listings['price'])]"
      ]
    },
    {
      "cell_type": "code",
      "execution_count": 28,
      "metadata": {
        "id": "WrV4wkQaIbKF"
      },
      "outputs": [],
      "source": [
        "## maybe it's better, we remove listings > 600$ and equals to 0"
      ]
    },
    {
      "cell_type": "code",
      "execution_count": 29,
      "metadata": {
        "colab": {
          "base_uri": "https://localhost:8080/"
        },
        "id": "sIGdPy37IpkK",
        "outputId": "3720cbee-6515-48c0-a46d-9b679c823820"
      },
      "outputs": [
        {
          "data": {
            "text/plain": [
              "3"
            ]
          },
          "execution_count": 29,
          "metadata": {},
          "output_type": "execute_result"
        }
      ],
      "source": [
        "listings.loc[listings['price'] == 0]['price'].count()"
      ]
    },
    {
      "cell_type": "markdown",
      "metadata": {
        "id": "v8PD4o5wJU3j"
      },
      "source": [
        "### Distribution des prix des annonces après suppression des valeurs aberrantes"
      ]
    },
    {
      "cell_type": "code",
      "execution_count": 30,
      "metadata": {
        "colab": {
          "base_uri": "https://localhost:8080/",
          "height": 480
        },
        "id": "CBKA7IRpIq7a",
        "outputId": "5e34f10a-deb2-4efd-873f-bc8cea1c2357"
      },
      "outputs": [
        {
          "data": {
            "image/png": "[encoded data removed]",
            "text/plain": [
              "<Figure size 640x480 with 1 Axes>"
            ]
          },
          "metadata": {},
          "output_type": "display_data"
        }
      ],
      "source": [
        "listings.loc[(listings.price <= 600) & (listings.price > 0)].price.hist(bins=200)\n",
        "plt.ylabel('Count')\n",
        "plt.xlabel('Listing price in $')\n",
        "plt.title('Histogram of listing prices');"
      ]
    },
    {
      "cell_type": "code",
      "execution_count": 31,
      "metadata": {
        "id": "gBJ5HODyJIUw"
      },
      "outputs": [],
      "source": [
        "## les types"
      ]
    },
    {
      "cell_type": "code",
      "execution_count": 32,
      "metadata": {
        "colab": {
          "base_uri": "https://localhost:8080/",
          "height": 1000
        },
        "id": "45N7LTDdJiem",
        "outputId": "d50a010a-14bd-46fc-8085-baedacfd71f0"
      },
      "outputs": [
        {
          "data": {
            "text/plain": [
              "room_type\n",
              "Entire home/apt    1984\n",
              "Private room       1085\n",
              "Hotel room           26\n",
              "Shared room          11\n",
              "Name: count, dtype: int64"
            ]
          },
          "execution_count": 32,
          "metadata": {},
          "output_type": "execute_result"
        }
      ],
      "source": [
        "listings.room_type.value_counts()"
      ]
    },
    {
      "cell_type": "code",
      "execution_count": 33,
      "metadata": {
        "id": "uf9tckxqODz8"
      },
      "outputs": [],
      "source": [
        "## Prix ​​moyen des annonces dans les quartiers par type de pièce\n",
        "stats = listings.groupby(['neighbourhood_cleansed','room_type'])['price'].agg(['mean','std','count'])"
      ]
    },
    {
      "cell_type": "code",
      "execution_count": 34,
      "metadata": {
        "colab": {
          "base_uri": "https://localhost:8080/",
          "height": 455
        },
        "id": "0yYRGMdQORXx",
        "outputId": "5e6a4143-5c6e-4c32-8d6c-58c54edd2297"
      },
      "outputs": [
        {
          "data": {
            "text/html": [
              "<div>\n",
              "<style scoped>\n",
              "    .dataframe tbody tr th:only-of-type {\n",
              "        vertical-align: middle;\n",
              "    }\n",
              "\n",
              "    .dataframe tbody tr th {\n",
              "        vertical-align: top;\n",
              "    }\n",
              "\n",
              "    .dataframe thead th {\n",
              "        text-align: right;\n",
              "    }\n",
              "</style>\n",
              "<table border=\"1\" class=\"dataframe\">\n",
              "  <thead>\n",
              "    <tr style=\"text-align: right;\">\n",
              "      <th></th>\n",
              "      <th></th>\n",
              "      <th>mean</th>\n",
              "      <th>std</th>\n",
              "      <th>count</th>\n",
              "    </tr>\n",
              "    <tr>\n",
              "      <th>neighbourhood_cleansed</th>\n",
              "      <th>room_type</th>\n",
              "      <th></th>\n",
              "      <th></th>\n",
              "      <th></th>\n",
              "    </tr>\n",
              "  </thead>\n",
              "  <tbody>\n",
              "    <tr>\n",
              "      <th rowspan=\"3\" valign=\"top\">Allston</th>\n",
              "      <th>Entire home/apt</th>\n",
              "      <td>167.246154</td>\n",
              "      <td>165.415200</td>\n",
              "      <td>65</td>\n",
              "    </tr>\n",
              "    <tr>\n",
              "      <th>Private room</th>\n",
              "      <td>66.741176</td>\n",
              "      <td>23.424221</td>\n",
              "      <td>85</td>\n",
              "    </tr>\n",
              "    <tr>\n",
              "      <th>Shared room</th>\n",
              "      <td>30.000000</td>\n",
              "      <td>NaN</td>\n",
              "      <td>1</td>\n",
              "    </tr>\n",
              "    <tr>\n",
              "      <th rowspan=\"2\" valign=\"top\">Back Bay</th>\n",
              "      <th>Entire home/apt</th>\n",
              "      <td>175.098837</td>\n",
              "      <td>147.813129</td>\n",
              "      <td>172</td>\n",
              "    </tr>\n",
              "    <tr>\n",
              "      <th>Hotel room</th>\n",
              "      <td>122.857143</td>\n",
              "      <td>55.517050</td>\n",
              "      <td>7</td>\n",
              "    </tr>\n",
              "    <tr>\n",
              "      <th>...</th>\n",
              "      <th>...</th>\n",
              "      <td>...</td>\n",
              "      <td>...</td>\n",
              "      <td>...</td>\n",
              "    </tr>\n",
              "    <tr>\n",
              "      <th rowspan=\"2\" valign=\"top\">West End</th>\n",
              "      <th>Entire home/apt</th>\n",
              "      <td>242.096774</td>\n",
              "      <td>219.614109</td>\n",
              "      <td>31</td>\n",
              "    </tr>\n",
              "    <tr>\n",
              "      <th>Private room</th>\n",
              "      <td>106.250000</td>\n",
              "      <td>34.970225</td>\n",
              "      <td>4</td>\n",
              "    </tr>\n",
              "    <tr>\n",
              "      <th rowspan=\"3\" valign=\"top\">West Roxbury</th>\n",
              "      <th>Entire home/apt</th>\n",
              "      <td>281.666667</td>\n",
              "      <td>316.216605</td>\n",
              "      <td>18</td>\n",
              "    </tr>\n",
              "    <tr>\n",
              "      <th>Private room</th>\n",
              "      <td>213.400000</td>\n",
              "      <td>339.235443</td>\n",
              "      <td>15</td>\n",
              "    </tr>\n",
              "    <tr>\n",
              "      <th>Shared room</th>\n",
              "      <td>49.000000</td>\n",
              "      <td>NaN</td>\n",
              "      <td>1</td>\n",
              "    </tr>\n",
              "  </tbody>\n",
              "</table>\n",
              "<p>66 rows × 3 columns</p>\n",
              "</div>"
            ],
            "text/plain": [
              "                                              mean         std  count\n",
              "neighbourhood_cleansed room_type                                     \n",
              "Allston                Entire home/apt  167.246154  165.415200     65\n",
              "                       Private room      66.741176   23.424221     85\n",
              "                       Shared room       30.000000         NaN      1\n",
              "Back Bay               Entire home/apt  175.098837  147.813129    172\n",
              "                       Hotel room       122.857143   55.517050      7\n",
              "...                                            ...         ...    ...\n",
              "West End               Entire home/apt  242.096774  219.614109     31\n",
              "                       Private room     106.250000   34.970225      4\n",
              "West Roxbury           Entire home/apt  281.666667  316.216605     18\n",
              "                       Private room     213.400000  339.235443     15\n",
              "                       Shared room       49.000000         NaN      1\n",
              "\n",
              "[66 rows x 3 columns]"
            ]
          },
          "execution_count": 34,
          "metadata": {},
          "output_type": "execute_result"
        }
      ],
      "source": [
        "stats"
      ]
    },
    {
      "cell_type": "code",
      "execution_count": 28,
      "metadata": {
        "id": "yZ8pameCJjD5"
      },
      "outputs": [],
      "source": [
        "## Amenities"
      ]
    },
    {
      "cell_type": "code",
      "execution_count": 36,
      "metadata": {},
      "outputs": [
        {
          "data": {
            "text/plain": [
              "0       [\"Cable TV\", \"Hangers\", \"Wifi\", \"Free street p...\n",
              "1       [\"Cable TV\", \"Hangers\", \"Wifi\", \"Free street p...\n",
              "2       [\"Cable TV\", \"Hangers\", \"Wifi\", \"Kitchen\", \"Fi...\n",
              "3       [\"Cable TV\", \"Hangers\", \"Lockbox\", \"Wifi\", \"Ki...\n",
              "4       [\"Bathtub\", \"Cable TV\", \"Hangers\", \"Freezer\", ...\n",
              "                              ...                        \n",
              "3101    [\"Smoke alarm\", \"TV\", \"Carbon monoxide alarm\",...\n",
              "3102    [\"Smoke alarm\", \"TV\", \"Hair dryer\", \"Iron\", \"H...\n",
              "3103    [\"Hangers\", \"Wifi\", \"Elevator\", \"Kitchen\", \"Lo...\n",
              "3104    [\"Smoke alarm\", \"First aid kit\", \"Carbon monox...\n",
              "3105    [\"Coffee maker\", \"Bed linens\", \"Microwave\", \"S...\n",
              "Name: amenities, Length: 3106, dtype: object"
            ]
          },
          "execution_count": 36,
          "metadata": {},
          "output_type": "execute_result"
        }
      ],
      "source": [
        "listings[\"amenities\"]"
      ]
    },
    {
      "cell_type": "code",
      "execution_count": 37,
      "metadata": {
        "id": "hkco7d6sJwzV"
      },
      "outputs": [],
      "source": [
        "listings.amenities = listings.amenities.str.replace(\"[{}]\", \"\").str.replace('\"', \"\")"
      ]
    },
    {
      "cell_type": "code",
      "execution_count": 38,
      "metadata": {
        "colab": {
          "base_uri": "https://localhost:8080/",
          "height": 241
        },
        "id": "xxq-FbHRKLAR",
        "outputId": "dea2b2d7-ff34-490f-d10f-720e0c2d9f2e"
      },
      "outputs": [
        {
          "data": {
            "text/plain": [
              "0    [Cable TV, Hangers, Wifi, Free street parking,...\n",
              "1    [Cable TV, Hangers, Wifi, Free street parking,...\n",
              "2    [Cable TV, Hangers, Wifi, Kitchen, Fire exting...\n",
              "3    [Cable TV, Hangers, Lockbox, Wifi, Kitchen, Fi...\n",
              "4    [Bathtub, Cable TV, Hangers, Freezer, Wifi, Ki...\n",
              "Name: amenities, dtype: object"
            ]
          },
          "execution_count": 38,
          "metadata": {},
          "output_type": "execute_result"
        }
      ],
      "source": [
        "listings['amenities'].head()"
      ]
    },
    {
      "cell_type": "code",
      "execution_count": 31,
      "metadata": {
        "id": "R51vGx65KMPd"
      },
      "outputs": [],
      "source": [
        "## Top 20 most common amenities\n",
        "## Wifi, heating, essential, kitchen and carbo alarm etc are among the most common amenities.\n"
      ]
    },
    {
      "cell_type": "code",
      "execution_count": 39,
      "metadata": {
        "colab": {
          "base_uri": "https://localhost:8080/",
          "height": 625
        },
        "id": "gGbZqbwjKPhd",
        "outputId": "6d556aa0-3c10-4efb-fc10-f0a0344f2664"
      },
      "outputs": [
        {
          "data": {
            "text/plain": [
              "<Axes: >"
            ]
          },
          "execution_count": 39,
          "metadata": {},
          "output_type": "execute_result"
        },
        {
          "data": {
            "image/png": "[encoded data removed]",
            "text/plain": [
              "<Figure size 640x480 with 1 Axes>"
            ]
          },
          "metadata": {},
          "output_type": "display_data"
        }
      ],
      "source": [
        "pd.Series(np.concatenate(\n",
        "    listings['amenities'].map(lambda amns: amns.split(\",\"))\n",
        "    )).value_counts().head(20).plot(kind='bar')"
      ]
    },
    {
      "cell_type": "code",
      "execution_count": 33,
      "metadata": {
        "colab": {
          "base_uri": "https://localhost:8080/",
          "height": 633
        },
        "id": "dmzqAeUPLMlz",
        "outputId": "064b1f75-1734-4e29-f739-bb69098c6f39"
      },
      "outputs": [
        {
          "data": {
            "image/png": "[encoded data removed]",
            "text/plain": [
              "<Figure size 600x600 with 2 Axes>"
            ]
          },
          "metadata": {},
          "output_type": "display_data"
        }
      ],
      "source": [
        "## numeric features\n",
        "## let's select some numeric features\n",
        "\n",
        "col = ['host_listings_count', 'accommodates', 'bathrooms', 'bedrooms', 'beds', 'price', 'number_of_reviews', 'review_scores_rating', 'reviews_per_month']\n",
        "corr = listings.loc[(listings.price <= 600) & (listings.price > 0)][col].fillna(0).corr()\n",
        "plt.figure(figsize = (6,6))\n",
        "sns.set(font_scale=1)\n",
        "sns.heatmap(corr, cbar = True, annot=True, square = True, fmt = '.2f', xticklabels=col, yticklabels=col)\n",
        "plt.show()"
      ]
    },
    {
      "cell_type": "markdown",
      "metadata": {
        "id": "GE87t2zJNqw1"
      },
      "source": [
        "## Data preprocessing"
      ]
    },
    {
      "cell_type": "code",
      "execution_count": 41,
      "metadata": {
        "id": "pWytRMDwNu32"
      },
      "outputs": [],
      "source": [
        "reviews = pd.read_csv('reviews.csv')\n",
        "calendar = pd.read_csv('calendar.csv')\n",
        "listings = pd.read_csv('listings.csv')"
      ]
    },
    {
      "cell_type": "code",
      "execution_count": 42,
      "metadata": {},
      "outputs": [],
      "source": [
        "# removing comma and currency sign from column price\n",
        "listings.price = listings.price.str.replace(r'[$,]','',regex=True).astype('float') \n",
        "\n",
        "# removing comma and currency sign from column price\n",
        "calendar.price = calendar.price.str.replace(r'[$,]','',regex=True).astype('float')"
      ]
    },
    {
      "cell_type": "code",
      "execution_count": 43,
      "metadata": {},
      "outputs": [],
      "source": [
        "def remove_outliers(\n",
        "    df : pd.DataFrame, # pandas dataframe from which the outliers need to be removed\n",
        "    col: str, # column from which the outliers need to be removed\n",
        "    group_col: str ='room_type', # column name to group by (default: 'room_type')\n",
        "    lower_quantile=0.001,  # lower bound quantile for outlier filtering (default: 0.001)\n",
        "    upper_quantile=0.999 # upper bound quantile for outlier filtering (default: 0.999)\n",
        ")-> pd.DataFrame: # pandas DataFrame with outliers removed within each group\n",
        "    \n",
        "    \"Removes outliers from the specified column within each group of the group_col\"\n",
        "    # Check if column exists\n",
        "    if col not in df.columns:\n",
        "        raise ValueError(f\"Column '{col}' does not exist in the DataFrame.\")\n",
        "    \n",
        "    if group_col not in df.columns:\n",
        "        raise ValueError(f\"Group column '{group_col}' does not exist in the DataFrame.\")\n",
        "    \n",
        "    filtered_list = []\n",
        "    room_types = df.groupby(group_col)\n",
        "    \n",
        "    for _, group in room_types:\n",
        "        # Calculate quantiles\n",
        "        lower_bound = group[col].quantile(lower_quantile)\n",
        "        upper_bound = group[col].quantile(upper_quantile)\n",
        "        \n",
        "        # Filter out outliers\n",
        "        temp_df = group[(group[col] > lower_bound) & (group[col] < upper_bound)]\n",
        "        filtered_list.append(temp_df)\n",
        "    \n",
        "    # Concatenate all the filtered groups\n",
        "    filtered_df = pd.concat(filtered_list, ignore_index=True)\n",
        "    \n",
        "    return filtered_df\n"
      ]
    },
    {
      "cell_type": "code",
      "execution_count": 44,
      "metadata": {},
      "outputs": [],
      "source": [
        "# removing outliers from dataframe based on price against every room_type\n",
        "listings = remove_outliers(\n",
        "    df=listings,\n",
        "    col='price',\n",
        "    group_col='room_type',\n",
        "    lower_quantile=0.01,\n",
        "    upper_quantile=0.99\n",
        ")"
      ]
    },
    {
      "cell_type": "code",
      "execution_count": 45,
      "metadata": {},
      "outputs": [],
      "source": [
        "# converting date to pandas format\n",
        "calendar.date = pd.to_datetime(calendar.date)"
      ]
    },
    {
      "cell_type": "markdown",
      "metadata": {},
      "source": [
        "## Feature selection "
      ]
    },
    {
      "cell_type": "code",
      "execution_count": 46,
      "metadata": {},
      "outputs": [],
      "source": [
        "cols = ['host_since','last_scraped','host_verifications','amenities','calculated_host_listings_count',\n",
        "        'bedrooms','accommodates','beds','minimum_nights','maximum_nights',\n",
        "        'neighbourhood_cleansed','room_type',\n",
        "        'number_of_reviews','reviews_per_month','review_scores_rating',\n",
        "        'price',\n",
        "       'host_response_rate','host_acceptance_rate']\n",
        "\n",
        "data = listings.copy()[cols]"
      ]
    },
    {
      "cell_type": "code",
      "execution_count": 47,
      "metadata": {},
      "outputs": [
        {
          "name": "stdout",
          "output_type": "stream",
          "text": [
            "<class 'pandas.core.frame.DataFrame'>\n",
            "RangeIndex: 3024 entries, 0 to 3023\n",
            "Data columns (total 18 columns):\n",
            " #   Column                          Non-Null Count  Dtype  \n",
            "---  ------                          --------------  -----  \n",
            " 0   host_since                      3024 non-null   object \n",
            " 1   last_scraped                    3024 non-null   object \n",
            " 2   host_verifications              3024 non-null   object \n",
            " 3   amenities                       3024 non-null   object \n",
            " 4   calculated_host_listings_count  3024 non-null   int64  \n",
            " 5   bedrooms                        2680 non-null   float64\n",
            " 6   accommodates                    3024 non-null   int64  \n",
            " 7   beds                            3003 non-null   float64\n",
            " 8   minimum_nights                  3024 non-null   int64  \n",
            " 9   maximum_nights                  3024 non-null   int64  \n",
            " 10  neighbourhood_cleansed          3024 non-null   object \n",
            " 11  room_type                       3024 non-null   object \n",
            " 12  number_of_reviews               3024 non-null   int64  \n",
            " 13  reviews_per_month               2173 non-null   float64\n",
            " 14  review_scores_rating            2158 non-null   float64\n",
            " 15  price                           3024 non-null   float64\n",
            " 16  host_response_rate              2277 non-null   object \n",
            " 17  host_acceptance_rate            2508 non-null   object \n",
            "dtypes: float64(5), int64(5), object(8)\n",
            "memory usage: 425.4+ KB\n"
          ]
        }
      ],
      "source": [
        "data.info()"
      ]
    },
    {
      "cell_type": "code",
      "execution_count": 41,
      "metadata": {},
      "outputs": [],
      "source": [
        "num_cols = data.describe().columns.values"
      ]
    },
    {
      "cell_type": "code",
      "execution_count": 42,
      "metadata": {},
      "outputs": [],
      "source": [
        "# filling empty values with the mean\n",
        "data[num_cols] = data[num_cols].fillna(data[num_cols].mean())"
      ]
    },
    {
      "cell_type": "markdown",
      "metadata": {},
      "source": [
        "### Deal with some columns"
      ]
    },
    {
      "cell_type": "code",
      "execution_count": 43,
      "metadata": {},
      "outputs": [],
      "source": [
        "# converting bedrooms type from float to int\n",
        "data.bedrooms = data.bedrooms.astype('int')"
      ]
    },
    {
      "cell_type": "code",
      "execution_count": 44,
      "metadata": {},
      "outputs": [],
      "source": [
        "# remove characters from numerical features for casting as numerical\n",
        "data.host_response_rate = data.host_response_rate.str.replace('%','').astype('float')\n",
        "data.host_acceptance_rate = data.host_acceptance_rate.str.replace('%','').astype('float')"
      ]
    },
    {
      "cell_type": "code",
      "execution_count": 45,
      "metadata": {},
      "outputs": [],
      "source": [
        "def calculate_days(\n",
        "    row: pd.Series, # pd.Series with two date columns in format '%Y-%m-%d'\n",
        ")-> int: #  the differece between two datestamps in days\n",
        "    \"calculates the days between the given timestamps\"\n",
        "    try:\n",
        "        # parse dates or return NaN for invalid/missing values\n",
        "        date1 = pd.to_datetime(row.iloc[0], format='%Y-%m-%d', errors='coerce')\n",
        "        date2 = pd.to_datetime(row.iloc[1], format='%Y-%m-%d', errors='coerce')\n",
        "        \n",
        "        # return NaN if null dates\n",
        "        if pd.isnull(date1) or pd.isnull(date2):\n",
        "            return pd.NA\n",
        "        \n",
        "        # calculate the absolute difference in days\n",
        "        return abs((date2 - date1).days)\n",
        "    \n",
        "    except Exception as e:\n",
        "        print(f\"Error processing row: {row}, Error: {e}\")\n",
        "        return pd.NA\n"
      ]
    },
    {
      "cell_type": "code",
      "execution_count": 46,
      "metadata": {},
      "outputs": [],
      "source": [
        "# ad posters presence on platform in days since the ad\n",
        "data['host_since_days'] = data[['host_since','last_scraped']].apply(calculate_days, axis=1)\n",
        "data.drop(columns=['host_since','last_scraped'],inplace=True)"
      ]
    },
    {
      "cell_type": "code",
      "execution_count": 47,
      "metadata": {},
      "outputs": [
        {
          "data": {
            "text/plain": [
              "0                        ['email', 'phone', 'reviews']\n",
              "1                 ['email', 'phone', 'reviews', 'kba']\n",
              "2    ['email', 'phone', 'reviews', 'jumio', 'offlin...\n",
              "3    ['email', 'phone', 'reviews', 'jumio', 'offlin...\n",
              "4                                   ['email', 'phone']\n",
              "Name: host_verifications, dtype: object"
            ]
          },
          "execution_count": 47,
          "metadata": {},
          "output_type": "execute_result"
        }
      ],
      "source": [
        "# parsing the column 'host_verifications' and 'amenities' into features\n",
        "\n",
        "data['host_verifications'].head()"
      ]
    },
    {
      "cell_type": "code",
      "execution_count": 48,
      "metadata": {},
      "outputs": [
        {
          "data": {
            "text/plain": [
              "0    [\"Cable TV\", \"Hangers\", \"Wifi\", \"Free street p...\n",
              "1    [\"Cable TV\", \"Hangers\", \"Wifi\", \"Free street p...\n",
              "2    [\"Cable TV\", \"Hangers\", \"Wifi\", \"Kitchen\", \"Fi...\n",
              "3    [\"Cable TV\", \"Hangers\", \"Lockbox\", \"Wifi\", \"Ki...\n",
              "4    [\"Bathtub\", \"Cable TV\", \"Hangers\", \"Freezer\", ...\n",
              "Name: amenities, dtype: object"
            ]
          },
          "execution_count": 48,
          "metadata": {},
          "output_type": "execute_result"
        }
      ],
      "source": [
        "data['amenities'].head()"
      ]
    },
    {
      "cell_type": "code",
      "execution_count": 49,
      "metadata": {},
      "outputs": [],
      "source": [
        "import ast\n",
        "from typing import List\n",
        "\n",
        "def get_unique_features(\n",
        "    df: pd.DataFrame, # DataFrame containing the column with a list of values in string format for every record.\n",
        "    column: str, # column name that contains the list values like amenities and host_verifications\n",
        ")-> List: # list of unique features in the column\n",
        "    \"returns all unique values from a df column that contains lists as strings\"\n",
        "    \n",
        "    unique_features = set()  # use a set to avoid duplicates\n",
        "    \n",
        "    # iterate through each row in the column\n",
        "    for i in df[column]:\n",
        "        try:\n",
        "            # safely evaluate the string to convert it into a list\n",
        "            feature_list = ast.literal_eval(i) if isinstance(i, str) else i\n",
        "            if isinstance(feature_list, list):\n",
        "                unique_features.update(feature_list)\n",
        "        except (ValueError, SyntaxError):\n",
        "            print(f\"Skipping invalid entry: {i}\")\n",
        "    \n",
        "    unique_features = list(unique_features)\n",
        "    return unique_features\n",
        "\n",
        "\n",
        "def get_list_as_features(\n",
        "    slist: str, # string representation of a list like \"['email', 'phone', 'reviews']\"\n",
        "    unique_features: List, # list of all possible unique features\n",
        ")-> pd.Series:\n",
        "    \n",
        "    \"returns a pandas Series where the index represents unique features and values are 1 or 0 depending on whether the feature is present in the input list.\"\n",
        "    try:\n",
        "        feature_list = ast.literal_eval(slist) if isinstance(slist, str) else slist\n",
        "        if not isinstance(feature_list, list):\n",
        "            feature_list = []\n",
        "    except (ValueError, SyntaxError):\n",
        "        feature_list = []\n",
        "    \n",
        "    # create a Series of zeros\n",
        "    series = pd.Series(0, index=unique_features)\n",
        "    \n",
        "    # set to 1 for features present in the input list\n",
        "    series.loc[series.index.isin(feature_list)] = 1\n",
        "    \n",
        "    return series\n",
        "\n",
        "# parsing the column 'host_verifications' and 'amenities' into unique features\n",
        "hv_unique_features = get_unique_features(data, 'host_verifications')\n",
        "am_unique_features = get_unique_features(data, 'amenities')\n",
        "\n",
        "# applying the feature extraction function to the dataset\n",
        "data = pd.concat([\n",
        "    data,\n",
        "    data['host_verifications'].apply(get_list_as_features, args=(hv_unique_features,)\n",
        ")], axis=1\n",
        ")\n",
        "data = pd.concat([\n",
        "    data,\n",
        "    data['amenities'].apply(get_list_as_features, args=(am_unique_features,)\n",
        ")], axis=1\n",
        ")\n",
        "\n",
        "# drop the original columns\n",
        "data.drop(['host_verifications', 'amenities'], axis=1, inplace=True)\n"
      ]
    },
    {
      "cell_type": "markdown",
      "metadata": {},
      "source": [
        "## Encoding Categorical Features"
      ]
    },
    {
      "cell_type": "markdown",
      "metadata": {},
      "source": [
        "### we can use : \n",
        "\n",
        "1. get dummies : (Pandas) \n",
        "    - Pros : Easy to use, fast, and works well for a small number of categories.\n",
        "    - Cons : Doesn't handle unseen categories in test data (can only handle categories present in the training data).\n",
        "        \n",
        "2. OneHotEncoder : (Scikit-learn)\n",
        "    - Pros : Can handle unseen categories in new/test data using handle_unknown='ignore'\n",
        "    - Cons : Returns a NumPy array or sparse matrix by default, so if you're working with DataFrames, you'll need to convert it back.\n",
        "\n"
      ]
    },
    {
      "cell_type": "code",
      "execution_count": 50,
      "metadata": {},
      "outputs": [],
      "source": [
        "# separate categorical and numerical features\n",
        "cat_cols = data.select_dtypes(include='object').columns.tolist()\n",
        "num_cols = data.select_dtypes(exclude='object').columns.tolist()"
      ]
    },
    {
      "cell_type": "code",
      "execution_count": 51,
      "metadata": {},
      "outputs": [],
      "source": [
        "# use get dummies method to encode categorical features\n",
        "encoded = pd.get_dummies(data[cat_cols],drop_first=True).astype('int')\n",
        "data = pd.concat([data[num_cols],encoded],axis=1)"
      ]
    },
    {
      "cell_type": "code",
      "execution_count": 52,
      "metadata": {},
      "outputs": [
        {
          "data": {
            "text/html": [
              "<div>\n",
              "<style scoped>\n",
              "    .dataframe tbody tr th:only-of-type {\n",
              "        vertical-align: middle;\n",
              "    }\n",
              "\n",
              "    .dataframe tbody tr th {\n",
              "        vertical-align: top;\n",
              "    }\n",
              "\n",
              "    .dataframe thead th {\n",
              "        text-align: right;\n",
              "    }\n",
              "</style>\n",
              "<table border=\"1\" class=\"dataframe\">\n",
              "  <thead>\n",
              "    <tr style=\"text-align: right;\">\n",
              "      <th></th>\n",
              "      <th>neighbourhood_cleansed_Back Bay</th>\n",
              "      <th>neighbourhood_cleansed_Bay Village</th>\n",
              "      <th>neighbourhood_cleansed_Beacon Hill</th>\n",
              "      <th>neighbourhood_cleansed_Brighton</th>\n",
              "      <th>neighbourhood_cleansed_Charlestown</th>\n",
              "      <th>neighbourhood_cleansed_Chinatown</th>\n",
              "      <th>neighbourhood_cleansed_Dorchester</th>\n",
              "      <th>neighbourhood_cleansed_Downtown</th>\n",
              "      <th>neighbourhood_cleansed_East Boston</th>\n",
              "      <th>neighbourhood_cleansed_Fenway</th>\n",
              "      <th>...</th>\n",
              "      <th>neighbourhood_cleansed_Roslindale</th>\n",
              "      <th>neighbourhood_cleansed_Roxbury</th>\n",
              "      <th>neighbourhood_cleansed_South Boston</th>\n",
              "      <th>neighbourhood_cleansed_South Boston Waterfront</th>\n",
              "      <th>neighbourhood_cleansed_South End</th>\n",
              "      <th>neighbourhood_cleansed_West End</th>\n",
              "      <th>neighbourhood_cleansed_West Roxbury</th>\n",
              "      <th>room_type_Hotel room</th>\n",
              "      <th>room_type_Private room</th>\n",
              "      <th>room_type_Shared room</th>\n",
              "    </tr>\n",
              "  </thead>\n",
              "  <tbody>\n",
              "    <tr>\n",
              "      <th>0</th>\n",
              "      <td>0</td>\n",
              "      <td>0</td>\n",
              "      <td>0</td>\n",
              "      <td>0</td>\n",
              "      <td>0</td>\n",
              "      <td>0</td>\n",
              "      <td>0</td>\n",
              "      <td>0</td>\n",
              "      <td>1</td>\n",
              "      <td>0</td>\n",
              "      <td>...</td>\n",
              "      <td>0</td>\n",
              "      <td>0</td>\n",
              "      <td>0</td>\n",
              "      <td>0</td>\n",
              "      <td>0</td>\n",
              "      <td>0</td>\n",
              "      <td>0</td>\n",
              "      <td>0</td>\n",
              "      <td>0</td>\n",
              "      <td>0</td>\n",
              "    </tr>\n",
              "    <tr>\n",
              "      <th>1</th>\n",
              "      <td>0</td>\n",
              "      <td>0</td>\n",
              "      <td>0</td>\n",
              "      <td>0</td>\n",
              "      <td>0</td>\n",
              "      <td>0</td>\n",
              "      <td>0</td>\n",
              "      <td>0</td>\n",
              "      <td>0</td>\n",
              "      <td>0</td>\n",
              "      <td>...</td>\n",
              "      <td>0</td>\n",
              "      <td>1</td>\n",
              "      <td>0</td>\n",
              "      <td>0</td>\n",
              "      <td>0</td>\n",
              "      <td>0</td>\n",
              "      <td>0</td>\n",
              "      <td>0</td>\n",
              "      <td>0</td>\n",
              "      <td>0</td>\n",
              "    </tr>\n",
              "    <tr>\n",
              "      <th>2</th>\n",
              "      <td>1</td>\n",
              "      <td>0</td>\n",
              "      <td>0</td>\n",
              "      <td>0</td>\n",
              "      <td>0</td>\n",
              "      <td>0</td>\n",
              "      <td>0</td>\n",
              "      <td>0</td>\n",
              "      <td>0</td>\n",
              "      <td>0</td>\n",
              "      <td>...</td>\n",
              "      <td>0</td>\n",
              "      <td>0</td>\n",
              "      <td>0</td>\n",
              "      <td>0</td>\n",
              "      <td>0</td>\n",
              "      <td>0</td>\n",
              "      <td>0</td>\n",
              "      <td>0</td>\n",
              "      <td>0</td>\n",
              "      <td>0</td>\n",
              "    </tr>\n",
              "    <tr>\n",
              "      <th>3</th>\n",
              "      <td>0</td>\n",
              "      <td>0</td>\n",
              "      <td>0</td>\n",
              "      <td>0</td>\n",
              "      <td>0</td>\n",
              "      <td>0</td>\n",
              "      <td>0</td>\n",
              "      <td>0</td>\n",
              "      <td>0</td>\n",
              "      <td>0</td>\n",
              "      <td>...</td>\n",
              "      <td>0</td>\n",
              "      <td>0</td>\n",
              "      <td>0</td>\n",
              "      <td>0</td>\n",
              "      <td>0</td>\n",
              "      <td>0</td>\n",
              "      <td>0</td>\n",
              "      <td>0</td>\n",
              "      <td>0</td>\n",
              "      <td>0</td>\n",
              "    </tr>\n",
              "    <tr>\n",
              "      <th>4</th>\n",
              "      <td>1</td>\n",
              "      <td>0</td>\n",
              "      <td>0</td>\n",
              "      <td>0</td>\n",
              "      <td>0</td>\n",
              "      <td>0</td>\n",
              "      <td>0</td>\n",
              "      <td>0</td>\n",
              "      <td>0</td>\n",
              "      <td>0</td>\n",
              "      <td>...</td>\n",
              "      <td>0</td>\n",
              "      <td>0</td>\n",
              "      <td>0</td>\n",
              "      <td>0</td>\n",
              "      <td>0</td>\n",
              "      <td>0</td>\n",
              "      <td>0</td>\n",
              "      <td>0</td>\n",
              "      <td>0</td>\n",
              "      <td>0</td>\n",
              "    </tr>\n",
              "    <tr>\n",
              "      <th>...</th>\n",
              "      <td>...</td>\n",
              "      <td>...</td>\n",
              "      <td>...</td>\n",
              "      <td>...</td>\n",
              "      <td>...</td>\n",
              "      <td>...</td>\n",
              "      <td>...</td>\n",
              "      <td>...</td>\n",
              "      <td>...</td>\n",
              "      <td>...</td>\n",
              "      <td>...</td>\n",
              "      <td>...</td>\n",
              "      <td>...</td>\n",
              "      <td>...</td>\n",
              "      <td>...</td>\n",
              "      <td>...</td>\n",
              "      <td>...</td>\n",
              "      <td>...</td>\n",
              "      <td>...</td>\n",
              "      <td>...</td>\n",
              "      <td>...</td>\n",
              "    </tr>\n",
              "    <tr>\n",
              "      <th>3019</th>\n",
              "      <td>0</td>\n",
              "      <td>0</td>\n",
              "      <td>0</td>\n",
              "      <td>0</td>\n",
              "      <td>0</td>\n",
              "      <td>0</td>\n",
              "      <td>0</td>\n",
              "      <td>0</td>\n",
              "      <td>0</td>\n",
              "      <td>0</td>\n",
              "      <td>...</td>\n",
              "      <td>0</td>\n",
              "      <td>0</td>\n",
              "      <td>0</td>\n",
              "      <td>0</td>\n",
              "      <td>1</td>\n",
              "      <td>0</td>\n",
              "      <td>0</td>\n",
              "      <td>0</td>\n",
              "      <td>0</td>\n",
              "      <td>1</td>\n",
              "    </tr>\n",
              "    <tr>\n",
              "      <th>3020</th>\n",
              "      <td>0</td>\n",
              "      <td>0</td>\n",
              "      <td>0</td>\n",
              "      <td>0</td>\n",
              "      <td>0</td>\n",
              "      <td>0</td>\n",
              "      <td>0</td>\n",
              "      <td>0</td>\n",
              "      <td>0</td>\n",
              "      <td>0</td>\n",
              "      <td>...</td>\n",
              "      <td>0</td>\n",
              "      <td>1</td>\n",
              "      <td>0</td>\n",
              "      <td>0</td>\n",
              "      <td>0</td>\n",
              "      <td>0</td>\n",
              "      <td>0</td>\n",
              "      <td>0</td>\n",
              "      <td>0</td>\n",
              "      <td>1</td>\n",
              "    </tr>\n",
              "    <tr>\n",
              "      <th>3021</th>\n",
              "      <td>0</td>\n",
              "      <td>0</td>\n",
              "      <td>0</td>\n",
              "      <td>0</td>\n",
              "      <td>0</td>\n",
              "      <td>0</td>\n",
              "      <td>0</td>\n",
              "      <td>0</td>\n",
              "      <td>0</td>\n",
              "      <td>0</td>\n",
              "      <td>...</td>\n",
              "      <td>0</td>\n",
              "      <td>0</td>\n",
              "      <td>0</td>\n",
              "      <td>0</td>\n",
              "      <td>0</td>\n",
              "      <td>0</td>\n",
              "      <td>0</td>\n",
              "      <td>0</td>\n",
              "      <td>0</td>\n",
              "      <td>1</td>\n",
              "    </tr>\n",
              "    <tr>\n",
              "      <th>3022</th>\n",
              "      <td>0</td>\n",
              "      <td>1</td>\n",
              "      <td>0</td>\n",
              "      <td>0</td>\n",
              "      <td>0</td>\n",
              "      <td>0</td>\n",
              "      <td>0</td>\n",
              "      <td>0</td>\n",
              "      <td>0</td>\n",
              "      <td>0</td>\n",
              "      <td>...</td>\n",
              "      <td>0</td>\n",
              "      <td>0</td>\n",
              "      <td>0</td>\n",
              "      <td>0</td>\n",
              "      <td>0</td>\n",
              "      <td>0</td>\n",
              "      <td>0</td>\n",
              "      <td>0</td>\n",
              "      <td>0</td>\n",
              "      <td>1</td>\n",
              "    </tr>\n",
              "    <tr>\n",
              "      <th>3023</th>\n",
              "      <td>0</td>\n",
              "      <td>0</td>\n",
              "      <td>0</td>\n",
              "      <td>0</td>\n",
              "      <td>0</td>\n",
              "      <td>0</td>\n",
              "      <td>0</td>\n",
              "      <td>0</td>\n",
              "      <td>0</td>\n",
              "      <td>0</td>\n",
              "      <td>...</td>\n",
              "      <td>0</td>\n",
              "      <td>0</td>\n",
              "      <td>0</td>\n",
              "      <td>0</td>\n",
              "      <td>0</td>\n",
              "      <td>0</td>\n",
              "      <td>0</td>\n",
              "      <td>0</td>\n",
              "      <td>0</td>\n",
              "      <td>1</td>\n",
              "    </tr>\n",
              "  </tbody>\n",
              "</table>\n",
              "<p>3024 rows × 27 columns</p>\n",
              "</div>"
            ],
            "text/plain": [
              "      neighbourhood_cleansed_Back Bay  neighbourhood_cleansed_Bay Village  \\\n",
              "0                                   0                                   0   \n",
              "1                                   0                                   0   \n",
              "2                                   1                                   0   \n",
              "3                                   0                                   0   \n",
              "4                                   1                                   0   \n",
              "...                               ...                                 ...   \n",
              "3019                                0                                   0   \n",
              "3020                                0                                   0   \n",
              "3021                                0                                   0   \n",
              "3022                                0                                   1   \n",
              "3023                                0                                   0   \n",
              "\n",
              "      neighbourhood_cleansed_Beacon Hill  neighbourhood_cleansed_Brighton  \\\n",
              "0                                      0                                0   \n",
              "1                                      0                                0   \n",
              "2                                      0                                0   \n",
              "3                                      0                                0   \n",
              "4                                      0                                0   \n",
              "...                                  ...                              ...   \n",
              "3019                                   0                                0   \n",
              "3020                                   0                                0   \n",
              "3021                                   0                                0   \n",
              "3022                                   0                                0   \n",
              "3023                                   0                                0   \n",
              "\n",
              "      neighbourhood_cleansed_Charlestown  neighbourhood_cleansed_Chinatown  \\\n",
              "0                                      0                                 0   \n",
              "1                                      0                                 0   \n",
              "2                                      0                                 0   \n",
              "3                                      0                                 0   \n",
              "4                                      0                                 0   \n",
              "...                                  ...                               ...   \n",
              "3019                                   0                                 0   \n",
              "3020                                   0                                 0   \n",
              "3021                                   0                                 0   \n",
              "3022                                   0                                 0   \n",
              "3023                                   0                                 0   \n",
              "\n",
              "      neighbourhood_cleansed_Dorchester  neighbourhood_cleansed_Downtown  \\\n",
              "0                                     0                                0   \n",
              "1                                     0                                0   \n",
              "2                                     0                                0   \n",
              "3                                     0                                0   \n",
              "4                                     0                                0   \n",
              "...                                 ...                              ...   \n",
              "3019                                  0                                0   \n",
              "3020                                  0                                0   \n",
              "3021                                  0                                0   \n",
              "3022                                  0                                0   \n",
              "3023                                  0                                0   \n",
              "\n",
              "      neighbourhood_cleansed_East Boston  neighbourhood_cleansed_Fenway  ...  \\\n",
              "0                                      1                              0  ...   \n",
              "1                                      0                              0  ...   \n",
              "2                                      0                              0  ...   \n",
              "3                                      0                              0  ...   \n",
              "4                                      0                              0  ...   \n",
              "...                                  ...                            ...  ...   \n",
              "3019                                   0                              0  ...   \n",
              "3020                                   0                              0  ...   \n",
              "3021                                   0                              0  ...   \n",
              "3022                                   0                              0  ...   \n",
              "3023                                   0                              0  ...   \n",
              "\n",
              "      neighbourhood_cleansed_Roslindale  neighbourhood_cleansed_Roxbury  \\\n",
              "0                                     0                               0   \n",
              "1                                     0                               1   \n",
              "2                                     0                               0   \n",
              "3                                     0                               0   \n",
              "4                                     0                               0   \n",
              "...                                 ...                             ...   \n",
              "3019                                  0                               0   \n",
              "3020                                  0                               1   \n",
              "3021                                  0                               0   \n",
              "3022                                  0                               0   \n",
              "3023                                  0                               0   \n",
              "\n",
              "      neighbourhood_cleansed_South Boston  \\\n",
              "0                                       0   \n",
              "1                                       0   \n",
              "2                                       0   \n",
              "3                                       0   \n",
              "4                                       0   \n",
              "...                                   ...   \n",
              "3019                                    0   \n",
              "3020                                    0   \n",
              "3021                                    0   \n",
              "3022                                    0   \n",
              "3023                                    0   \n",
              "\n",
              "      neighbourhood_cleansed_South Boston Waterfront  \\\n",
              "0                                                  0   \n",
              "1                                                  0   \n",
              "2                                                  0   \n",
              "3                                                  0   \n",
              "4                                                  0   \n",
              "...                                              ...   \n",
              "3019                                               0   \n",
              "3020                                               0   \n",
              "3021                                               0   \n",
              "3022                                               0   \n",
              "3023                                               0   \n",
              "\n",
              "      neighbourhood_cleansed_South End  neighbourhood_cleansed_West End  \\\n",
              "0                                    0                                0   \n",
              "1                                    0                                0   \n",
              "2                                    0                                0   \n",
              "3                                    0                                0   \n",
              "4                                    0                                0   \n",
              "...                                ...                              ...   \n",
              "3019                                 1                                0   \n",
              "3020                                 0                                0   \n",
              "3021                                 0                                0   \n",
              "3022                                 0                                0   \n",
              "3023                                 0                                0   \n",
              "\n",
              "      neighbourhood_cleansed_West Roxbury  room_type_Hotel room  \\\n",
              "0                                       0                     0   \n",
              "1                                       0                     0   \n",
              "2                                       0                     0   \n",
              "3                                       0                     0   \n",
              "4                                       0                     0   \n",
              "...                                   ...                   ...   \n",
              "3019                                    0                     0   \n",
              "3020                                    0                     0   \n",
              "3021                                    0                     0   \n",
              "3022                                    0                     0   \n",
              "3023                                    0                     0   \n",
              "\n",
              "      room_type_Private room  room_type_Shared room  \n",
              "0                          0                      0  \n",
              "1                          0                      0  \n",
              "2                          0                      0  \n",
              "3                          0                      0  \n",
              "4                          0                      0  \n",
              "...                      ...                    ...  \n",
              "3019                       0                      1  \n",
              "3020                       0                      1  \n",
              "3021                       0                      1  \n",
              "3022                       0                      1  \n",
              "3023                       0                      1  \n",
              "\n",
              "[3024 rows x 27 columns]"
            ]
          },
          "execution_count": 52,
          "metadata": {},
          "output_type": "execute_result"
        }
      ],
      "source": [
        "encoded"
      ]
    },
    {
      "cell_type": "code",
      "execution_count": 53,
      "metadata": {},
      "outputs": [
        {
          "name": "stdout",
          "output_type": "stream",
          "text": [
            "(3024, 262)\n"
          ]
        }
      ],
      "source": [
        "# data shape\n",
        "print(data.shape)"
      ]
    }
  ],
  "metadata": {
    "colab": {
      "provenance": []
    },
    "kernelspec": {
      "display_name": "ml_cours",
      "language": "python",
      "name": "python3"
    },
    "language_info": {
      "codemirror_mode": {
        "name": "ipython",
        "version": 3
      },
      "file_extension": ".py",
      "mimetype": "text/x-python",
      "name": "python",
      "nbconvert_exporter": "python",
      "pygments_lexer": "ipython3",
      "version": "3.12.1"
    }
  },
  "nbformat": 4,
  "nbformat_minor": 0
}
