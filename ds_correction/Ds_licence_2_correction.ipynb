{
  "nbformat": 4,
  "nbformat_minor": 0,
  "metadata": {
    "colab": {
      "provenance": []
    },
    "kernelspec": {
      "name": "python3",
      "display_name": "Python 3"
    },
    "language_info": {
      "name": "python"
    }
  },
  "cells": [
    {
      "cell_type": "markdown",
      "source": [
        "# DS Data Mining\n",
        "\n",
        "## Cas d'utilisation : Prix des Maisons\n",
        "\n",
        "Ce dataset est centré sur les caractéristiques des maisons et leurs prix associés. Il contient un ensemble de variables décrivant divers aspects des propriétés résidentielles, telles que:\n",
        "\n",
        "\n",
        "\n",
        "*   `id_maison` : l'identifiant de la maison\n",
        "*   `nb_chambre` : nombre de chambres\n",
        "*   `nb_wc` : nombre de salle de bains\n",
        "*   `surface` : la surface de la maison\n",
        "*   `date_creation` : la date de creation de la maison\n",
        "*   `type` : le type de la maison\n",
        "*   `équipement` : les équipements possibles dans la maison\n",
        "*   `price` : le prix de la maison\n",
        "\n",
        "\n",
        "\n",
        " L'objectif principal de ce ds est d'explorer, pre-traiter et exporter les données"
      ],
      "metadata": {
        "id": "uDHOcOyAzoY0"
      }
    },
    {
      "cell_type": "markdown",
      "source": [
        "## Imports"
      ],
      "metadata": {
        "id": "oiBhJRvczuxV"
      }
    },
    {
      "cell_type": "code",
      "source": [
        "import pandas as pd"
      ],
      "metadata": {
        "id": "4944WOawzwoz"
      },
      "execution_count": null,
      "outputs": []
    },
    {
      "cell_type": "markdown",
      "source": [
        "## Charger les datasets\n",
        "\n",
        "Objectif : Vous allez explorer différentes sources de données sur les maisons pour les combiner en une seule et unique dataset, prête à être transformée et analysée."
      ],
      "metadata": {
        "id": "f_SNeDl9z0IO"
      }
    },
    {
      "cell_type": "code",
      "source": [
        "## chargez les 2 fichiers csv des maisons et faites la fusion\n",
        "\n",
        "## chargement des fichiers csv\n",
        "# df_1 = ?\n",
        "# df_2 = ?\n",
        "\n",
        "df_1 = pd.read_csv(\"maisons_partie_1.csv\")\n",
        "df_2 = pd.read_csv(\"maisons_partie_2.csv\")\n",
        "## fusion des fichiers csv\n",
        "\n",
        "# df = ?\n",
        "df = pd.concat([df_1, df_2])\n"
      ],
      "metadata": {
        "id": "1lNiuDmT1Q9a"
      },
      "execution_count": null,
      "outputs": []
    },
    {
      "cell_type": "code",
      "source": [
        "df.shape"
      ],
      "metadata": {
        "colab": {
          "base_uri": "https://localhost:8080/"
        },
        "id": "gpgyK8m6YFYs",
        "outputId": "34db80d1-ce3a-4894-9025-fbb485f4446f"
      },
      "execution_count": null,
      "outputs": [
        {
          "output_type": "execute_result",
          "data": {
            "text/plain": [
              "(1000, 8)"
            ]
          },
          "metadata": {},
          "execution_count": 151
        }
      ]
    },
    {
      "cell_type": "markdown",
      "source": [
        "## Ajouter une maison\n",
        "Vous êtes invités à ajouter une nouvelle ligne (Maison) à notre DataFrame.\n",
        "\n",
        "les information de la maison à ajouter:\n",
        "\n",
        "*   `id_maison` : 1001\n",
        "*   `nb_chambre` : 3\n",
        "*   `nb_wc` : 1\n",
        "*   `surface` : 5000\n",
        "*   `date_creation` : 11/10/2017\n",
        "*   `type` : apartment\n",
        "*   `équipement` : Internet\n",
        "*   `price` : €1207,52"
      ],
      "metadata": {
        "id": "hjF2Ou1W7jlQ"
      }
    },
    {
      "cell_type": "code",
      "source": [
        "# creation d'une nouvelle ligne et l'ajout dans notre dataframe\n",
        "# methode1\n",
        "df.loc[len(df)] = [1001, 3, 1, 5000, \"11/10/2017\",\"apartment\",\"Internet\",\"€1207,52\"]\n",
        "\n",
        "# methode2\n",
        "\"\"\"\n",
        "new_row = pd.DataFrame({\n",
        "    'id_maison': [1001],\n",
        "    'nb_chambre': [3],\n",
        "    'nb_wc': [1],\n",
        "    'surface': [5000],\n",
        "    'date_creation': \"11/10/2017\",\n",
        "    'type': \"apartment\",\n",
        "    'équipement': \"Internet\",\n",
        "    'price': \"€1207,52\"\n",
        "}, index = [1000])\n",
        "\n",
        "df = pd.concat([df, new_row], ignore_index=False)\n",
        "\"\"\""
      ],
      "metadata": {
        "colab": {
          "base_uri": "https://localhost:8080/",
          "height": 90
        },
        "id": "kMoKdlIR8XeM",
        "outputId": "69e0b5e6-84f3-415d-e030-690ae9ca78af"
      },
      "execution_count": null,
      "outputs": [
        {
          "output_type": "execute_result",
          "data": {
            "text/plain": [
              "'\\nnew_row = pd.DataFrame({\\n    \\'id_maison\\': [1001],\\n    \\'nb_chambre\\': [3],\\n    \\'nb_wc\\': [1],\\n    \\'surface\\': [5000],\\n    \\'date_creation\\': \"11/10/2017\",\\n    \\'type\\': \"apartment\",\\n    \\'équipement\\': \"Internet\",\\n    \\'price\\': \"€1207,52\"\\n}, index = [1000])\\n\\ndf = pd.concat([df, new_row], ignore_index=False)\\n'"
            ],
            "application/vnd.google.colaboratory.intrinsic+json": {
              "type": "string"
            }
          },
          "metadata": {},
          "execution_count": 152
        }
      ]
    },
    {
      "cell_type": "markdown",
      "source": [
        "##  Changement d'index\n",
        "\n",
        "Nous voulons changer l'index de notre dataframe en utilisant la colonne `id_maison`.\n",
        "\n",
        "l'index doit être sous cette forme : `M1 , M2, M3 , ...... M1000`"
      ],
      "metadata": {
        "id": "LHqXRXov3AX4"
      }
    },
    {
      "cell_type": "code",
      "source": [
        "# df.index = ?\n",
        "df.index = df.apply(lambda maison : \"M\" + str(maison[\"id_maison\"]), axis=1)"
      ],
      "metadata": {
        "id": "B-Xo-SaF3Gfc"
      },
      "execution_count": null,
      "outputs": []
    },
    {
      "cell_type": "markdown",
      "source": [
        "## Supprimer la colonne `id_maison`"
      ],
      "metadata": {
        "id": "rqYpa0JBDazL"
      }
    },
    {
      "cell_type": "code",
      "source": [
        "# supprimer la colonne\n",
        "\n",
        "# df =  ?\n",
        "# methode 1\n",
        "df.drop([\"id_maison\"],axis=1, inplace=True)\n",
        "# methode2\n",
        "# df = df.drop([\"id_maison\"],axis=1)"
      ],
      "metadata": {
        "id": "AtsT2bOTDZpI"
      },
      "execution_count": null,
      "outputs": []
    },
    {
      "cell_type": "markdown",
      "source": [
        "## Exploration de données\n",
        "\n",
        "Dans cette partie, vous êtes amené à explorer les données de notre dataframe."
      ],
      "metadata": {
        "id": "36UhsSO2BB_-"
      }
    },
    {
      "cell_type": "markdown",
      "source": [
        "### Afficher les 7 premieres maison dans la dataframe"
      ],
      "metadata": {
        "id": "9wjMvnpgBTZW"
      }
    },
    {
      "cell_type": "code",
      "source": [
        "df.head(7)"
      ],
      "metadata": {
        "colab": {
          "base_uri": "https://localhost:8080/",
          "height": 268
        },
        "id": "WCuqqEB5BOcI",
        "outputId": "0c6589cf-bc26-42b0-dfab-825809090c14"
      },
      "execution_count": null,
      "outputs": [
        {
          "output_type": "execute_result",
          "data": {
            "text/plain": [
              "    nb_chambre  nb_wc  surface date_creation            type équipement  \\\n",
              "M1           1      2   3278.0    11/17/2013          studio        NaN   \n",
              "M2           3      1   4257.0     10/3/2009          studio    parking   \n",
              "M3           3      1      NaN    11/10/2015  detached house        NaN   \n",
              "M4           3      3   1036.0    10/31/2003  detached house        NaN   \n",
              "M5           1      1   1220.0    11/13/2016  detached house        NaN   \n",
              "M6           4      1   3667.0    11/18/2011          duplex        NaN   \n",
              "M7           2      1    963.0     7/17/2016       apartment        NaN   \n",
              "\n",
              "       price  \n",
              "M1  €1787,57  \n",
              "M2  €1391,58  \n",
              "M3   €531,79  \n",
              "M4   €549,72  \n",
              "M5  €1166,82  \n",
              "M6  €1029,65  \n",
              "M7  €1590,35  "
            ],
            "text/html": [
              "\n",
              "  <div id=\"df-9cf16ded-f3b3-4933-a010-77bd816caa05\" class=\"colab-df-container\">\n",
              "    <div>\n",
              "<style scoped>\n",
              "    .dataframe tbody tr th:only-of-type {\n",
              "        vertical-align: middle;\n",
              "    }\n",
              "\n",
              "    .dataframe tbody tr th {\n",
              "        vertical-align: top;\n",
              "    }\n",
              "\n",
              "    .dataframe thead th {\n",
              "        text-align: right;\n",
              "    }\n",
              "</style>\n",
              "<table border=\"1\" class=\"dataframe\">\n",
              "  <thead>\n",
              "    <tr style=\"text-align: right;\">\n",
              "      <th></th>\n",
              "      <th>nb_chambre</th>\n",
              "      <th>nb_wc</th>\n",
              "      <th>surface</th>\n",
              "      <th>date_creation</th>\n",
              "      <th>type</th>\n",
              "      <th>équipement</th>\n",
              "      <th>price</th>\n",
              "    </tr>\n",
              "  </thead>\n",
              "  <tbody>\n",
              "    <tr>\n",
              "      <th>M1</th>\n",
              "      <td>1</td>\n",
              "      <td>2</td>\n",
              "      <td>3278.0</td>\n",
              "      <td>11/17/2013</td>\n",
              "      <td>studio</td>\n",
              "      <td>NaN</td>\n",
              "      <td>€1787,57</td>\n",
              "    </tr>\n",
              "    <tr>\n",
              "      <th>M2</th>\n",
              "      <td>3</td>\n",
              "      <td>1</td>\n",
              "      <td>4257.0</td>\n",
              "      <td>10/3/2009</td>\n",
              "      <td>studio</td>\n",
              "      <td>parking</td>\n",
              "      <td>€1391,58</td>\n",
              "    </tr>\n",
              "    <tr>\n",
              "      <th>M3</th>\n",
              "      <td>3</td>\n",
              "      <td>1</td>\n",
              "      <td>NaN</td>\n",
              "      <td>11/10/2015</td>\n",
              "      <td>detached house</td>\n",
              "      <td>NaN</td>\n",
              "      <td>€531,79</td>\n",
              "    </tr>\n",
              "    <tr>\n",
              "      <th>M4</th>\n",
              "      <td>3</td>\n",
              "      <td>3</td>\n",
              "      <td>1036.0</td>\n",
              "      <td>10/31/2003</td>\n",
              "      <td>detached house</td>\n",
              "      <td>NaN</td>\n",
              "      <td>€549,72</td>\n",
              "    </tr>\n",
              "    <tr>\n",
              "      <th>M5</th>\n",
              "      <td>1</td>\n",
              "      <td>1</td>\n",
              "      <td>1220.0</td>\n",
              "      <td>11/13/2016</td>\n",
              "      <td>detached house</td>\n",
              "      <td>NaN</td>\n",
              "      <td>€1166,82</td>\n",
              "    </tr>\n",
              "    <tr>\n",
              "      <th>M6</th>\n",
              "      <td>4</td>\n",
              "      <td>1</td>\n",
              "      <td>3667.0</td>\n",
              "      <td>11/18/2011</td>\n",
              "      <td>duplex</td>\n",
              "      <td>NaN</td>\n",
              "      <td>€1029,65</td>\n",
              "    </tr>\n",
              "    <tr>\n",
              "      <th>M7</th>\n",
              "      <td>2</td>\n",
              "      <td>1</td>\n",
              "      <td>963.0</td>\n",
              "      <td>7/17/2016</td>\n",
              "      <td>apartment</td>\n",
              "      <td>NaN</td>\n",
              "      <td>€1590,35</td>\n",
              "    </tr>\n",
              "  </tbody>\n",
              "</table>\n",
              "</div>\n",
              "    <div class=\"colab-df-buttons\">\n",
              "\n",
              "  <div class=\"colab-df-container\">\n",
              "    <button class=\"colab-df-convert\" onclick=\"convertToInteractive('df-9cf16ded-f3b3-4933-a010-77bd816caa05')\"\n",
              "            title=\"Convert this dataframe to an interactive table.\"\n",
              "            style=\"display:none;\">\n",
              "\n",
              "  <svg xmlns=\"http://www.w3.org/2000/svg\" height=\"24px\" viewBox=\"0 -960 960 960\">\n",
              "    <path d=\"M120-120v-720h720v720H120Zm60-500h600v-160H180v160Zm220 220h160v-160H400v160Zm0 220h160v-160H400v160ZM180-400h160v-160H180v160Zm440 0h160v-160H620v160ZM180-180h160v-160H180v160Zm440 0h160v-160H620v160Z\"/>\n",
              "  </svg>\n",
              "    </button>\n",
              "\n",
              "  <style>\n",
              "    .colab-df-container {\n",
              "      display:flex;\n",
              "      gap: 12px;\n",
              "    }\n",
              "\n",
              "    .colab-df-convert {\n",
              "      background-color: #E8F0FE;\n",
              "      border: none;\n",
              "      border-radius: 50%;\n",
              "      cursor: pointer;\n",
              "      display: none;\n",
              "      fill: #1967D2;\n",
              "      height: 32px;\n",
              "      padding: 0 0 0 0;\n",
              "      width: 32px;\n",
              "    }\n",
              "\n",
              "    .colab-df-convert:hover {\n",
              "      background-color: #E2EBFA;\n",
              "      box-shadow: 0px 1px 2px rgba(60, 64, 67, 0.3), 0px 1px 3px 1px rgba(60, 64, 67, 0.15);\n",
              "      fill: #174EA6;\n",
              "    }\n",
              "\n",
              "    .colab-df-buttons div {\n",
              "      margin-bottom: 4px;\n",
              "    }\n",
              "\n",
              "    [theme=dark] .colab-df-convert {\n",
              "      background-color: #3B4455;\n",
              "      fill: #D2E3FC;\n",
              "    }\n",
              "\n",
              "    [theme=dark] .colab-df-convert:hover {\n",
              "      background-color: #434B5C;\n",
              "      box-shadow: 0px 1px 3px 1px rgba(0, 0, 0, 0.15);\n",
              "      filter: drop-shadow(0px 1px 2px rgba(0, 0, 0, 0.3));\n",
              "      fill: #FFFFFF;\n",
              "    }\n",
              "  </style>\n",
              "\n",
              "    <script>\n",
              "      const buttonEl =\n",
              "        document.querySelector('#df-9cf16ded-f3b3-4933-a010-77bd816caa05 button.colab-df-convert');\n",
              "      buttonEl.style.display =\n",
              "        google.colab.kernel.accessAllowed ? 'block' : 'none';\n",
              "\n",
              "      async function convertToInteractive(key) {\n",
              "        const element = document.querySelector('#df-9cf16ded-f3b3-4933-a010-77bd816caa05');\n",
              "        const dataTable =\n",
              "          await google.colab.kernel.invokeFunction('convertToInteractive',\n",
              "                                                    [key], {});\n",
              "        if (!dataTable) return;\n",
              "\n",
              "        const docLinkHtml = 'Like what you see? Visit the ' +\n",
              "          '<a target=\"_blank\" href=https://colab.research.google.com/notebooks/data_table.ipynb>data table notebook</a>'\n",
              "          + ' to learn more about interactive tables.';\n",
              "        element.innerHTML = '';\n",
              "        dataTable['output_type'] = 'display_data';\n",
              "        await google.colab.output.renderOutput(dataTable, element);\n",
              "        const docLink = document.createElement('div');\n",
              "        docLink.innerHTML = docLinkHtml;\n",
              "        element.appendChild(docLink);\n",
              "      }\n",
              "    </script>\n",
              "  </div>\n",
              "\n",
              "\n",
              "<div id=\"df-dc7a89b8-850f-447b-9a0d-6358b4199a3b\">\n",
              "  <button class=\"colab-df-quickchart\" onclick=\"quickchart('df-dc7a89b8-850f-447b-9a0d-6358b4199a3b')\"\n",
              "            title=\"Suggest charts\"\n",
              "            style=\"display:none;\">\n",
              "\n",
              "<svg xmlns=\"http://www.w3.org/2000/svg\" height=\"24px\"viewBox=\"0 0 24 24\"\n",
              "     width=\"24px\">\n",
              "    <g>\n",
              "        <path d=\"M19 3H5c-1.1 0-2 .9-2 2v14c0 1.1.9 2 2 2h14c1.1 0 2-.9 2-2V5c0-1.1-.9-2-2-2zM9 17H7v-7h2v7zm4 0h-2V7h2v10zm4 0h-2v-4h2v4z\"/>\n",
              "    </g>\n",
              "</svg>\n",
              "  </button>\n",
              "\n",
              "<style>\n",
              "  .colab-df-quickchart {\n",
              "      --bg-color: #E8F0FE;\n",
              "      --fill-color: #1967D2;\n",
              "      --hover-bg-color: #E2EBFA;\n",
              "      --hover-fill-color: #174EA6;\n",
              "      --disabled-fill-color: #AAA;\n",
              "      --disabled-bg-color: #DDD;\n",
              "  }\n",
              "\n",
              "  [theme=dark] .colab-df-quickchart {\n",
              "      --bg-color: #3B4455;\n",
              "      --fill-color: #D2E3FC;\n",
              "      --hover-bg-color: #434B5C;\n",
              "      --hover-fill-color: #FFFFFF;\n",
              "      --disabled-bg-color: #3B4455;\n",
              "      --disabled-fill-color: #666;\n",
              "  }\n",
              "\n",
              "  .colab-df-quickchart {\n",
              "    background-color: var(--bg-color);\n",
              "    border: none;\n",
              "    border-radius: 50%;\n",
              "    cursor: pointer;\n",
              "    display: none;\n",
              "    fill: var(--fill-color);\n",
              "    height: 32px;\n",
              "    padding: 0;\n",
              "    width: 32px;\n",
              "  }\n",
              "\n",
              "  .colab-df-quickchart:hover {\n",
              "    background-color: var(--hover-bg-color);\n",
              "    box-shadow: 0 1px 2px rgba(60, 64, 67, 0.3), 0 1px 3px 1px rgba(60, 64, 67, 0.15);\n",
              "    fill: var(--button-hover-fill-color);\n",
              "  }\n",
              "\n",
              "  .colab-df-quickchart-complete:disabled,\n",
              "  .colab-df-quickchart-complete:disabled:hover {\n",
              "    background-color: var(--disabled-bg-color);\n",
              "    fill: var(--disabled-fill-color);\n",
              "    box-shadow: none;\n",
              "  }\n",
              "\n",
              "  .colab-df-spinner {\n",
              "    border: 2px solid var(--fill-color);\n",
              "    border-color: transparent;\n",
              "    border-bottom-color: var(--fill-color);\n",
              "    animation:\n",
              "      spin 1s steps(1) infinite;\n",
              "  }\n",
              "\n",
              "  @keyframes spin {\n",
              "    0% {\n",
              "      border-color: transparent;\n",
              "      border-bottom-color: var(--fill-color);\n",
              "      border-left-color: var(--fill-color);\n",
              "    }\n",
              "    20% {\n",
              "      border-color: transparent;\n",
              "      border-left-color: var(--fill-color);\n",
              "      border-top-color: var(--fill-color);\n",
              "    }\n",
              "    30% {\n",
              "      border-color: transparent;\n",
              "      border-left-color: var(--fill-color);\n",
              "      border-top-color: var(--fill-color);\n",
              "      border-right-color: var(--fill-color);\n",
              "    }\n",
              "    40% {\n",
              "      border-color: transparent;\n",
              "      border-right-color: var(--fill-color);\n",
              "      border-top-color: var(--fill-color);\n",
              "    }\n",
              "    60% {\n",
              "      border-color: transparent;\n",
              "      border-right-color: var(--fill-color);\n",
              "    }\n",
              "    80% {\n",
              "      border-color: transparent;\n",
              "      border-right-color: var(--fill-color);\n",
              "      border-bottom-color: var(--fill-color);\n",
              "    }\n",
              "    90% {\n",
              "      border-color: transparent;\n",
              "      border-bottom-color: var(--fill-color);\n",
              "    }\n",
              "  }\n",
              "</style>\n",
              "\n",
              "  <script>\n",
              "    async function quickchart(key) {\n",
              "      const quickchartButtonEl =\n",
              "        document.querySelector('#' + key + ' button');\n",
              "      quickchartButtonEl.disabled = true;  // To prevent multiple clicks.\n",
              "      quickchartButtonEl.classList.add('colab-df-spinner');\n",
              "      try {\n",
              "        const charts = await google.colab.kernel.invokeFunction(\n",
              "            'suggestCharts', [key], {});\n",
              "      } catch (error) {\n",
              "        console.error('Error during call to suggestCharts:', error);\n",
              "      }\n",
              "      quickchartButtonEl.classList.remove('colab-df-spinner');\n",
              "      quickchartButtonEl.classList.add('colab-df-quickchart-complete');\n",
              "    }\n",
              "    (() => {\n",
              "      let quickchartButtonEl =\n",
              "        document.querySelector('#df-dc7a89b8-850f-447b-9a0d-6358b4199a3b button');\n",
              "      quickchartButtonEl.style.display =\n",
              "        google.colab.kernel.accessAllowed ? 'block' : 'none';\n",
              "    })();\n",
              "  </script>\n",
              "</div>\n",
              "\n",
              "    </div>\n",
              "  </div>\n"
            ],
            "application/vnd.google.colaboratory.intrinsic+json": {
              "type": "dataframe",
              "variable_name": "df",
              "summary": "{\n  \"name\": \"df\",\n  \"rows\": 1001,\n  \"fields\": [\n    {\n      \"column\": \"nb_chambre\",\n      \"properties\": {\n        \"dtype\": \"number\",\n        \"std\": 1,\n        \"min\": 1,\n        \"max\": 4,\n        \"num_unique_values\": 4,\n        \"samples\": [\n          3,\n          2,\n          1\n        ],\n        \"semantic_type\": \"\",\n        \"description\": \"\"\n      }\n    },\n    {\n      \"column\": \"nb_wc\",\n      \"properties\": {\n        \"dtype\": \"number\",\n        \"std\": 0,\n        \"min\": 1,\n        \"max\": 3,\n        \"num_unique_values\": 3,\n        \"samples\": [\n          2,\n          1,\n          3\n        ],\n        \"semantic_type\": \"\",\n        \"description\": \"\"\n      }\n    },\n    {\n      \"column\": \"surface\",\n      \"properties\": {\n        \"dtype\": \"number\",\n        \"std\": 1291.0819458953226,\n        \"min\": 510.0,\n        \"max\": 5000.0,\n        \"num_unique_values\": 865,\n        \"samples\": [\n          2487.0,\n          2297.0,\n          4917.0\n        ],\n        \"semantic_type\": \"\",\n        \"description\": \"\"\n      }\n    },\n    {\n      \"column\": \"date_creation\",\n      \"properties\": {\n        \"dtype\": \"object\",\n        \"num_unique_values\": 922,\n        \"samples\": [\n          \"6/24/2017\",\n          \"8/30/2019\",\n          \"11/18/2015\"\n        ],\n        \"semantic_type\": \"\",\n        \"description\": \"\"\n      }\n    },\n    {\n      \"column\": \"type\",\n      \"properties\": {\n        \"dtype\": \"category\",\n        \"num_unique_values\": 5,\n        \"samples\": [\n          \"detached house\",\n          \"villa\",\n          \"duplex\"\n        ],\n        \"semantic_type\": \"\",\n        \"description\": \"\"\n      }\n    },\n    {\n      \"column\": \"\\u00e9quipement\",\n      \"properties\": {\n        \"dtype\": \"category\",\n        \"num_unique_values\": 4,\n        \"samples\": [\n          \"climatisation\",\n          \"balcon\",\n          \"parking\"\n        ],\n        \"semantic_type\": \"\",\n        \"description\": \"\"\n      }\n    },\n    {\n      \"column\": \"price\",\n      \"properties\": {\n        \"dtype\": \"string\",\n        \"num_unique_values\": 997,\n        \"samples\": [\n          \"\\u20ac1017,21\",\n          \"\\u20ac1658,94\",\n          \"\\u20ac894,15\"\n        ],\n        \"semantic_type\": \"\",\n        \"description\": \"\"\n      }\n    }\n  ]\n}"
            }
          },
          "metadata": {},
          "execution_count": 155
        }
      ]
    },
    {
      "cell_type": "markdown",
      "source": [
        "### Afficher les informations , les metadata de cette dataframe\n",
        "(la fonction qui affiche les noms de colonnes , le nombre de valeurs non null et le type de chaque colonne)"
      ],
      "metadata": {
        "id": "QEXSUpxZBhXn"
      }
    },
    {
      "cell_type": "code",
      "source": [
        "df.info()"
      ],
      "metadata": {
        "colab": {
          "base_uri": "https://localhost:8080/"
        },
        "id": "VQnP4YEeBffp",
        "outputId": "006d9cdd-7a97-4d26-b7e1-780e5da890b2"
      },
      "execution_count": null,
      "outputs": [
        {
          "output_type": "stream",
          "name": "stdout",
          "text": [
            "<class 'pandas.core.frame.DataFrame'>\n",
            "Index: 1001 entries, M1 to M1001\n",
            "Data columns (total 7 columns):\n",
            " #   Column         Non-Null Count  Dtype  \n",
            "---  ------         --------------  -----  \n",
            " 0   nb_chambre     1001 non-null   int64  \n",
            " 1   nb_wc          1001 non-null   int64  \n",
            " 2   surface        966 non-null    float64\n",
            " 3   date_creation  1001 non-null   object \n",
            " 4   type           981 non-null    object \n",
            " 5   équipement     313 non-null    object \n",
            " 6   price          1001 non-null   object \n",
            "dtypes: float64(1), int64(2), object(4)\n",
            "memory usage: 62.6+ KB\n"
          ]
        }
      ]
    },
    {
      "cell_type": "markdown",
      "source": [
        "### Afficher combien de maisons ont des valeurs nulles sur la colonne `surface` , `type` et `équipement` (en utilisant python)"
      ],
      "metadata": {
        "id": "g_tMLyF9B7qc"
      }
    },
    {
      "cell_type": "code",
      "source": [
        "# vous pouvez utiliser des print\n",
        "\n",
        "print(\"surface nulles: \",df[df.surface.isnull()].shape[0])\n",
        "print(\"type nulles: \",df[df.type.isnull()].shape[0])\n",
        "print(\"équipement nulles: \",df[df.équipement.isnull()].shape[0])"
      ],
      "metadata": {
        "colab": {
          "base_uri": "https://localhost:8080/"
        },
        "id": "zicG7dffB6AX",
        "outputId": "4030f7b9-5035-45dd-9d55-445ac86025ce"
      },
      "execution_count": null,
      "outputs": [
        {
          "output_type": "stream",
          "name": "stdout",
          "text": [
            "surface nulles:  35\n",
            "type nulles:  20\n",
            "équipement nulles:  688\n"
          ]
        }
      ]
    },
    {
      "cell_type": "markdown",
      "source": [
        "### Selectionner les Maisons qui ont un type `studio` ou type `detached house`"
      ],
      "metadata": {
        "id": "Oz6h8rt0DLrM"
      }
    },
    {
      "cell_type": "code",
      "source": [
        "df_studio_d_house = df[\n",
        "    (df.type == \"studio\") |\n",
        "    (df.type == \"detached house\")\n",
        "]\n",
        "#df_studio_d_house = ?\n",
        "#df_studio_d_house"
      ],
      "metadata": {
        "id": "HhXTU0nSDS4X"
      },
      "execution_count": null,
      "outputs": []
    },
    {
      "cell_type": "markdown",
      "source": [
        "### Selectionner les Maisons qui ont un nombre de chambre supérieur à 2 et ont une surface supérieur à 1000"
      ],
      "metadata": {
        "id": "C6FKVdizE73b"
      }
    },
    {
      "cell_type": "code",
      "source": [
        "df_chb_sup_2 = df[\n",
        "    (df.nb_chambre > 2) &\n",
        "     (df.surface > 1000)\n",
        "]\n",
        "#df_chb_sup_2 = ?\n",
        "#df_chb_sup_2"
      ],
      "metadata": {
        "id": "veZyIkjkEwMu"
      },
      "execution_count": null,
      "outputs": []
    },
    {
      "cell_type": "markdown",
      "source": [
        "### Afficher `nb_chambre`, `nb_wc` pour la maison qui a un index `M5`"
      ],
      "metadata": {
        "id": "Y6jYKNPdFq9g"
      }
    },
    {
      "cell_type": "code",
      "source": [
        "maison_m_5 = df.loc[\"M5\"][[\"nb_chambre\",\"nb_wc\"]]\n",
        "maison_m_5\n",
        "#maison_m_5 = ?\n",
        "#maison_m_5"
      ],
      "metadata": {
        "id": "dmO37eVDFwYs",
        "colab": {
          "base_uri": "https://localhost:8080/"
        },
        "outputId": "5557bcd7-6271-458c-c40c-3abcc3724a36"
      },
      "execution_count": null,
      "outputs": [
        {
          "output_type": "execute_result",
          "data": {
            "text/plain": [
              "nb_chambre    1\n",
              "nb_wc         1\n",
              "Name: M5, dtype: object"
            ]
          },
          "metadata": {},
          "execution_count": 160
        }
      ]
    },
    {
      "cell_type": "markdown",
      "source": [
        "## Prétraitement des données"
      ],
      "metadata": {
        "id": "y5migBzFGhug"
      }
    },
    {
      "cell_type": "markdown",
      "source": [
        "### Supprimer les colonnes qui ont plus que 50 % des valeurs nulles"
      ],
      "metadata": {
        "id": "VONA-lElHLxc"
      }
    },
    {
      "cell_type": "code",
      "source": [
        "df[df.columns[df.isnull().mean() < 0.5]]"
      ],
      "metadata": {
        "colab": {
          "base_uri": "https://localhost:8080/",
          "height": 423
        },
        "id": "BLQ8VQ843VW4",
        "outputId": "0c8aa6e7-d4c3-4618-e29d-872e052f14cb"
      },
      "execution_count": null,
      "outputs": [
        {
          "output_type": "execute_result",
          "data": {
            "text/plain": [
              "       nb_chambre  nb_wc  surface date_creation            type     price\n",
              "M1              1      2   3278.0    11/17/2013          studio  €1787,57\n",
              "M2              3      1   4257.0     10/3/2009          studio  €1391,58\n",
              "M3              3      1      NaN    11/10/2015  detached house   €531,79\n",
              "M4              3      3   1036.0    10/31/2003  detached house   €549,72\n",
              "M5              1      1   1220.0    11/13/2016  detached house  €1166,82\n",
              "...           ...    ...      ...           ...             ...       ...\n",
              "M997            2      1    589.0    12/17/2019       apartment  €1307,42\n",
              "M998            1      3   3239.0     12/7/2003          studio  €1077,06\n",
              "M999            1      2   3821.0     9/30/2005          studio  €1978,59\n",
              "M1000           2      3   1509.0    12/21/2008          studio  €1941,48\n",
              "M1001           3      1   5000.0    11/10/2017       apartment  €1207,52\n",
              "\n",
              "[1001 rows x 6 columns]"
            ],
            "text/html": [
              "\n",
              "  <div id=\"df-5c911436-4584-4da4-91d2-dccf8bc44350\" class=\"colab-df-container\">\n",
              "    <div>\n",
              "<style scoped>\n",
              "    .dataframe tbody tr th:only-of-type {\n",
              "        vertical-align: middle;\n",
              "    }\n",
              "\n",
              "    .dataframe tbody tr th {\n",
              "        vertical-align: top;\n",
              "    }\n",
              "\n",
              "    .dataframe thead th {\n",
              "        text-align: right;\n",
              "    }\n",
              "</style>\n",
              "<table border=\"1\" class=\"dataframe\">\n",
              "  <thead>\n",
              "    <tr style=\"text-align: right;\">\n",
              "      <th></th>\n",
              "      <th>nb_chambre</th>\n",
              "      <th>nb_wc</th>\n",
              "      <th>surface</th>\n",
              "      <th>date_creation</th>\n",
              "      <th>type</th>\n",
              "      <th>price</th>\n",
              "    </tr>\n",
              "  </thead>\n",
              "  <tbody>\n",
              "    <tr>\n",
              "      <th>M1</th>\n",
              "      <td>1</td>\n",
              "      <td>2</td>\n",
              "      <td>3278.0</td>\n",
              "      <td>11/17/2013</td>\n",
              "      <td>studio</td>\n",
              "      <td>€1787,57</td>\n",
              "    </tr>\n",
              "    <tr>\n",
              "      <th>M2</th>\n",
              "      <td>3</td>\n",
              "      <td>1</td>\n",
              "      <td>4257.0</td>\n",
              "      <td>10/3/2009</td>\n",
              "      <td>studio</td>\n",
              "      <td>€1391,58</td>\n",
              "    </tr>\n",
              "    <tr>\n",
              "      <th>M3</th>\n",
              "      <td>3</td>\n",
              "      <td>1</td>\n",
              "      <td>NaN</td>\n",
              "      <td>11/10/2015</td>\n",
              "      <td>detached house</td>\n",
              "      <td>€531,79</td>\n",
              "    </tr>\n",
              "    <tr>\n",
              "      <th>M4</th>\n",
              "      <td>3</td>\n",
              "      <td>3</td>\n",
              "      <td>1036.0</td>\n",
              "      <td>10/31/2003</td>\n",
              "      <td>detached house</td>\n",
              "      <td>€549,72</td>\n",
              "    </tr>\n",
              "    <tr>\n",
              "      <th>M5</th>\n",
              "      <td>1</td>\n",
              "      <td>1</td>\n",
              "      <td>1220.0</td>\n",
              "      <td>11/13/2016</td>\n",
              "      <td>detached house</td>\n",
              "      <td>€1166,82</td>\n",
              "    </tr>\n",
              "    <tr>\n",
              "      <th>...</th>\n",
              "      <td>...</td>\n",
              "      <td>...</td>\n",
              "      <td>...</td>\n",
              "      <td>...</td>\n",
              "      <td>...</td>\n",
              "      <td>...</td>\n",
              "    </tr>\n",
              "    <tr>\n",
              "      <th>M997</th>\n",
              "      <td>2</td>\n",
              "      <td>1</td>\n",
              "      <td>589.0</td>\n",
              "      <td>12/17/2019</td>\n",
              "      <td>apartment</td>\n",
              "      <td>€1307,42</td>\n",
              "    </tr>\n",
              "    <tr>\n",
              "      <th>M998</th>\n",
              "      <td>1</td>\n",
              "      <td>3</td>\n",
              "      <td>3239.0</td>\n",
              "      <td>12/7/2003</td>\n",
              "      <td>studio</td>\n",
              "      <td>€1077,06</td>\n",
              "    </tr>\n",
              "    <tr>\n",
              "      <th>M999</th>\n",
              "      <td>1</td>\n",
              "      <td>2</td>\n",
              "      <td>3821.0</td>\n",
              "      <td>9/30/2005</td>\n",
              "      <td>studio</td>\n",
              "      <td>€1978,59</td>\n",
              "    </tr>\n",
              "    <tr>\n",
              "      <th>M1000</th>\n",
              "      <td>2</td>\n",
              "      <td>3</td>\n",
              "      <td>1509.0</td>\n",
              "      <td>12/21/2008</td>\n",
              "      <td>studio</td>\n",
              "      <td>€1941,48</td>\n",
              "    </tr>\n",
              "    <tr>\n",
              "      <th>M1001</th>\n",
              "      <td>3</td>\n",
              "      <td>1</td>\n",
              "      <td>5000.0</td>\n",
              "      <td>11/10/2017</td>\n",
              "      <td>apartment</td>\n",
              "      <td>€1207,52</td>\n",
              "    </tr>\n",
              "  </tbody>\n",
              "</table>\n",
              "<p>1001 rows × 6 columns</p>\n",
              "</div>\n",
              "    <div class=\"colab-df-buttons\">\n",
              "\n",
              "  <div class=\"colab-df-container\">\n",
              "    <button class=\"colab-df-convert\" onclick=\"convertToInteractive('df-5c911436-4584-4da4-91d2-dccf8bc44350')\"\n",
              "            title=\"Convert this dataframe to an interactive table.\"\n",
              "            style=\"display:none;\">\n",
              "\n",
              "  <svg xmlns=\"http://www.w3.org/2000/svg\" height=\"24px\" viewBox=\"0 -960 960 960\">\n",
              "    <path d=\"M120-120v-720h720v720H120Zm60-500h600v-160H180v160Zm220 220h160v-160H400v160Zm0 220h160v-160H400v160ZM180-400h160v-160H180v160Zm440 0h160v-160H620v160ZM180-180h160v-160H180v160Zm440 0h160v-160H620v160Z\"/>\n",
              "  </svg>\n",
              "    </button>\n",
              "\n",
              "  <style>\n",
              "    .colab-df-container {\n",
              "      display:flex;\n",
              "      gap: 12px;\n",
              "    }\n",
              "\n",
              "    .colab-df-convert {\n",
              "      background-color: #E8F0FE;\n",
              "      border: none;\n",
              "      border-radius: 50%;\n",
              "      cursor: pointer;\n",
              "      display: none;\n",
              "      fill: #1967D2;\n",
              "      height: 32px;\n",
              "      padding: 0 0 0 0;\n",
              "      width: 32px;\n",
              "    }\n",
              "\n",
              "    .colab-df-convert:hover {\n",
              "      background-color: #E2EBFA;\n",
              "      box-shadow: 0px 1px 2px rgba(60, 64, 67, 0.3), 0px 1px 3px 1px rgba(60, 64, 67, 0.15);\n",
              "      fill: #174EA6;\n",
              "    }\n",
              "\n",
              "    .colab-df-buttons div {\n",
              "      margin-bottom: 4px;\n",
              "    }\n",
              "\n",
              "    [theme=dark] .colab-df-convert {\n",
              "      background-color: #3B4455;\n",
              "      fill: #D2E3FC;\n",
              "    }\n",
              "\n",
              "    [theme=dark] .colab-df-convert:hover {\n",
              "      background-color: #434B5C;\n",
              "      box-shadow: 0px 1px 3px 1px rgba(0, 0, 0, 0.15);\n",
              "      filter: drop-shadow(0px 1px 2px rgba(0, 0, 0, 0.3));\n",
              "      fill: #FFFFFF;\n",
              "    }\n",
              "  </style>\n",
              "\n",
              "    <script>\n",
              "      const buttonEl =\n",
              "        document.querySelector('#df-5c911436-4584-4da4-91d2-dccf8bc44350 button.colab-df-convert');\n",
              "      buttonEl.style.display =\n",
              "        google.colab.kernel.accessAllowed ? 'block' : 'none';\n",
              "\n",
              "      async function convertToInteractive(key) {\n",
              "        const element = document.querySelector('#df-5c911436-4584-4da4-91d2-dccf8bc44350');\n",
              "        const dataTable =\n",
              "          await google.colab.kernel.invokeFunction('convertToInteractive',\n",
              "                                                    [key], {});\n",
              "        if (!dataTable) return;\n",
              "\n",
              "        const docLinkHtml = 'Like what you see? Visit the ' +\n",
              "          '<a target=\"_blank\" href=https://colab.research.google.com/notebooks/data_table.ipynb>data table notebook</a>'\n",
              "          + ' to learn more about interactive tables.';\n",
              "        element.innerHTML = '';\n",
              "        dataTable['output_type'] = 'display_data';\n",
              "        await google.colab.output.renderOutput(dataTable, element);\n",
              "        const docLink = document.createElement('div');\n",
              "        docLink.innerHTML = docLinkHtml;\n",
              "        element.appendChild(docLink);\n",
              "      }\n",
              "    </script>\n",
              "  </div>\n",
              "\n",
              "\n",
              "<div id=\"df-9a30769c-782b-40a5-85f9-6d2b24eec71d\">\n",
              "  <button class=\"colab-df-quickchart\" onclick=\"quickchart('df-9a30769c-782b-40a5-85f9-6d2b24eec71d')\"\n",
              "            title=\"Suggest charts\"\n",
              "            style=\"display:none;\">\n",
              "\n",
              "<svg xmlns=\"http://www.w3.org/2000/svg\" height=\"24px\"viewBox=\"0 0 24 24\"\n",
              "     width=\"24px\">\n",
              "    <g>\n",
              "        <path d=\"M19 3H5c-1.1 0-2 .9-2 2v14c0 1.1.9 2 2 2h14c1.1 0 2-.9 2-2V5c0-1.1-.9-2-2-2zM9 17H7v-7h2v7zm4 0h-2V7h2v10zm4 0h-2v-4h2v4z\"/>\n",
              "    </g>\n",
              "</svg>\n",
              "  </button>\n",
              "\n",
              "<style>\n",
              "  .colab-df-quickchart {\n",
              "      --bg-color: #E8F0FE;\n",
              "      --fill-color: #1967D2;\n",
              "      --hover-bg-color: #E2EBFA;\n",
              "      --hover-fill-color: #174EA6;\n",
              "      --disabled-fill-color: #AAA;\n",
              "      --disabled-bg-color: #DDD;\n",
              "  }\n",
              "\n",
              "  [theme=dark] .colab-df-quickchart {\n",
              "      --bg-color: #3B4455;\n",
              "      --fill-color: #D2E3FC;\n",
              "      --hover-bg-color: #434B5C;\n",
              "      --hover-fill-color: #FFFFFF;\n",
              "      --disabled-bg-color: #3B4455;\n",
              "      --disabled-fill-color: #666;\n",
              "  }\n",
              "\n",
              "  .colab-df-quickchart {\n",
              "    background-color: var(--bg-color);\n",
              "    border: none;\n",
              "    border-radius: 50%;\n",
              "    cursor: pointer;\n",
              "    display: none;\n",
              "    fill: var(--fill-color);\n",
              "    height: 32px;\n",
              "    padding: 0;\n",
              "    width: 32px;\n",
              "  }\n",
              "\n",
              "  .colab-df-quickchart:hover {\n",
              "    background-color: var(--hover-bg-color);\n",
              "    box-shadow: 0 1px 2px rgba(60, 64, 67, 0.3), 0 1px 3px 1px rgba(60, 64, 67, 0.15);\n",
              "    fill: var(--button-hover-fill-color);\n",
              "  }\n",
              "\n",
              "  .colab-df-quickchart-complete:disabled,\n",
              "  .colab-df-quickchart-complete:disabled:hover {\n",
              "    background-color: var(--disabled-bg-color);\n",
              "    fill: var(--disabled-fill-color);\n",
              "    box-shadow: none;\n",
              "  }\n",
              "\n",
              "  .colab-df-spinner {\n",
              "    border: 2px solid var(--fill-color);\n",
              "    border-color: transparent;\n",
              "    border-bottom-color: var(--fill-color);\n",
              "    animation:\n",
              "      spin 1s steps(1) infinite;\n",
              "  }\n",
              "\n",
              "  @keyframes spin {\n",
              "    0% {\n",
              "      border-color: transparent;\n",
              "      border-bottom-color: var(--fill-color);\n",
              "      border-left-color: var(--fill-color);\n",
              "    }\n",
              "    20% {\n",
              "      border-color: transparent;\n",
              "      border-left-color: var(--fill-color);\n",
              "      border-top-color: var(--fill-color);\n",
              "    }\n",
              "    30% {\n",
              "      border-color: transparent;\n",
              "      border-left-color: var(--fill-color);\n",
              "      border-top-color: var(--fill-color);\n",
              "      border-right-color: var(--fill-color);\n",
              "    }\n",
              "    40% {\n",
              "      border-color: transparent;\n",
              "      border-right-color: var(--fill-color);\n",
              "      border-top-color: var(--fill-color);\n",
              "    }\n",
              "    60% {\n",
              "      border-color: transparent;\n",
              "      border-right-color: var(--fill-color);\n",
              "    }\n",
              "    80% {\n",
              "      border-color: transparent;\n",
              "      border-right-color: var(--fill-color);\n",
              "      border-bottom-color: var(--fill-color);\n",
              "    }\n",
              "    90% {\n",
              "      border-color: transparent;\n",
              "      border-bottom-color: var(--fill-color);\n",
              "    }\n",
              "  }\n",
              "</style>\n",
              "\n",
              "  <script>\n",
              "    async function quickchart(key) {\n",
              "      const quickchartButtonEl =\n",
              "        document.querySelector('#' + key + ' button');\n",
              "      quickchartButtonEl.disabled = true;  // To prevent multiple clicks.\n",
              "      quickchartButtonEl.classList.add('colab-df-spinner');\n",
              "      try {\n",
              "        const charts = await google.colab.kernel.invokeFunction(\n",
              "            'suggestCharts', [key], {});\n",
              "      } catch (error) {\n",
              "        console.error('Error during call to suggestCharts:', error);\n",
              "      }\n",
              "      quickchartButtonEl.classList.remove('colab-df-spinner');\n",
              "      quickchartButtonEl.classList.add('colab-df-quickchart-complete');\n",
              "    }\n",
              "    (() => {\n",
              "      let quickchartButtonEl =\n",
              "        document.querySelector('#df-9a30769c-782b-40a5-85f9-6d2b24eec71d button');\n",
              "      quickchartButtonEl.style.display =\n",
              "        google.colab.kernel.accessAllowed ? 'block' : 'none';\n",
              "    })();\n",
              "  </script>\n",
              "</div>\n",
              "\n",
              "    </div>\n",
              "  </div>\n"
            ],
            "application/vnd.google.colaboratory.intrinsic+json": {
              "type": "dataframe",
              "summary": "{\n  \"name\": \"df[df\",\n  \"rows\": 1001,\n  \"fields\": [\n    {\n      \"column\": \"nb_chambre\",\n      \"properties\": {\n        \"dtype\": \"number\",\n        \"std\": 1,\n        \"min\": 1,\n        \"max\": 4,\n        \"num_unique_values\": 4,\n        \"samples\": [\n          3,\n          2,\n          1\n        ],\n        \"semantic_type\": \"\",\n        \"description\": \"\"\n      }\n    },\n    {\n      \"column\": \"nb_wc\",\n      \"properties\": {\n        \"dtype\": \"number\",\n        \"std\": 0,\n        \"min\": 1,\n        \"max\": 3,\n        \"num_unique_values\": 3,\n        \"samples\": [\n          2,\n          1,\n          3\n        ],\n        \"semantic_type\": \"\",\n        \"description\": \"\"\n      }\n    },\n    {\n      \"column\": \"surface\",\n      \"properties\": {\n        \"dtype\": \"number\",\n        \"std\": 1291.0819458953226,\n        \"min\": 510.0,\n        \"max\": 5000.0,\n        \"num_unique_values\": 865,\n        \"samples\": [\n          2487.0,\n          2297.0,\n          4917.0\n        ],\n        \"semantic_type\": \"\",\n        \"description\": \"\"\n      }\n    },\n    {\n      \"column\": \"date_creation\",\n      \"properties\": {\n        \"dtype\": \"object\",\n        \"num_unique_values\": 922,\n        \"samples\": [\n          \"6/24/2017\",\n          \"8/30/2019\",\n          \"11/18/2015\"\n        ],\n        \"semantic_type\": \"\",\n        \"description\": \"\"\n      }\n    },\n    {\n      \"column\": \"type\",\n      \"properties\": {\n        \"dtype\": \"category\",\n        \"num_unique_values\": 5,\n        \"samples\": [\n          \"detached house\",\n          \"villa\",\n          \"duplex\"\n        ],\n        \"semantic_type\": \"\",\n        \"description\": \"\"\n      }\n    },\n    {\n      \"column\": \"price\",\n      \"properties\": {\n        \"dtype\": \"string\",\n        \"num_unique_values\": 997,\n        \"samples\": [\n          \"\\u20ac1017,21\",\n          \"\\u20ac1658,94\",\n          \"\\u20ac894,15\"\n        ],\n        \"semantic_type\": \"\",\n        \"description\": \"\"\n      }\n    }\n  ]\n}"
            }
          },
          "metadata": {},
          "execution_count": 161
        }
      ]
    },
    {
      "cell_type": "code",
      "source": [
        "#df = ?\n",
        "df = df[df.columns[df.isnull().mean() < 0.5]]"
      ],
      "metadata": {
        "id": "WXVA3YNZHBgN"
      },
      "execution_count": null,
      "outputs": []
    },
    {
      "cell_type": "markdown",
      "source": [
        "### Pour le reste des colonnes qui ont des valuers nulles , appliquer la technique d'imputation\n",
        "\n",
        "vous poouvez remplacer par la moyenne , le mode, la médiane pour les variables numeriques.\n",
        "\n",
        "Pour les colonnes catégoriques, vous pouvez remplacer par la valeur la plus fréquente\n"
      ],
      "metadata": {
        "id": "WYS9sOYxH0Ct"
      }
    },
    {
      "cell_type": "code",
      "source": [
        "# df = ?\n",
        "\n",
        "df.fillna(\n",
        "    {\n",
        "    \"surface\" : df.surface.mean(),\n",
        "    \"type\" : df.type.value_counts().idxmax()\n",
        "\n",
        "    }, inplace = True\n",
        "  )"
      ],
      "metadata": {
        "id": "y50gP6O5HrG3"
      },
      "execution_count": null,
      "outputs": []
    },
    {
      "cell_type": "markdown",
      "source": [
        "### Changement de type\n",
        "\n",
        "Changer le type de la colonne `Price` en type numerique(float)"
      ],
      "metadata": {
        "id": "Wxsv_VKFJ4By"
      }
    },
    {
      "cell_type": "code",
      "source": [
        "# df = ?\n",
        "def changer_type(value):\n",
        "    return float(value.replace('€', '').replace(',', '.'))"
      ],
      "metadata": {
        "id": "iiWY7j5bJYUv"
      },
      "execution_count": null,
      "outputs": []
    },
    {
      "cell_type": "code",
      "source": [
        "#met1\n",
        "#df['price'] = df['price'].apply(changer_type)\n",
        "# met2\n",
        "df['price'] = df['price'].str.replace('€', '').str.replace(',', '.').astype(float)"
      ],
      "metadata": {
        "id": "a2b82T0fKtFA"
      },
      "execution_count": null,
      "outputs": []
    },
    {
      "cell_type": "markdown",
      "source": [
        "Changer le type de la colonne `date_creation` pour qu'elle soit de type `date`"
      ],
      "metadata": {
        "id": "-78UrTIvLrWh"
      }
    },
    {
      "cell_type": "code",
      "source": [
        "df.date_creation=pd.to_datetime(df.date_creation)"
      ],
      "metadata": {
        "id": "NuocqL0XLzKe"
      },
      "execution_count": null,
      "outputs": []
    },
    {
      "cell_type": "markdown",
      "source": [
        "Creer des nouvelles colonnes :\n",
        "\n",
        "*   `date_jour` : extraire le jour à partir de la colonne `date_creation`.\n",
        "*   `date_mois` : extraire le mois à partir de la colonne `date_creation`.\n",
        "*   `date_annee` : extraire l'année à partir de la colonne `date_creation`.\n",
        "*   `age_maison` : extraire l'age de la maison à partir de la colonne `date_creation`.\n",
        "\n",
        "\n",
        "\n",
        "remarque: pas de boucle for 😃 et pour le calcul de l'age vous pouvez importer : `from datetime import datetime`\n",
        "\n"
      ],
      "metadata": {
        "id": "0WiiGAdnMY9H"
      }
    },
    {
      "cell_type": "code",
      "source": [
        "# importer le datetime\n",
        "from datetime import datetime\n",
        "\n",
        "# creation des colonnes\n",
        "#df[\"date_jour\"] = ?\n",
        "#df[\"date_mois\"] = ?\n",
        "#df[\"date_annee\"] =  ?\n",
        "#df[\"age\"] = ?\n",
        "df[\"date_jour\"] = df.date_creation.apply(lambda d : d.day)\n",
        "df[\"date_mois\"] = df.date_creation.apply(lambda d : d.month)\n",
        "df[\"date_annee\"] = df.date_creation.apply(lambda d : d.year)\n",
        "df['age']=df.apply(lambda maison : datetime.now().year - maison['date_creation'].year, axis=1)"
      ],
      "metadata": {
        "id": "LL4ke8PKLzUh"
      },
      "execution_count": null,
      "outputs": []
    },
    {
      "cell_type": "markdown",
      "source": [
        "### Transformation des Variables catégoriques  \n",
        "\n",
        "comme vous le savez, les machines ne comprennent pas le langage humain et les variables catégorielles, c'est pourquoi vous devez les convertir au format numérique.\n",
        "\n",
        "Dans ce sens, vous pouvez utiliser la technique OneHotencoder.\n",
        "\n",
        "rq : vous pouvez importer `from sklearn.preprocessing import OneHotEncoder`\n",
        "\n"
      ],
      "metadata": {
        "id": "0uUqWpPVPU3F"
      }
    },
    {
      "cell_type": "code",
      "source": [
        "# importer onehot enocder technique\n",
        "from sklearn.preprocessing import OneHotEncoder\n",
        "# initialiser l'encoder\n",
        "ohe=OneHotEncoder()"
      ],
      "metadata": {
        "id": "pJV20d8GPaUE"
      },
      "execution_count": null,
      "outputs": []
    },
    {
      "cell_type": "code",
      "source": [
        "# appliquer l'encoder sur la colonne categorique\n",
        "#type_encoded = ?\n",
        "type_encoded = ohe.fit_transform(df.loc[:,['type']]).toarray()"
      ],
      "metadata": {
        "id": "1v-Se4ciQY2t"
      },
      "execution_count": null,
      "outputs": []
    },
    {
      "cell_type": "code",
      "source": [
        "# ajouter l'array calculé dans l'etape precedente dans une dataframe\n",
        "#df_type_encoded = ?\n",
        "df_type_encoded = pd.DataFrame(type_encoded, columns='type_'+ohe.categories_[0], index=df.index)"
      ],
      "metadata": {
        "id": "r750S69OQug5"
      },
      "execution_count": null,
      "outputs": []
    },
    {
      "cell_type": "code",
      "source": [
        "# concatener cette dataframe avec notre dataframe df\n",
        "#df = ?\n",
        "df =pd.concat([df, df_type_encoded], axis=1)"
      ],
      "metadata": {
        "id": "yHouAShCRCvU"
      },
      "execution_count": null,
      "outputs": []
    },
    {
      "cell_type": "markdown",
      "source": [
        "### Supprimer les colonnes `type` & `date_creation`"
      ],
      "metadata": {
        "id": "gMkan0DfRpQQ"
      }
    },
    {
      "cell_type": "code",
      "source": [
        "#df = ?\n",
        "df.drop([\"type\",\"date_creation\"], axis=1, inplace=True, errors='ignore')"
      ],
      "metadata": {
        "id": "VczHhtjVRvdN"
      },
      "execution_count": null,
      "outputs": []
    },
    {
      "cell_type": "markdown",
      "source": [
        "## Exporter les données\n",
        "\n",
        "Dans cette partie, notre but est d'exporter notre data"
      ],
      "metadata": {
        "id": "ybomD0ShSUbH"
      }
    },
    {
      "cell_type": "markdown",
      "source": [
        "### sélectionner les maisons qui ont été construites `après \"2013\"` et les exporter dans un `fichier csv`"
      ],
      "metadata": {
        "id": "Q0lGyPXTSqmD"
      }
    },
    {
      "cell_type": "code",
      "source": [
        "# selectionner les maisons qui ont été construite après 2013\n",
        "#df_sup_2013 = ?\n",
        "df_sup_2013 = df[df.date_annee > 2013].copy()\n",
        "# exporter ces maisons sous forme `csv`\n",
        "# vous pouvez nommer le fichier maisons_sup_2013.csv\n",
        "\n",
        "df_sup_2013.to_csv(\"maisons_sup_2013.csv\",index=False)\n"
      ],
      "metadata": {
        "id": "vMxrWlNJTIL7"
      },
      "execution_count": null,
      "outputs": []
    },
    {
      "cell_type": "markdown",
      "source": [
        "## ML"
      ],
      "metadata": {
        "id": "yyfsZxN_MCbJ"
      }
    },
    {
      "cell_type": "markdown",
      "source": [
        "importer la fonction qui divise la data en train et test"
      ],
      "metadata": {
        "id": "Bta-LRrr5s7B"
      }
    },
    {
      "cell_type": "code",
      "source": [
        "from sklearn.model_selection import train_test_split\n"
      ],
      "metadata": {
        "id": "YSV7yWL5Lvzv"
      },
      "execution_count": null,
      "outputs": []
    },
    {
      "cell_type": "markdown",
      "source": [
        "nous sommes dans un regression task, donc on fait l'extraction des x ( les features) et les y (cible, variable dependante)"
      ],
      "metadata": {
        "id": "IaP4bO4J5ylQ"
      }
    },
    {
      "cell_type": "code",
      "source": [
        "# les targets\n",
        "y = df['price'].values\n",
        "# les features , on laisse seulement les x et on supprime les prices\n",
        "x = df.drop([\"price\"],axis=1).copy().values"
      ],
      "metadata": {
        "id": "o-ElSmcsLv13"
      },
      "execution_count": null,
      "outputs": []
    },
    {
      "cell_type": "code",
      "source": [
        "# diviser notre data en train et test\n",
        "# 80 % des donnees sont des train test\n",
        "\n",
        "X_train, X_test, y_train, y_test = train_test_split(x, y, train_size=0.8)"
      ],
      "metadata": {
        "id": "nW1CdCMDLv48"
      },
      "execution_count": null,
      "outputs": []
    },
    {
      "cell_type": "markdown",
      "source": [
        "On importe le modele du regression lineaire"
      ],
      "metadata": {
        "id": "qw_rl1fz6YWD"
      }
    },
    {
      "cell_type": "code",
      "source": [
        "from sklearn.linear_model import LinearRegression"
      ],
      "metadata": {
        "id": "-yGauz8RNmKs"
      },
      "execution_count": null,
      "outputs": []
    },
    {
      "cell_type": "markdown",
      "source": [
        "init le modele"
      ],
      "metadata": {
        "id": "KAu0tTHu6fT_"
      }
    },
    {
      "cell_type": "code",
      "source": [
        "lr = LinearRegression()"
      ],
      "metadata": {
        "id": "0E-_n3TDNzz0"
      },
      "execution_count": null,
      "outputs": []
    },
    {
      "cell_type": "markdown",
      "source": [
        "entrainer le modele avec les données de training"
      ],
      "metadata": {
        "id": "VVKVFxyL6hmh"
      }
    },
    {
      "cell_type": "code",
      "source": [
        "lr.fit(X_train, y_train)"
      ],
      "metadata": {
        "colab": {
          "base_uri": "https://localhost:8080/",
          "height": 74
        },
        "id": "e56FnHOQN5Ns",
        "outputId": "e10a3096-3079-49d7-ca44-3ff83c7b1ef1"
      },
      "execution_count": null,
      "outputs": [
        {
          "output_type": "execute_result",
          "data": {
            "text/plain": [
              "LinearRegression()"
            ],
            "text/html": [
              "<style>#sk-container-id-1 {color: black;background-color: white;}#sk-container-id-1 pre{padding: 0;}#sk-container-id-1 div.sk-toggleable {background-color: white;}#sk-container-id-1 label.sk-toggleable__label {cursor: pointer;display: block;width: 100%;margin-bottom: 0;padding: 0.3em;box-sizing: border-box;text-align: center;}#sk-container-id-1 label.sk-toggleable__label-arrow:before {content: \"▸\";float: left;margin-right: 0.25em;color: #696969;}#sk-container-id-1 label.sk-toggleable__label-arrow:hover:before {color: black;}#sk-container-id-1 div.sk-estimator:hover label.sk-toggleable__label-arrow:before {color: black;}#sk-container-id-1 div.sk-toggleable__content {max-height: 0;max-width: 0;overflow: hidden;text-align: left;background-color: #f0f8ff;}#sk-container-id-1 div.sk-toggleable__content pre {margin: 0.2em;color: black;border-radius: 0.25em;background-color: #f0f8ff;}#sk-container-id-1 input.sk-toggleable__control:checked~div.sk-toggleable__content {max-height: 200px;max-width: 100%;overflow: auto;}#sk-container-id-1 input.sk-toggleable__control:checked~label.sk-toggleable__label-arrow:before {content: \"▾\";}#sk-container-id-1 div.sk-estimator input.sk-toggleable__control:checked~label.sk-toggleable__label {background-color: #d4ebff;}#sk-container-id-1 div.sk-label input.sk-toggleable__control:checked~label.sk-toggleable__label {background-color: #d4ebff;}#sk-container-id-1 input.sk-hidden--visually {border: 0;clip: rect(1px 1px 1px 1px);clip: rect(1px, 1px, 1px, 1px);height: 1px;margin: -1px;overflow: hidden;padding: 0;position: absolute;width: 1px;}#sk-container-id-1 div.sk-estimator {font-family: monospace;background-color: #f0f8ff;border: 1px dotted black;border-radius: 0.25em;box-sizing: border-box;margin-bottom: 0.5em;}#sk-container-id-1 div.sk-estimator:hover {background-color: #d4ebff;}#sk-container-id-1 div.sk-parallel-item::after {content: \"\";width: 100%;border-bottom: 1px solid gray;flex-grow: 1;}#sk-container-id-1 div.sk-label:hover label.sk-toggleable__label {background-color: #d4ebff;}#sk-container-id-1 div.sk-serial::before {content: \"\";position: absolute;border-left: 1px solid gray;box-sizing: border-box;top: 0;bottom: 0;left: 50%;z-index: 0;}#sk-container-id-1 div.sk-serial {display: flex;flex-direction: column;align-items: center;background-color: white;padding-right: 0.2em;padding-left: 0.2em;position: relative;}#sk-container-id-1 div.sk-item {position: relative;z-index: 1;}#sk-container-id-1 div.sk-parallel {display: flex;align-items: stretch;justify-content: center;background-color: white;position: relative;}#sk-container-id-1 div.sk-item::before, #sk-container-id-1 div.sk-parallel-item::before {content: \"\";position: absolute;border-left: 1px solid gray;box-sizing: border-box;top: 0;bottom: 0;left: 50%;z-index: -1;}#sk-container-id-1 div.sk-parallel-item {display: flex;flex-direction: column;z-index: 1;position: relative;background-color: white;}#sk-container-id-1 div.sk-parallel-item:first-child::after {align-self: flex-end;width: 50%;}#sk-container-id-1 div.sk-parallel-item:last-child::after {align-self: flex-start;width: 50%;}#sk-container-id-1 div.sk-parallel-item:only-child::after {width: 0;}#sk-container-id-1 div.sk-dashed-wrapped {border: 1px dashed gray;margin: 0 0.4em 0.5em 0.4em;box-sizing: border-box;padding-bottom: 0.4em;background-color: white;}#sk-container-id-1 div.sk-label label {font-family: monospace;font-weight: bold;display: inline-block;line-height: 1.2em;}#sk-container-id-1 div.sk-label-container {text-align: center;}#sk-container-id-1 div.sk-container {/* jupyter's `normalize.less` sets `[hidden] { display: none; }` but bootstrap.min.css set `[hidden] { display: none !important; }` so we also need the `!important` here to be able to override the default hidden behavior on the sphinx rendered scikit-learn.org. See: https://github.com/scikit-learn/scikit-learn/issues/21755 */display: inline-block !important;position: relative;}#sk-container-id-1 div.sk-text-repr-fallback {display: none;}</style><div id=\"sk-container-id-1\" class=\"sk-top-container\"><div class=\"sk-text-repr-fallback\"><pre>LinearRegression()</pre><b>In a Jupyter environment, please rerun this cell to show the HTML representation or trust the notebook. <br />On GitHub, the HTML representation is unable to render, please try loading this page with nbviewer.org.</b></div><div class=\"sk-container\" hidden><div class=\"sk-item\"><div class=\"sk-estimator sk-toggleable\"><input class=\"sk-toggleable__control sk-hidden--visually\" id=\"sk-estimator-id-1\" type=\"checkbox\" checked><label for=\"sk-estimator-id-1\" class=\"sk-toggleable__label sk-toggleable__label-arrow\">LinearRegression</label><div class=\"sk-toggleable__content\"><pre>LinearRegression()</pre></div></div></div></div></div>"
            ]
          },
          "metadata": {},
          "execution_count": 92
        }
      ]
    },
    {
      "cell_type": "markdown",
      "source": [
        "ici, juste on affiche les parametres que le modele a estimé durant le training\n"
      ],
      "metadata": {
        "id": "gd3YPYsV6n5p"
      }
    },
    {
      "cell_type": "code",
      "source": [
        "lr.coef_\n"
      ],
      "metadata": {
        "colab": {
          "base_uri": "https://localhost:8080/"
        },
        "id": "jm2hcTbROpu3",
        "outputId": "f38bb080-97f3-4d10-b680-77981680411d"
      },
      "execution_count": null,
      "outputs": [
        {
          "output_type": "execute_result",
          "data": {
            "text/plain": [
              "array([-9.04591474e+00,  5.06182108e+00,  4.26943356e-04,  2.93479065e+00,\n",
              "       -1.75114763e+01,  3.00540004e+01,  8.93676632e-01, -1.63709914e+01])"
            ]
          },
          "metadata": {},
          "execution_count": 93
        }
      ]
    },
    {
      "cell_type": "markdown",
      "source": [
        "on teste notre modele, avec les données de test"
      ],
      "metadata": {
        "id": "JzzMxDuC6y-A"
      }
    },
    {
      "cell_type": "code",
      "source": [
        "y_test_pred= lr.predict(X_test)"
      ],
      "metadata": {
        "id": "8Y8Zacw4PrFS"
      },
      "execution_count": null,
      "outputs": []
    },
    {
      "cell_type": "markdown",
      "source": [
        "evaluer le modele : on compare les valeurs réelles(y_test) vs les predicted values (y_test_pred)\n"
      ],
      "metadata": {
        "id": "ikC1n3h666RK"
      }
    },
    {
      "cell_type": "code",
      "source": [
        "from sklearn.metrics import r2_score\n",
        "r2_score(y_test_pred, y_test)"
      ],
      "metadata": {
        "colab": {
          "base_uri": "https://localhost:8080/"
        },
        "id": "Sip9r1vmQcMk",
        "outputId": "1a4618e2-6e3c-489f-d2a9-0094f815e782"
      },
      "execution_count": null,
      "outputs": [
        {
          "output_type": "execute_result",
          "data": {
            "text/plain": [
              "-537.3414853389958"
            ]
          },
          "metadata": {},
          "execution_count": 95
        }
      ]
    }
  ]
}